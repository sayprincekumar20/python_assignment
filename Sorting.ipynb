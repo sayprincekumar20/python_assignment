{
 "cells": [
  {
   "cell_type": "markdown",
   "id": "8bad513b",
   "metadata": {},
   "source": [
    "# Sorting"
   ]
  },
  {
   "cell_type": "markdown",
   "id": "f0b0b4ee",
   "metadata": {},
   "source": [
    "Problem 1.Given an array of n numbers, give an algorithm which gives the element appearing maximum\n",
    "number of times?"
   ]
  },
  {
   "cell_type": "code",
   "execution_count": 10,
   "id": "9bfa1b06",
   "metadata": {},
   "outputs": [
    {
     "name": "stdout",
     "output_type": "stream",
     "text": [
      "The element 3 appears the most, with a count of 4.\n"
     ]
    }
   ],
   "source": [
    "def find_max_frequency_element(arr):\n",
    "    # Step 1: Create a dictionary to store frequency counts\n",
    "    frequency = {}\n",
    "    \n",
    "    # Step 2: Count the occurrences of each element\n",
    "    for num in arr:\n",
    "        if num in frequency:\n",
    "            frequency[num] += 1\n",
    "        else:\n",
    "            frequency[num] = 1\n",
    "    \n",
    "    # Step 3: Find the element with the maximum frequency\n",
    "    max_count = 0\n",
    "    max_element = None\n",
    "    \n",
    "    for key, value in frequency.items():\n",
    "        if value > max_count:\n",
    "            max_count = value\n",
    "            max_element = key\n",
    "    \n",
    "    return max_element, max_count\n",
    "\n",
    "# Example usage\n",
    "arr = [1, 3, 2, 1, 4, 1, 2, 3, 3, 3]\n",
    "max_element, max_count = find_max_frequency_element(arr)\n",
    "print(f\"The element {max_element} appears the most, with a count of {max_count}.\")\n"
   ]
  },
  {
   "cell_type": "markdown",
   "id": "ffb3eede",
   "metadata": {},
   "source": [
    "Problem 2 : We are given a list of n-1 integers and these integers are in the range of 1 to n . There are no\n",
    "duplicates in the list. One of the integers is missing in the list. Give an algorithm to find that element Ex:\n",
    "[1,2,4,6,3,7,8] 5 is the missing num."
   ]
  },
  {
   "cell_type": "code",
   "execution_count": 34,
   "id": "2919f56c",
   "metadata": {},
   "outputs": [
    {
     "name": "stdout",
     "output_type": "stream",
     "text": [
      "7\n"
     ]
    }
   ],
   "source": [
    "def find_missing_number_sum_method(arr,n):\n",
    "    total_sum =n*(n+1)//2\n",
    "    actual_sum= sum(arr)\n",
    "    missing_number= total_sum-actual_sum\n",
    "    return missing_number\n",
    "        \n",
    "arr=[1,2,3,4,5,6,8]            \n",
    "n= 8\n",
    "missing= find_missing_number_sum_method(arr, n)\n",
    "print(missing)"
   ]
  },
  {
   "cell_type": "code",
   "execution_count": 42,
   "id": "2d78f47e",
   "metadata": {},
   "outputs": [
    {
     "name": "stdout",
     "output_type": "stream",
     "text": [
      "7\n"
     ]
    }
   ],
   "source": [
    "def find_missing_number_sum_method(arr,n):\n",
    "    xor_n=0\n",
    "    for i in range(1, n+1):\n",
    "        xor_n ^=i\n",
    "        \n",
    "    xor_arr= 0\n",
    "    for num in arr:\n",
    "        xor_arr ^= num\n",
    "    missing_number= xor_n ^ xor_arr\n",
    "    return missing_number\n",
    "\n",
    "arr=[1,2,3,4,5,6,8]            \n",
    "n= 8\n",
    "missing= find_missing_number_sum_method(arr, n)\n",
    "print(missing)\n",
    "            "
   ]
  },
  {
   "cell_type": "markdown",
   "id": "22f11485",
   "metadata": {},
   "source": [
    "Problem 3 : Given an array of n positive numbers. All numbers occurs even number of times except 1 which\n",
    "occurs odd number of times. Find that number in O(n) time and O(1) space. Ex: [1,2,3,2,3,1,3]. 3 is repeats odd\n",
    "times."
   ]
  },
  {
   "cell_type": "code",
   "execution_count": 41,
   "id": "5746f9eb",
   "metadata": {},
   "outputs": [
    {
     "name": "stdout",
     "output_type": "stream",
     "text": [
      "The number that occurs an odd number of times is 3.\n"
     ]
    }
   ],
   "source": [
    "def find_odd_occurrence(arr):\n",
    "    result = 0\n",
    "    for num in arr:\n",
    "        result ^= num  # XOR each number with the result\n",
    "    return result\n",
    "\n",
    "# Example usage\n",
    "arr = [1, 2, 3, 2, 3, 1, 3]\n",
    "odd_number = find_odd_occurrence(arr)\n",
    "print(f\"The number that occurs an odd number of times is {odd_number}.\")\n"
   ]
  },
  {
   "cell_type": "markdown",
   "id": "8b34ff12",
   "metadata": {},
   "source": [
    "Problem 4 : Given an array of n elements. Find two elements in the array such that their sum is equal to given\n",
    "element K."
   ]
  },
  {
   "cell_type": "code",
   "execution_count": 56,
   "id": "35a07b76",
   "metadata": {},
   "outputs": [
    {
     "name": "stdout",
     "output_type": "stream",
     "text": [
      "2 7\n",
      "3 6\n",
      "4 5\n",
      "5 4\n",
      "6 3\n",
      "7 2\n"
     ]
    }
   ],
   "source": [
    "k=9\n",
    "arr= [2,3,4,5,6,7,10,11]\n",
    "for i in arr:\n",
    "    for j in arr:\n",
    "        if i+j == k:\n",
    "            print(i,j)\n",
    "       "
   ]
  },
  {
   "cell_type": "code",
   "execution_count": 54,
   "id": "a9a7756f",
   "metadata": {},
   "outputs": [
    {
     "name": "stdout",
     "output_type": "stream",
     "text": [
      "Pair with sum 9 : (4, 5)\n"
     ]
    }
   ],
   "source": [
    "def find_pair_with_sum(arr, k):\n",
    "    seen= {}\n",
    "    for num in arr:\n",
    "        diff= k-num\n",
    "        if diff in seen:\n",
    "            return (diff, num) # return the pair\n",
    "        seen[num]= True # Mark this number as visited\n",
    "    return \"No pair found\"\n",
    "\n",
    "arr= [2,3,4,5,6,7,10,11]\n",
    "k=9\n",
    "result= find_pair_with_sum(arr, k)\n",
    "print(\"Pair with sum\",k,\":\",result)"
   ]
  },
  {
   "cell_type": "code",
   "execution_count": 57,
   "id": "6f5b48ff",
   "metadata": {},
   "outputs": [
    {
     "name": "stdout",
     "output_type": "stream",
     "text": [
      "Pair with sum 9 : (2, 7)\n"
     ]
    }
   ],
   "source": [
    "def find_pair_with_sum_brute_force(arr, K):\n",
    "    for i in range(len(arr)):\n",
    "        for j in range(i + 1, len(arr)):\n",
    "            if arr[i] + arr[j] == K:\n",
    "                return (arr[i], arr[j])\n",
    "    return \"No pair found\"\n",
    "\n",
    "# Example\n",
    "arr = [2, 7, 11, 15]\n",
    "K = 9\n",
    "result = find_pair_with_sum_brute_force(arr, K)\n",
    "print(\"Pair with sum\", K, \":\", result)\n"
   ]
  },
  {
   "cell_type": "markdown",
   "id": "a8226d22",
   "metadata": {},
   "source": [
    "Problem 5 : Given an array of both positive and negative numbers, find two numbers such that their sum is\n",
    "closest to 0. Ex: [ 1 ,60 ,-10, 70, -80,85]. Ans : -80,85."
   ]
  },
  {
   "cell_type": "code",
   "execution_count": 87,
   "id": "b0c50a21",
   "metadata": {},
   "outputs": [
    {
     "name": "stdout",
     "output_type": "stream",
     "text": [
      "Pair with sum closest to 0: (70, -70)\n"
     ]
    }
   ],
   "source": [
    "import numpy as np\n",
    "def find_pair_With_sum_closest_0(arr,k):\n",
    "    for i in range(len(arr)):\n",
    "        for j in range(i+1, len(arr)):\n",
    "            if arr[i] +arr[j] == abs(k):\n",
    "                return (arr[i],arr[j])\n",
    "            \n",
    "arr=[ 1 ,60 ,-10, 70, -80,85,80,-70]\n",
    "k=0\n",
    "result= find_pair_With_sum_closest_0(arr,k)\n",
    "print(\"Pair with sum closest to 0:\",result)"
   ]
  },
  {
   "cell_type": "code",
   "execution_count": 71,
   "id": "89009b96",
   "metadata": {},
   "outputs": [
    {
     "name": "stdout",
     "output_type": "stream",
     "text": [
      "Pair with sum closest to 0 (Brute Force): (-80, 85)\n"
     ]
    }
   ],
   "source": [
    "def find_pair_with_sum_closest_to_zero_brute_force(arr):\n",
    "    n = len(arr)\n",
    "    closest_sum = float('inf')\n",
    "    closest_pair = None\n",
    "\n",
    "    # Compare every pair in the array\n",
    "    for i in range(n):\n",
    "        for j in range(i + 1, n):\n",
    "            current_sum = arr[i] + arr[j]\n",
    "            \n",
    "            # Update closest pair if current_sum is closer to zero\n",
    "            if abs(current_sum) < abs(closest_sum):\n",
    "                closest_sum = current_sum\n",
    "                closest_pair = (arr[i], arr[j])\n",
    "\n",
    "    return closest_pair\n",
    "\n",
    "# Test the function\n",
    "arr = [1, 60, -10, 70, -80, 85]\n",
    "result = find_pair_with_sum_closest_to_zero_brute_force(arr)\n",
    "print(\"Pair with sum closest to 0 (Brute Force):\", result)\n"
   ]
  },
  {
   "cell_type": "code",
   "execution_count": 93,
   "id": "1a1412d6",
   "metadata": {},
   "outputs": [
    {
     "name": "stdout",
     "output_type": "stream",
     "text": [
      "Pair with sum closest to 0 (Brute Force): (-80, 85)\n"
     ]
    }
   ],
   "source": [
    "def find_pair_with_sum_closest_to_zero(arr):\n",
    "    # step1: sort the array\n",
    "    arr.sort()\n",
    "    #step2 :Initialize pointers and variables\n",
    "    left =0\n",
    "    right = len(arr)-1\n",
    "    closest_sum= float('inf') # start with a very large number\n",
    "    closest_pair= (None, None)\n",
    "    \n",
    "    #step3 :Two- pointer technique\n",
    "    while left < right:\n",
    "        current_sum=  arr[left] +arr[right]\n",
    "        \n",
    "        # Update closest sum and pair if current_sum is closer to zero\n",
    "        if abs(current_sum) < abs(closest_sum):\n",
    "            closest_sum= current_sum\n",
    "            closest_pair= (arr[left], arr[right])\n",
    "        \n",
    "        if current_sum <0:\n",
    "            left += 1\n",
    "        elif current_sum >0:\n",
    "            right -= 1\n",
    "        else:\n",
    "            break\n",
    "            \n",
    "    return closest_pair\n",
    "arr = [1, 60, -10, 70, -80, 85]\n",
    "result = find_pair_with_sum_closest_to_zero(arr)\n",
    "print(\"Pair with sum closest to 0 (Brute Force):\", result)\n",
    "        "
   ]
  },
  {
   "cell_type": "markdown",
   "id": "e2fb91ea",
   "metadata": {},
   "source": [
    "Problem 6 : Given an array of n elements . Find three elements such that their sum is equal to the given\n",
    "number."
   ]
  },
  {
   "cell_type": "code",
   "execution_count": 97,
   "id": "3989130f",
   "metadata": {},
   "outputs": [
    {
     "name": "stdout",
     "output_type": "stream",
     "text": [
      "Triplet with the given sum: (4, 8, 10)\n"
     ]
    }
   ],
   "source": [
    "def find_three_numbers_with_sum(arr, target_sum):\n",
    "    # Step 1: Sort the array\n",
    "    arr.sort()\n",
    "    n = len(arr)\n",
    "\n",
    "    # Step 2: Iterate through the array\n",
    "    for i in range(n - 2):\n",
    "        # Use two-pointer technique for the remaining elements\n",
    "        left = i + 1\n",
    "        right = n - 1\n",
    "\n",
    "        while left < right:\n",
    "            current_sum = arr[i] + arr[left] + arr[right]\n",
    "\n",
    "            # Check if the current sum matches the target\n",
    "            if current_sum == target_sum:\n",
    "                return (arr[i], arr[left], arr[right])\n",
    "\n",
    "            # Adjust pointers based on the sum\n",
    "            if current_sum < target_sum:\n",
    "                left += 1  # Increase the sum\n",
    "            else:\n",
    "                right -= 1  # Decrease the sum\n",
    "\n",
    "    # If no such triplet is found\n",
    "    return \"No triplet found\"\n",
    "\n",
    "# Test the function\n",
    "arr = [1, 4, 45, 6, 10, 8]\n",
    "target_sum = 22\n",
    "result = find_three_numbers_with_sum(arr, target_sum)\n",
    "print(\"Triplet with the given sum:\", result)\n"
   ]
  },
  {
   "cell_type": "markdown",
   "id": "aebe3e56",
   "metadata": {},
   "source": [
    "Problem 7 : Given an array of n elements . Find three elements i, j, k in the array such that\n",
    "i * i + j * j = k*k.\n",
    "\n",
    "Problem 8 : An element is a majority if it appears more than n/2 times. Give an algorithm takes an array of n\n",
    "element as argument and identifies a majority (if it exists).\n",
    "\n",
    "Problem 9 : Given n × n matrix, and in each row all 1’s are followed by 0’s. Find the row with the maximum\n",
    "number of 0’s.\n",
    "\n",
    "Problem 10 : Sort an array of 0’s, 1’s and 2’s [or R’s, G’s and B’s]: Given an array A[] consisting of 0’s, 1’s and\n",
    "2’s, give an algorithm for sorting A[].The algorithm should put all 0’s first, then all 1’s and finally all 2’s at the\n",
    "end. Example Input = {0,1,1,0,1,2,1,2,0,0,0,1}, Output = {0,0,0,0,0,1,1,1,1,1,2,2}"
   ]
  },
  {
   "cell_type": "code",
   "execution_count": 98,
   "id": "e651cded",
   "metadata": {},
   "outputs": [
    {
     "name": "stdout",
     "output_type": "stream",
     "text": [
      "Pythagorean Triplet: (3, 4, 5)\n"
     ]
    }
   ],
   "source": [
    "def find_pythagorean_triplet(arr):\n",
    "    # Square all elements and sort them\n",
    "    n = len(arr)\n",
    "    arr = [x ** 2 for x in arr]\n",
    "    arr.sort()\n",
    "\n",
    "    # Check for triplets\n",
    "    for k in range(n - 1, 1, -1):  # Fix the largest element as k\n",
    "        i, j = 0, k - 1\n",
    "        while i < j:\n",
    "            if arr[i] + arr[j] == arr[k]:\n",
    "                return (int(arr[i]**0.5), int(arr[j]**0.5), int(arr[k]**0.5))\n",
    "            elif arr[i] + arr[j] < arr[k]:\n",
    "                i += 1\n",
    "            else:\n",
    "                j -= 1\n",
    "\n",
    "    return \"No triplet found\"\n",
    "\n",
    "# Test the function\n",
    "arr = [3, 1, 4, 6, 5]\n",
    "result = find_pythagorean_triplet(arr)\n",
    "print(\"Pythagorean Triplet:\", result)\n"
   ]
  },
  {
   "cell_type": "code",
   "execution_count": 100,
   "id": "5e4f9aae",
   "metadata": {},
   "outputs": [
    {
     "name": "stdout",
     "output_type": "stream",
     "text": [
      "Row with maximum zeros: 3\n"
     ]
    }
   ],
   "source": [
    "def find_row_with_max_zeros(matrix):\n",
    "    n = len(matrix)\n",
    "    max_row_index, max_zeros = 0, 0\n",
    "\n",
    "    j = n - 1  # Start from the top-right corner\n",
    "    for i in range(n):\n",
    "        while j >= 0 and matrix[i][j] == 0:\n",
    "            j -= 1\n",
    "        zeros_count = n - (j + 1)\n",
    "        if zeros_count > max_zeros:\n",
    "            max_zeros = zeros_count\n",
    "            max_row_index = i\n",
    "\n",
    "    return max_row_index\n",
    "\n",
    "# Test the function\n",
    "matrix = [\n",
    "    [1, 1, 1, 0, 0],\n",
    "    [1, 1, 0, 0, 0],\n",
    "    [1, 1, 1, 1, 0],\n",
    "    [1, 0, 0, 0, 0]\n",
    "]\n",
    "result = find_row_with_max_zeros(matrix)\n",
    "print(\"Row with maximum zeros:\", result)\n"
   ]
  },
  {
   "cell_type": "code",
   "execution_count": 101,
   "id": "fb5253eb",
   "metadata": {},
   "outputs": [
    {
     "name": "stdout",
     "output_type": "stream",
     "text": [
      "Sorted Array: [0, 0, 0, 0, 0, 1, 1, 1, 1, 1, 2, 2]\n"
     ]
    }
   ],
   "source": [
    "def sort_012(arr):\n",
    "    low, mid, high = 0, 0, len(arr) - 1\n",
    "\n",
    "    while mid <= high:\n",
    "        if arr[mid] == 0:\n",
    "            arr[low], arr[mid] = arr[mid], arr[low]\n",
    "            low += 1\n",
    "            mid += 1\n",
    "        elif arr[mid] == 1:\n",
    "            mid += 1\n",
    "        else:\n",
    "            arr[mid], arr[high] = arr[high], arr[mid]\n",
    "            high -= 1\n",
    "\n",
    "    return arr\n",
    "\n",
    "# Test the function\n",
    "arr = [0, 1, 1, 0, 1, 2, 1, 2, 0, 0, 0, 1]\n",
    "result = sort_012(arr)\n",
    "print(\"Sorted Array:\", result)\n"
   ]
  },
  {
   "cell_type": "code",
   "execution_count": null,
   "id": "6c362da0",
   "metadata": {},
   "outputs": [],
   "source": []
  }
 ],
 "metadata": {
  "kernelspec": {
   "display_name": "Python 3 (ipykernel)",
   "language": "python",
   "name": "python3"
  },
  "language_info": {
   "codemirror_mode": {
    "name": "ipython",
    "version": 3
   },
   "file_extension": ".py",
   "mimetype": "text/x-python",
   "name": "python",
   "nbconvert_exporter": "python",
   "pygments_lexer": "ipython3",
   "version": "3.11.5"
  }
 },
 "nbformat": 4,
 "nbformat_minor": 5
}
