{
 "cells": [
  {
   "cell_type": "markdown",
   "id": "5e734678",
   "metadata": {},
   "source": [
    "Problem1.\n",
    "Bank Account Create a class representing a bank account with attributes like account number, account holder name, and balance.Implement methods to deposit and withdraw money from the account "
   ]
  },
  {
   "cell_type": "code",
   "execution_count": 11,
   "id": "56c09d31",
   "metadata": {},
   "outputs": [],
   "source": [
    "class BankAccount:\n",
    "    def __init__(self, account_number, account_holder_name, balance=0.0):\n",
    "        self.account_number = account_number\n",
    "        self.account_holder_name = account_holder_name\n",
    "        self.balance = balance\n",
    "\n",
    "    def deposit(self, amount):\n",
    "        if amount > 0:\n",
    "            self.balance += amount\n",
    "            return f\"Deposited ${amount}. New balance: ${self.balance}\"\n",
    "        else:\n",
    "            return \"Invalid deposit amount. Amount must be greater than zero.\"\n",
    "\n",
    "    def withdraw(self, amount):\n",
    "        if amount > 0:\n",
    "            if self.balance >= amount:\n",
    "                self.balance -= amount\n",
    "                return f\"Withdrew ${amount}. New balance: ${self.balance}\"\n",
    "            else:\n",
    "                return \"Insufficient balance for withdrawal.\"\n",
    "        else:\n",
    "            return \"Invalid withdrawal amount. Amount must be greater than zero.\"\n",
    "\n",
    "    def get_balance(self):\n",
    "        return f\"Account balance for {self.account_holder_name}: ${self.balance}\"\n",
    "\n"
   ]
  },
  {
   "cell_type": "code",
   "execution_count": 12,
   "id": "ef4ecc5d",
   "metadata": {},
   "outputs": [
    {
     "name": "stdout",
     "output_type": "stream",
     "text": [
      "Deposited $500. New balance: $10500.0\n",
      "Withdrew $200. New balance: $10300.0\n",
      "Account balance for Prince singh: $10300.0\n",
      "Account balance for Ramesh Singh: $11000.0\n"
     ]
    }
   ],
   "source": [
    "\n",
    "if __name__ == \"__main__\":\n",
    "   \n",
    "    account1 = BankAccount(\"123454\", \"Prince singh\", 10000.0)\n",
    "    account2 = BankAccount(\"123455\",\"Ramesh Singh\",11000.0)\n",
    " \n",
    "    print(account1.deposit(500))   \n",
    "    print(account1.withdraw(200))  \n",
    "    print(account1.get_balance()) \n",
    "    print(account2.get_balance())"
   ]
  },
  {
   "cell_type": "markdown",
   "id": "7a7d3784",
   "metadata": {},
   "source": [
    "Proble2.\n",
    "Employee Management Create a class representing an employee with attributes like employee ID, name, and salary.\n",
    "Implement methods to calculate the yearly bonus and display employee details"
   ]
  },
  {
   "cell_type": "code",
   "execution_count": 13,
   "id": "ea332e97",
   "metadata": {},
   "outputs": [],
   "source": [
    "class Employee:\n",
    "    def __init__(self, employee_id, name, salary):\n",
    "        self.employee_id = employee_id\n",
    "        self.name = name\n",
    "        self.salary = salary\n",
    "\n",
    "    def calculate_yearly_bonus(self, bonus_percentage):\n",
    "        if bonus_percentage >= 0:\n",
    "            yearly_bonus = (bonus_percentage / 100) * self.salary\n",
    "            return yearly_bonus\n",
    "        else:\n",
    "            return \"Invalid bonus percentage. It must be non-negative.\"\n",
    "\n",
    "    def display_employee_details(self):\n",
    "        employee_details = f\"Employee ID: {self.employee_id}\\nName: {self.name}\\nSalary: ${self.salary}\"\n",
    "        return employee_details\n"
   ]
  },
  {
   "cell_type": "code",
   "execution_count": 25,
   "id": "107489e0",
   "metadata": {},
   "outputs": [
    {
     "name": "stdout",
     "output_type": "stream",
     "text": [
      "Yearly Bonus: $1000.0\n",
      "Employee ID: P12345\n",
      "Name: Prince Singh\n",
      "Salary: $10000\n",
      "Employee ID: P12346\n",
      "Name: Ramesh Singh\n",
      "Salary: $11000\n"
     ]
    }
   ],
   "source": [
    "\n",
    "if __name__ == \"__main__\":\n",
    "    employee1 = Employee(\"P12345\", \"Prince Singh\", 10000)\n",
    "    employee2 = Employee(\"P12346\",\"Ramesh Singh\",11000)\n",
    "    bonus_percentage = 10  \n",
    "    yearly_bonus = employee1.calculate_yearly_bonus(bonus_percentage)\n",
    "    print(f\"Yearly Bonus: ${yearly_bonus}\")    \n",
    "    print(employee1.display_employee_details())\n",
    "    print(employee2.display_employee_details())"
   ]
  },
  {
   "cell_type": "markdown",
   "id": "5be3034f",
   "metadata": {},
   "source": [
    "Problem 3: Vehicle Rental Create a class representing a vehicle rental system.\n",
    "    Implement methods to rent a vehicle, return a vehicle, and display available vehicles."
   ]
  },
  {
   "cell_type": "code",
   "execution_count": 103,
   "id": "ffab90e2",
   "metadata": {},
   "outputs": [],
   "source": [
    "class Vehicle:\n",
    "    def __init__(self, vehicle_id, vehicle_type):\n",
    "        self.vehicle_id = vehicle_id\n",
    "        self.vehicle_type = vehicle_type\n",
    "        self.is_rented = False\n",
    "\n",
    "class VehicleRentalSystem:\n",
    "    def __init__(self):\n",
    "        self.available_vehicles = {}\n",
    "\n",
    "    def add_vehicle(self, vehicle_id, vehicle_type):\n",
    "        vehicle = Vehicle(vehicle_id, vehicle_type)\n",
    "        self.available_vehicles[vehicle_id] = vehicle\n",
    "\n",
    "    def rent_vehicle(self, vehicle_id):\n",
    "        if vehicle_id in self.available_vehicles:\n",
    "            vehicle = self.available_vehicles[vehicle_id]\n",
    "            if not vehicle.is_rented:\n",
    "                vehicle.is_rented = True\n",
    "                print(f\"Vehicle ID {vehicle_id} ({vehicle.vehicle_type}) has been rented.\")\n",
    "            else:\n",
    "                print(f\"Vehicle ID {vehicle_id} is already rented.\")\n",
    "        else:\n",
    "            print(f\"Vehicle ID {vehicle_id} does not exist or is not available for rent.\")\n",
    "\n",
    "    def return_vehicle(self, vehicle_id):\n",
    "        if vehicle_id in self.available_vehicles:\n",
    "            vehicle = self.available_vehicles[vehicle_id]\n",
    "            if vehicle.is_rented:\n",
    "                vehicle.is_rented = False\n",
    "                print(f\"Vehicle ID {vehicle_id} ({vehicle.vehicle_type}) has been returned.\")\n",
    "            else:\n",
    "                print(f\"Vehicle ID {vehicle_id} is not currently rented.\")\n",
    "        else:\n",
    "            print(f\"Vehicle ID {vehicle_id} does not exist in the rental system.\")\n",
    "\n",
    "    def display_available_vehicles(self):\n",
    "        print(\"Available Vehicles:\")\n",
    "        for vehicle_id, vehicle in self.available_vehicles.items():\n",
    "            if not vehicle.is_rented:\n",
    "                print(f\"Vehicle ID: {vehicle_id}, Type: {vehicle.vehicle_type}, Status: Available\")\n",
    "            else:\n",
    "                print(f\"Vehicle ID: {vehicle_id}, Type: {vehicle.vehicle_type}, Status: Rented\")"
   ]
  },
  {
   "cell_type": "code",
   "execution_count": 104,
   "id": "98e31867",
   "metadata": {},
   "outputs": [],
   "source": [
    "if __name__ == \"__main__\":\n",
    "    rental_system = VehicleRentalSystem()\n",
    "    "
   ]
  },
  {
   "cell_type": "code",
   "execution_count": 105,
   "id": "4b077ffa",
   "metadata": {},
   "outputs": [],
   "source": [
    "    rental_system.add_vehicle(\"P001\", \"Car\")\n",
    "    rental_system.add_vehicle(\"P002\", \"Bus\")\n",
    "    rental_system.add_vehicle(\"P003\", \"Train\")\n",
    "    rental_system.add_vehicle(\"P004\", \"Motorcycle\")\n",
    "    rental_system.add_vehicle(\"p005\", \"Scooter\")"
   ]
  },
  {
   "cell_type": "code",
   "execution_count": 106,
   "id": "0d8b1dc3",
   "metadata": {},
   "outputs": [
    {
     "name": "stdout",
     "output_type": "stream",
     "text": [
      "Available Vehicles:\n",
      "Vehicle ID: P001, Type: Car, Status: Available\n",
      "Vehicle ID: P002, Type: Bus, Status: Available\n",
      "Vehicle ID: P003, Type: Train, Status: Available\n",
      "Vehicle ID: P004, Type: Motorcycle, Status: Available\n",
      "Vehicle ID: p005, Type: Scooter, Status: Available\n"
     ]
    }
   ],
   "source": [
    " rental_system.display_available_vehicles()"
   ]
  },
  {
   "cell_type": "code",
   "execution_count": 107,
   "id": "8faadabc",
   "metadata": {},
   "outputs": [
    {
     "name": "stdout",
     "output_type": "stream",
     "text": [
      "Vehicle ID P001 (Car) has been rented.\n",
      "Available Vehicles:\n",
      "Vehicle ID: P001, Type: Car, Status: Rented\n",
      "Vehicle ID: P002, Type: Bus, Status: Available\n",
      "Vehicle ID: P003, Type: Train, Status: Available\n",
      "Vehicle ID: P004, Type: Motorcycle, Status: Available\n",
      "Vehicle ID: p005, Type: Scooter, Status: Available\n"
     ]
    }
   ],
   "source": [
    " rental_system.rent_vehicle(\"P001\")\n",
    " rental_system.display_available_vehicles()"
   ]
  },
  {
   "cell_type": "code",
   "execution_count": 108,
   "id": "6f3ebe04",
   "metadata": {},
   "outputs": [
    {
     "name": "stdout",
     "output_type": "stream",
     "text": [
      "Vehicle ID P001 (Car) has been returned.\n",
      "Available Vehicles:\n",
      "Vehicle ID: P001, Type: Car, Status: Available\n",
      "Vehicle ID: P002, Type: Bus, Status: Available\n",
      "Vehicle ID: P003, Type: Train, Status: Available\n",
      "Vehicle ID: P004, Type: Motorcycle, Status: Available\n",
      "Vehicle ID: p005, Type: Scooter, Status: Available\n"
     ]
    }
   ],
   "source": [
    "rental_system.return_vehicle(\"P001\")\n",
    "rental_system.display_available_vehicles()"
   ]
  },
  {
   "cell_type": "markdown",
   "id": "ebac5f91",
   "metadata": {},
   "source": [
    "Problem 4: Library Catalog Create classes representing a library and a book. \n",
    "    Implement methods to add books to the library, borrow books, and display available books"
   ]
  },
  {
   "cell_type": "code",
   "execution_count": 122,
   "id": "c9780e32",
   "metadata": {},
   "outputs": [],
   "source": [
    "class Library:\n",
    "    def __init__(self, book_id, book_type):\n",
    "        self.book_id = book_id\n",
    "        self.book_type = book_type\n",
    "        self.is_borrowed = False\n",
    "        \n",
    "class LibraryBorrowSystem:\n",
    "    def __init__(self):\n",
    "        self.available_books = {}\n",
    "        \n",
    "    def add_book(self,book_id, book_type):\n",
    "        book = Library(book_id, book_type)\n",
    "        self.available_books[book_id] = book\n",
    "\n",
    "    def borrow_book(self, book_id):\n",
    "        if book_id in self.available_books:\n",
    "            library = self.available_books[book_id]\n",
    "            if not library.is_borrowed:\n",
    "                library.is_borrowed = True\n",
    "                print(f\"Book ID {book_id} ({library.book_type}) has been borrowed.\")\n",
    "            else:\n",
    "                print(f\"Book ID {book_id} is already borrowed.\")\n",
    "        else:\n",
    "            print(f\"Book ID {book_id} does not exit or is not avaliable for borrow.\")\n",
    "    def display_available_books(self):\n",
    "        print(\"Available Book:\")\n",
    "        for book_id, library in self.available_books.items():\n",
    "            if not library.is_borrowed:\n",
    "                print(f\"Book ID: {book_id},Type: {library.book_type},Status: Avaliable\")\n",
    "            else:\n",
    "                print(f\"Book ID: {book_id}, TYpe :{library.book_type}, Status: Borrowed\")\n",
    "                "
   ]
  },
  {
   "cell_type": "code",
   "execution_count": 123,
   "id": "e72420e2",
   "metadata": {},
   "outputs": [],
   "source": [
    "if __name__ == \"__main__\":\n",
    "    library_system = LibraryBorrowSystem()"
   ]
  },
  {
   "cell_type": "code",
   "execution_count": 124,
   "id": "eda35f3f",
   "metadata": {},
   "outputs": [],
   "source": [
    "    library_system.add_book(\"b001\", \"Python\")\n",
    "    library_system.add_book(\"b002\", \"SQl\")\n",
    "    library_system.add_book(\"b003\", \"Excel\")\n",
    "    library_system.add_book(\"b004\", \"Tablue\")\n",
    "    library_system.add_book(\"b005\", \"Ml\")"
   ]
  },
  {
   "cell_type": "code",
   "execution_count": 125,
   "id": "d6e74441",
   "metadata": {},
   "outputs": [
    {
     "name": "stdout",
     "output_type": "stream",
     "text": [
      "Book ID b001 (Python) has been borrowed.\n",
      "Available Book:\n",
      "Book ID: b001, TYpe :Python, Status: Borrowed\n",
      "Book ID: b002,Type: SQl,Status: Avaliable\n",
      "Book ID: b003,Type: Excel,Status: Avaliable\n",
      "Book ID: b004,Type: Tablue,Status: Avaliable\n",
      "Book ID: b005,Type: Ml,Status: Avaliable\n"
     ]
    }
   ],
   "source": [
    "library_system.borrow_book(\"b001\")\n",
    "library_system.display_available_books()\n"
   ]
  },
  {
   "cell_type": "markdown",
   "id": "efde4be2",
   "metadata": {},
   "source": [
    "Problem 5: Product Inventory Create classes representing a product and an inventory system.\n",
    "    Implement methods to add products to the inventory, update product quantity, and display available products."
   ]
  },
  {
   "cell_type": "code",
   "execution_count": 62,
   "id": "bf8bfc92",
   "metadata": {},
   "outputs": [],
   "source": [
    "class Product:\n",
    "    def __init__(self, product_id, name, price, quantity):\n",
    "        self.product_id = product_id\n",
    "        self.name = name\n",
    "        self.price = price\n",
    "        self.quantity = quantity\n",
    "\n",
    "    def update_quantity(self, new_quantity):\n",
    "        self.quantity = new_quantity\n",
    "\n",
    "    def __str__(self):\n",
    "        return f\"Product ID: {self.product_id}\\nName: {self.name}\\nPrice: ${self.price}\\nQuantity: {self.quantity}\"\n",
    "\n",
    "class InventorySystem:\n",
    "    def __init__(self):\n",
    "        self.inventory = {}\n",
    "\n",
    "    def add_product(self, product):\n",
    "        if product.product_id in self.inventory:\n",
    "            print(f\"Product with ID {product.product_id} already exists in the inventory.\")\n",
    "        else:\n",
    "            self.inventory[product.product_id] = product\n",
    "            print(f\"Product '{product.name}' added to the inventory.\")\n",
    "\n",
    "    def update_product_quantity(self, product_id, new_quantity):\n",
    "        if product_id in self.inventory:\n",
    "            product = self.inventory[product_id]\n",
    "            product.update_quantity(new_quantity)\n",
    "            print(f\"Quantity of product '{product.name}' updated to {new_quantity}.\")\n",
    "        else:\n",
    "            print(f\"Product with ID {product_id} does not exist in the inventory.\")\n",
    "\n",
    "    def display_available_products(self):\n",
    "        if not self.inventory:\n",
    "            print(\"Inventory is empty.\")\n",
    "        else:\n",
    "            print(\"Available Products:\")\n",
    "            for product_id, product in self.inventory.items():\n",
    "                print(product)\n",
    "                print()\n",
    "\n"
   ]
  },
  {
   "cell_type": "code",
   "execution_count": 64,
   "id": "77ed9534",
   "metadata": {},
   "outputs": [
    {
     "name": "stdout",
     "output_type": "stream",
     "text": [
      "Product 'Laptop' added to the inventory.\n",
      "Product 'Smartphone' added to the inventory.\n",
      "Product 'Tablet' added to the inventory.\n",
      "Available Products:\n",
      "Product ID: P001\n",
      "Name: Laptop\n",
      "Price: $1000\n",
      "Quantity: 5\n",
      "\n",
      "Product ID: P002\n",
      "Name: Smartphone\n",
      "Price: $500\n",
      "Quantity: 10\n",
      "\n",
      "Product ID: P003\n",
      "Name: Tablet\n",
      "Price: $350\n",
      "Quantity: 25\n",
      "\n",
      "Quantity of product 'Laptop' updated to 7.\n",
      "Product with ID P004 does not exist in the inventory.\n",
      "Available Products:\n",
      "Product ID: P001\n",
      "Name: Laptop\n",
      "Price: $1000\n",
      "Quantity: 7\n",
      "\n",
      "Product ID: P002\n",
      "Name: Smartphone\n",
      "Price: $500\n",
      "Quantity: 10\n",
      "\n",
      "Product ID: P003\n",
      "Name: Tablet\n",
      "Price: $350\n",
      "Quantity: 25\n",
      "\n"
     ]
    }
   ],
   "source": [
    "if __name__ == \"__main__\":\n",
    "    inventory_system = InventorySystem()\n",
    "\n",
    "    product1 = Product(\"P001\", \"Laptop\", 1000, 5)\n",
    "    product2 = Product(\"P002\", \"Smartphone\", 500, 10)\n",
    "    product3 = Product(\"P003\", \"Tablet\", 350, 25)\n",
    "\n",
    "    inventory_system.add_product(product1)\n",
    "    inventory_system.add_product(product2)\n",
    "    inventory_system.add_product(product3)\n",
    "\n",
    "    inventory_system.display_available_products()\n",
    "\n",
    "    inventory_system.update_product_quantity(\"P001\", 7)\n",
    "    inventory_system.update_product_quantity(\"P004\", 5)\n",
    "\n",
    "    inventory_system.display_available_products()"
   ]
  },
  {
   "cell_type": "code",
   "execution_count": null,
   "id": "26fd4306",
   "metadata": {},
   "outputs": [],
   "source": []
  },
  {
   "cell_type": "markdown",
   "id": "18251496",
   "metadata": {},
   "source": [
    "Problem 6: Shape Calculation Create a class representing a shape with attributes like length, width, and height. \n",
    "    Implement methods to calculate the area and perimeter of the shape."
   ]
  },
  {
   "cell_type": "code",
   "execution_count": 144,
   "id": "c14338bb",
   "metadata": {},
   "outputs": [],
   "source": [
    "class Shape:\n",
    "    def __init__(self,lenght =0.0,width =0.0,height =0.0):\n",
    "        self.lenght = lenght\n",
    "        self.width = width\n",
    "        self.height = height\n",
    "    def calculate_area(self):\n",
    "        pass\n",
    "    def calculate_perimeter(self):\n",
    "        pass\n",
    "class Rectangle(Shape):\n",
    "    def calculate_area(self):\n",
    "        return self.lenght * self.width\n",
    "    def calculate_perimeter(self):\n",
    "        return 2*(self.lenght + self.width) \n",
    "class Triangle(Shape):\n",
    "    def calculate_area(self):\n",
    "        s= (self.lenght + self.width +self.height)/2\n",
    "        return (s* (s-self.lenght) *(s-self.width) *(s-self.height)) ** 0.5\n",
    "        \n",
    "  \n",
    "        "
   ]
  },
  {
   "cell_type": "code",
   "execution_count": 145,
   "id": "4a2a885d",
   "metadata": {},
   "outputs": [
    {
     "name": "stdout",
     "output_type": "stream",
     "text": [
      "Rectangle:\n",
      "Area:100\n",
      "Perimeter: 40\n",
      "Triangle:\n",
      "Area:43.30127018922193\n",
      "Perimeter: None\n"
     ]
    }
   ],
   "source": [
    "if __name__ == \"__main__\":\n",
    "    rectangle =Rectangle(lenght=10,width=10)\n",
    "    print(\"Rectangle:\")\n",
    "    print(f\"Area:{rectangle.calculate_area()}\")\n",
    "    print(f\"Perimeter: {rectangle.calculate_perimeter()}\")\n",
    "    \n",
    "    triangle =Triangle(lenght=10,width=10,height=10)\n",
    "    print(\"Triangle:\")\n",
    "    print(f\"Area:{triangle.calculate_area()}\")\n",
    "    print(f\"Perimeter: {triangle.calculate_perimeter()}\")\n",
    "    \n",
    "    "
   ]
  },
  {
   "cell_type": "markdown",
   "id": "b4f745bf",
   "metadata": {},
   "source": [
    "Problem 7: Student Management Create a class representing a student with attributes like student ID, name, and grades.\n",
    "    Implement methods to calculate the average grade and display student details."
   ]
  },
  {
   "cell_type": "code",
   "execution_count": 153,
   "id": "f83dba93",
   "metadata": {},
   "outputs": [],
   "source": [
    "class Student:\n",
    "    def __init__(self,student_ID,name):\n",
    "        self.student_ID = student_ID\n",
    "        self.name = name\n",
    "        self.grades =[]\n",
    "    def add_grade(self, grade):\n",
    "        self.grades.append(grade)\n",
    "        \n",
    "    def calculate_average_grade(self):\n",
    "        if len(self.grades)>0:\n",
    "            return sum(self.grades)/len(self.grades)\n",
    "        else:\n",
    "            return 0\n",
    "    def display_student_details(self):\n",
    "        student_details =f\"Student ID: {self.student_ID}\\nName: {self.name}\\nGrades: {','.join(map(str,self.grades))}\"\n",
    "        return student_details\n",
    "    \n",
    "        \n",
    "        \n",
    "        "
   ]
  },
  {
   "cell_type": "code",
   "execution_count": 155,
   "id": "8e371e85",
   "metadata": {},
   "outputs": [
    {
     "name": "stdout",
     "output_type": "stream",
     "text": [
      "Student ID: S100P\n",
      "Name: prince\n",
      "Grades: 80,85,90,95\n",
      "Average Grade: 87.5\n"
     ]
    }
   ],
   "source": [
    "if __name__ ==\"__main__\":\n",
    "    student1 = Student(\"S100P\",\"prince\")\n",
    "    #student2 = Student(\"S200P\",\"singh\")\n",
    "    \n",
    "    student1.add_grade(80)\n",
    "    student1.add_grade(85)\n",
    "    student1.add_grade(90)\n",
    "    student1.add_grade(95)\n",
    "    \n",
    "    average_grade = student1.calculate_average_grade()\n",
    "    \n",
    "    print(student1.display_student_details())\n",
    "    print(f\"Average Grade: {average_grade}\")\n",
    "    \n",
    "    "
   ]
  },
  {
   "cell_type": "markdown",
   "id": "66eeaa61",
   "metadata": {},
   "source": [
    "Problem8.Email Management Create a class representing an email with attributes like sender, recipient, and subject.\n",
    "Implement methods to send an email and display email details"
   ]
  },
  {
   "cell_type": "code",
   "execution_count": 174,
   "id": "a4273393",
   "metadata": {},
   "outputs": [],
   "source": [
    "class Email:\n",
    "    def __init__(self, sender, recipient, subject, message):\n",
    "        self.sender= sender\n",
    "        self.recipient = sender\n",
    "        self.subject = subject\n",
    "        self.message = message\n",
    "        self.is_sent = False\n",
    "       \n",
    "    def send_email(self):\n",
    "        self.is_sent =True\n",
    "        print(f\" Email sent from {self.sender} to {self.recipient} with subject '{self.subject}'\")\n",
    "        \n",
    "    def display_email_details(self):\n",
    "        email_details = f\"Sender: {self.sender}\\nRecipient : {self.recipient}\\nSubject: {self.subject}\\nMessage: \\n{self.message}\"\n",
    "        return email_details\n",
    "    "
   ]
  },
  {
   "cell_type": "code",
   "execution_count": 178,
   "id": "3d0ffd44",
   "metadata": {},
   "outputs": [
    {
     "name": "stdout",
     "output_type": "stream",
     "text": [
      " Email sent from hisender@gmail.com to hisender@gmail.com with subject 'How are you buddy'\n",
      "Sender: hisender@gmail.com\n",
      "Recipient : hisender@gmail.com\n",
      "Subject: How are you buddy\n",
      "Message: \n",
      "This is testing message ti check\n"
     ]
    }
   ],
   "source": [
    "if __name__ == \"__main__\":\n",
    "    sender = \"hisender@gmail.com\"\n",
    "    recipient = \"hellorecipient@gmail.com\"\n",
    "    subject = \"How are you buddy\"\n",
    "    message = \"This is testing message ti check\"\n",
    "    email1 =Email(sender,recipient,subject,message)\n",
    "    \n",
    "    email.send_email()\n",
    "    \n",
    "    print(email1.display_email_details())"
   ]
  },
  {
   "cell_type": "markdown",
   "id": "3a769e56",
   "metadata": {},
   "source": [
    "Problem 9: Social Media Profile Create a class representing a social media profile with attributes like username and posts. \n",
    "    Implement methods to add posts, display posts, and search for posts by keyword."
   ]
  },
  {
   "cell_type": "code",
   "execution_count": 45,
   "id": "d0888269",
   "metadata": {},
   "outputs": [],
   "source": [
    "class SocialMediaProfile:\n",
    "    def __init__(self, username):\n",
    "        self.username = username\n",
    "        self.posts = []\n",
    "\n",
    "    def add_post(self, post_content):\n",
    "        self.posts.append(post_content)\n",
    "\n",
    "    def display_posts(self):\n",
    "        if self.posts:\n",
    "            print(f\"Posts by {self.username}:\")\n",
    "            for i, post in enumerate(self.posts, start=1):\n",
    "                print(f\"Post {i}: {post}\")\n",
    "        else:\n",
    "            print(f\"{self.username} has no posts yet.\")\n",
    "\n",
    "    def search_posts_by_keyword(self, keyword):\n",
    "        matching_posts = [post for post in self.posts if keyword in post]\n",
    "        if matching_posts:\n",
    "            print(f\"Posts by {self.username} containing '{keyword}':\")\n",
    "            for i, post in enumerate(matching_posts, start=1):\n",
    "                print(f\"Post {i}: {post}\")\n",
    "        else:\n",
    "            print(f\"No posts by {self.username} contain the keyword '{keyword}'.\")"
   ]
  },
  {
   "cell_type": "code",
   "execution_count": 47,
   "id": "4c94db3a",
   "metadata": {},
   "outputs": [
    {
     "name": "stdout",
     "output_type": "stream",
     "text": [
      "Posts by user123:\n",
      "Post 1: Hello! This is my first post.\n",
      "Post 2: THis is my second post.\n",
      "Post 3: I love to write code\n",
      "Posts by user123 containing 'first':\n",
      "Post 1: Hello! This is my first post.\n",
      "Posts by user123 containing 'second':\n",
      "Post 1: THis is my second post.\n",
      "Posts by user123 containing 'code':\n",
      "Post 1: I love to write code\n"
     ]
    }
   ],
   "source": [
    "if __name__ == \"__main__\":\n",
    "    profile1 = SocialMediaProfile(\"user123\")\n",
    "    \n",
    "    profile1.add_post(\"Hello! This is my first post.\")\n",
    "    profile1.add_post(\"THis is my second post.\")\n",
    "    profile1.add_post(\"I love to write code\")\n",
    "    \n",
    "    profile1.display_posts()\n",
    "    \n",
    "    profile1.search_posts_by_keyword(\"first\")\n",
    "    profile1.search_posts_by_keyword(\"second\")\n",
    "    profile1.search_posts_by_keyword(\"code\")    "
   ]
  },
  {
   "cell_type": "markdown",
   "id": "5d194065",
   "metadata": {},
   "source": [
    "Problem 10: ToDo List Create a class representing a ToDo list with attributes like tasks and due dates. \n",
    "    Implement methods to add tasks, mark tasks as completed, and display pending tasks."
   ]
  },
  {
   "cell_type": "code",
   "execution_count": 60,
   "id": "b28d2ff1",
   "metadata": {},
   "outputs": [],
   "source": [
    "class ToDoList:\n",
    "    def __init__(self):\n",
    "        self.tasks = {}\n",
    "        \n",
    "    def add_task(self, task_name, due_date):\n",
    "         self.tasks[task_name] = due_date\n",
    "            \n",
    "          \n",
    "    def mark_task_as_completed(self,task_name):\n",
    "        if task_name in self.tasks:\n",
    "            del self.tasks[task_name]\n",
    "            \n",
    "        else:\n",
    "            print(f\"Task '{task_name}' not found in the to -do list.\")\n",
    "            \n",
    "    def display_pending_tasks(self):\n",
    "        if not self.tasks:\n",
    "            print(\"No pending tasks.\")\n",
    "        else:\n",
    "            print(\"pending Tasks:\")\n",
    "            for task, due_date in self.tasks.items():\n",
    "                print(f\"Task: {task}, Due Date: {due_date}\")\n",
    "            "
   ]
  },
  {
   "cell_type": "code",
   "execution_count": 61,
   "id": "c85989d9",
   "metadata": {},
   "outputs": [
    {
     "name": "stdout",
     "output_type": "stream",
     "text": [
      "pending Tasks:\n",
      "Task: complete sql, Due Date: 2023-09-15\n",
      "Task: complete Excel, Due Date: 2023-10-01\n",
      "Task: complete python, Due Date: 2023-10-15\n",
      "Task: complete Power BI, Due Date: 2023-10-25\n",
      "Task 'Go for a fun' not found in the to -do list.\n",
      "pending Tasks:\n",
      "Task: complete sql, Due Date: 2023-09-15\n",
      "Task: complete Excel, Due Date: 2023-10-01\n",
      "Task: complete python, Due Date: 2023-10-15\n",
      "Task: complete Power BI, Due Date: 2023-10-25\n"
     ]
    }
   ],
   "source": [
    "if __name__ == \"__main__\":\n",
    "    my_todo_list  = ToDoList()\n",
    "    \n",
    "    my_todo_list.add_task(\"complete sql\", \"2023-09-15\")\n",
    "    my_todo_list.add_task(\"complete Excel\", \"2023-10-01\")\n",
    "    my_todo_list.add_task(\"complete python\", \"2023-10-15\")\n",
    "    my_todo_list.add_task(\"complete Power BI\", \"2023-10-25\")\n",
    "    \n",
    "    my_todo_list.display_pending_tasks()\n",
    "    \n",
    "    my_todo_list.mark_task_as_completed(\"Go for a fun\")\n",
    "    my_todo_list.display_pending_tasks()"
   ]
  },
  {
   "cell_type": "code",
   "execution_count": null,
   "id": "052847e0",
   "metadata": {},
   "outputs": [],
   "source": []
  }
 ],
 "metadata": {
  "kernelspec": {
   "display_name": "Python 3 (ipykernel)",
   "language": "python",
   "name": "python3"
  },
  "language_info": {
   "codemirror_mode": {
    "name": "ipython",
    "version": 3
   },
   "file_extension": ".py",
   "mimetype": "text/x-python",
   "name": "python",
   "nbconvert_exporter": "python",
   "pygments_lexer": "ipython3",
   "version": "3.11.4"
  }
 },
 "nbformat": 4,
 "nbformat_minor": 5
}
