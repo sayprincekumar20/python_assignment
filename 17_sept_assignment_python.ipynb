{
 "cells": [
  {
   "cell_type": "markdown",
   "id": "c3f7d893",
   "metadata": {},
   "source": [
    "# For Loop :-"
   ]
  },
  {
   "cell_type": "markdown",
   "id": "ac6a63cf",
   "metadata": {},
   "source": [
    "1.Write a Python program to print numbers from 1 to 10 using a for loop."
   ]
  },
  {
   "cell_type": "code",
   "execution_count": 1,
   "id": "a498ca56",
   "metadata": {},
   "outputs": [
    {
     "name": "stdout",
     "output_type": "stream",
     "text": [
      "1\n",
      "2\n",
      "3\n",
      "4\n",
      "5\n",
      "6\n",
      "7\n",
      "8\n",
      "9\n",
      "10\n"
     ]
    }
   ],
   "source": [
    "for i in range(1,11):\n",
    "    print(i)"
   ]
  },
  {
   "cell_type": "markdown",
   "id": "826f0020",
   "metadata": {},
   "source": [
    "2.Explain the difference between a for loop and a while loop in Python.\n",
    "\n",
    "\n",
    "\n",
    "=>For loop is used to iterate over a sequence of items.  & While loop is used to repeatedly execute a block of statments when a condition is true"
   ]
  },
  {
   "cell_type": "markdown",
   "id": "95c61980",
   "metadata": {},
   "source": [
    "3.Write a Python program to calculate the sum of all numbers from 1 to 100 using a for loop."
   ]
  },
  {
   "cell_type": "code",
   "execution_count": 2,
   "id": "913ac0dc",
   "metadata": {},
   "outputs": [
    {
     "name": "stdout",
     "output_type": "stream",
     "text": [
      "The sum of numbers from 1 to 100 is: 5050\n"
     ]
    }
   ],
   "source": [
    "total_sum = 0\n",
    "for i in range(1,101):\n",
    "    total_sum += i\n",
    "print(\"The sum of numbers from 1 to 100 is:\", total_sum)    "
   ]
  },
  {
   "cell_type": "markdown",
   "id": "620e52fa",
   "metadata": {},
   "source": [
    "4.How do you iterate through a list using a for loop in Python?\n",
    "\n",
    "\n",
    "=> we can iterate through a list using a 'for' loop in python by using the 'for' keyword followed by\n",
    "a loop variable\n",
    "   \n",
    "   \n",
    "   eg. for item in my_list:\n"
   ]
  },
  {
   "cell_type": "markdown",
   "id": "c08aebf7",
   "metadata": {},
   "source": [
    "5.Write a Python program to find the product of all elements in a list using a for loop."
   ]
  },
  {
   "cell_type": "code",
   "execution_count": 3,
   "id": "1207ba01",
   "metadata": {},
   "outputs": [
    {
     "name": "stdout",
     "output_type": "stream",
     "text": [
      "THe product of all elements in a list is: 120\n"
     ]
    }
   ],
   "source": [
    "my_list  = [1,2,3,4,5]\n",
    "total_product = 1\n",
    "for element in my_list:\n",
    "   # print(element)    \n",
    "    total_product *= element\n",
    "print(\"THe product of all elements in a list is:\",total_product)    \n",
    "    "
   ]
  },
  {
   "cell_type": "markdown",
   "id": "3d8dcb2f",
   "metadata": {},
   "source": [
    "6.Create a Python program that prints all even numbers from 1 to 20 using a for loop.\n"
   ]
  },
  {
   "cell_type": "code",
   "execution_count": 4,
   "id": "b4773486",
   "metadata": {},
   "outputs": [
    {
     "name": "stdout",
     "output_type": "stream",
     "text": [
      "2\n",
      "4\n",
      "6\n",
      "8\n",
      "10\n",
      "12\n",
      "14\n",
      "16\n",
      "18\n",
      "20\n"
     ]
    }
   ],
   "source": [
    "for even_number in range(1, 21):\n",
    "    if even_number % 2 == 0:\n",
    "       print(even_number)    "
   ]
  },
  {
   "cell_type": "code",
   "execution_count": 5,
   "id": "90ee63aa",
   "metadata": {},
   "outputs": [
    {
     "name": "stdout",
     "output_type": "stream",
     "text": [
      "2\n",
      "4\n",
      "6\n",
      "8\n",
      "10\n",
      "12\n",
      "14\n",
      "16\n",
      "18\n",
      "20\n"
     ]
    }
   ],
   "source": [
    "for even_number in range(2, 21, 2):\n",
    "    print(even_number)"
   ]
  },
  {
   "cell_type": "markdown",
   "id": "85dddd01",
   "metadata": {},
   "source": [
    "7.Write a Python program that calculates the factorial of a number using a for loop.\n"
   ]
  },
  {
   "cell_type": "code",
   "execution_count": 8,
   "id": "e6a87442",
   "metadata": {},
   "outputs": [
    {
     "name": "stdout",
     "output_type": "stream",
     "text": [
      "Enter a number6\n",
      " The factorial of 6 is: 720\n"
     ]
    }
   ],
   "source": [
    "number = int(input(\"Enter a number\"))\n",
    "factorial =1\n",
    "for i in range(1, number+1):\n",
    "    factorial *=i\n",
    "  \n",
    "print(f\" The factorial of {number} is: {factorial}\")"
   ]
  },
  {
   "cell_type": "markdown",
   "id": "8065c2cd",
   "metadata": {},
   "source": [
    "8.How can you iterate through the characters of a string using a for loop in Python?\n"
   ]
  },
  {
   "cell_type": "code",
   "execution_count": 9,
   "id": "2c5fbbde",
   "metadata": {},
   "outputs": [
    {
     "name": "stdout",
     "output_type": "stream",
     "text": [
      "H\n",
      "e\n",
      "l\n",
      "l\n",
      "o\n",
      ",\n",
      " \n",
      "H\n",
      "o\n",
      "w\n",
      " \n",
      "a\n",
      "r\n",
      "e\n",
      " \n",
      "y\n",
      "o\n",
      "u\n"
     ]
    }
   ],
   "source": [
    " text= \"Hello, How are you\"\n",
    " \n",
    "for char in text:\n",
    "    print(char)\n",
    "\n",
    "    "
   ]
  },
  {
   "cell_type": "markdown",
   "id": "329c72f1",
   "metadata": {},
   "source": [
    "9.Write a Python program to find the largest number in a list using a for loop.\n"
   ]
  },
  {
   "cell_type": "code",
   "execution_count": 10,
   "id": "e19ce742",
   "metadata": {},
   "outputs": [
    {
     "name": "stdout",
     "output_type": "stream",
     "text": [
      "The largest number is the list is: 88\n"
     ]
    }
   ],
   "source": [
    "list= [13,24,15,76,27,88]\n",
    "largest = list[0]\n",
    "for i in list:\n",
    "    if i >largest:\n",
    "        largest = i\n",
    "print(\"The largest number is the list is:\",largest)"
   ]
  },
  {
   "cell_type": "markdown",
   "id": "91b77ff3",
   "metadata": {},
   "source": [
    "10.Create a Python program that prints the Fibonacci sequence up to a specified limit using a for loop.\n"
   ]
  },
  {
   "cell_type": "code",
   "execution_count": 11,
   "id": "ccf9351c",
   "metadata": {},
   "outputs": [
    {
     "name": "stdout",
     "output_type": "stream",
     "text": [
      "Enter the limit for the fibonacci sequence:7\n",
      "Fibonaccai sequence up to the limit of  7\n",
      "011235"
     ]
    }
   ],
   "source": [
    "def fibonacci(limit):\n",
    "    fib_sequence =[]\n",
    "    a,b = 0,1\n",
    "    \n",
    "    while a <= limit:\n",
    "        fib_sequence.append(a)\n",
    "        a,b = b, a+b\n",
    "    return fib_sequence\n",
    "limit =int(input(\"Enter the limit for the fibonacci sequence:\"))\n",
    "fib_sequence = fibonacci(limit)\n",
    "print (\"Fibonaccai sequence up to the limit of \",limit)\n",
    "for number in fib_sequence:\n",
    "    print(number,end =\"\")\n",
    "           \n",
    "    "
   ]
  },
  {
   "cell_type": "markdown",
   "id": "804cea3c",
   "metadata": {},
   "source": [
    "11.Write a Python program to count the number of vowels in a given string using a for loop.\n"
   ]
  },
  {
   "cell_type": "code",
   "execution_count": 12,
   "id": "c42f752b",
   "metadata": {},
   "outputs": [
    {
     "name": "stdout",
     "output_type": "stream",
     "text": [
      "Enter a string: Hii This is prince kumar\n",
      "Number of vowels count in the string is: 8\n"
     ]
    }
   ],
   "source": [
    "input_string = input(\"Enter a string: \")\n",
    "input_string =input_string.lower()\n",
    "\n",
    "vowel_count = 0\n",
    "vowels = \"aeiou\"\n",
    "for char in input_string:\n",
    "    if char in vowels:\n",
    "        vowel_count += 1\n",
    "   \n",
    "print(\"Number of vowels count in the string is:\",vowel_count)\n"
   ]
  },
  {
   "cell_type": "markdown",
   "id": "fed9b47b",
   "metadata": {},
   "source": [
    "12.Create a Python program that generates a multiplication table for a given number using a for loop\n"
   ]
  },
  {
   "cell_type": "code",
   "execution_count": 15,
   "id": "2a23d8b4",
   "metadata": {},
   "outputs": [
    {
     "name": "stdout",
     "output_type": "stream",
     "text": [
      "Enter a number:4\n",
      "Multiplication Table for 4 is:\n",
      "4 * 1 = 4\n",
      "4 * 2 = 8\n",
      "4 * 3 = 12\n",
      "4 * 4 = 16\n",
      "4 * 5 = 20\n",
      "4 * 6 = 24\n",
      "4 * 7 = 28\n",
      "4 * 8 = 32\n",
      "4 * 9 = 36\n",
      "4 * 10 = 40\n"
     ]
    }
   ],
   "source": [
    "number = int(input(\"Enter a number:\"))\n",
    "range_limit =10\n",
    "print(f\"Multiplication Table for {number} is:\")\n",
    "for i in range(1, range_limit +1):\n",
    "    result = number * i\n",
    "    print(f\"{number} * {i} = {result}\")\n"
   ]
  },
  {
   "cell_type": "markdown",
   "id": "0d43022c",
   "metadata": {},
   "source": [
    "13.Write a Python program to reverse a list using a for loop.\n"
   ]
  },
  {
   "cell_type": "code",
   "execution_count": 18,
   "id": "6f3fc485",
   "metadata": {},
   "outputs": [
    {
     "name": "stdout",
     "output_type": "stream",
     "text": [
      "Original List: [1, 2, 3, 4, 5]\n",
      "Reversed LIst: [5, 4, 3, 2, 1]\n"
     ]
    }
   ],
   "source": [
    "def reverse_list(input_list):\n",
    "    reversed_list =[]\n",
    "    for item in input_list:\n",
    "        reversed_list.insert(0,item)\n",
    "    return reversed_list\n",
    "original_list =[1,2,3,4,5]\n",
    "reversed_list = reverse_list(original_list)\n",
    "print(\"Original List:\", original_list)\n",
    "print(\"Reversed LIst:\", reversed_list)"
   ]
  },
  {
   "cell_type": "markdown",
   "id": "b4cbf98d",
   "metadata": {},
   "source": [
    "14.Write a Python program to find the common elements between two lists using a for loop.\n"
   ]
  },
  {
   "cell_type": "code",
   "execution_count": 31,
   "id": "951c36f3",
   "metadata": {},
   "outputs": [
    {
     "name": "stdout",
     "output_type": "stream",
     "text": [
      "Common Elements :  [4, 5, 6, 8]\n"
     ]
    }
   ],
   "source": [
    "def find_common_elements(list1, list2):\n",
    "    common_elements =[]\n",
    "    for item in list1:\n",
    "        if item in list2 and item not in common_elements:\n",
    "            common_elements.append(item)\n",
    "    return common_elements\n",
    "list1 = [23,4,5,6,7,8,4]\n",
    "list2 =[2,3,4,5,6,77,88,5,8]\n",
    "common_elements = find_common_elements(list1, list2)\n",
    "print(\"Common Elements : \", common_elements)"
   ]
  },
  {
   "cell_type": "markdown",
   "id": "8b2ab774",
   "metadata": {},
   "source": [
    "15.Explain how to use a for loop to iterate through the keys and values of a dictionary in Python.\n"
   ]
  },
  {
   "cell_type": "code",
   "execution_count": 32,
   "id": "54c300b4",
   "metadata": {},
   "outputs": [
    {
     "name": "stdout",
     "output_type": "stream",
     "text": [
      "key: mango, Value:3\n",
      "key: banana, Value:4\n",
      "key: apple, Value:5\n",
      "key: cherry, Value:6\n"
     ]
    }
   ],
   "source": [
    "#using .item() method to iterate through both keys and values\n",
    "my_dict ={'mango' :3,'banana':4, 'apple':5, 'cherry': 6}\n",
    "\n",
    "for key, value in my_dict.items():\n",
    "    print(f\"key: {key}, Value:{value}\")"
   ]
  },
  {
   "cell_type": "markdown",
   "id": "db398cca",
   "metadata": {},
   "source": [
    "16.Write a Python program to find the GCD (Greatest Common Divisor) of two numbers using a for loop.\n"
   ]
  },
  {
   "cell_type": "code",
   "execution_count": 35,
   "id": "2fb21ddb",
   "metadata": {},
   "outputs": [
    {
     "name": "stdout",
     "output_type": "stream",
     "text": [
      "Enter a first number: 56\n",
      "Enter a second number: 67\n",
      "GCD of 56 and 67 is: 50\n"
     ]
    }
   ],
   "source": [
    "x = int(input(\"Enter a first number: \"))\n",
    "y = int(input(\"Enter a second number: \"))\n",
    "if x > y:\n",
    "    x,y = y, x\n",
    "    for i in range(1, x+1):\n",
    "        if x% i ==0 and y% i == 0:\n",
    "         gcd = i\n",
    "print(\"GCD of\", x, \"and\", y, \"is:\", gcd)            \n",
    "    "
   ]
  },
  {
   "cell_type": "markdown",
   "id": "2c7ae6fa",
   "metadata": {},
   "source": [
    "17.Create a Python program that checks if a string is a palindrome using a for loop.\n",
    "\n"
   ]
  },
  {
   "cell_type": "code",
   "execution_count": 39,
   "id": "a95c8e21",
   "metadata": {},
   "outputs": [
    {
     "name": "stdout",
     "output_type": "stream",
     "text": [
      "Enter a string: pop\n",
      "pop is a palindrome.\n"
     ]
    }
   ],
   "source": [
    "def is_palindrome(input_string):\n",
    "    input_string =input_string.lower()\n",
    "    length =len(input_string)\n",
    "    for i in range(length //2):\n",
    "        if input_string[i] != input_string[length -1 -i]:\n",
    "            return False\n",
    "    return True\n",
    "user_input = input(\"Enter a string: \")\n",
    "if is_palindrome(user_input):\n",
    "    print(f\"{user_input} is a palindrome.\")\n",
    "else:\n",
    "    print(f\"{user_input} is not a palindrome.\")\n",
    "    "
   ]
  },
  {
   "cell_type": "markdown",
   "id": "64572fa4",
   "metadata": {},
   "source": [
    "18.Write a Python program to remove duplicates from a list using a for loop.\n"
   ]
  },
  {
   "cell_type": "code",
   "execution_count": 42,
   "id": "45dcaf20",
   "metadata": {},
   "outputs": [
    {
     "name": "stdout",
     "output_type": "stream",
     "text": [
      "Original List: [1, 2, 3, 4, 5, 6, 7, 6, 4, 3, 2, 1]\n",
      "list with Duplicated Removed: [1, 2, 3, 4, 5, 6, 7]\n"
     ]
    }
   ],
   "source": [
    "def remove_duplicates(input_list):\n",
    "    deduplicated_list =[]\n",
    "    for item in input_list:\n",
    "        if item not in deduplicated_list:\n",
    "            deduplicated_list.append(item)\n",
    "    return deduplicated_list   \n",
    "original_list = [1,2,3,4,5,6,7,6,4,3,2,1]\n",
    "deduplicated_list =remove_duplicates(original_list)\n",
    "print(\"Original List:\", original_list)\n",
    "print(\"list with Duplicated Removed:\", deduplicated_list)\n",
    "    "
   ]
  },
  {
   "cell_type": "markdown",
   "id": "4fe01bfd",
   "metadata": {},
   "source": [
    "19.Create a Python program that counts the number of words in a sentence using a for loop.\n"
   ]
  },
  {
   "cell_type": "code",
   "execution_count": 45,
   "id": "acd8477a",
   "metadata": {},
   "outputs": [
    {
     "name": "stdout",
     "output_type": "stream",
     "text": [
      "Enter a sentence: gfd hgfdsdsa\n",
      "The sentence contains 2 words.\n"
     ]
    }
   ],
   "source": [
    "def count_words(sentence):\n",
    "    words= sentence.split()\n",
    "    return len(words)\n",
    "user_input = input(\"Enter a sentence: \")\n",
    "word_count = count_words(user_input)\n",
    "print(f\"The sentence contains {word_count} words.\")"
   ]
  },
  {
   "cell_type": "markdown",
   "id": "11282f6b",
   "metadata": {},
   "source": [
    "20.Write a Python program to find the sum of all odd numbers from 1 to 50 using a for loop.\n"
   ]
  },
  {
   "cell_type": "code",
   "execution_count": 54,
   "id": "cb51a201",
   "metadata": {},
   "outputs": [
    {
     "name": "stdout",
     "output_type": "stream",
     "text": [
      "Sum of odd numbers from 1 to 50 : 625\n"
     ]
    }
   ],
   "source": [
    "sum_of_odd_numbers = 0\n",
    "for num in range(1,50):\n",
    "    if num % 2 !=0 :\n",
    "        sum_of_odd_numbers += num\n",
    "print(\"Sum of odd numbers from 1 to 50 :\", sum_of_odd_numbers)"
   ]
  },
  {
   "cell_type": "markdown",
   "id": "f32a71c8",
   "metadata": {},
   "source": [
    "21.Write a Python program that checks if a given year is a leap year using a for loop.\n"
   ]
  },
  {
   "cell_type": "code",
   "execution_count": 58,
   "id": "ce63cef0",
   "metadata": {},
   "outputs": [
    {
     "name": "stdout",
     "output_type": "stream",
     "text": [
      "Enter a year: 654\n",
      "654 id s not a leap year.\n"
     ]
    }
   ],
   "source": [
    "year = int(input(\"Enter a year: \"))\n",
    "if(year %4 == 0 and year % 100 != 0) or (year % 400 ==0):\n",
    "    print(f\"{year} is a leap year.\")\n",
    "else:\n",
    "    print(f\"{year} id s not a leap year.\")"
   ]
  },
  {
   "cell_type": "markdown",
   "id": "74fd1e80",
   "metadata": {},
   "source": [
    "22.Create a Python program that calculates the square root of a number using a for loop.\n"
   ]
  },
  {
   "cell_type": "code",
   "execution_count": 62,
   "id": "ca3d1203",
   "metadata": {},
   "outputs": [
    {
     "name": "stdout",
     "output_type": "stream",
     "text": [
      "Enter a number25\n",
      "The number of 25 is 5.0\n"
     ]
    }
   ],
   "source": [
    "number = int(input(\"Enter a number\"))\n",
    "sqrt = number ** 0.5\n",
    "print(f\"The number of {number} is {sqrt}\")"
   ]
  },
  {
   "cell_type": "markdown",
   "id": "645b0db8",
   "metadata": {},
   "source": [
    "23.Write a Python program to find the LCM (Least Common Multiple) of two numbers using a for loop.\n"
   ]
  },
  {
   "cell_type": "code",
   "execution_count": 64,
   "id": "3a5d22c1",
   "metadata": {},
   "outputs": [
    {
     "name": "stdout",
     "output_type": "stream",
     "text": [
      "Enter the first number: 2\n",
      "Enter the second number: 2\n",
      "The LCM of 2 and 2 is 2\n"
     ]
    }
   ],
   "source": [
    "def find_gcd(a,b):\n",
    "    while b:\n",
    "        a,b =b,a % b\n",
    "    return a\n",
    "def find_lcm(a, b):\n",
    "    gcd =find_gcd(a,b)\n",
    "    lcm = (a*b) // gcd\n",
    "    return lcm\n",
    "number1= int(input(\"Enter the first number: \"))\n",
    "number2= int(input(\"Enter the second number: \"))\n",
    "lcm= find_lcm(number1, number2)\n",
    "print(f\"The LCM of {number1} and {number2} is {lcm}\")\n",
    "                   "
   ]
  },
  {
   "cell_type": "markdown",
   "id": "f9029fca",
   "metadata": {},
   "source": [
    "# if ELSE"
   ]
  },
  {
   "cell_type": "markdown",
   "id": "e6ad771e",
   "metadata": {},
   "source": [
    "\n",
    "1.Write a Python program to check if a number is positive, negative, or zero using an if-else statement.\n"
   ]
  },
  {
   "cell_type": "code",
   "execution_count": 19,
   "id": "b227823c",
   "metadata": {},
   "outputs": [
    {
     "name": "stdout",
     "output_type": "stream",
     "text": [
      "Enter a number0\n",
      "This number is Zero\n"
     ]
    }
   ],
   "source": [
    "number = int(input(\"Enter a number\"))\n",
    "if (number >0):\n",
    "    print(\"This number is positive\")\n",
    "elif(number ==0):\n",
    "    print(\"This number is Zero\")\n",
    "else :\n",
    "    print(\"This number is negative\")"
   ]
  },
  {
   "cell_type": "markdown",
   "id": "4a9a23ee",
   "metadata": {},
   "source": [
    "2.Create a Python program that checks if a given number is even or odd using an if-else statement.\n"
   ]
  },
  {
   "cell_type": "code",
   "execution_count": 22,
   "id": "ac02d693",
   "metadata": {},
   "outputs": [
    {
     "name": "stdout",
     "output_type": "stream",
     "text": [
      "Enter a number0\n",
      "Number is even\n"
     ]
    }
   ],
   "source": [
    "number = int(input(\"Enter a number\"))\n",
    "if (number % 2 == 0):\n",
    "    print(\"Number is even\")\n",
    "else:\n",
    "    print(\"Number is odd\")"
   ]
  },
  {
   "cell_type": "markdown",
   "id": "343ff793",
   "metadata": {},
   "source": [
    "3.How can you use nested if-else statements in Python, and provide an example?"
   ]
  },
  {
   "cell_type": "raw",
   "id": "6f80059a",
   "metadata": {},
   "source": [
    "#In python we can use nested if-eles statements to create multiple levels of condition checks . \n",
    "if condition1:\n",
    "    statement if condition true\n",
    "    if condition2:\n",
    "         statement if condition true\n",
    "    else:\n",
    "         statement if condition false\n",
    "         \n",
    "else:\n",
    "     statement if condition false\n",
    "    \n",
    "        \n",
    "        "
   ]
  },
  {
   "cell_type": "code",
   "execution_count": 2,
   "id": "89db2d90",
   "metadata": {},
   "outputs": [
    {
     "name": "stdout",
     "output_type": "stream",
     "text": [
      "you are eligible for applied this course\n"
     ]
    }
   ],
   "source": [
    "grade= 60\n",
    "eligible_age =18\n",
    "if  eligible_age>=18:\n",
    "    if grade >=60 :\n",
    "        print(\"you are eligible for applied this course\")\n",
    "    else:\n",
    "        print(\"you are not eligible for applied this course\")\n",
    "else:\n",
    "    print(\"you are not eligible for applied this course\")\n",
    "        \n",
    "    \n",
    " "
   ]
  },
  {
   "cell_type": "markdown",
   "id": "cde89261",
   "metadata": {},
   "source": [
    "5.Write a Python program to determine the largest of three numbers using if-else."
   ]
  },
  {
   "cell_type": "code",
   "execution_count": 5,
   "id": "52457aaa",
   "metadata": {},
   "outputs": [
    {
     "name": "stdout",
     "output_type": "stream",
     "text": [
      "Enter the first number:3\n",
      "Enter the second number:3\n",
      "Enter the third number:3\n",
      "The largest number is: 3.0\n"
     ]
    }
   ],
   "source": [
    "num1= float(input(\"Enter the first number:\"))\n",
    "num2= float(input(\"Enter the second number:\"))\n",
    "num3= float(input(\"Enter the third number:\"))\n",
    "\n",
    "if num1>=num2 and num1>=num3:\n",
    "    largest =num1\n",
    "elif num2>=num1 and num2>=num3:\n",
    "        largest =num2\n",
    "else:\n",
    "    largest =num3\n",
    "    \n",
    "print(\"The largest number is:\",largest)\n",
    "        "
   ]
  },
  {
   "cell_type": "markdown",
   "id": "ed5e9e0d",
   "metadata": {},
   "source": [
    "6.Write a Python program that calculates the absolute value of a number using if-else."
   ]
  },
  {
   "cell_type": "code",
   "execution_count": 8,
   "id": "7739d14f",
   "metadata": {},
   "outputs": [
    {
     "name": "stdout",
     "output_type": "stream",
     "text": [
      "Enter a number:33E\n",
      "Invalid input.Please enter a valid number.\n"
     ]
    }
   ],
   "source": [
    "try:\n",
    "    number=float(input(\"Enter a number:\"))\n",
    "    if number >= 0:\n",
    "        absolute_value = number\n",
    "    else:\n",
    "        absolute_value =-number\n",
    " \n",
    "    print(\"The absolute value of the number is:\",absolute_value)\n",
    "    \n",
    "except ValueError:\n",
    "    print(\"Invalid input.Please enter a valid number.\")\n",
    "\n",
    "    "
   ]
  },
  {
   "cell_type": "code",
   "execution_count": null,
   "id": "75d05de2",
   "metadata": {},
   "outputs": [],
   "source": [
    "Write a Python program to determine the day of the week based on a user-provided number using if-else.\n",
    "Create a Python program that checks if a given year is a leap year using both if-else and a function.\n"
   ]
  },
  {
   "cell_type": "markdown",
   "id": "be9c0d05",
   "metadata": {},
   "source": [
    "7.Write a Python program to determine if a user is eligible to vote based on their age using if-else.\n"
   ]
  },
  {
   "cell_type": "code",
   "execution_count": 13,
   "id": "3fae0118",
   "metadata": {},
   "outputs": [
    {
     "name": "stdout",
     "output_type": "stream",
     "text": [
      "Enter your age:@\n",
      "Invalid input.Please enter valid age\n"
     ]
    }
   ],
   "source": [
    "try:\n",
    "    age = int(input(\"Enter your age:\"))\n",
    "    if age>=18:\n",
    "        print(\"You are eligible for vote.\")\n",
    "    else:\n",
    "        print(\"you are not eligible for vote. you are less\",18-age,\"years\")\n",
    "      \n",
    "except ValueError:\n",
    "    print(\"Invalid input.Please enter valid age\")"
   ]
  },
  {
   "cell_type": "markdown",
   "id": "59d3791c",
   "metadata": {},
   "source": [
    "8.Create a Python program that calculates the discount amount based on the purchase amount using if-else.\n"
   ]
  },
  {
   "cell_type": "code",
   "execution_count": 27,
   "id": "1b254cc7",
   "metadata": {},
   "outputs": [
    {
     "name": "stdout",
     "output_type": "stream",
     "text": [
      "Enter the purchase amount : $tre\n",
      "Invalid input.Please enter valid amount\n"
     ]
    }
   ],
   "source": [
    "try:\n",
    "    purchase_amount = float(input(\"Enter the purchase amount : $\"))\n",
    "    discount_1 = 3000\n",
    "    discount_2 = 5000\n",
    "\n",
    "    discount_percentage_1 =5\n",
    "    discount_percentage_2 =10\n",
    "\n",
    "    discount =0\n",
    "\n",
    "    if purchase_amount >= discount_2:\n",
    "        discount = purchase_amount * (discount_percentage_2/100)\n",
    "    elif purchase_amount >= discount_1:\n",
    "        discount = purchase_amount * (discount_percentage_1/100)\n",
    "    \n",
    "     \n",
    "    print(f\"Discount amount :$ {discount: .2f}\")\n",
    "\n",
    "    final_amount = purchase_amount - discount \n",
    "    print(f\"Final amount after discount : ${final_amount:.2f}\")\n",
    "    \n",
    "except ValueError:\n",
    "    print(\"Invalid input.Please enter valid amount\")"
   ]
  },
  {
   "cell_type": "markdown",
   "id": "cce0b140",
   "metadata": {},
   "source": [
    "9.Write a Python program to check if a number is within a specified range using if-else.\n"
   ]
  },
  {
   "cell_type": "code",
   "execution_count": 35,
   "id": "7b826363",
   "metadata": {},
   "outputs": [
    {
     "name": "stdout",
     "output_type": "stream",
     "text": [
      "Enter a number:43\n",
      "43.0 is within the range [1, 50]\n"
     ]
    }
   ],
   "source": [
    "number = float(input(\"Enter a number:\"))\n",
    "\n",
    "lower_limit = 1\n",
    "upper_limit = 50\n",
    "\n",
    "if number >= lower_limit and number <= upper_limit:\n",
    "    print(f\"{number} is within the range [{lower_limit}, {upper_limit}]\")\n",
    " \n",
    "else:\n",
    "    print(f\"{number} is not within the range [{lower_limit}, {upper_limit}]\")\n",
    "    "
   ]
  },
  {
   "cell_type": "markdown",
   "id": "5460d7d9",
   "metadata": {},
   "source": [
    "10.Create a Python program that determines the grade of a student based on their score using if-else.\n"
   ]
  },
  {
   "cell_type": "code",
   "execution_count": 48,
   "id": "dfe86ae6",
   "metadata": {},
   "outputs": [
    {
     "name": "stdout",
     "output_type": "stream",
     "text": [
      "Enter yours marks:900\n",
      "Invalid score\n",
      "you enter 900.0\n"
     ]
    }
   ],
   "source": [
    "score = float(input(\"Enter yours marks:\"))\n",
    "if score >=101:\n",
    "    print(\"Invalid score\")    \n",
    "    print(\"you enter\",score)\n",
    "elif score >=90:\n",
    "    print(\"you score A+ grade\")\n",
    "elif score>=80:\n",
    "    print(\"you score A grade\")\n",
    "elif score>=70:\n",
    "    print(\"you score B+ grade\")\n",
    "elif score >=60:\n",
    "    print(\"you score B grade\")\n",
    "elif score >=50 :\n",
    "    print(\"you score c grade\")\n",
    "else:\n",
    "    print(\"you are fail\")\n"
   ]
  },
  {
   "cell_type": "markdown",
   "id": "1150cfb7",
   "metadata": {},
   "source": [
    "11.Write a Python program to check if a string is empty or not using if-else.\n"
   ]
  },
  {
   "cell_type": "code",
   "execution_count": 1,
   "id": "6a49c50a",
   "metadata": {},
   "outputs": [
    {
     "name": "stdout",
     "output_type": "stream",
     "text": [
      "Enter a string: bn\n",
      "The string is not empty.\n"
     ]
    }
   ],
   "source": [
    "user_input =input(\"Enter a string: \")\n",
    "if user_input:\n",
    "    print(\"The string is not empty.\")\n",
    "else:\n",
    "    print(\"The string is empty.\")"
   ]
  },
  {
   "cell_type": "markdown",
   "id": "567fdc45",
   "metadata": {},
   "source": [
    "12.Create a Python program that identifies the type of a triangle (e.g., equilateral, isosceles, or scalene) based on input values using if-else."
   ]
  },
  {
   "cell_type": "code",
   "execution_count": 8,
   "id": "27dc2768",
   "metadata": {},
   "outputs": [
    {
     "name": "stdout",
     "output_type": "stream",
     "text": [
      "Enter the lenght of first side: sad\n",
      "Invalid input.Please enter valid amount\n"
     ]
    }
   ],
   "source": [
    "try:\n",
    "    side1= float(input(\"Enter the lenght of first side: \"))\n",
    "    side2= float(input(\"Enter the lenght of second side: \"))\n",
    "    side3= float(input(\"Enter the lenght of third side: \"))\n",
    "\n",
    "    if side1== side2 == side3 :\n",
    "        triangle_type = \"equilateral\"\n",
    "    if side1 == side2 or side1 ==side3 or side2== side3:\n",
    "        triangle_type = \"isosceles\"\n",
    "    if side1 != side2 != side3 :\n",
    "        triangle_type = \"scalene\"\n",
    "    \n",
    "    print(f\"The triangle with sides {side1}, {side2}, {side3} is a {triangle_type}\")  \n",
    "   \n",
    "except ValueError:\n",
    "    print(\"Invalid input.Please enter valid amount\")"
   ]
  },
  {
   "cell_type": "markdown",
   "id": "2b767e3a",
   "metadata": {},
   "source": [
    "13.Write a Python program to determine the day of the week based on a user-provided number using if-else.\n"
   ]
  },
  {
   "cell_type": "code",
   "execution_count": 21,
   "id": "cca3485d",
   "metadata": {},
   "outputs": [
    {
     "name": "stdout",
     "output_type": "stream",
     "text": [
      "Enter a number (1-7) to determine the day of the week:99\n",
      "Day 99 corresponds to Invalid day number.\n"
     ]
    }
   ],
   "source": [
    "day_number =int(input(\"Enter a number (1-7) to determine the day of the week:\"))\n",
    "if day_number == 1:\n",
    "        day_name = \"Monday\"\n",
    "elif day_number == 2:\n",
    "        day_name = \"Tuesday\"\n",
    "elif day_number == 3:\n",
    "        day_name = \"Wednesday\"        \n",
    "elif day_number == 4:\n",
    "        day_name = \"Thursday\"\n",
    "elif day_number == 5:\n",
    "        day_name = \"Friday\"\n",
    "elif day_number == 6:\n",
    "        day_name = \"Saturday\"\n",
    "        \n",
    "elif day_number == 7:\n",
    "        day_name = \"Sunday\"\n",
    "else:\n",
    "    day_name= \"Invalid day number\"\n",
    "    \n",
    "print(f\"Day {day_number} corresponds to {day_name}.\")    \n",
    "        "
   ]
  },
  {
   "cell_type": "markdown",
   "id": "3584bd98",
   "metadata": {},
   "source": [
    "14.Create a Python program that checks if a given year is a leap year using both if-else and a function."
   ]
  },
  {
   "cell_type": "code",
   "execution_count": 2,
   "id": "c37464f3",
   "metadata": {},
   "outputs": [
    {
     "name": "stdout",
     "output_type": "stream",
     "text": [
      "Enter a year: 400\n",
      "400 is leap year.\n"
     ]
    }
   ],
   "source": [
    "user_year =int(input(\"Enter a year: \"))\n",
    "\n",
    "if (user_year % 4 == 0 and user_year % 100 !=0 ) or (user_year % 400 == 0):\n",
    "    print(f\"{user_year} is leap year.\")\n",
    "else :\n",
    "    print(f\"{user_year} is not a leap year.\")"
   ]
  },
  {
   "cell_type": "code",
   "execution_count": 7,
   "id": "1a3a30e2",
   "metadata": {},
   "outputs": [
    {
     "name": "stdout",
     "output_type": "stream",
     "text": [
      "Enter a year 87654\n",
      "87654 is not a leap year.\n"
     ]
    }
   ],
   "source": [
    "def is_leap_year(user_year):\n",
    "    if (user_year % 4 == 0 and user_year % 100 !=0 ) or (user_year % 400 == 0):\n",
    "        return True\n",
    "    else:\n",
    "        return False\n",
    "user_year = int(input(\"Enter a year \"))\n",
    "if is_leap_year(user_year):\n",
    "    print(f\"{user_year} is leap year.\")\n",
    "else :\n",
    "    print(f\"{user_year} is not a leap year.\")"
   ]
  },
  {
   "cell_type": "markdown",
   "id": "82d03645",
   "metadata": {},
   "source": [
    "15.\n",
    "How do you use the \"assert\" statement in Python to add debugging checks within if-else blocks?"
   ]
  },
  {
   "cell_type": "markdown",
   "id": "80261044",
   "metadata": {},
   "source": [
    "In Python, the 'assert' statement is used to add debugging checks within if-else blocks that certain conditions are met.if the condition provided to 'assert' is 'False', it raises an 'AssertionError' eception, indicatong that something unexpected has occurred.\n",
    "\n",
    "assert condition,message"
   ]
  },
  {
   "cell_type": "code",
   "execution_count": 18,
   "id": "7d9d4bab",
   "metadata": {},
   "outputs": [
    {
     "name": "stdout",
     "output_type": "stream",
     "text": [
      "Enter first number iuytr\n",
      "Invalid input.Please enter valid number\n"
     ]
    }
   ],
   "source": [
    "try:\n",
    "    x= float(input(\"Enter first number \"))\n",
    "    y= float(input(\"Enter second number \"))\n",
    "\n",
    "    if x>y:\n",
    "        print(\"x is greater than y.\")\n",
    "    else:\n",
    "        assert x <= y, \"x should not be less than or equal to y\"\n",
    "        print(\"This line should not be reached if x <= y.\")\n",
    "   \n",
    "except ValueError:\n",
    "    print(\"Invalid input.Please enter valid number\")        "
   ]
  },
  {
   "cell_type": "markdown",
   "id": "eec7af94",
   "metadata": {},
   "source": [
    "16.Create a Python program that determines the eligibility of a person for a senior citizen discount based on age using if-else.\n"
   ]
  },
  {
   "cell_type": "code",
   "execution_count": 23,
   "id": "a9b2a67f",
   "metadata": {},
   "outputs": [
    {
     "name": "stdout",
     "output_type": "stream",
     "text": [
      "Enter your age dfgg\n",
      "Invalid input.Please enter valid amount\n"
     ]
    }
   ],
   "source": [
    "try:\n",
    "    age= int(input(\"Enter your age \"))\n",
    "\n",
    "    age_discount1 = 80\n",
    "    age_discount2 = 70\n",
    "    age_discount3 = 60\n",
    "    discount_per1 = 15\n",
    "    discount_per2 = 10\n",
    "    discount_per3 = 5\n",
    "    if age >= 100:\n",
    "        print(\"No person exits above 100.\")\n",
    "    else:    \n",
    "        if age >= age_discount1:\n",
    "            discount = discount_per1\n",
    "        elif age >= age_discount2:\n",
    "            discount = discount_per2\n",
    "        elif age >= age_discount3:\n",
    "            discount = discount_per3\n",
    "        else:\n",
    "            discount = \"you are not eligible for this offer\"\n",
    "        print(f\"Congratulations! You are eligible for a senior citizen discount .you have  discount  earn {discount} %  on  whole puchases.\")\n",
    "      \n",
    "except ValueError:\n",
    "    print(\"Invalid input.Please enter valid amount\")     \n",
    "        "
   ]
  },
  {
   "cell_type": "markdown",
   "id": "b08d11f6",
   "metadata": {},
   "source": [
    "17.Write a Python program to categorize a given character as uppercase, lowercase, or neither using if-else."
   ]
  },
  {
   "cell_type": "code",
   "execution_count": 25,
   "id": "b794b306",
   "metadata": {},
   "outputs": [
    {
     "name": "stdout",
     "output_type": "stream",
     "text": [
      "Enter a character:iuytfr\n",
      "iuytfr is a lowercase charcater.\n"
     ]
    }
   ],
   "source": [
    "char = input(\"Enter a character:\")\n",
    "if char.isupper():\n",
    "    print(f\"{char} is an uppercase character.\")\n",
    "if char.islower():\n",
    "    print(f\"{char} is a lowercase charcater.\")\n",
    "if not char.isupper() and not char.islower():\n",
    "    print(f\"{char} is neither uppercase nor lowercase.\")"
   ]
  },
  {
   "cell_type": "markdown",
   "id": "dd6e8498",
   "metadata": {},
   "source": [
    "18.Write a Python program to determine the roots of a quadratic equation using if-else.\n"
   ]
  },
  {
   "cell_type": "code",
   "execution_count": 1,
   "id": "e4bb8469",
   "metadata": {},
   "outputs": [
    {
     "name": "stdout",
     "output_type": "stream",
     "text": [
      "Enter the coefficient 'a': 4\n",
      "Enter the coefficient 'b': 4\n",
      "Enter the coefficient 'c': 4\n",
      "The equation has two complex roots: -0.5 + -0.00-0.87ji and -0.5 - -0.00-0.87ji\n"
     ]
    }
   ],
   "source": [
    "a= float(input(\"Enter the coefficient 'a': \"))\n",
    "b= float(input(\"Enter the coefficient 'b': \"))\n",
    "c= float(input(\"Enter the coefficient 'c': \"))\n",
    "\n",
    "discriminant = b**2 - 4*a*c\n",
    "\n",
    "if discriminant > 0:\n",
    "    root1 =(-b +(discriminant ** 0.5)) /(2* a)\n",
    "    root2 =(-b -(discriminant ** 0.5)) /(2* a)\n",
    "    print(f\"The equation has two real and distinct roots :{root1} and {root2}\")\n",
    "elif discriminant == 0:\n",
    "    root = -b / (2*a)\n",
    "    print(f\"The equation has one real root(repeated) :{root}\")\n",
    "else:\n",
    "    real_part = -b /(2 * a)\n",
    "    imaginary_part = (-discriminant ** 0.5) / (2 * a)\n",
    "    print(f\"The equation has two complex roots: {real_part} + {imaginary_part : .2f}i and {real_part} - {imaginary_part : .2f}i\")\n",
    "    "
   ]
  },
  {
   "cell_type": "markdown",
   "id": "e4a65fa0",
   "metadata": {},
   "source": [
    "19.Create a Python program that checks if a given year is a century year or not using if-else.\n"
   ]
  },
  {
   "cell_type": "code",
   "execution_count": 2,
   "id": "828d2acf",
   "metadata": {},
   "outputs": [
    {
     "name": "stdout",
     "output_type": "stream",
     "text": [
      "Enter a year: 400\n",
      "400 is a century year.\n"
     ]
    }
   ],
   "source": [
    "year = int(input(\"Enter a year: \"))\n",
    "\n",
    "if year % 100 == 0:\n",
    "    print(f\"{year} is a century year.\")\n",
    "else:\n",
    "    print(f\"{year} is not a century year.\")"
   ]
  },
  {
   "cell_type": "markdown",
   "id": "20670eca",
   "metadata": {},
   "source": [
    "20.Write a Python program to determine if a given number is a perfect square using if-else"
   ]
  },
  {
   "cell_type": "code",
   "execution_count": 3,
   "id": "c5ad3de5",
   "metadata": {},
   "outputs": [
    {
     "name": "stdout",
     "output_type": "stream",
     "text": [
      "Enter a number: 144\n",
      "144 is a perfect square.\n"
     ]
    }
   ],
   "source": [
    "import math\n",
    "number = int(input(\"Enter a number: \"))\n",
    "\n",
    "sqrt =math.isqrt(number)\n",
    "\n",
    "if sqrt * sqrt == number:\n",
    "    print(f\"{number} is a perfect square.\")\n",
    "else:\n",
    "    print(f\"{number} is not a perfect square.\")\n"
   ]
  },
  {
   "cell_type": "markdown",
   "id": "69427b42",
   "metadata": {},
   "source": [
    "21.Explain the purpose of the \"continue\" and \"break\" statements within if-else loops."
   ]
  },
  {
   "cell_type": "markdown",
   "id": "35fa49f6",
   "metadata": {},
   "source": [
    "The \"continue\" and \"break\" statements are control flow statements used within loops (\"for\" and \"while\" loops) to modify the flow of the program.\n",
    "\n",
    "The \"break\" statements is used to exit a loop / terminating the loop's execution. it's commonly used to stop a  loop when a specific condition is met. Once the \"break statment is encountered, the loop is immediately exited, and the program continues with the next statement after the loop\""
   ]
  },
  {
   "cell_type": "code",
   "execution_count": 4,
   "id": "3f066c2b",
   "metadata": {},
   "outputs": [
    {
     "name": "stdout",
     "output_type": "stream",
     "text": [
      "0\n",
      "1\n",
      "2\n",
      "3\n",
      "4\n"
     ]
    }
   ],
   "source": [
    "for i in range(10):\n",
    "    if i == 5:\n",
    "        break\n",
    "    print(i)    \n",
    "        "
   ]
  },
  {
   "cell_type": "markdown",
   "id": "ec424724",
   "metadata": {},
   "source": [
    "The \"continue\" statement is used to skip the current iteration of a loop and continue with the next iteration\n",
    "It is used when you want to skip some specific iteration within a loop based on a condition without exiting the entire loop"
   ]
  },
  {
   "cell_type": "code",
   "execution_count": 5,
   "id": "91d3b7cb",
   "metadata": {},
   "outputs": [
    {
     "name": "stdout",
     "output_type": "stream",
     "text": [
      "1\n",
      "3\n",
      "5\n",
      "7\n",
      "9\n"
     ]
    }
   ],
   "source": [
    "for i in range(10):\n",
    "    if i % 2 == 0:\n",
    "        continue\n",
    "    print(i)    "
   ]
  },
  {
   "cell_type": "markdown",
   "id": "54aacaf2",
   "metadata": {},
   "source": [
    "22.Create a Python program that calculates the BMI (Body Mass Index) of a person based on their weight and height using if-else."
   ]
  },
  {
   "cell_type": "code",
   "execution_count": 14,
   "id": "fa270bc4",
   "metadata": {},
   "outputs": [
    {
     "name": "stdout",
     "output_type": "stream",
     "text": [
      "Enter your weight in kilogram: 66\n",
      "Enter your height in centimeter: 185\n",
      " Your BMI is 19.28, which falls into the category of Normal Weight.\n"
     ]
    }
   ],
   "source": [
    "weight = float(input(\"Enter your weight in kilogram: \"))\n",
    "height = float(input(\"Enter your height in centimeter: \"))\n",
    "bmi = weight /((height/100) **2)\n",
    "\n",
    "if bmi < 15.9:\n",
    "    category = \"Serve Thinness\"\n",
    "elif 16 <= bmi < 16.9:\n",
    "    category = \"Moderate Thinness\"\n",
    "elif 17 <= bmi < 18.4:\n",
    "    category = \"Mild Thinness\"    \n",
    "elif 18.5 <= bmi < 24.9:\n",
    "    category = \"Normal Weight\"\n",
    "elif 25.0 <= bmi < 29.9:\n",
    "    category = \"Overweight\"\n",
    "else:\n",
    "    category = \"Obese\"\n",
    "    \n",
    "print(f\" Your BMI is {bmi:.2f}, which falls into the category of {category}.\")    \n",
    "    "
   ]
  },
  {
   "cell_type": "markdown",
   "id": "457f5f48",
   "metadata": {},
   "source": [
    "23.How can you use the \"filter()\" function with if-else statements to filter elements from a list?"
   ]
  },
  {
   "cell_type": "markdown",
   "id": "772ef7b0",
   "metadata": {},
   "source": [
    "The 'filter function is typlically used with a function that returns a boolean value to filter elements from an  iterable like a list."
   ]
  },
  {
   "cell_type": "code",
   "execution_count": 15,
   "id": "de931aea",
   "metadata": {},
   "outputs": [
    {
     "name": "stdout",
     "output_type": "stream",
     "text": [
      "[2, 4, 12, 8, 876, 54, 44]\n"
     ]
    }
   ],
   "source": [
    "def filter_function(element):\n",
    "    if element % 2 == 0:\n",
    "        return True\n",
    "    else:\n",
    "        return False\n",
    "numbers =[1,2,3,4,12,7,8,55,876,54,33,9,7,55,44,43] \n",
    "filtered_numbers = filter(filter_function, numbers)\n",
    "filtered_numbers_list = list(filtered_numbers)\n",
    "print(filtered_numbers_list)"
   ]
  },
  {
   "cell_type": "markdown",
   "id": "52da278c",
   "metadata": {},
   "source": [
    "24.Write a Python program to determine if a given number is prime or not using if-else."
   ]
  },
  {
   "cell_type": "code",
   "execution_count": 17,
   "id": "eca965ac",
   "metadata": {},
   "outputs": [
    {
     "name": "stdout",
     "output_type": "stream",
     "text": [
      "Enter a number: 87654\n",
      "87654 is not a prime number.\n"
     ]
    }
   ],
   "source": [
    "number = int(input(\"Enter a number: \"))\n",
    "if number >2:\n",
    "        is_prime = False\n",
    "else:\n",
    "    is_primr = True\n",
    "    for i in range (2, int(number/2) +1):\n",
    "        if number % i == 0:\n",
    "            is_prime = False\n",
    "            break\n",
    "if is_prime:\n",
    "    print(f\"{number} is a prime number.\")\n",
    "else:\n",
    "    print(f\"{number} is not a prime number.\")\n",
    "            \n",
    "            \n",
    "            \n",
    "    "
   ]
  },
  {
   "cell_type": "markdown",
   "id": "acff547b",
   "metadata": {},
   "source": [
    "# Map"
   ]
  },
  {
   "cell_type": "markdown",
   "id": "c4d722e0",
   "metadata": {},
   "source": [
    "1.Explain the purpose of the `map()` function in Python and provide an example of how it can be used to apply a function to each element of an iterable."
   ]
  },
  {
   "cell_type": "markdown",
   "id": "b7085a04",
   "metadata": {},
   "source": [
    "The 'map()' functon in python is used to apply a given function to each element of an iterable and returns an iterator that yields the results.\n",
    " The primary purpose of map() is to transform data efficiently by avoiding the need for explicit loops.\n",
    "    \n",
    "     map(function,iterable,. . . .)\n",
    "\n",
    "function :- The functon to be applied to each element in the iterable.\n",
    "    \n",
    "iterable:-The sequence whose elements will be processed by the function."
   ]
  },
  {
   "cell_type": "code",
   "execution_count": 69,
   "id": "df95141d",
   "metadata": {},
   "outputs": [
    {
     "name": "stdout",
     "output_type": "stream",
     "text": [
      "[2, 4, 6, 8, 10]\n"
     ]
    }
   ],
   "source": [
    "def double(x):\n",
    "    return x*2\n",
    "\n",
    "number = [1, 2, 3, 4, 5]\n",
    "doubled_numbers = map(double, number)\n",
    "doubled_numbers_list = list(doubled_numbers)\n",
    "print(doubled_numbers_list)"
   ]
  },
  {
   "cell_type": "markdown",
   "id": "240fd017",
   "metadata": {},
   "source": [
    "2.Write a Python program that uses the `map()` function to square each element of a list of numbers.\n"
   ]
  },
  {
   "cell_type": "code",
   "execution_count": 70,
   "id": "31229532",
   "metadata": {},
   "outputs": [
    {
     "name": "stdout",
     "output_type": "stream",
     "text": [
      "[1, 4, 9, 16, 25, 36, 49]\n"
     ]
    }
   ],
   "source": [
    "def square(x):\n",
    "    return x**2\n",
    "\n",
    "numbers = [1,2,3,4,5,6,7]\n",
    "square_numbers = map(square, numbers)\n",
    "square_numbers_list = list(square_numbers)\n",
    "print(square_numbers_list)\n",
    "    \n",
    "    "
   ]
  },
  {
   "cell_type": "markdown",
   "id": "e412876a",
   "metadata": {},
   "source": [
    "3.How does the `map()` function differ from a list comprehension in Python, and when would you choose one over the other?"
   ]
  },
  {
   "cell_type": "markdown",
   "id": "6ec06f88",
   "metadata": {},
   "source": [
    "The `map()` function and list comprehensions in Python are both used to transform data in iterables, but they have some key differences, and the choice between them depends on your specific use case and coding style:\n",
    "\n",
    "1. Usage:\n",
    "   - `map()` is a higher-order function that takes a function and an iterable and returns a map object. You typically need to convert the map object into a list or another data structure to see the results.\n",
    "   - List comprehensions are a concise and readable way to create lists by applying an expression to each item in an iterable. They directly return a list.\n",
    "\n",
    "2. Readability:\n",
    "   - List comprehensions are often considered more readable and Pythonic, as they clearly express the transformation or filtering operation in a single line.\n",
    "   - `map()` can be less intuitive, especially when combined with `lambda` functions, which may make the code less readable.\n",
    "\n",
    "3. Functional Programming:\n",
    "   - `map()` is part of Python's functional programming toolset and can be useful when working with functional programming concepts, such as applying a function to each element in a sequence.\n",
    "   - List comprehensions are a more general-purpose and widely used construct for list generation and data manipulation.\n",
    "\n",
    "4. Lambda Functions:\n",
    "   - `map()` is frequently used with `lambda` functions to apply simple operations to the elements in an iterable.\n",
    "   - List comprehensions are not designed for using `lambda` functions directly; they are more suitable for applying expressions.\n",
    "\n",
    "5. Lazy Evaluation:\n",
    "   - `map()` returns a map object, which is an iterator that applies the function to elements lazily. It only computes values as you iterate over them.\n",
    "   - List comprehensions create the entire list in memory immediately.\n",
    "\n",
    "6. Filtering:\n",
    "   - While both `map()` and list comprehensions can be used for transformations, list comprehensions are better suited for filtering elements or applying conditional expressions. You can include an `if` clause in a list comprehension to filter elements based on a condition.\n",
    "   - `map()` is primarily focused on applying a function to every element, and filtering can be achieved with additional functions like `filter()`.\n",
    "\n",
    "I"
   ]
  },
  {
   "cell_type": "markdown",
   "id": "e91847c1",
   "metadata": {},
   "source": [
    "3.Create a Python program that uses the `map()` function to convert a list of names to uppercase.\n"
   ]
  },
  {
   "cell_type": "code",
   "execution_count": 75,
   "id": "3d738431",
   "metadata": {},
   "outputs": [
    {
     "name": "stdout",
     "output_type": "stream",
     "text": [
      "PRINCE\n",
      "SHAINA\n",
      "NIANA\n",
      "MEHIR\n",
      "AAKHYA\n"
     ]
    }
   ],
   "source": [
    "def convert_to_uppercase(name):\n",
    "    return name.upper()\n",
    "\n",
    "names = [\"prince\",\"shaina\",\"Niana\",\"Mehir\",\"Aakhya\"]\n",
    "uppercase_names = list(map(convert_to_uppercase, names))\n",
    "#print(uppercase_names)\n",
    "for name in uppercase_names:\n",
    "    print(name)\n"
   ]
  },
  {
   "cell_type": "markdown",
   "id": "bbbc1926",
   "metadata": {},
   "source": [
    "4.Write a Python program that uses the `map()` function to calculate the length of each word in a list of strings.\n"
   ]
  },
  {
   "cell_type": "code",
   "execution_count": 83,
   "id": "7994dfd6",
   "metadata": {},
   "outputs": [
    {
     "name": "stdout",
     "output_type": "stream",
     "text": [
      "6\n",
      "6\n",
      "5\n",
      "5\n",
      "6\n"
     ]
    }
   ],
   "source": [
    "names = [\"prince\",\"shaina\",\"Niana\",\"Mehir\",\"Aakhya\"]\n",
    "word_lenght = list(map(len, names))\n",
    "for lenght in word_lenght:\n",
    "    print(lenght)"
   ]
  },
  {
   "cell_type": "markdown",
   "id": "25bb38ac",
   "metadata": {},
   "source": [
    "5.How can you use the `map()` function to apply a custom function to elements of multiple lists simultaneously in Python?\n"
   ]
  },
  {
   "cell_type": "code",
   "execution_count": 86,
   "id": "ff7b8060",
   "metadata": {},
   "outputs": [
    {
     "name": "stdout",
     "output_type": "stream",
     "text": [
      "[13, 23, 15, 38, 7, 10, 15]\n"
     ]
    }
   ],
   "source": [
    "def add_elements(a,b):\n",
    "    return a + b\n",
    "list1 =[1,2,3,4,5,6,7]\n",
    "list2 =[12,21,12,34,2,4,8]\n",
    "result  =list(map(add_elements, list1, list2))\n",
    "print(result)"
   ]
  },
  {
   "cell_type": "markdown",
   "id": "425e40bf",
   "metadata": {},
   "source": [
    "6.\n",
    "Create a Python program that uses `map()` to convert a list of temperatures from Celsius to Fahrenheit."
   ]
  },
  {
   "cell_type": "code",
   "execution_count": 91,
   "id": "ff8a076e",
   "metadata": {},
   "outputs": [
    {
     "name": "stdout",
     "output_type": "stream",
     "text": [
      "35.6\n",
      "86.0\n",
      "122.0\n",
      "176.0\n"
     ]
    }
   ],
   "source": [
    "def celsius_to_fahrenheit(celsius):\n",
    "    return (celsius * 9/5) + 32\n",
    "temperature_celsius = [2,30,50,80]\n",
    "temperature_fahrenheit =list(map(celsius_to_fahrenheit, temperature_celcius))\n",
    "for fahrenheit in temperature_fahrenheit:\n",
    "    print(fahrenheit)"
   ]
  },
  {
   "cell_type": "markdown",
   "id": "0f1c4f77",
   "metadata": {},
   "source": [
    "7.Write a Python program that uses the `map()` function to round each element of a list of floating-point numbers to the nearest integer.\n"
   ]
  },
  {
   "cell_type": "code",
   "execution_count": 93,
   "id": "4c22a1a3",
   "metadata": {},
   "outputs": [
    {
     "name": "stdout",
     "output_type": "stream",
     "text": [
      "1\n",
      "4\n",
      "44\n",
      "46\n",
      "78\n",
      "8\n"
     ]
    }
   ],
   "source": [
    "def round_to_nearest_integer(number):\n",
    "    return round(number)\n",
    "\n",
    "float_numbers =[1.2, 4.5,44.5,45.6,77.9,8.2]\n",
    "rounded_integers = list(map(round_to_nearest_integer, float_numbers))\n",
    "for interger in rounded_integers:\n",
    "    print(interger)\n",
    "    \n",
    "    "
   ]
  },
  {
   "cell_type": "markdown",
   "id": "4542c12e",
   "metadata": {},
   "source": [
    "# Reduce"
   ]
  },
  {
   "cell_type": "markdown",
   "id": "8f46761c",
   "metadata": {},
   "source": [
    "1.What is the `reduce()` function in Python, and what module should you import to use it? Provide an example of its basic usage.\n"
   ]
  },
  {
   "cell_type": "markdown",
   "id": "6ae9941e",
   "metadata": {},
   "source": [
    " The 'reduce()' function in python is a part of the 'functools' module ,and it is used for aggregating the elements of an iterable into  a single result.in one word 'reduces' them to a single output.\n",
    " \n",
    " To use the 'reduce()' function ,you need to import it from the 'functools' module"
   ]
  },
  {
   "cell_type": "code",
   "execution_count": 98,
   "id": "d6f5003b",
   "metadata": {},
   "outputs": [
    {
     "name": "stdout",
     "output_type": "stream",
     "text": [
      "Sum of all numbers: 41\n"
     ]
    }
   ],
   "source": [
    "from functools import reduce\n",
    "def addition(x, y):\n",
    "    return x + y\n",
    "\n",
    "numbers =[2,3,4,5,6,7,8,6]\n",
    "result = reduce(addition, numbers)\n",
    "\n",
    "print(\"Sum of all numbers:\", result)"
   ]
  },
  {
   "cell_type": "markdown",
   "id": "b4fed834",
   "metadata": {},
   "source": [
    "2.Write a Python program that uses the `reduce()` function to find the product of all elements in a list.\n"
   ]
  },
  {
   "cell_type": "code",
   "execution_count": 103,
   "id": "2c31baa8",
   "metadata": {},
   "outputs": [
    {
     "name": "stdout",
     "output_type": "stream",
     "text": [
      "product of all numbers : 3360\n"
     ]
    }
   ],
   "source": [
    "from functools import reduce\n",
    "def product(x,y):\n",
    "     return x * y\n",
    "    \n",
    "numbers =[2,3,4,4,5,7]\n",
    "result = reduce(product, numbers)\n",
    "print(\"product of all numbers :\", result)"
   ]
  },
  {
   "cell_type": "markdown",
   "id": "d662318e",
   "metadata": {},
   "source": [
    "3. Create a Python program that uses `reduce()` to find the maximum element in a list of numbers.\n"
   ]
  },
  {
   "cell_type": "code",
   "execution_count": 105,
   "id": "f1c70457",
   "metadata": {},
   "outputs": [
    {
     "name": "stdout",
     "output_type": "stream",
     "text": [
      "Maximum numbers : 55\n"
     ]
    }
   ],
   "source": [
    "from functools import reduce\n",
    "\n",
    "def find_maximum(x, y):\n",
    "    return x if x > y else y\n",
    "\n",
    "numbers = [2,33,44,55,23,12,20]\n",
    "\n",
    "max_numbers = reduce(find_maximum, numbers)\n",
    "print(\"Maximum numbers :\" , max_numbers)"
   ]
  },
  {
   "cell_type": "markdown",
   "id": "a0478285",
   "metadata": {},
   "source": [
    "4.How can you use the `reduce()` function to concatenate a list of strings into a single string?\n"
   ]
  },
  {
   "cell_type": "code",
   "execution_count": 106,
   "id": "e0eb3cd2",
   "metadata": {},
   "outputs": [
    {
     "name": "stdout",
     "output_type": "stream",
     "text": [
      "Concatenated String:  Hii! i am prince kumar\n"
     ]
    }
   ],
   "source": [
    "from functools import reduce\n",
    "def concatenate_strings(a,b):\n",
    "    return a + ' ' + b\n",
    "string_list = [\"Hii!\" ,\"i\",\"am\",\"prince\",\"kumar\"]\n",
    "result = reduce(concatenate_strings, string_list)\n",
    "\n",
    "print(\"Concatenated String: \" ,result)"
   ]
  },
  {
   "cell_type": "markdown",
   "id": "99540c5b",
   "metadata": {},
   "source": [
    "5.Write a Python program that calculates the factorial of a number using the `reduce()` function.\n"
   ]
  },
  {
   "cell_type": "code",
   "execution_count": 108,
   "id": "a124eb21",
   "metadata": {},
   "outputs": [
    {
     "name": "stdout",
     "output_type": "stream",
     "text": [
      "Enter a number to calculate its factorial:5\n",
      "factorial of 5! = 120\n"
     ]
    }
   ],
   "source": [
    "from functools import reduce\n",
    "def multiply(x ,y):\n",
    "    return x * y\n",
    "\n",
    "def factorial(n):\n",
    "    if n == 0:\n",
    "        return 1\n",
    "    else:\n",
    "        return reduce(multiply, range(1, n+1))\n",
    "    \n",
    "number = int(input(\"Enter a number to calculate its factorial:\"))\n",
    "result = factorial(number)\n",
    "print(f\"factorial of {number}! = {result}\")"
   ]
  },
  {
   "cell_type": "markdown",
   "id": "d3f8d6e5",
   "metadata": {},
   "source": [
    "6.Create a Python program that uses `reduce()` to find the GCD (Greatest Common Divisor) of a list of numbers.\n"
   ]
  },
  {
   "cell_type": "code",
   "execution_count": 109,
   "id": "1cd566fd",
   "metadata": {},
   "outputs": [
    {
     "name": "stdout",
     "output_type": "stream",
     "text": [
      "GCD of the numbers : 2\n"
     ]
    }
   ],
   "source": [
    "from functools import reduce\n",
    "import math\n",
    "def find_gcd(x, y):\n",
    "    return math.gcd(x, y)\n",
    "\n",
    "numbers =[12,6,10,24,48]\n",
    "gcd_result = reduce(find_gcd, numbers)\n",
    "\n",
    "print(\"GCD of the numbers :\" ,gcd_result)"
   ]
  },
  {
   "cell_type": "markdown",
   "id": "47581a4d",
   "metadata": {},
   "source": [
    "7.Write a Python program that uses the `reduce()` function to find the sum of the digits of a given number.\n"
   ]
  },
  {
   "cell_type": "code",
   "execution_count": 111,
   "id": "69538ff0",
   "metadata": {},
   "outputs": [
    {
     "name": "stdout",
     "output_type": "stream",
     "text": [
      "Sum of digits is 84\n"
     ]
    }
   ],
   "source": [
    "from functools import reduce\n",
    "def sum_digit(x, y):\n",
    "    return x + y\n",
    "numbers= [22,34,2,12,6,8]\n",
    "sum_result= reduce(sum_digit, numbers)\n",
    "print(\"Sum of digits is\", sum_result)"
   ]
  },
  {
   "cell_type": "markdown",
   "id": "73a0736b",
   "metadata": {},
   "source": [
    "# Filter"
   ]
  },
  {
   "cell_type": "markdown",
   "id": "be45abce",
   "metadata": {},
   "source": [
    "1.Explain the purpose of the `filter()` function in Python and provide an example of how it can be used to filter elements from an iterable.\n"
   ]
  },
  {
   "cell_type": "markdown",
   "id": "7c8a69b3",
   "metadata": {},
   "source": [
    "The 'filter()' function in python is used to filter elements  fromm an iterable (such as a list, tuple or other sequence) based on a given condition or predicate function.\n",
    "it creates a new iterable conatining only the elements that satisfy the specified condition.\n",
    "\n",
    " filter(function, iterable)\n",
    " \n",
    " function :- The condition or predicate function that returns 'True' or 'False' for each element in the iterable\n",
    " \n",
    " Iterable:- The sequence of how the 'filter()' function can be used"
   ]
  },
  {
   "cell_type": "markdown",
   "id": "2c03114c",
   "metadata": {},
   "source": [
    "2.Write a Python program that uses the `filter()` function to select even numbers from a list of integers.\n"
   ]
  },
  {
   "cell_type": "code",
   "execution_count": 120,
   "id": "7ea700ba",
   "metadata": {},
   "outputs": [
    {
     "name": "stdout",
     "output_type": "stream",
     "text": [
      "[2, 4, 6]\n"
     ]
    }
   ],
   "source": [
    "def is_even(x):\n",
    "    return x % 2 == 0\n",
    "\n",
    "numbers = [1,2,3,4,5,6,7]\n",
    "\n",
    "even_numbers = filter(is_even, numbers)\n",
    "even_numbers_list = list(even_numbers)\n",
    "\n",
    "print(even_numbers_list)"
   ]
  },
  {
   "cell_type": "markdown",
   "id": "c34c688a",
   "metadata": {},
   "source": [
    "3.Create a Python program that uses the `filter()` function to select names that start with a specific letter from a list of strings.\n"
   ]
  },
  {
   "cell_type": "code",
   "execution_count": 122,
   "id": "d41366a6",
   "metadata": {},
   "outputs": [
    {
     "name": "stdout",
     "output_type": "stream",
     "text": [
      "Names starting with 'S':\n",
      "Shaina\n"
     ]
    }
   ],
   "source": [
    "def starts_with_letter(name, letter):\n",
    "    return name.startswith(letter)\n",
    "\n",
    "names = [\"prince\",\"Boby\",\"Shaina\",\"Zaki\",\"Mehir\"]\n",
    "filter_letter = \"S\"\n",
    "\n",
    "selected_names = filter(lambda name :starts_with_letter(name, filter_letter), names)\n",
    "\n",
    "selected_names_list = list(selected_names)\n",
    "\n",
    "print(f\"Names starting with '{filter_letter}':\")\n",
    "for name in selected_names_list:\n",
    "    print(name)"
   ]
  },
  {
   "cell_type": "markdown",
   "id": "5224b316",
   "metadata": {},
   "source": [
    "4.Write a Python program that uses the `filter()` function to select prime numbers from a list of integers.\n"
   ]
  },
  {
   "cell_type": "code",
   "execution_count": 123,
   "id": "e4039281",
   "metadata": {},
   "outputs": [
    {
     "name": "stdout",
     "output_type": "stream",
     "text": [
      "Prime numbers: [2, 3, 5, 7]\n"
     ]
    }
   ],
   "source": [
    "def is_prime(number):\n",
    "    if number <=1:\n",
    "        return False\n",
    "    if number <=3:\n",
    "        return True\n",
    "    if number % 2 == 0 or number % 3 == 0:\n",
    "        return False\n",
    "    i = 5\n",
    "    while i * i <= number:\n",
    "        if number % i == 0 or number % (i +2) == 0:\n",
    "            return False\n",
    "        i += 6\n",
    "    return True\n",
    "numbers = [1,2,3,4,5,6,7,8,9,10]\n",
    "prime_numbers = filter(is_prime, numbers)\n",
    "prime_numbers_list = list(prime_numbers)\n",
    "\n",
    "print(\"Prime numbers:\" , prime_numbers_list)"
   ]
  },
  {
   "cell_type": "markdown",
   "id": "d9c6e306",
   "metadata": {},
   "source": [
    "5.How can you use the `filter()` function to remove None values from a list in Python?\n"
   ]
  },
  {
   "cell_type": "code",
   "execution_count": 126,
   "id": "797404be",
   "metadata": {},
   "outputs": [
    {
     "name": "stdout",
     "output_type": "stream",
     "text": [
      "List after removing None values: [1, 3, 5, 6, 9]\n"
     ]
    }
   ],
   "source": [
    "def remove_none(item):\n",
    "    return item is not None\n",
    "data = [1, None, 3, None,5,6,None, 9,None]\n",
    "filtered_data = filter(remove_none, data)\n",
    "\n",
    "filtered_list = list(filtered_data)\n",
    "print(\"List after removing None values:\", filtered_list)"
   ]
  },
  {
   "cell_type": "markdown",
   "id": "02c7ef46",
   "metadata": {},
   "source": [
    "6.Create a Python program that uses `filter()` to select words longer than a certain length from a list of strings.\n"
   ]
  },
  {
   "cell_type": "code",
   "execution_count": 128,
   "id": "644e4320",
   "metadata": {},
   "outputs": [
    {
     "name": "stdout",
     "output_type": "stream",
     "text": [
      "Words longer than 6 characters:\n",
      "Shaina Singh\n",
      "Roshan SIngh\n"
     ]
    }
   ],
   "source": [
    "def is_long_word(word, lenght):\n",
    "    return len(word)> lenght\n",
    "\n",
    "words =[\"Mehir\", \"naina\",\"singh\",\"Gupta\",\"Shaina Singh\",\"Roshan SIngh\"]\n",
    "\n",
    "min_lenght = 6\n",
    "\n",
    "long_words = filter(lambda word: is_long_word(word, min_lenght),words)\n",
    "long_words_list =list(long_words)\n",
    "print(f\"Words longer than {min_lenght} characters:\")\n",
    "for word in long_words_list:\n",
    "    print(word)"
   ]
  },
  {
   "cell_type": "markdown",
   "id": "24efa378",
   "metadata": {},
   "source": [
    "7.Write a Python program that uses the `filter()` function to select elements greater than a specified threshold from a list of values.\n"
   ]
  },
  {
   "cell_type": "code",
   "execution_count": 134,
   "id": "d54a52fd",
   "metadata": {},
   "outputs": [
    {
     "name": "stdout",
     "output_type": "stream",
     "text": [
      "Elements greater than 10:\n",
      "12\n",
      "13\n",
      "14\n",
      "15\n",
      "16\n",
      "13\n"
     ]
    }
   ],
   "source": [
    "def greater_than_threshold(element, threshold):\n",
    "    return element > threshold\n",
    "\n",
    "values =[10,12,13,14,15,16,13,2,4,7,4]\n",
    "\n",
    "threshold= 10\n",
    "filtered_values = filter(lambda element: greater_than_threshold(element, threshold),values)\n",
    "filtered_values_list = list(filtered_values)\n",
    "\n",
    "print(f\"Elements greater than {threshold}:\")\n",
    "for element in filtered_values_list:\n",
    "    print(element)"
   ]
  },
  {
   "cell_type": "markdown",
   "id": "1c3f1455",
   "metadata": {},
   "source": [
    "# Recursion"
   ]
  },
  {
   "cell_type": "markdown",
   "id": "f9eebb3d",
   "metadata": {},
   "source": [
    "1.Explain the concept of recursion in Python. How does it differ from iteration?\n"
   ]
  },
  {
   "cell_type": "markdown",
   "id": "fa6bfe17",
   "metadata": {},
   "source": [
    "Recursion occurs when a statement in a function calls itself repeatedly.\n",
    "Recursion and Iteration both repeatedly execute the set of instructions. Recursion occurs when a statement in a function calls itself repeatedly. The iteration occurs when a loop repeatedly executes until the controlling condition becomes false."
   ]
  },
  {
   "cell_type": "markdown",
   "id": "2e98370d",
   "metadata": {},
   "source": [
    "2.Write a Python program to calculate the factorial of a number using recursion.\n"
   ]
  },
  {
   "cell_type": "code",
   "execution_count": 137,
   "id": "ae5128bf",
   "metadata": {},
   "outputs": [
    {
     "name": "stdout",
     "output_type": "stream",
     "text": [
      "Enter a number to calculate its factorial:4\n",
      "4!= 24\n"
     ]
    }
   ],
   "source": [
    "def factorial(n):\n",
    "    if n == 0:\n",
    "        return 1\n",
    "    else:\n",
    "        return n * factorial(n-1)\n",
    "num = int(input(\"Enter a number to calculate its factorial:\"))\n",
    "\n",
    "if num < 0:\n",
    "    print(\"Factorial is not defined for negative numbers.\")\n",
    "else:\n",
    "    result = factorial(num)\n",
    "    print(f\"{num}!= {result}\")"
   ]
  },
  {
   "cell_type": "markdown",
   "id": "046b1b1b",
   "metadata": {},
   "source": [
    "3. Create a recursive Python function to find the nth Fibonacci number.\n"
   ]
  },
  {
   "cell_type": "code",
   "execution_count": 169,
   "id": "4928eb33",
   "metadata": {},
   "outputs": [
    {
     "name": "stdout",
     "output_type": "stream",
     "text": [
      "Enter the number3\n",
      "The 3th Fibonacci number is: 2\n"
     ]
    }
   ],
   "source": [
    "def fibonacci(n):\n",
    "    if n <= 0:\n",
    "        return 0\n",
    "    elif n ==1:\n",
    "        return 1\n",
    "    else:\n",
    "        return fibonacci(n-1) + fibonacci(n-2)\n",
    "    \n",
    "n = int(input(\"Enter the number\"))\n",
    "if n <0:\n",
    "    print(\"Invalid input. Please enter a non-negative integer.\")\n",
    "else:\n",
    "    result = fibonacci(n)\n",
    "    print(f\"The {n}th Fibonacci number is: {result}\")\n",
    "    "
   ]
  },
  {
   "cell_type": "markdown",
   "id": "a7936c31",
   "metadata": {},
   "source": [
    "4.Write a recursive Python function to calculate the sum of all elements in a list.\n"
   ]
  },
  {
   "cell_type": "code",
   "execution_count": 170,
   "id": "d6ff4cee",
   "metadata": {},
   "outputs": [
    {
     "name": "stdout",
     "output_type": "stream",
     "text": [
      "The sum of the elements in the list is: 55\n"
     ]
    }
   ],
   "source": [
    "def recursive_sum(arr):\n",
    "    if len(arr) == 0:\n",
    "        return 0\n",
    "    else:\n",
    "        return arr[0] + recursive_sum(arr[1:])\n",
    "number = [1,2,3,4,5,6,7]\n",
    "\n",
    "result =recursive_sum(numbers)\n",
    "print(\"The sum of the elements in the list is:\",result)"
   ]
  },
  {
   "cell_type": "markdown",
   "id": "9b6834c0",
   "metadata": {},
   "source": [
    "5.How can you prevent a recursive function from running indefinitely, causing a stack overflow error?\n"
   ]
  },
  {
   "cell_type": "markdown",
   "id": "a2caeb88",
   "metadata": {},
   "source": [
    "\n",
    "Implement a base case: A base case is a condition in which the recursive function will not call itself again. This is important because it ensures that the recursive function will eventually stop and not continue indefinitely, which can lead to stack overflow.\n",
    "\n",
    "Check Inputs for Validity: Before making a recursive call, validate the inputs to ensure they meet the expected criteria. "
   ]
  },
  {
   "cell_type": "markdown",
   "id": "7386873c",
   "metadata": {},
   "source": [
    "6.Create a recursive Python function to find the greatest common divisor (GCD) of two numbers using the Euclidean algorithm.\n"
   ]
  },
  {
   "cell_type": "code",
   "execution_count": 171,
   "id": "03a36d6c",
   "metadata": {},
   "outputs": [
    {
     "name": "stdout",
     "output_type": "stream",
     "text": [
      "Enter the first number: 44\n",
      "Enter the second number: 43\n",
      "The GCD of 44 and 43 is : 1\n"
     ]
    }
   ],
   "source": [
    "def gcd_euclidean(a,b):\n",
    "    if b == 0:\n",
    "        return a\n",
    "    else:\n",
    "        return gcd_euclidean(b, a % b)\n",
    "num1 = int(input(\"Enter the first number: \"))\n",
    "num2 = int(input(\"Enter the second number: \"))\n",
    "\n",
    "result = gcd_euclidean(num1, num2)\n",
    "print(f\"The GCD of {num1} and {num2} is : {result}\")"
   ]
  },
  {
   "cell_type": "markdown",
   "id": "deea1039",
   "metadata": {},
   "source": [
    "7.Write a recursive Python function to reverse a string.\n"
   ]
  },
  {
   "cell_type": "code",
   "execution_count": 172,
   "id": "da06f198",
   "metadata": {},
   "outputs": [
    {
     "name": "stdout",
     "output_type": "stream",
     "text": [
      "Enter a string:hii i am prince kumar\n",
      "Reversed string:  ramuk ecnirp ma i iih\n"
     ]
    }
   ],
   "source": [
    "def reverse_string(s):\n",
    "    if len(s) == 0:\n",
    "        return s\n",
    "    else:\n",
    "        return reverse_string(s[1:]) + s[0]\n",
    "input_string = input(\"Enter a string:\")\n",
    "reversed_string = reverse_string(input_string)\n",
    "\n",
    "print(\"Reversed string: \", reversed_string)"
   ]
  },
  {
   "cell_type": "markdown",
   "id": "c2108bee",
   "metadata": {},
   "source": [
    "8.Create a recursive Python function to calculate the power of a number (x^n).\n"
   ]
  },
  {
   "cell_type": "code",
   "execution_count": 176,
   "id": "d188149f",
   "metadata": {},
   "outputs": [
    {
     "name": "stdout",
     "output_type": "stream",
     "text": [
      "Enter the base(x):5\n",
      "Enter the exponent (n):2\n",
      "5.0^2 is : 25.0\n"
     ]
    }
   ],
   "source": [
    "def power(x,n):\n",
    "    if n == 0:\n",
    "        return 1\n",
    "    else:\n",
    "        return x * power(x, n-1)\n",
    "base =float (input(\"Enter the base(x):\"))\n",
    "exponent = int(input(\"Enter the exponent (n):\"))\n",
    "\n",
    "result = power(base, exponent)\n",
    "\n",
    "print(f\"{base}^{exponent} is : {result}\")"
   ]
  },
  {
   "cell_type": "markdown",
   "id": "658478cd",
   "metadata": {},
   "source": [
    "9.Write a recursive Python function to find all permutations of a given string.\n"
   ]
  },
  {
   "cell_type": "code",
   "execution_count": 4,
   "id": "461919f3",
   "metadata": {},
   "outputs": [
    {
     "name": "stdout",
     "output_type": "stream",
     "text": [
      "Enter a string: pib\n",
      "All permutations of the string:\n",
      "pib\n",
      "pbi\n",
      "ipb\n",
      "ibp\n",
      "bpi\n",
      "bip\n"
     ]
    }
   ],
   "source": [
    "def get_permutations(s):\n",
    "    if len(s) == 1:\n",
    "        return [s]\n",
    "    \n",
    "    # Initialize the list to store permutations\n",
    "    permutations = []\n",
    "\n",
    "    for i in range(len(s)):\n",
    "        first_char = s[i]\n",
    "        rest = s[:i] + s[i + 1:]\n",
    "\n",
    "        # Recursively find permutations of the remaining characters\n",
    "        for perm in get_permutations(rest):\n",
    "            permutations.append(first_char + perm)\n",
    "\n",
    "    return permutations\n",
    "\n",
    "# Input a string\n",
    "input_string = input(\"Enter a string: \")\n",
    "\n",
    "# Call the get_permutations function to find all permutations\n",
    "permutations = get_permutations(input_string)\n",
    "\n",
    "print(\"All permutations of the string:\")\n",
    "for p in permutations:\n",
    "    print(p)\n",
    "\n"
   ]
  },
  {
   "cell_type": "markdown",
   "id": "41d47d4c",
   "metadata": {},
   "source": [
    "10.Write a recursive Python function to check if a string is a palindrome.\n"
   ]
  },
  {
   "cell_type": "code",
   "execution_count": 7,
   "id": "9819b3bc",
   "metadata": {},
   "outputs": [
    {
     "name": "stdout",
     "output_type": "stream",
     "text": [
      "Enter a string: pssddp\n",
      "The string is not a palindrome.\n"
     ]
    }
   ],
   "source": [
    "def is_plaindrome(s):\n",
    "    s= s.lower()\n",
    "    s= s.replace(\" \" ,\" \")\n",
    "    if len(s) <=1:\n",
    "        return True\n",
    "    elif s[0] != s[-1]:\n",
    "        return False\n",
    "    else:\n",
    "        return is_plaindrome(s[1: -1])\n",
    "input_string = input(\"Enter a string: \")\n",
    "if is_plaindrome(input_string):\n",
    "    print(\"The string is a palindrome.\")\n",
    "else:\n",
    "    print(\"The string is not a palindrome.\")"
   ]
  },
  {
   "cell_type": "markdown",
   "id": "ef7d5689",
   "metadata": {},
   "source": [
    "11.Create a recursive Python function to generate all possible combinations of a list of elements.\n"
   ]
  },
  {
   "cell_type": "code",
   "execution_count": 21,
   "id": "05d0b377",
   "metadata": {},
   "outputs": [
    {
     "name": "stdout",
     "output_type": "stream",
     "text": [
      "Enter a list of elements (comma-separated): prinve, suljhf,jfk\n",
      "All possible combinations of the elements:\n",
      "[]\n",
      "['jfk']\n",
      "[' suljhf']\n",
      "[' suljhf', 'jfk']\n",
      "['prinve']\n",
      "['prinve', 'jfk']\n",
      "['prinve', ' suljhf']\n",
      "['prinve', ' suljhf', 'jfk']\n"
     ]
    }
   ],
   "source": [
    "def get_combinations(elements):\n",
    "    if len(elements) == 0:\n",
    "        return [[]]\n",
    "\n",
    "    first_element = elements[0]\n",
    "    rest_of_elements = elements[1:]\n",
    "\n",
    "    without_first = get_combinations(rest_of_elements)\n",
    "    with_first = []\n",
    "\n",
    "    for combination in without_first:\n",
    "        with_first.append([first_element] + combination)\n",
    "\n",
    "    return without_first + with_first\n",
    "\n",
    "elements = input(\"Enter a list of elements (comma-separated): \").split(',')\n",
    "\n",
    "combinations = get_combinations(elements)\n",
    "\n",
    "print(\"All possible combinations of the elements:\")\n",
    "for combo in combinations:\n",
    "    print(combo)\n"
   ]
  },
  {
   "cell_type": "markdown",
   "id": "4c61d6a9",
   "metadata": {},
   "source": [
    "# Basics of Functions:"
   ]
  },
  {
   "cell_type": "markdown",
   "id": "6068b6c7",
   "metadata": {},
   "source": [
    "1.What is a function in Python, and why is it used?\n"
   ]
  },
  {
   "cell_type": "markdown",
   "id": "f4a4d184",
   "metadata": {},
   "source": [
    "In Python, a function is a reusable block of code that performs a specific task or a set of tasks. Functions are a fundamental concept in programming, and they serve several purposes\n",
    "\n",
    "Modularity\n",
    "Resuability\n",
    "Abstraction\n"
   ]
  },
  {
   "cell_type": "markdown",
   "id": "4c5d773e",
   "metadata": {},
   "source": [
    "2.How do you define a function in Python? Provide an example.\n"
   ]
  },
  {
   "cell_type": "markdown",
   "id": "929ceddd",
   "metadata": {},
   "source": [
    "In python we can define a function usng the 'def' keyword followed by the function name, a pair of parentheses containing any function parameters and a colon\n",
    "\n",
    "def functiojn_name(parameters):\n",
    "    # Function body\n",
    "  \n",
    "    return result\n",
    "    \n",
    "    "
   ]
  },
  {
   "cell_type": "code",
   "execution_count": 26,
   "id": "6ccd532e",
   "metadata": {},
   "outputs": [
    {
     "name": "stdout",
     "output_type": "stream",
     "text": [
      "The sum of two number is : 30\n"
     ]
    }
   ],
   "source": [
    "def add_number(a, b):\n",
    "    result =a + b\n",
    "    return result\n",
    "#call the function and store the result in a variable\n",
    "sum_result = add_number(10, 20)\n",
    "\n",
    "#print the result\n",
    "print(f\"The sum of two number is : {sum_result}\")"
   ]
  },
  {
   "cell_type": "markdown",
   "id": "d227efdc",
   "metadata": {},
   "source": [
    "3.Explain the difference between a function definition and a function call.\n"
   ]
  },
  {
   "cell_type": "markdown",
   "id": "1818377b",
   "metadata": {},
   "source": [
    "In Python, there are two distinct concepts: function definition and function call\n",
    "Function Definition:\n",
    "1.A function definition is the creation of a new function in your code.\n",
    "2.It typically begins with the def keyword, followed by the function name and a pair of parentheses \n",
    "containing function parameters.\n",
    "3.Function definitions are used to define reusable blocks of code.\n",
    "        def add_numbers(a, b):\n",
    "            result = a + b\n",
    "            return result\n",
    "    \n",
    "Function Call:\n",
    "\n",
    "1.A function call is the action of executing a function.\n",
    "2.It involves specifying the function name and providing the necessary arguments (if any) that the function expects.    \n",
    "3.When a function is called, the program jumps to the function definition and executes the code within the function body.\n",
    "           sum_result = add_numbers(3, 4)"
   ]
  },
  {
   "cell_type": "markdown",
   "id": "26cfcb2e",
   "metadata": {},
   "source": [
    "4.Write a Python program that defines a function to calculate the sum of two numbers and then calls the function.\n"
   ]
  },
  {
   "cell_type": "code",
   "execution_count": 29,
   "id": "4305e4f0",
   "metadata": {},
   "outputs": [
    {
     "name": "stdout",
     "output_type": "stream",
     "text": [
      "Enter the first number: 44\n",
      "Enter the second number: 44\n",
      "The sum of 44.0 and 44.0 is : 88.0\n"
     ]
    }
   ],
   "source": [
    "def sum_numbers(a, b):\n",
    "    result = a + b\n",
    "    return result\n",
    "    \n",
    "num1 = float(input(\"Enter the first number: \"))\n",
    "num2 = float(input(\"Enter the second number: \"))\n",
    "sum_result = sum_numbers(num1, num2)\n",
    "\n",
    "print(f\"The sum of {num1} and {num2} is : {sum_result}\")"
   ]
  },
  {
   "cell_type": "markdown",
   "id": "f438cc5d",
   "metadata": {},
   "source": [
    "5.What is a function signature, and what information does it typically include?\n"
   ]
  },
  {
   "cell_type": "markdown",
   "id": "963cb3bc",
   "metadata": {},
   "source": [
    "\n",
    "A function signature, often referred to as a function prototype, is a description of a function's interface or its\n",
    "declaration in code. It specifies the essential information about a function without including the implementation\n",
    "details. A typical function signature includes the following information:\n",
    "    Function Name\n",
    "    Return Type\n",
    "    Parameters\n",
    "    Function visibility"
   ]
  },
  {
   "cell_type": "markdown",
   "id": "c8ed575a",
   "metadata": {},
   "source": [
    "6.Create a Python function that takes two arguments and returns their product.\n"
   ]
  },
  {
   "cell_type": "code",
   "execution_count": 31,
   "id": "61a8ff10",
   "metadata": {},
   "outputs": [
    {
     "name": "stdout",
     "output_type": "stream",
     "text": [
      "Enter the first number2\n",
      "Enter the second number2\n",
      "The product of 2.0 and 2.0 is 4.0\n"
     ]
    }
   ],
   "source": [
    "def product(a, b):\n",
    "    result= a* b\n",
    "    return result\n",
    "\n",
    "num1 = float(input(\"Enter the first number\"))\n",
    "num2 = float(input(\"Enter the second number\"))\n",
    "\n",
    "result_product = product(num1, num2)\n",
    "\n",
    "print(f\"The product of {num1} and {num2} is {result_product}\")\n",
    "\n",
    "    "
   ]
  },
  {
   "cell_type": "markdown",
   "id": "a5956ee9",
   "metadata": {},
   "source": [
    "# Function Parameters and Arguments:\n"
   ]
  },
  {
   "cell_type": "markdown",
   "id": "68af0721",
   "metadata": {},
   "source": [
    "1.Explain the concepts of formal parameters and actual arguments in Python functions.\n"
   ]
  },
  {
   "cell_type": "markdown",
   "id": "1aaa7960",
   "metadata": {},
   "source": [
    "In python functions, formal parameters and actual arguments are key concepts related to how functions\n",
    "accept and receive input values. These concepts are important for understanding how functions work and\n",
    "how data is passed to and from them:\n",
    "*Formal parameters:\n",
    "1.Formal parameters are placeholders or variables used within the function's definition to represent the\n",
    "    values that the function expects as input.\n",
    "2.They are declared in the function's parameter list and are defined in the function signature.\n",
    "3.Formal parameters act as local variables within the function's scope and are used to perform operations or computations.\n",
    "4.Formal parameters as the variables that the function \"formally\" defines to accept data.\n",
    "\n",
    "      def greet(name, age):\n",
    "    # 'name' and 'age' are formal parameters\n",
    "    message = f\"Hello, {name}! You are {age} years old.\"\n",
    "    return message\n",
    "\n",
    "*Actual Arguments:\n",
    "1.Actual arguments, also known as arguments or function call arguments, are the real values or expressions\n",
    "    that you provide when calling a function. These values are passed to the function as input.\n",
    "2.Actual arguments supply the data that the function will work with during its execution.\n",
    "3.The values of actual arguments are assigned to the formal parameters inside the function.\n",
    "4.Actual arguments can be variables, constants, or expressions.\n",
    "\n",
    "\n",
    "            person_name = \"Alice\"\n",
    "            person_age = 30\n",
    "            greeting_message = greet(person_name, person_age)"
   ]
  },
  {
   "cell_type": "markdown",
   "id": "77c5d2c4",
   "metadata": {},
   "source": [
    "2.Write a Python program that defines a function with default argument values.\n"
   ]
  },
  {
   "cell_type": "code",
   "execution_count": 37,
   "id": "06ee1722",
   "metadata": {},
   "outputs": [
    {
     "name": "stdout",
     "output_type": "stream",
     "text": [
      "Hello, Alice!\n",
      "Hi Bob!\n"
     ]
    }
   ],
   "source": [
    "def greet(name, message =\"Hello,\"):\n",
    "    return f\"{message} {name}!\"\n",
    "\n",
    "greeting1 = greet(\"Alice\")\n",
    "greeting2 = greet(\"Bob\",\"Hi\")\n",
    "print(greeting1)\n",
    "print(greeting2)"
   ]
  },
  {
   "cell_type": "markdown",
   "id": "1beea50b",
   "metadata": {},
   "source": [
    "3.How do you use keyword arguments in Python function calls? Provide an example.\n"
   ]
  },
  {
   "cell_type": "code",
   "execution_count": 40,
   "id": "4c275a57",
   "metadata": {},
   "outputs": [
    {
     "name": "stdout",
     "output_type": "stream",
     "text": [
      "First Name: prince\n",
      "Last Name: kumar\n"
     ]
    }
   ],
   "source": [
    "#In Keyword arguments ,arguments are assigned based on the name of argumnets\n",
    "\n",
    "def display_info(first_name, last_name):\n",
    "    print('First Name:' , first_name)\n",
    "    print(\"Last Name:\", last_name)\n",
    "display_info(last_name ='kumar', first_name = 'prince')    "
   ]
  },
  {
   "cell_type": "markdown",
   "id": "ba2275fd",
   "metadata": {},
   "source": [
    "4.Create a Python function that accepts a variable number of arguments and calculates their sum.\n"
   ]
  },
  {
   "cell_type": "code",
   "execution_count": 41,
   "id": "dae62e63",
   "metadata": {},
   "outputs": [
    {
     "name": "stdout",
     "output_type": "stream",
     "text": [
      "15\n",
      "60\n",
      "1\n"
     ]
    }
   ],
   "source": [
    "def calculate_sum(*args):\n",
    "    total = 0\n",
    "    for num in args:\n",
    "        total += num\n",
    "    return total\n",
    "\n",
    "result1 = calculate_sum(1, 2, 3, 4, 5)\n",
    "result2 = calculate_sum(10, 20, 30)\n",
    "result3 = calculate_sum(1)\n",
    "\n",
    "print(result1)  \n",
    "print(result2)  \n",
    "print(result3)  "
   ]
  },
  {
   "cell_type": "markdown",
   "id": "08869365",
   "metadata": {},
   "source": [
    "5.What is the purpose of the `*args` and `**kwargs` syntax in function parameter lists?\n"
   ]
  },
  {
   "cell_type": "markdown",
   "id": "d1c0e920",
   "metadata": {},
   "source": [
    "The *args and **kwargs  syntax in function parameter lists allow Python functions to accept a variable \n",
    "number of positional and keyword arguments, respectively. They are used to make functions more flexible \n",
    "and versatile by enabling them to handle different numbers of arguments without specifying them individually\n",
    "in the function signature.\n",
    "\n",
    "*args (Arbitrary Positional Arguments):\n",
    "\n",
    "1.The *args syntax allows a function to accept any number of positional arguments. The args variable is a tuple\n",
    "    containing all the positional arguments passed to the function.\n",
    "2.It's particularly useful when you want to create a function that can handle a variable number of arguments\n",
    "    without knowing in advance how many arguments will be provided.\n",
    "3.You can use *args to collect and process these arguments dynamically.\n",
    "\n",
    "\n",
    "Example:\n",
    "\n",
    "def sum_values(*args):\n",
    "    total = sum(args)\n",
    "    return total\n",
    "\n",
    "result = sum_values(1, 2, 3, 4, 5) \n",
    "\n",
    "**kwargs (Arbitrary Keyword Arguments):\n",
    "1.The **kwargs syntax allows a function to accept any number of keyword arguments. The kwargs variable is a \n",
    "    dictionary containing the keyword arguments and their values.\n",
    "2.It's useful when you want to pass a variable number of keyword arguments to a function, such as optional\n",
    "    configuration settings or parameters.\n",
    "3.You can use **kwargs to collect and process these keyword arguments dynamically.\n",
    "Example:\n",
    "\n",
    "def print_info(**kwargs):\n",
    "    for key, value in kwargs.items():\n",
    "        print(f\"{key}: {value}\")\n",
    "print_info(name=\"Alice\", age=30, city=\"New York\")\n"
   ]
  },
  {
   "cell_type": "markdown",
   "id": "bfcb9c73",
   "metadata": {},
   "source": [
    "# Return Values and Scoping:"
   ]
  },
  {
   "cell_type": "markdown",
   "id": "82e74d50",
   "metadata": {},
   "source": [
    "1.Describe the role of the `return` statement in Python functions and provide examples.\n"
   ]
  },
  {
   "cell_type": "markdown",
   "id": "a5c2bc94",
   "metadata": {},
   "source": [
    "The return statement in Python functions is used to specify the value that the function should produce or \"return\" as its result. When a return statement is encountered in a function, the function's execution is terminated, and the specified value is sent back to the caller of the function. The returned value can be assigned to a variable, used in expressions, or otherwise processed by the calling code.\n",
    "\n",
    "\n",
    "def function_name(parameters):\n",
    "   function body\n",
    "    \n",
    "    return result\n",
    "\n",
    "1.Returning Value:\n",
    "    \n",
    "def add_numbers(a,b):\n",
    "    result =a +b\n",
    "    return result\n",
    "sum_result =add_numbers(3,5)\n",
    "print(sum_result)\n",
    "\n",
    "2.Returning Multiple Values(as a Tuple):\n",
    "\n",
    "def get_name_and_age():\n",
    "    name =\"prince\"\n",
    "    age =23\n",
    "    return name, age\n",
    "person_details =get_name_and_age()\n",
    "print(person_details)\n",
    "\n",
    "3.Early Exit with a condition:\n",
    "    \n",
    "def divide(a,b):\n",
    "    if b== 0:\n",
    "        return \"Divide by zero is not allowed\"\n",
    "    result = a/b\n",
    "    return result\n",
    "division_result = divide(8,2)\n",
    "print(division_result)\n",
    "\n",
    "4. No Return Value(Implicit None):\n",
    "   \n",
    "def greet(name):\n",
    "    print(f\"Hello,{name}!\")\n",
    "  \n",
    "greeting = great(\"Bob\")\n",
    "print(greeting)\n",
    "\n",
    "    \n"
   ]
  },
  {
   "cell_type": "markdown",
   "id": "bc7f18c5",
   "metadata": {},
   "source": [
    "2.Explain the concept of variable scope in Python, including local and global variables.\n"
   ]
  },
  {
   "cell_type": "markdown",
   "id": "a80d6ab0",
   "metadata": {},
   "source": [
    "Variable scope in python refers to the region or context within which a variable is accessible and can be used. python has two primary types of variable:local and global\n",
    "    \n",
    "    1.Local Variables:\n",
    "       1. local variable are defined inside a specific block of code, such as function  or a loop\n",
    "       2. They are only accessible within the scope of the block where they are defined\n",
    "       3. Local variable have a limited lifrtme and are created when the block is entered and destroyed when the block is exited\n",
    "       4. Attempting to access a local variable outside its scope will result in a 'NameError'\n",
    "                eg.\n",
    "                      def my_funtion():\n",
    "                          x=10\n",
    "                          print(x)\n",
    "                      my_function()\n",
    "                      print(x)\n",
    "                        \n",
    "     2. Global Variables:\n",
    "        1. Global variables are defined at the top level of a python script or module and are accessible throughout the entire program\n",
    "        2. They  have a global scope and can be accessed and modified from any function or block of code within the program\n",
    "        3. Global variables have a longer lifetimr and persist a slong as the program is running \n",
    "                \n",
    "               eg.\n",
    "                x=10\n",
    "                def My_functon():\n",
    "                    print(x)\n",
    "                my_function()\n",
    "                print(x)"
   ]
  },
  {
   "cell_type": "markdown",
   "id": "d3b49962",
   "metadata": {},
   "source": [
    "3.Write a Python program that demonstrates the use of global variables within functions.\n"
   ]
  },
  {
   "cell_type": "code",
   "execution_count": 42,
   "id": "ffb8c73c",
   "metadata": {},
   "outputs": [
    {
     "name": "stdout",
     "output_type": "stream",
     "text": [
      "Inside the function ,global_variable = 10\n",
      "Outside the function ,global_variable= 15\n"
     ]
    }
   ],
   "source": [
    "global_variable =10\n",
    "def use_global_variable():\n",
    "    global global_variable\n",
    "    print(\"Inside the function ,global_variable =\",global_variable)\n",
    "    global_variable +=5\n",
    "    \n",
    "use_global_variable()\n",
    "print(\"Outside the function ,global_variable=\", global_variable)"
   ]
  },
  {
   "cell_type": "markdown",
   "id": "04af52f2",
   "metadata": {},
   "source": [
    "4.Create a Python function that calculates the factorial of a number and returns it.\n"
   ]
  },
  {
   "cell_type": "code",
   "execution_count": 43,
   "id": "4b678d15",
   "metadata": {},
   "outputs": [
    {
     "name": "stdout",
     "output_type": "stream",
     "text": [
      "Factorial of 5: 40320\n"
     ]
    }
   ],
   "source": [
    "def factorial(n):\n",
    "    if n == 0:\n",
    "        return 1\n",
    "    else:\n",
    "        return n*factorial(n-1)\n",
    "result =factorial(8)\n",
    "\n",
    "print(\"Factorial of 8:\",result)\n",
    "    "
   ]
  },
  {
   "cell_type": "markdown",
   "id": "de806cd8",
   "metadata": {},
   "source": [
    "5.How can you access variables defined outside a function from within the function?\n"
   ]
  },
  {
   "cell_type": "code",
   "execution_count": 45,
   "id": "10f4d763",
   "metadata": {},
   "outputs": [
    {
     "name": "stdout",
     "output_type": "stream",
     "text": [
      "Inside the function ,global_variable = 20\n",
      "Outside the function ,global_variable= 20\n"
     ]
    }
   ],
   "source": [
    "global_variable =20\n",
    "def access_global_variable():\n",
    "    print(\"Inside the function ,global_variable =\", global_variable)\n",
    "\n",
    "access_global_variable()\n",
    "print(\"Outside the function ,global_variable=\",global_variable)"
   ]
  },
  {
   "cell_type": "markdown",
   "id": "972b6ca7",
   "metadata": {},
   "source": [
    "# Lambda Functions and Higher-Order Functions:\n"
   ]
  },
  {
   "cell_type": "markdown",
   "id": "e48b583f",
   "metadata": {},
   "source": [
    "1.What are lambda functions in Python, and when are they typically used?\n"
   ]
  },
  {
   "cell_type": "markdown",
   "id": "d0745153",
   "metadata": {},
   "source": [
    "Lambda functions in python, also km=nown as anonymous functins are small, unnamed functions defined using the 'lambda' keyword.\n",
    "They have some characteristics:\n",
    "    1.Anonymous: Lambda functions are anonymous , meaning they do not have a name like regular functions defined using 'def'\n",
    "    2.Single Experssiojn : Lambda functions can only contain a single expression, and the result of that expression is implicity returned.\n",
    "    3.Inline Defination : Lambda functions are typically defined directly at the pont where they are used in the code, making them useful for short , throwaway operations.\n",
    "      \n",
    "Short Functions: When you need a simple ,short function for a specific task, such as sorting, filtering pr mapping elements in alist\n",
    "Functional Programming: lambda functions are often used in functional programming constructs like 'map','filter','reduce'.\n",
    "Sort Key Functions: Lambda functions can be used as the key argument in sorting functions.\n",
    "    \n",
    "    \n",
    "    "
   ]
  },
  {
   "cell_type": "code",
   "execution_count": 49,
   "id": "5cdd4370",
   "metadata": {},
   "outputs": [
    {
     "name": "stdout",
     "output_type": "stream",
     "text": [
      "[2, 4, 6, 8, 66]\n"
     ]
    }
   ],
   "source": [
    "#Filtering a list\n",
    "numbers = [1,2,3,4,5,5,6,7,7,8,66,33]\n",
    "even_numbers = list(filter(lambda  x: x % 2 == 0, numbers))\n",
    "print(even_numbers)"
   ]
  },
  {
   "cell_type": "code",
   "execution_count": 62,
   "id": "6d5a80b2",
   "metadata": {},
   "outputs": [
    {
     "name": "stdout",
     "output_type": "stream",
     "text": [
      "[1, 4, 9, 16, 25, 25, 36, 49, 49, 64, 4356, 1089]\n"
     ]
    }
   ],
   "source": [
    "#Mapping a List\n",
    "numbers = [1,2,3,4,5,5,6,7,7,8,66,33]\n",
    "squared_numbers = list(map(lambda x: x**2, numbers))\n",
    "print(squared_numbers)"
   ]
  },
  {
   "cell_type": "code",
   "execution_count": 66,
   "id": "91944331",
   "metadata": {},
   "outputs": [
    {
     "name": "stdout",
     "output_type": "stream",
     "text": [
      "['zaki', 'mehir', 'Naina', 'prince', 'shaina', 'Nishant']\n"
     ]
    }
   ],
   "source": [
    "#custom Sorting\n",
    "names =[\"prince\",\"shaina\",\"mehir\",\"Naina\",\"zaki\",\"Nishant\"]\n",
    "st_names= sorted(key = lambda name: len(name))\n",
    "print(st_names)\n"
   ]
  },
  {
   "cell_type": "markdown",
   "id": "29b5ae83",
   "metadata": {},
   "source": [
    "2.Write a Python program that uses lambda functions to sort a list of tuples based on the second element.\n"
   ]
  },
  {
   "cell_type": "code",
   "execution_count": 71,
   "id": "73ec5d28",
   "metadata": {},
   "outputs": [
    {
     "name": "stdout",
     "output_type": "stream",
     "text": [
      "[('Naina', 22), ('Shaina', 23), ('prince', 24), ('Mehir', 25), ('Nishant', 26), ('Akhya', 27)]\n"
     ]
    }
   ],
   "source": [
    "frnds =[(\"prince\", 24),(\"Shaina\",23),(\"Mehir\",25),(\"Nishant\",26),(\"Naina\",22),(\"Akhya\",27)]\n",
    "\n",
    "sorted_frnds = sorted(frnds, key =lambda frnds: frnds[1])\n",
    "print(sorted_frnds)"
   ]
  },
  {
   "cell_type": "markdown",
   "id": "2ac57da4",
   "metadata": {},
   "source": [
    "3.Explain the concept of higher-order functions in Python, and provide an example.\n"
   ]
  },
  {
   "cell_type": "markdown",
   "id": "e089b194",
   "metadata": {},
   "source": [
    "In Python, a higher-order function is a function that can accept one or more functions as arguments and/or\n",
    "return a function as its result. Higher-order functions treat functions as first-class citizens, allowing\n",
    "you to work with them in a flexible and powerful way. They enable you to abstract, compose, and manipulate\n",
    "functions, leading to more modular and reusable code.\n",
    "\n",
    "Here are the main concepts related to higher-order functions:\n",
    "\n",
    "1.Functions as Arguments: Higher-order functions can take other functions as arguments, allowing you to pass custom behavior to a function.\n",
    "\n",
    "2.Functions as Return Values: Higher-order functions can create and return new functions as their result, often with behavior that depends on the input functions.\n",
    "\n",
    "3.Abstraction: Higher-order functions can abstract common patterns of computation, making your code more concise and readable.\n",
    "\n",
    "4.Composition: You can compose functions, chaining them together to create complex behaviors by combining simple functions."
   ]
  },
  {
   "cell_type": "code",
   "execution_count": 72,
   "id": "d9677d40",
   "metadata": {},
   "outputs": [
    {
     "name": "stdout",
     "output_type": "stream",
     "text": [
      "10\n"
     ]
    }
   ],
   "source": [
    "def apply(func, value):\n",
    "    return func(value)\n",
    "def double(x):\n",
    "    return x*2\n",
    "\n",
    "result = apply(double, 5)\n",
    "print(result)"
   ]
  },
  {
   "cell_type": "markdown",
   "id": "f24c6d65",
   "metadata": {},
   "source": [
    "4.Create a Python function that takes a list of numbers and a function as arguments, applying the function to each element in the list.\n"
   ]
  },
  {
   "cell_type": "code",
   "execution_count": 75,
   "id": "32d6917b",
   "metadata": {},
   "outputs": [
    {
     "name": "stdout",
     "output_type": "stream",
     "text": [
      "Squared numbers: [1, 4, 9, 16, 25]\n",
      "Doubled numbers: [1, 4, 9, 16, 25]\n"
     ]
    }
   ],
   "source": [
    "def apply_function_to_list(numbers, func):\n",
    "    result =[]\n",
    "    for number in numbers:\n",
    "        result.append(func(number))\n",
    "    return result\n",
    "\n",
    "def square(x):\n",
    "    return x**2\n",
    "\n",
    "def double(x):\n",
    "    return x*2\n",
    "\n",
    "numbers =[1,2,3,4,5]\n",
    "\n",
    "squared_numbers =apply_function_to_list(numbers,square)\n",
    "print(\"Squared numbers:\", squared_numbers)\n",
    "\n",
    "doubled_numbers = apply_function_to_list(numbers, square)\n",
    "print(\"Doubled numbers:\", doubled_numbers)\n",
    "\n",
    "\n",
    "    "
   ]
  },
  {
   "cell_type": "markdown",
   "id": "1962232d",
   "metadata": {},
   "source": [
    "# Built-in Functions:\n"
   ]
  },
  {
   "cell_type": "markdown",
   "id": "1e9b0d71",
   "metadata": {},
   "source": [
    "1.Describe the role of built-in functions like `len()`, `max()`, and `min()` in Python.\n"
   ]
  },
  {
   "cell_type": "markdown",
   "id": "5e9af0bb",
   "metadata": {},
   "source": [
    "Built-in functions like len(), max(), and min() in Python are used to perform common operations on data structures, such as lists, strings, tuples, and more"
   ]
  },
  {
   "cell_type": "code",
   "execution_count": 67,
   "id": "acdaafe5",
   "metadata": {},
   "outputs": [
    {
     "name": "stdout",
     "output_type": "stream",
     "text": [
      "5\n"
     ]
    }
   ],
   "source": [
    "#Len() Function \n",
    "#   1. The 'len()' function is used  to determine  the length or the number of items in an iterable( strings, list, tuples, dictionaries)\n",
    " #   it returns an integer representing the lenght of the give objects\n",
    "    \n",
    "my_lists = [1,2,3,4,5]\n",
    "lenght = len(my_lists)\n",
    "print(lenght)"
   ]
  },
  {
   "cell_type": "code",
   "execution_count": 68,
   "id": "6655d725",
   "metadata": {},
   "outputs": [
    {
     "name": "stdout",
     "output_type": "stream",
     "text": [
      "333\n"
     ]
    }
   ],
   "source": [
    "# 'max()' FUnction\n",
    "# 1. The 'max()' function is used to find the maximum value for a collection of values , which can be either an iterable or a series of argumnets\n",
    "# 2. It returns the largest value within the given set of values.\n",
    "numbers =[12,23,23,34,333]\n",
    "maximum = max(numbers)\n",
    "print(maximum)"
   ]
  },
  {
   "cell_type": "code",
   "execution_count": 69,
   "id": "6a8c0c46",
   "metadata": {},
   "outputs": [
    {
     "name": "stdout",
     "output_type": "stream",
     "text": [
      "12\n"
     ]
    }
   ],
   "source": [
    "# 'min()' Functions\n",
    "# 1.The min() function is used to find the minimum value from a collection of values, which can also be either an iterable or a series of arguments.\n",
    "# 2.It returns the smallest value within the given set of values. \n",
    "\n",
    "numbers =[12,23,23,34,333]\n",
    "minimum = min(numbers)\n",
    "print(minimum)"
   ]
  },
  {
   "cell_type": "markdown",
   "id": "4636cc25",
   "metadata": {},
   "source": [
    "2.Write a Python program that uses the `map()` function to apply a function to each element of a list.\n"
   ]
  },
  {
   "cell_type": "code",
   "execution_count": 77,
   "id": "0bb8cd2f",
   "metadata": {},
   "outputs": [
    {
     "name": "stdout",
     "output_type": "stream",
     "text": [
      "[1, 4, 9, 16, 25, 36]\n"
     ]
    }
   ],
   "source": [
    "def double(x):\n",
    "    return x**2\n",
    "numbers =[1,2,3,4,5,6]\n",
    "\n",
    "doubled_numbers = map(double, numbers)\n",
    "doubled_numbers_list = list(doubled_numbers)\n",
    "print(doubled_numbers_list)"
   ]
  },
  {
   "cell_type": "markdown",
   "id": "ab588907",
   "metadata": {},
   "source": [
    "3.How does the `filter()` function work in Python, and when would you use it?\n"
   ]
  },
  {
   "cell_type": "markdown",
   "id": "b09de19f",
   "metadata": {},
   "source": [
    "The filter() function in Python is used to filter elements from an iterable (e.g., a list, tuple, or string) based on a specified condition. It returns an iterator that contains only the elements from the original iterable that satisfy the given condition.\n",
    "\n",
    "Common use cases for the filter() function include:\n",
    "1.Filtering Elements: When you need to extract elements from a collection that meet certain criteria. For example, filtering even numbers from a list.\n",
    "2.Removing None Values: Filtering out None or empty values from a list or other iterable.\n",
    "3.Custom Conditions: Applying custom conditions or functions to filter elements based on your specific requirements"
   ]
  },
  {
   "cell_type": "code",
   "execution_count": 78,
   "id": "8b5ac358",
   "metadata": {},
   "outputs": [
    {
     "name": "stdout",
     "output_type": "stream",
     "text": [
      "[22, 44, 2, 8]\n"
     ]
    }
   ],
   "source": [
    "def is_even(x):\n",
    "    return x % 2 == 0\n",
    "numbers =[22,33,44,2,3,5,7,8,9,81]\n",
    "\n",
    "even_numbers = list(filter(is_even, numbers))\n",
    "print(even_numbers)"
   ]
  },
  {
   "cell_type": "markdown",
   "id": "152e84ba",
   "metadata": {},
   "source": [
    "4.Create a Python program that uses the `reduce()` function to find the product of all elements in a list.\n"
   ]
  },
  {
   "cell_type": "code",
   "execution_count": 81,
   "id": "28fbf37a",
   "metadata": {},
   "outputs": [
    {
     "name": "stdout",
     "output_type": "stream",
     "text": [
      "Product of all elements:  90720\n"
     ]
    }
   ],
   "source": [
    "from functools import reduce\n",
    "def product (x, y):\n",
    "      return x * y\n",
    "numbers = [2,3,5,6,7,8,9]\n",
    "result =reduce(product, numbers)\n",
    "print(\"Product of all elements: \", result)"
   ]
  },
  {
   "cell_type": "markdown",
   "id": "9f973b05",
   "metadata": {},
   "source": [
    "# Function Documentation and Best Practices:\n"
   ]
  },
  {
   "cell_type": "markdown",
   "id": "3764a64e",
   "metadata": {},
   "source": [
    "1.Explain the purpose of docstrings in Python functions and how to write them.\n"
   ]
  },
  {
   "cell_type": "markdown",
   "id": "0ef3d7c0",
   "metadata": {},
   "source": [
    "Docstrings in Python functions serve as documentation for the function, providing information about its purpose, parameters, return values, and usage. They are useful for clarifying the function's behavior and making it easier for others (and yourself) to understand and use the function. Docstrings are typically placed in triple-quoted strings within the function definition, immediately following the function signature.\n",
    "\n",
    "Here's how to write docstrings in Python functions:\n",
    "\n",
    "1.Triple-Quoted Strings: Docstrings are enclosed in triple-quoted strings (either single or double quotes).\n",
    "\n",
    "2.Function Signature: Docstrings should immediately follow the function signature (including the function name and parameters) and be indented at the same level as the code block.\n",
    "\n",
    "3.Description: Describe what the function does, its purpose, and any additional context that might be helpful for users.\n",
    "\n",
    "4.Parameters: List the function's parameters, providing a brief description of each parameter, its type, and any constraints or default values.\n",
    "\n",
    "5.Return Value: Explain what the function returns and any conditions or constraints related to the return value.\n",
    "\n",
    "6.Examples: Include usage examples, especially if the function's behavior is not immediately obvious."
   ]
  },
  {
   "cell_type": "code",
   "execution_count": 83,
   "id": "814406f5",
   "metadata": {},
   "outputs": [],
   "source": [
    "def calculate_area(length, width):\n",
    "    \"\"\"\n",
    "    Calculate the area of a rectangle.\n",
    "\n",
    "    Parameters:\n",
    "    - length (float): The length of the rectangle.\n",
    "    - width (float): The width of the rectangle.\n",
    "\n",
    "    Returns:\n",
    "    - float: The area of the rectangle.\n",
    "\n",
    "    Example:\n",
    "    >>> calculate_area(3.0, 4.0)\n",
    "    12.0\n",
    "    \"\"\"\n",
    "    return length * width\n",
    "\n",
    "#help(calculate_area)  # Display the docstring\n",
    "#print(calculate_area.__doc__)  # Access the docstring as a string\n"
   ]
  },
  {
   "cell_type": "markdown",
   "id": "db009420",
   "metadata": {},
   "source": [
    "2.Describe some best practices for naming functions and variables in Python, including naming conventions and guidelines.\n"
   ]
  },
  {
   "cell_type": "markdown",
   "id": "f3178e48",
   "metadata": {},
   "source": [
    "Naming functions and variables in Python is an important aspect of writing clean, readable, and maintainable code. Following naming conventions and best practices can make your code more understandable to you and others. Here are some best practices for naming functions and variables in Python:\n",
    "\n",
    "1.Use Descriptive Names:\n",
    "       `Choose names that clearly describe the purpose and functionality of the function or variable. Avoid \n",
    "        single-letter or overly generic names like \"x\" or \"temp.\"\n",
    "\n",
    "2.Follow PEP 8:\n",
    "       * PEP 8 is the Python Enhancement Proposal that provides a style guide for Python code. It offers\n",
    "            guidelines for naming functions and variables:\n",
    "       *Function names should be lowercase with words separated by underscores (snake_case).\n",
    "       * Variable names should also be lowercase with words separated by underscores.\n",
    "       * Use descriptive, meaningful names that convey the purpose of the function or variable.\n",
    "\n",
    "3.Use Verbs for Function Names:\n",
    "        Function names should typically begin with a verb or action word to indicate what the function does.\n",
    "        For example, use names like calculate_area or process_data instead of data or result.\n",
    "\n",
    "4.Use Nouns for Variables:\n",
    "        Variable names should generally be nouns or noun phrases that describe the data they hold. For example, \n",
    "        use names like user_name or product_list for variables.\n",
    "\n",
    "5.Avoid Using Reserved Words:\n",
    "        Avoid using Python's reserved words (e.g., if, for, while) as function or variable names.\n",
    "\n",
    "6.Be Consistent:\n",
    "         Maintain consistency in your naming conventions throughout your codebase. If you start with one\n",
    "         naming style, stick with it.\n",
    "\n",
    "7.Use Constants in UPPERCASE:\n",
    "        Constants, which are variables with values that should not change, are typically named in uppercase\n",
    "        letters with words separated by underscores. For example, MAX_VALUE or PI.\n",
    "\n",
    "8.Use Meaningful Abbreviations:\n",
    "        If you use abbreviations, make sure they are widely understood and don't obscure the meaning of the\n",
    "        name. For example, \"temp\" for \"temperature\" is commonly understood, but avoid overly cryptic abbreviations.\n",
    "    \n",
    "9.Avoid Single-Character Variable Names:\n",
    "        While single-character variable names like i, j, and x are sometimes used in certain contexts\n",
    "        (e.g., loop indices), they should be avoided in most cases where more descriptive names can be used.\n",
    "\n",
    "10.Consider Function Length:\n",
    "        If a function has a long or complex implementation, it's a good practice to give it a descriptive \n",
    "        name that reflects its purpose and functionality.\n",
    "\n",
    "11.Use Underscores for Private Functions and Variables:\n",
    "        If a function or variable is intended for internal use within a module or class and is not part of \n",
    "        the public interface, prefix its name with an underscore (e.g., _private_function).\n",
    "12.Use Docstrings:\n",
    "        Document your functions and variables with clear and informative docstrings to provide additional \n",
    "        context and usage instructions.\n",
    "    "
   ]
  }
 ],
 "metadata": {
  "kernelspec": {
   "display_name": "Python 3 (ipykernel)",
   "language": "python",
   "name": "python3"
  },
  "language_info": {
   "codemirror_mode": {
    "name": "ipython",
    "version": 3
   },
   "file_extension": ".py",
   "mimetype": "text/x-python",
   "name": "python",
   "nbconvert_exporter": "python",
   "pygments_lexer": "ipython3",
   "version": "3.11.4"
  }
 },
 "nbformat": 4,
 "nbformat_minor": 5
}
