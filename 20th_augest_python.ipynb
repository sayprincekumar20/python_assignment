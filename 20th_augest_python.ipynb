{
 "cells": [
  {
   "cell_type": "raw",
   "id": "3c1f92ab",
   "metadata": {},
   "source": [
    "# TOPIC: String Based Assignment Problem"
   ]
  },
  {
   "cell_type": "markdown",
   "id": "3630fa67",
   "metadata": {},
   "source": [
    "1.Write a program to reverse a string.\n"
   ]
  },
  {
   "cell_type": "code",
   "execution_count": 1,
   "id": "d36699d8",
   "metadata": {},
   "outputs": [
    {
     "name": "stdout",
     "output_type": "stream",
     "text": [
      "Enter a stringprince\n",
      "ecnirp\n"
     ]
    }
   ],
   "source": [
    "input_string =input(\"Enter a string\")\n",
    "input_string = input_string[::-1]\n",
    "print(input_string)"
   ]
  },
  {
   "cell_type": "markdown",
   "id": "551cd99a",
   "metadata": {},
   "source": [
    "2. Check if a string is a palindrome.\n"
   ]
  },
  {
   "cell_type": "code",
   "execution_count": 4,
   "id": "4d86fbeb",
   "metadata": {},
   "outputs": [
    {
     "name": "stdout",
     "output_type": "stream",
     "text": [
      "Enter a stringpopd\n",
      "string is not palindrome\n"
     ]
    }
   ],
   "source": [
    "input_string =input(\"Enter a string\")\n",
    "input_string = input_string.replace(\" \",\"\").lower()\n",
    "reversed_string = input_string[::-1]\n",
    "if reversed_string == input_string:\n",
    "    print(\"string is palindrome\")\n",
    "else:\n",
    "    print(\"string is not palindrome\")"
   ]
  },
  {
   "cell_type": "markdown",
   "id": "2b15071f",
   "metadata": {},
   "source": [
    "3. Convert a string to uppercase.\n"
   ]
  },
  {
   "cell_type": "code",
   "execution_count": 6,
   "id": "5fa52636",
   "metadata": {},
   "outputs": [
    {
     "name": "stdout",
     "output_type": "stream",
     "text": [
      "Enter a string: prince\n",
      "PRINCE\n"
     ]
    }
   ],
   "source": [
    "input_string = input(\"Enter a string: \")\n",
    "print(input_string.upper())"
   ]
  },
  {
   "cell_type": "markdown",
   "id": "afa3ca6f",
   "metadata": {},
   "source": [
    "4. Convert a string to lowercase.\n"
   ]
  },
  {
   "cell_type": "code",
   "execution_count": 8,
   "id": "91ccaaa1",
   "metadata": {},
   "outputs": [
    {
     "name": "stdout",
     "output_type": "stream",
     "text": [
      "Enter a string: PRINCE\n",
      "Convert to lowercase string : prince\n"
     ]
    }
   ],
   "source": [
    "input_string =input(\"Enter a string: \")\n",
    "print(\"Convert to lowercase string :\",input_string.lower())"
   ]
  },
  {
   "cell_type": "markdown",
   "id": "cc542a00",
   "metadata": {},
   "source": [
    "5. Count the numberof vowels in a string.\n"
   ]
  },
  {
   "cell_type": "code",
   "execution_count": 9,
   "id": "af6f8f9c",
   "metadata": {},
   "outputs": [
    {
     "name": "stdout",
     "output_type": "stream",
     "text": [
      "Enter a stringprince singh\n",
      "Number of vowels: 3\n"
     ]
    }
   ],
   "source": [
    "def count_vowels(string):\n",
    "    vowel_count =0\n",
    "    string = string.lower()\n",
    "    vowels = set(\"aeiou\")\n",
    "    for char in string:\n",
    "        if char in vowels:\n",
    "            vowel_count +=1\n",
    "    return vowel_count  \n",
    "\n",
    "input_string =input(\"Enter a string\")\n",
    "result = count_vowels(input_string)\n",
    "print(\"Number of vowels:\", result)\n"
   ]
  },
  {
   "cell_type": "markdown",
   "id": "d49336d2",
   "metadata": {},
   "source": [
    "6. Count the number of consonants in a string.\n"
   ]
  },
  {
   "cell_type": "code",
   "execution_count": 12,
   "id": "4002a097",
   "metadata": {},
   "outputs": [
    {
     "name": "stdout",
     "output_type": "stream",
     "text": [
      "Enter a stringShaina singh\n",
      "Number of consonants : 7\n"
     ]
    }
   ],
   "source": [
    "def count_consonants(string):\n",
    "    consonant_count =0\n",
    "    string =string.lower()\n",
    "    consonants = \"bcdfghjklmnpqrstvwxyzBCDFGHJKLMNPQRSTVWXYZ\"\n",
    "    \n",
    "    for char in string:\n",
    "        if char in consonants:\n",
    "            consonant_count +=1\n",
    "            \n",
    "    return consonant_count\n",
    "input_string= input(\"Enter a string\")\n",
    "result = count_consonants(input_string)\n",
    "print(\"Number of consonants :\", result)\n"
   ]
  },
  {
   "cell_type": "code",
   "execution_count": 17,
   "id": "917b993c",
   "metadata": {},
   "outputs": [
    {
     "name": "stdout",
     "output_type": "stream",
     "text": [
      "Enter a stringprince singh\n",
      "Number of consonants : 9\n"
     ]
    }
   ],
   "source": [
    "def count_consonants(string):\n",
    "    consonant_count =0\n",
    "    string =string.lower()\n",
    "    vowels =(\"aeiou\")\n",
    "    for char in string:\n",
    "        if char not in vowels:\n",
    "            consonant_count +=1\n",
    "            \n",
    "    return consonant_count\n",
    "input_string= input(\"Enter a string\")\n",
    "result = count_consonants(input_string)\n",
    "print(\"Number of consonants :\", result)"
   ]
  },
  {
   "cell_type": "markdown",
   "id": "34d6ef1a",
   "metadata": {},
   "source": [
    "7. Remove all whitespaces from a string.\n"
   ]
  },
  {
   "cell_type": "code",
   "execution_count": 21,
   "id": "8075444f",
   "metadata": {
    "scrolled": false
   },
   "outputs": [
    {
     "name": "stdout",
     "output_type": "stream",
     "text": [
      "Enter a sentenceHii i am prince kumar\n",
      "Hiiiamprincekumar\n"
     ]
    }
   ],
   "source": [
    "input_string = input(\"Enter a sentence\")\n",
    "input_string = input_string.replace(\" \" ,\"\")\n",
    "print(input_string)"
   ]
  },
  {
   "cell_type": "markdown",
   "id": "fa5282c3",
   "metadata": {},
   "source": [
    "8. Find the length of a string without using the `len()` function.\n"
   ]
  },
  {
   "cell_type": "code",
   "execution_count": 27,
   "id": "cc3ad162",
   "metadata": {},
   "outputs": [
    {
     "name": "stdout",
     "output_type": "stream",
     "text": [
      "Enter the string: prince kumar singh\n",
      "The lenght of the string is : 18\n"
     ]
    }
   ],
   "source": [
    "input_string= input(\"Enter the string: \")\n",
    "\n",
    "count = 0\n",
    "for char in input_string:\n",
    "    count += 1\n",
    "print(\"The lenght of the string is :\",count) \n"
   ]
  },
  {
   "cell_type": "markdown",
   "id": "a9f8ce28",
   "metadata": {},
   "source": [
    "9. Check if a string contains a specific word."
   ]
  },
  {
   "cell_type": "code",
   "execution_count": 30,
   "id": "1bb2bdc2",
   "metadata": {},
   "outputs": [
    {
     "name": "stdout",
     "output_type": "stream",
     "text": [
      "Enter a string: Hii i am price singh\n",
      "Enter a specific word to check for:singh\n",
      "THe string contains the word 'singh'.\n"
     ]
    }
   ],
   "source": [
    "input_string =input(\"Enter a string: \")\n",
    "specific_word =input(\"Enter a specific word to check for:\")\n",
    "if specific_word in input_string:\n",
    "    print(f\"THe string contains the word '{specific_word}'.\")\n",
    "else:\n",
    " print(f\"THe string does not  contains the word '{specific_word}'.\")"
   ]
  },
  {
   "cell_type": "markdown",
   "id": "c02bab27",
   "metadata": {},
   "source": [
    "10. Replace a word in a string with another word.\n"
   ]
  },
  {
   "cell_type": "code",
   "execution_count": 44,
   "id": "36ee9560",
   "metadata": {},
   "outputs": [
    {
     "name": "stdout",
     "output_type": "stream",
     "text": [
      "Enter a sentence: hii i am prince kumar singh\n",
      "Enter  the word to be replaced: hii\n",
      "Enter the new  word : hello\n",
      "Modified String : hello i am prince kumar singh\n"
     ]
    }
   ],
   "source": [
    "input_string = input(\"Enter a sentence: \")\n",
    "old_word = input(\"Enter  the word to be replaced: \")\n",
    "new_word = input(\"Enter the new  word : \")\n",
    "\n",
    "modified_string = input_string.replace(old_word, new_word)\n",
    "print(\"Modified String :\", modified_string)"
   ]
  },
  {
   "cell_type": "markdown",
   "id": "c0fb88b8",
   "metadata": {},
   "source": [
    "11. Count the occurrences of a word in a string.\n"
   ]
  },
  {
   "cell_type": "code",
   "execution_count": 34,
   "id": "04305a40",
   "metadata": {},
   "outputs": [
    {
     "name": "stdout",
     "output_type": "stream",
     "text": [
      "Enter the sentence: hi bii hii hii\n",
      "Enter the word: hii\n",
      "The word 'hii' appears 2 times\n"
     ]
    }
   ],
   "source": [
    "def count_word_occurance(input_string, target_word):\n",
    "    word_count = 0\n",
    "    words = input_string.split()\n",
    "    for word in words:\n",
    "        if word == target_word:\n",
    "            word_count += 1\n",
    "    return word_count\n",
    "            \n",
    "input_string= input(\"Enter the sentence: \")\n",
    "target_word = input(\"Enter the word: \")\n",
    "result = count_word_occurance(input_string, target_word)\n",
    "\n",
    "print(f\"The word '{target_word}' appears {result} times\")"
   ]
  },
  {
   "cell_type": "markdown",
   "id": "655b2da4",
   "metadata": {},
   "source": [
    "12. Find the first occurrence of a word in a string.\n"
   ]
  },
  {
   "cell_type": "code",
   "execution_count": 36,
   "id": "3dd9fbf1",
   "metadata": {},
   "outputs": [
    {
     "name": "stdout",
     "output_type": "stream",
     "text": [
      "Enter the sentence:  Hii i am prince kumar, i love to play chess \n",
      "Enter a word: chess\n",
      "Index of the first occurance:  39\n"
     ]
    }
   ],
   "source": [
    "def find_first_occurance(text, word):\n",
    "    index = text.find(word)\n",
    "    if index == -1:\n",
    "        return None\n",
    "    return index\n",
    "input_string = input(\"Enter the sentence: \")\n",
    "target_word = input(\"Enter a word: \")\n",
    "result = find_first_occurance(input_string, target_word)\n",
    "print(\"Index of the first occurance: \", result)"
   ]
  },
  {
   "cell_type": "markdown",
   "id": "d560ae46",
   "metadata": {},
   "source": [
    "13. Find the last occurrence of a word in a string.\n"
   ]
  },
  {
   "cell_type": "code",
   "execution_count": 39,
   "id": "6be4354c",
   "metadata": {},
   "outputs": [
    {
     "name": "stdout",
     "output_type": "stream",
     "text": [
      "Enter the sentence: Hii i am prince kumar. I love to play chess and table tenis kumar\n",
      "Enter a word: kumar\n",
      "Index of the first occurance:  38\n"
     ]
    }
   ],
   "source": [
    "def find_last_occurance(text, word):\n",
    "    index = text.rfind(word)\n",
    "    if index == -1:\n",
    "        return None\n",
    "    return index\n",
    "input_string = input(\"Enter the sentence: \")\n",
    "target_string = input(\"Enter a word: \")\n",
    "\n",
    "result = find_last_occurance(input_string, target_word)\n",
    "print(\"Index of the first occurance: \", result)\n",
    "\n"
   ]
  },
  {
   "cell_type": "markdown",
   "id": "92181047",
   "metadata": {},
   "source": [
    "14. Split a string into a list of words.\n"
   ]
  },
  {
   "cell_type": "code",
   "execution_count": 40,
   "id": "74f3adce",
   "metadata": {},
   "outputs": [
    {
     "name": "stdout",
     "output_type": "stream",
     "text": [
      "Enter the sentence: Hii i am prince kumar singh , \n",
      "List of words: ['Hii', 'i', 'am', 'prince', 'kumar', 'singh', ',']\n"
     ]
    }
   ],
   "source": [
    "def split_string_into_word(text):\n",
    "    words_list = text.split()\n",
    "    return words_list\n",
    "text = input(\"Enter the sentence: \")\n",
    "words = split_string_into_word(text)\n",
    "print(\"List of words:\", words)"
   ]
  },
  {
   "cell_type": "markdown",
   "id": "e9d619dd",
   "metadata": {},
   "source": [
    "15. Join a list of words into a string."
   ]
  },
  {
   "cell_type": "code",
   "execution_count": 42,
   "id": "dab5652e",
   "metadata": {},
   "outputs": [
    {
     "name": "stdout",
     "output_type": "stream",
     "text": [
      "Hii i am prince kumar\n"
     ]
    }
   ],
   "source": [
    "def join_words_into_string(words_list):\n",
    "    joined_string =' '.join(words_list)\n",
    "    return joined_string\n",
    "words = [\"Hii\",\"i\", \"am\",\"prince\",\"kumar\"]\n",
    "text = join_words_into_string(words)\n",
    "print(text)"
   ]
  },
  {
   "cell_type": "markdown",
   "id": "731e843c",
   "metadata": {},
   "source": [
    "16. Convert a string where words are separated by spaces to one where words\n",
    "are separated by underscores."
   ]
  },
  {
   "cell_type": "code",
   "execution_count": 47,
   "id": "e4afe42c",
   "metadata": {},
   "outputs": [
    {
     "name": "stdout",
     "output_type": "stream",
     "text": [
      "Enter the sentenceHii This is prince kumar\n",
      "Converted text:  Hii_This_is_prince_kumar\n"
     ]
    }
   ],
   "source": [
    "def convert_to_underscore_separated(text):\n",
    "    underscore_separated = text.replace(\" \", \"_\")\n",
    "    return underscore_separated\n",
    "\n",
    "text = input(\"Enter the sentence\")\n",
    "converted_text = convert_to_underscore_separated(text)\n",
    "print(\"Converted text: \", converted_text)"
   ]
  },
  {
   "cell_type": "markdown",
   "id": "9da65b12",
   "metadata": {},
   "source": [
    "17. Check if a string starts with a specific word or phrase.\n"
   ]
  },
  {
   "cell_type": "code",
   "execution_count": 52,
   "id": "342a2ff6",
   "metadata": {},
   "outputs": [
    {
     "name": "stdout",
     "output_type": "stream",
     "text": [
      "Enter the string: hii i am prince kumar\n",
      "Enter the word: hii\n",
      "The text starts with the prefix.\n"
     ]
    }
   ],
   "source": [
    "def starts_with(text, prefix):\n",
    "    is_start = text.startswith(prefix)\n",
    "    return is_start\n",
    "text =input(\"Enter the string: \")\n",
    "prefix =input(\"Enter the word: \")\n",
    "\n",
    "result = starts_with(text, prefix)\n",
    "if result:\n",
    "    print(\"The text starts with the prefix.\")\n",
    "else:\n",
    "    print(\"THe text does not start with the prefix.\")"
   ]
  },
  {
   "cell_type": "markdown",
   "id": "c5e9b6c6",
   "metadata": {},
   "source": [
    "18. Check if a string ends with a specific word or phrase.\n"
   ]
  },
  {
   "cell_type": "code",
   "execution_count": 56,
   "id": "165b9ef2",
   "metadata": {},
   "outputs": [
    {
     "name": "stdout",
     "output_type": "stream",
     "text": [
      "Enter the sentence: hi i am prince\n",
      "Enter postfix: prince\n",
      "The text ends with the postfix.\n"
     ]
    }
   ],
   "source": [
    "def ends_with(text, postfix):\n",
    "    is_end= text.endswith(postfix)\n",
    "    return is_end\n",
    "text=input(\"Enter the sentence: \")\n",
    "postfix =input(\"Enter postfix: \")\n",
    "result = ends_with(text, postfix)\n",
    "if result:\n",
    "    print(\"The text ends with the postfix.\")\n",
    "else:\n",
    "    print(\"The text does not  ends with the postfix.\")\n",
    "\n",
    "    \n",
    "    "
   ]
  },
  {
   "cell_type": "markdown",
   "id": "ae963126",
   "metadata": {},
   "source": [
    "19. Convert a string to title case (e.g., \"hello world\" to \"Hello World\").\n"
   ]
  },
  {
   "cell_type": "code",
   "execution_count": 4,
   "id": "7b955663",
   "metadata": {},
   "outputs": [
    {
     "name": "stdout",
     "output_type": "stream",
     "text": [
      "Enter the string: hi i am prince kumar singh\n",
      "Title case : Hi I Am Prince Kumar Singh\n"
     ]
    }
   ],
   "source": [
    "def convert_to_litle_case(text):\n",
    "    # title() method to convert the text to title case.\n",
    "    title_case_text = text.title()\n",
    "    return title_case_text\n",
    "\n",
    "text = input(\"Enter the string: \")\n",
    "title_case_result =convert_to_litle_case(text)\n",
    "print(\"Title case :\",title_case_result)"
   ]
  },
  {
   "cell_type": "markdown",
   "id": "25e73f3d",
   "metadata": {},
   "source": [
    "20. Find the longest word in a string.\n"
   ]
  },
  {
   "cell_type": "code",
   "execution_count": 6,
   "id": "6b8c5cad",
   "metadata": {},
   "outputs": [
    {
     "name": "stdout",
     "output_type": "stream",
     "text": [
      "Enter the string: hii i am prince kumar\n",
      "Longest word:  prince\n"
     ]
    }
   ],
   "source": [
    "def find_longest_word(text):\n",
    "    words = text.split()\n",
    "    longest_word =\" \"\n",
    "    max_length = 0\n",
    "    \n",
    "    for word in words:\n",
    "        if len(word) > max_length:\n",
    "            max_length = len(word)\n",
    "            longest_word = word\n",
    "            \n",
    "    return longest_word  \n",
    "text =input(\"Enter the string: \")\n",
    "longest_word = find_longest_word(text)\n",
    "print(\"Longest word: \", longest_word)\n",
    "            \n",
    "    "
   ]
  },
  {
   "cell_type": "markdown",
   "id": "8293b839",
   "metadata": {},
   "source": [
    "21. Find the shortest word in a string.\n"
   ]
  },
  {
   "cell_type": "code",
   "execution_count": 12,
   "id": "11c661e4",
   "metadata": {},
   "outputs": [
    {
     "name": "stdout",
     "output_type": "stream",
     "text": [
      "Enter the string: hii i am prince kumar\n",
      "Shortest word : i\n"
     ]
    }
   ],
   "source": [
    "def find_shortest_word(text):\n",
    "    words = text.split()\n",
    "    shortest_word = None\n",
    "    min_length = float('inf')\n",
    "    \n",
    "    for word in words:\n",
    "        if len(word) < min_length:\n",
    "            min_length = len(word)\n",
    "            shortest_word = word\n",
    "            \n",
    "    return shortest_word  \n",
    "text = input(\"Enter the string: \")\n",
    "shortest_word = find_shortest_word(text)\n",
    "print(\"Shortest word :\",shortest_word)\n",
    "            "
   ]
  },
  {
   "cell_type": "markdown",
   "id": "1fc25748",
   "metadata": {},
   "source": [
    "22. Reverse the order of words in a string.\n"
   ]
  },
  {
   "cell_type": "code",
   "execution_count": 20,
   "id": "bc49e7c9",
   "metadata": {},
   "outputs": [
    {
     "name": "stdout",
     "output_type": "stream",
     "text": [
      "Enter the string: hii i am prince kumar\n",
      "Reversed Words kumar prince am i hii\n"
     ]
    }
   ],
   "source": [
    "input_string= input(\"Enter the string: \")\n",
    "words= input_string.split()\n",
    "reversed_words = words[::-1]\n",
    "reversed_words = ' '.join(reversed_words)\n",
    "print(\"Reversed Words\",reversed_words)"
   ]
  },
  {
   "cell_type": "markdown",
   "id": "8d047b1f",
   "metadata": {},
   "source": [
    "23. Check if a string is alphanumeric.\n"
   ]
  },
  {
   "cell_type": "code",
   "execution_count": 38,
   "id": "842aa846",
   "metadata": {},
   "outputs": [
    {
     "name": "stdout",
     "output_type": "stream",
     "text": [
      "Enter the text: hii76\n",
      "This string is alphanumeric.\n"
     ]
    }
   ],
   "source": [
    "def is_alphanumeric(text):\n",
    "    if text.isalnum():\n",
    "        return text.isalnum()\n",
    "    \n",
    "text = input(\"Enter the text: \")\n",
    "result = is_alphanumeric(text)\n",
    "if result :\n",
    "    print(\"This string is alphanumeric.\")\n",
    "else:\n",
    "    print(\"This string is not alphanumeric.\")"
   ]
  },
  {
   "cell_type": "markdown",
   "id": "13e1fdc1",
   "metadata": {},
   "source": [
    "24. Extract all digits from a string."
   ]
  },
  {
   "cell_type": "code",
   "execution_count": 39,
   "id": "85995db9",
   "metadata": {},
   "outputs": [
    {
     "name": "stdout",
     "output_type": "stream",
     "text": [
      "Enter the text: prince2344443\n",
      "Extracted digits:  2344443\n"
     ]
    }
   ],
   "source": [
    "def extract_digits(text):\n",
    "    digits =\"\"\n",
    "    \n",
    "    for char in text:\n",
    "        if char.isdigit():\n",
    "            digits += char\n",
    "    return digits\n",
    "text =input(\"Enter the text: \")\n",
    "extracted_digits = extract_digits(text)\n",
    "print(\"Extracted digits: \", extracted_digits)"
   ]
  },
  {
   "cell_type": "markdown",
   "id": "2624fc4b",
   "metadata": {},
   "source": [
    "25. Extract all alphabets from a string.\n"
   ]
  },
  {
   "cell_type": "code",
   "execution_count": 40,
   "id": "7eacba25",
   "metadata": {},
   "outputs": [
    {
     "name": "stdout",
     "output_type": "stream",
     "text": [
      "Enter the textegwlekjglj489705kjiy9\n",
      "Extracted alphabets:  egwlekjgljkjiy\n"
     ]
    }
   ],
   "source": [
    "import re\n",
    "input_string = input(\"Enter the text\")\n",
    "alphabets = re.findall(r'[a-zA-Z]',input_string)\n",
    "result_string = ''.join(alphabets)\n",
    "print(\"Extracted alphabets: \", result_string)"
   ]
  },
  {
   "cell_type": "markdown",
   "id": "88972245",
   "metadata": {},
   "source": [
    "26. Count the number of uppercase letters in a string.\n"
   ]
  },
  {
   "cell_type": "code",
   "execution_count": 42,
   "id": "010f77bd",
   "metadata": {},
   "outputs": [
    {
     "name": "stdout",
     "output_type": "stream",
     "text": [
      "Enter the textHii, I am Prince kumar, PATNA\n",
      "Total count of Uppercase is  8\n"
     ]
    }
   ],
   "source": [
    "def count_uppercase(text):\n",
    "    uppercase_count = sum(1 for char in text if char.isupper())\n",
    "    return uppercase_count\n",
    "input_string = input(\"Enter the text\")\n",
    "result = count_uppercase(input_string)\n",
    "print(\"Total count of Uppercase is \",result)\n",
    "\n",
    "    "
   ]
  },
  {
   "cell_type": "markdown",
   "id": "07e14baf",
   "metadata": {},
   "source": [
    "27. Count the number of lowercase letters in a string.\n"
   ]
  },
  {
   "cell_type": "code",
   "execution_count": 44,
   "id": "3b70ca95",
   "metadata": {},
   "outputs": [
    {
     "name": "stdout",
     "output_type": "stream",
     "text": [
      "Enter the text: Hii , I am prince kumar SINGH\n",
      "Total number of lowercase letters is  15\n"
     ]
    }
   ],
   "source": [
    "def count_lowercase(text):\n",
    "    lowercase_count =sum(1 for char in text if char.islower())\n",
    "    return lowercase_count \n",
    "input_string = input(\"Enter the text: \")\n",
    "result = count_lowercase(input_string)\n",
    "print(\"Total number of lowercase letters is \",result)"
   ]
  },
  {
   "cell_type": "markdown",
   "id": "f6103a17",
   "metadata": {},
   "source": [
    "28. Swap the case of each character in a string.\n"
   ]
  },
  {
   "cell_type": "code",
   "execution_count": 46,
   "id": "50035442",
   "metadata": {},
   "outputs": [
    {
     "name": "stdout",
     "output_type": "stream",
     "text": [
      "Enter the string: Hii , I am prince KUMAR SiNgH\n",
      "Swapped case string: hII , i AM PRINCE kumar sInGh\n"
     ]
    }
   ],
   "source": [
    "input_string = input(\"Enter the string: \")\n",
    "swapped_string = input_string.swapcase()\n",
    "print(\"Swapped case string:\", swapped_string)"
   ]
  },
  {
   "cell_type": "markdown",
   "id": "3fe7e7e8",
   "metadata": {},
   "source": [
    "29. Remove a specific word from a string.\n"
   ]
  },
  {
   "cell_type": "code",
   "execution_count": 48,
   "id": "6ed1d25d",
   "metadata": {},
   "outputs": [
    {
     "name": "stdout",
     "output_type": "stream",
     "text": [
      "Enter the string: Hii!, i am prince kumar\n",
      "Enter the word  do you want to remove : kumar\n",
      "Hii!, i am prince\n"
     ]
    }
   ],
   "source": [
    "def remove_word(input_string, word_to_remove):\n",
    "    words= input_string.split()\n",
    "    filtered_string = [word for word in words if word != word_to_remove]\n",
    "    modified_string = ' '.join(filtered_string)\n",
    "    return modified_string\n",
    "input_string =input(\"Enter the string: \")\n",
    "word_to_remove =input(\"Enter the word  do you want to remove : \")\n",
    "\n",
    "result =remove_word(input_string, word_to_remove)\n",
    "print(result)"
   ]
  },
  {
   "cell_type": "markdown",
   "id": "d1b5e82b",
   "metadata": {},
   "source": [
    "30. Check if a string is a valid email address."
   ]
  },
  {
   "cell_type": "code",
   "execution_count": 49,
   "id": "fcb8e45b",
   "metadata": {},
   "outputs": [
    {
     "name": "stdout",
     "output_type": "stream",
     "text": [
      "True\n",
      "False\n"
     ]
    }
   ],
   "source": [
    "import re\n",
    "def is_valid_email(email):\n",
    "    pattern = r'^[\\w\\.-]+@[\\w\\.-]+\\.\\w+$'\n",
    "    if re.match(pattern, email):\n",
    "        return True\n",
    "    else:\n",
    "        return False\n",
    "    \n",
    "email1= \"sayprincekumar20@gmail.com\"\n",
    "email2= \"princeSingh\"\n",
    "result1= is_valid_email(email1)\n",
    "result2 = is_valid_email(email2)\n",
    "print(result1)\n",
    "print(result2)"
   ]
  },
  {
   "cell_type": "markdown",
   "id": "e689a5c5",
   "metadata": {},
   "source": [
    "31. Extract the username from an email address string.\n"
   ]
  },
  {
   "cell_type": "code",
   "execution_count": 67,
   "id": "23968864",
   "metadata": {},
   "outputs": [
    {
     "name": "stdout",
     "output_type": "stream",
     "text": [
      "Enter the emailId: Sayprincekumar@gmail.com\n",
      "Sayprincekumar\n"
     ]
    }
   ],
   "source": [
    "import re\n",
    "def extract_username(email):\n",
    "    pattern = r'^[\\w\\.-]+@[\\w\\.-]+\\.\\w+$'\n",
    "    if re.match(pattern, email):  \n",
    "        username =email.split('@')[0]\n",
    "        return  username     \n",
    "    else:\n",
    "        return \" Invalid Email\"\n",
    "email = input(\"Enter the emailId: \")\n",
    "result = extract_username(email)\n",
    "print(result)"
   ]
  },
  {
   "cell_type": "markdown",
   "id": "a97520a4",
   "metadata": {},
   "source": [
    "32. Extract the domain name from an email address string.\n"
   ]
  },
  {
   "cell_type": "code",
   "execution_count": 71,
   "id": "4af0342a",
   "metadata": {},
   "outputs": [
    {
     "name": "stdout",
     "output_type": "stream",
     "text": [
      "Enter the email: saypeincekumar@gmail.com\n",
      "gmail.com\n"
     ]
    }
   ],
   "source": [
    "import re\n",
    "def extract_domain(email):\n",
    "    pattern = r'^[\\w\\.-]+@[\\w\\.-]+\\.\\w+$'\n",
    "    if re.match(pattern, email):\n",
    "        domain =email.split('@')[1]\n",
    "        return domain\n",
    "    else:\n",
    "        return \"Invalid Domain\"\n",
    "email= input(\"Enter the email: \")\n",
    "result =extract_domain(email)\n",
    "print(result)\n",
    "    "
   ]
  },
  {
   "cell_type": "markdown",
   "id": "6e40c227",
   "metadata": {},
   "source": [
    "33. Replace multiple spaces in a string with a single space.\n"
   ]
  },
  {
   "cell_type": "code",
   "execution_count": 72,
   "id": "b3eb8acd",
   "metadata": {},
   "outputs": [
    {
     "name": "stdout",
     "output_type": "stream",
     "text": [
      "Enter the stringHii    i   am    prince    kumar\n",
      "Hii i am prince kumar\n"
     ]
    }
   ],
   "source": [
    "def replace_multiple_spaces(input_string):\n",
    "    replaced_string =' '.join(input_string.split())\n",
    "    return replaced_string\n",
    "input_string = input(\"Enter the string\")\n",
    "result =replace_multiple_spaces(input_string)\n",
    "print(result)"
   ]
  },
  {
   "cell_type": "markdown",
   "id": "2f9b087a",
   "metadata": {},
   "source": [
    "34. Check if a string is a valid URL.\n"
   ]
  },
  {
   "cell_type": "code",
   "execution_count": 82,
   "id": "c720caaf",
   "metadata": {},
   "outputs": [
    {
     "name": "stdout",
     "output_type": "stream",
     "text": [
      "Enter ulr: https://www.youtube.com/playlist?list=PL8BXQ4M4SYoaMrucr0-BRmDZNhRkOlGdr\n",
      "True\n"
     ]
    }
   ],
   "source": [
    "from urllib.parse import urlparse\n",
    "\n",
    "def is_valid_url(url):\n",
    "    try:\n",
    "        result= urlparse(url)\n",
    "        return all([result.scheme, result.netloc])\n",
    "    except ValueError:\n",
    "        return False\n",
    "url =   input(\"Enter ulr: \")\n",
    "\n",
    "result = is_valid_url(url)\n",
    "print(result1)\n"
   ]
  },
  {
   "cell_type": "markdown",
   "id": "99743952",
   "metadata": {},
   "source": [
    "35. Extract the protocol (http or https) from a URL string.\n"
   ]
  },
  {
   "cell_type": "code",
   "execution_count": 86,
   "id": "2aed8d66",
   "metadata": {},
   "outputs": [
    {
     "name": "stdout",
     "output_type": "stream",
     "text": [
      "Enter urlhttps://www.youtube.com/playlist?list=PL8BXQ4M4SYoaMrucr0-BRmDZNhRkOlGdr\n",
      "https\n"
     ]
    }
   ],
   "source": [
    "def extract_protocol(url):\n",
    "    protocol_end = url.find(\"://\")\n",
    "    if protocol_end != -1 :\n",
    "        protocol = url[:protocol_end]\n",
    "        return protocol\n",
    "    else:\n",
    "        return None\n",
    "    \n",
    "url1 = input(\"Enter url\")\n",
    "protocol= extract_protocol(url)\n",
    "print(protocol)\n",
    "    \n",
    "    \n"
   ]
  },
  {
   "cell_type": "markdown",
   "id": "6462f597",
   "metadata": {},
   "source": [
    "36. Find the frequency of each character in a string.\n"
   ]
  },
  {
   "cell_type": "code",
   "execution_count": 93,
   "id": "756fd735",
   "metadata": {},
   "outputs": [
    {
     "name": "stdout",
     "output_type": "stream",
     "text": [
      "Enter the string: princr singh\n",
      "Character: 'p', Frequency: 1\n",
      "Character: 'r', Frequency: 2\n",
      "Character: 'i', Frequency: 2\n",
      "Character: 'n', Frequency: 2\n",
      "Character: 'c', Frequency: 1\n",
      "Character: ' ', Frequency: 1\n",
      "Character: 's', Frequency: 1\n",
      "Character: 'g', Frequency: 1\n",
      "Character: 'h', Frequency: 1\n"
     ]
    }
   ],
   "source": [
    "def character_frequency(input_string):\n",
    "    frequency = {}\n",
    "    \n",
    "    for char in input_string:\n",
    "        if char in frequency:\n",
    "            frequency[char] += 1\n",
    "        else:\n",
    "            frequency[char] =1\n",
    "    return frequency\n",
    "input_string =input(\"Enter the string: \")\n",
    "\n",
    "char_freq = character_frequency(input_string)\n",
    "for char, freq in char_freq.items():\n",
    "    print(f\"Character: '{char}', Frequency: {freq}\")\n",
    "\n",
    "            "
   ]
  },
  {
   "cell_type": "markdown",
   "id": "4546c38f",
   "metadata": {},
   "source": [
    "37. Remove all punctuation from a string.\n"
   ]
  },
  {
   "cell_type": "code",
   "execution_count": 94,
   "id": "3eb641c8",
   "metadata": {},
   "outputs": [
    {
     "name": "stdout",
     "output_type": "stream",
     "text": [
      "Enter the string: Hii!, I am prince kumar,\n",
      "Original string:  Hii!, I am prince kumar,\n",
      "Cleaned string:  Hii I am prince kumar\n"
     ]
    }
   ],
   "source": [
    "import string\n",
    "def remove_punctuation(input_string):\n",
    "    translator = str.maketrans(\"\",\"\", string.punctuation)\n",
    "    clean_string = input_string.translate(translator)\n",
    "    \n",
    "    return clean_string\n",
    "\n",
    "input_str = input(\"Enter the string: \")\n",
    "cleaned_str = remove_punctuation(input_str)\n",
    "\n",
    "print(\"Original string: \", input_str)\n",
    "print(\"Cleaned string: \", cleaned_str)\n"
   ]
  },
  {
   "cell_type": "markdown",
   "id": "66038b05",
   "metadata": {},
   "source": [
    "38. Check if a string contains only digits.\n"
   ]
  },
  {
   "cell_type": "code",
   "execution_count": 98,
   "id": "bd24a414",
   "metadata": {},
   "outputs": [
    {
     "name": "stdout",
     "output_type": "stream",
     "text": [
      "Enter the string: prince233333\n",
      "prince233333 contails only digits: False\n"
     ]
    }
   ],
   "source": [
    "def check_digits(input_string):\n",
    "    if input_string.isdigit():\n",
    "        return True\n",
    "    else:\n",
    "        return False\n",
    "input_string = input(\"Enter the string: \")\n",
    "result = check_digits(input_string)\n",
    "print(f\"{input_string} contails only digits: {result}\")"
   ]
  },
  {
   "cell_type": "markdown",
   "id": "11ae915f",
   "metadata": {},
   "source": [
    "39. Check if a string contains only alphabets.\n"
   ]
  },
  {
   "cell_type": "code",
   "execution_count": 105,
   "id": "c32aa288",
   "metadata": {},
   "outputs": [
    {
     "name": "stdout",
     "output_type": "stream",
     "text": [
      "Enter the string: shiana\n",
      "shiana contains only alphabets : True\n"
     ]
    }
   ],
   "source": [
    "def check_alphabets(input_string):\n",
    "    if input_string.isalpha():\n",
    "        return True\n",
    "    else:\n",
    "        return False\n",
    "    \n",
    "input_string =input(\"Enter the string: \")\n",
    "result= check_alphabets(input_string)\n",
    "print(f\"{input_string} contains only alphabets : {result}\")\n"
   ]
  },
  {
   "cell_type": "markdown",
   "id": "b5220da8",
   "metadata": {},
   "source": [
    "40. Convert a string to a list of characters.\n"
   ]
  },
  {
   "cell_type": "code",
   "execution_count": 106,
   "id": "2e10ca5f",
   "metadata": {},
   "outputs": [
    {
     "name": "stdout",
     "output_type": "stream",
     "text": [
      "Enter the string: hii i am prijnce kumar\n",
      "['h', 'i', 'i', ' ', 'i', ' ', 'a', 'm', ' ', 'p', 'r', 'i', 'j', 'n', 'c', 'e', ' ', 'k', 'u', 'm', 'a', 'r']\n"
     ]
    }
   ],
   "source": [
    "def string_to_list(input_string):\n",
    "    char_list = list(input_string)\n",
    "    return char_list\n",
    "input_string= input(\"Enter the string: \")\n",
    "char_list = string_to_list(input_string)\n",
    "print(char_list)"
   ]
  },
  {
   "cell_type": "markdown",
   "id": "fd055cf7",
   "metadata": {},
   "source": [
    "41. Check if two strings are anagrams."
   ]
  },
  {
   "cell_type": "code",
   "execution_count": 108,
   "id": "fd5ba0a9",
   "metadata": {},
   "outputs": [
    {
     "name": "stdout",
     "output_type": "stream",
     "text": [
      "Enter the string: prince\n",
      "Enter the string: shaina\n",
      "prince and 'shaina' are anagrams: True\n"
     ]
    }
   ],
   "source": [
    "def are_anagrams(str1, str2):\n",
    "    str1= str1.replace(\" \",\"\").lower()\n",
    "    str2= str2.replace(\" \",\"\").lower()\n",
    "    return sorted(str1) == sorted(str2)\n",
    "string1 =input(\"Enter the string: \")\n",
    "string2 = input(\"Enter the string: \")\n",
    "result1 = are_anagrams(string1, string2)\n",
    "print(f\"{string1} and '{string2}' are anagrams:\", result)"
   ]
  },
  {
   "cell_type": "markdown",
   "id": "38ba617c",
   "metadata": {},
   "source": [
    "47. Check if a string contains any special characters.\n"
   ]
  },
  {
   "cell_type": "code",
   "execution_count": 113,
   "id": "45344176",
   "metadata": {},
   "outputs": [
    {
     "name": "stdout",
     "output_type": "stream",
     "text": [
      "Enter the string: Hello World!,,,,\n",
      " 'Hello World!,,,,' contains special characters:  False\n"
     ]
    }
   ],
   "source": [
    "import re\n",
    "def constains_special_characters(input_string):\n",
    "    pattern = re.compile(r'[!@#$%^&*()_+{}\\[\\]:;<>,.?~\\\\/]')\n",
    "    match = pattern.search(input_string)\n",
    "    \n",
    "    return bool(match)\n",
    "\n",
    "string = input(\"Enter the string: \")\n",
    "result = constains_special_characters(input_string)\n",
    "print(f\" '{string}' contains special characters: \",result)\n",
    "\n"
   ]
  },
  {
   "cell_type": "markdown",
   "id": "40da2664",
   "metadata": {},
   "source": [
    "48. Remove the nth word from a string.\n"
   ]
  },
  {
   "cell_type": "code",
   "execution_count": 116,
   "id": "ffbd0968",
   "metadata": {},
   "outputs": [
    {
     "name": "stdout",
     "output_type": "stream",
     "text": [
      "Enter the string: hii i am prince\n",
      "Enter the nTh value: 1\n",
      "original string:  hii i am prince\n",
      "Modified string:  i am prince\n",
      "Removed word:  hii\n"
     ]
    }
   ],
   "source": [
    "def remove_nth_word(input_string, n):\n",
    "    words = input_string.split()\n",
    "    if n >=1 and n <= len(words):\n",
    "        removed_word = words.pop(n-1)\n",
    "        modified_string =' '.join(words)\n",
    "        \n",
    "        return modified_string, removed_word\n",
    "    else:\n",
    "        return None, None\n",
    "\n",
    "input_string = input(\"Enter the string: \")\n",
    "n_value = int(input(\"Enter the nTh value: \"))\n",
    "modified_str, removed_word = remove_nth_word(input_string, n_value)\n",
    "print(\"original string: \", input_string)\n",
    "if modified_str is not None:\n",
    "    print(\"Modified string: \",modified_str)\n",
    "    print(\"Removed word: \",removed_word)\n",
    "else:\n",
    "    print(\"Invalid n value.\")\n",
    "    "
   ]
  },
  {
   "cell_type": "markdown",
   "id": "8e09d4e8",
   "metadata": {},
   "source": [
    "49. Insert a word at the nth position in a string.\n"
   ]
  },
  {
   "cell_type": "code",
   "execution_count": 127,
   "id": "78e66aca",
   "metadata": {},
   "outputs": [
    {
     "name": "stdout",
     "output_type": "stream",
     "text": [
      "Enter the string: hii i am prince\n",
      "Enter a  word: kumar\n",
      "Enter the postion: 11\n",
      "hii i am pr kumar ince\n"
     ]
    }
   ],
   "source": [
    "def insert_word_at_nth_position(original_string, word_to_insert, n):\n",
    "    if n < 0:\n",
    "        n = 0\n",
    "    if n > len(original_string):\n",
    "        n = len(original_string)\n",
    "    \n",
    "    return original_string[:n] +' '+ word_to_insert+' ' + original_string[n:]\n",
    "\n",
    "original_string =input(\"Enter the string: \")\n",
    "word_to_insert = input(\"Enter a  word: \")\n",
    "n= int(input(\"Enter the postion: \"))\n",
    "\n",
    "new_string = insert_word_at_nth_position(original_string, word_to_insert, n)\n",
    "print(new_string)\n"
   ]
  },
  {
   "cell_type": "markdown",
   "id": "879a01e6",
   "metadata": {},
   "source": [
    "50. Convert a CSV string to a list of lists."
   ]
  },
  {
   "cell_type": "code",
   "execution_count": 128,
   "id": "02a8fed8",
   "metadata": {},
   "outputs": [
    {
     "name": "stdout",
     "output_type": "stream",
     "text": [
      "['Name', ' Age', ' Country']\n",
      "['John', ' 25', ' USA']\n",
      "['Alice', ' 30', ' Canada']\n",
      "['Bob', ' 22', ' UK']\n"
     ]
    }
   ],
   "source": [
    "def csv_string_to_list(csv_string):\n",
    "    # Split the CSV string into lines\n",
    "    lines = csv_string.split('\\n')\n",
    "\n",
    "    # Initialize an empty list to store the result\n",
    "    result = []\n",
    "\n",
    "    for line in lines:\n",
    "        fields = line.split(',')\n",
    "\n",
    "        result.append(fields)\n",
    "\n",
    "    return result\n",
    "\n",
    "# Example CSV string\n",
    "csv_data = \"Name, Age, Country\\nJohn, 25, USA\\nAlice, 30, Canada\\nBob, 22, UK\"\n",
    "\n",
    "# Convert CSV string to a list of lists\n",
    "list_of_lists = csv_string_to_list(csv_data)\n",
    "\n",
    "# Print the result\n",
    "for row in list_of_lists:\n",
    "    print(row)"
   ]
  },
  {
   "cell_type": "markdown",
   "id": "913e82ea",
   "metadata": {},
   "source": [
    "# List Based Practice Problem :\n"
   ]
  },
  {
   "cell_type": "markdown",
   "id": "26a14f5a",
   "metadata": {},
   "source": [
    "1. Create a list with integers from 1 to 10.\n"
   ]
  },
  {
   "cell_type": "code",
   "execution_count": 130,
   "id": "a36869a4",
   "metadata": {},
   "outputs": [
    {
     "name": "stdout",
     "output_type": "stream",
     "text": [
      "[1, 2, 3, 4, 5, 6, 7, 8, 9, 10]\n"
     ]
    }
   ],
   "source": [
    "integer_list =[i for i in range(1,11)]\n",
    "print(integer_list)"
   ]
  },
  {
   "cell_type": "markdown",
   "id": "279a7f04",
   "metadata": {},
   "source": [
    "2. Find the length of a list without using the `len()` function.\n"
   ]
  },
  {
   "cell_type": "code",
   "execution_count": 133,
   "id": "d990a899",
   "metadata": {},
   "outputs": [
    {
     "name": "stdout",
     "output_type": "stream",
     "text": [
      "Lenght of the list:  5\n"
     ]
    }
   ],
   "source": [
    "def find_list_length(input_list):\n",
    "    count =0\n",
    "    for _ in input_list:\n",
    "        count += 1\n",
    "    return count\n",
    "\n",
    "my_list =[1,2,3,4,5]\n",
    "length = find_list_length(my_list)\n",
    "print(\"Lenght of the list: \", length)"
   ]
  },
  {
   "cell_type": "markdown",
   "id": "ccf11606",
   "metadata": {},
   "source": [
    "3. Append an element to the end of a list.\n"
   ]
  },
  {
   "cell_type": "code",
   "execution_count": 134,
   "id": "2a444c9f",
   "metadata": {},
   "outputs": [
    {
     "name": "stdout",
     "output_type": "stream",
     "text": [
      "Updated list:  [1, 2, 3, 4, 5, 10]\n"
     ]
    }
   ],
   "source": [
    "my_list = [1,2,3,4,5]\n",
    "new_element =10\n",
    "my_list.append(new_element)\n",
    "print(\"Updated list: \", my_list)"
   ]
  },
  {
   "cell_type": "markdown",
   "id": "25b41e6f",
   "metadata": {},
   "source": [
    "4. Insert an element at a specific index in a list.\n"
   ]
  },
  {
   "cell_type": "code",
   "execution_count": 135,
   "id": "2bb692d2",
   "metadata": {},
   "outputs": [
    {
     "name": "stdout",
     "output_type": "stream",
     "text": [
      "Updated list:  [1, 2, 3, 10, 4, 5, 6]\n"
     ]
    }
   ],
   "source": [
    "my_list = [1,2,3,4,5,6]\n",
    "new_element =10\n",
    "index_to_insert = 3\n",
    "\n",
    "my_list.insert(index_to_insert, new_element)\n",
    "print(\"Updated list: \", my_list)"
   ]
  },
  {
   "cell_type": "markdown",
   "id": "f780d342",
   "metadata": {},
   "source": [
    "5. Remove an element from a list by its value.\n"
   ]
  },
  {
   "cell_type": "code",
   "execution_count": 136,
   "id": "ef0246aa",
   "metadata": {},
   "outputs": [
    {
     "name": "stdout",
     "output_type": "stream",
     "text": [
      "Updated list:  [1, 2, 3, 4]\n"
     ]
    }
   ],
   "source": [
    "my_list = [1,2,3,4,5]\n",
    "element_to_removed = 5\n",
    "my_list.remove(element_to_removed)\n",
    "print(\"Updated list: \", my_list)"
   ]
  },
  {
   "cell_type": "markdown",
   "id": "286a79b0",
   "metadata": {},
   "source": [
    "6. Remove an element from a list by its index.\n"
   ]
  },
  {
   "cell_type": "code",
   "execution_count": 140,
   "id": "eab58481",
   "metadata": {},
   "outputs": [
    {
     "name": "stdout",
     "output_type": "stream",
     "text": [
      "Enter the index: 2\n",
      "Removed element:  3\n",
      "Updated List : [1, 2, 4, 5]\n"
     ]
    }
   ],
   "source": [
    "my_list = [1,2,3,4,5]\n",
    "element_to_removed_by_index = int(input(\"Enter the index: \"))\n",
    "\n",
    "removed_element = my_list.pop(element_to_removed_by_index)\n",
    "print(\"Removed element: \", removed_element)\n",
    "print(\"Updated List :\",my_list)\n"
   ]
  },
  {
   "cell_type": "markdown",
   "id": "45e73768",
   "metadata": {},
   "source": [
    "7. Check if an element exists in a list.\n"
   ]
  },
  {
   "cell_type": "code",
   "execution_count": 142,
   "id": "6fad3392",
   "metadata": {},
   "outputs": [
    {
     "name": "stdout",
     "output_type": "stream",
     "text": [
      "Enter the element: 5\n",
      "5 exists in the list.\n"
     ]
    }
   ],
   "source": [
    "my_list = [1,2,3,4,5]\n",
    "element_to_check = int(input(\"Enter the element: \"))\n",
    "\n",
    "if element_to_check in my_list:\n",
    "    print(f\"{element_to_check} exists in the list.\")\n",
    "    \n",
    "else:\n",
    "    print(f\"{element_to_check} does not exists in the list.\" )"
   ]
  },
  {
   "cell_type": "markdown",
   "id": "3375893f",
   "metadata": {},
   "source": [
    "8. Find the index of the first occurrence of an element in a list.\n"
   ]
  },
  {
   "cell_type": "code",
   "execution_count": 143,
   "id": "c4baf790",
   "metadata": {},
   "outputs": [
    {
     "name": "stdout",
     "output_type": "stream",
     "text": [
      "The index of 30 is 2\n"
     ]
    }
   ],
   "source": [
    "my_list =[10,20,30,40,50]\n",
    "element_to_find = 30\n",
    "index = my_list.index(element_to_find)\n",
    "print(f\"The index of {element_to_find} is {index}\")\n"
   ]
  },
  {
   "cell_type": "markdown",
   "id": "98e16068",
   "metadata": {},
   "source": [
    "9. Count the occurrences of an element in a list.\n"
   ]
  },
  {
   "cell_type": "code",
   "execution_count": 145,
   "id": "162114d4",
   "metadata": {},
   "outputs": [
    {
     "name": "stdout",
     "output_type": "stream",
     "text": [
      "The element 30 occurs 2 times in the list.\n"
     ]
    }
   ],
   "source": [
    "my_list =[10,20,30,40,50,30]\n",
    "\n",
    "element_to_count = 30\n",
    "count = my_list.count(element_to_count)\n",
    "print(f\"The element {element_to_count} occurs {count} times in the list.\")"
   ]
  },
  {
   "cell_type": "markdown",
   "id": "52122fe2",
   "metadata": {},
   "source": [
    "10. Reverse the order of elements in a list.\n"
   ]
  },
  {
   "cell_type": "code",
   "execution_count": 150,
   "id": "bd86fd97",
   "metadata": {},
   "outputs": [
    {
     "name": "stdout",
     "output_type": "stream",
     "text": [
      "Reversed list:  [50, 40, 30, 20, 10]\n"
     ]
    }
   ],
   "source": [
    "my_list = [10,20,30,40,50]\n",
    "my_list.reverse()\n",
    "print(\"Reversed list: \",my_list)\n"
   ]
  },
  {
   "cell_type": "markdown",
   "id": "413aab22",
   "metadata": {},
   "source": [
    "11. Sort a list in ascending order.\n"
   ]
  },
  {
   "cell_type": "code",
   "execution_count": 151,
   "id": "77ac0c02",
   "metadata": {},
   "outputs": [
    {
     "name": "stdout",
     "output_type": "stream",
     "text": [
      "Sorted list in ascending order:  [10, 20, 30, 40, 50]\n"
     ]
    }
   ],
   "source": [
    "my_list = [50,40,30,20,10]\n",
    "my_list.sort()\n",
    "print(\"Sorted list in ascending order: \", my_list)"
   ]
  },
  {
   "cell_type": "markdown",
   "id": "4a0d5983",
   "metadata": {},
   "source": [
    "12. Sort a list in descending order.\n"
   ]
  },
  {
   "cell_type": "code",
   "execution_count": 152,
   "id": "336a91a9",
   "metadata": {},
   "outputs": [
    {
     "name": "stdout",
     "output_type": "stream",
     "text": [
      "Sorted list in descending order : [50, 40, 30, 20, 10]\n"
     ]
    }
   ],
   "source": [
    "my_list =[20,10,40,50,30]\n",
    "my_list.sort(reverse= True)\n",
    "print(\"Sorted list in descending order :\", my_list)"
   ]
  },
  {
   "cell_type": "markdown",
   "id": "e666db78",
   "metadata": {},
   "source": [
    "13. Create a list of even numbers from 1 to 20.\n"
   ]
  },
  {
   "cell_type": "code",
   "execution_count": 153,
   "id": "139f4611",
   "metadata": {},
   "outputs": [
    {
     "name": "stdout",
     "output_type": "stream",
     "text": [
      "List of even number:  [2, 4, 6, 8, 10, 12, 14, 16, 18, 20]\n"
     ]
    }
   ],
   "source": [
    "even_number_list = [x for x in range(2,21,2)]\n",
    "print(\"List of even number: \", even_number_list)"
   ]
  },
  {
   "cell_type": "markdown",
   "id": "89783d1e",
   "metadata": {},
   "source": [
    "14. Create a list of odd numbers from 1 to 20."
   ]
  },
  {
   "cell_type": "code",
   "execution_count": 154,
   "id": "86503d9a",
   "metadata": {},
   "outputs": [
    {
     "name": "stdout",
     "output_type": "stream",
     "text": [
      "List of odd number:  [1, 3, 5, 7, 9, 11, 13, 15, 17, 19]\n"
     ]
    }
   ],
   "source": [
    "odd_number_list = [x for x in range(1,20,2)]\n",
    "print(\"List of odd number: \", odd_number_list)"
   ]
  },
  {
   "cell_type": "markdown",
   "id": "72d368e1",
   "metadata": {},
   "source": [
    "15. Find the sum of all elements in a list.\n"
   ]
  },
  {
   "cell_type": "code",
   "execution_count": 155,
   "id": "18520ab5",
   "metadata": {},
   "outputs": [
    {
     "name": "stdout",
     "output_type": "stream",
     "text": [
      "Sum of list:  150\n"
     ]
    }
   ],
   "source": [
    "my_list = [10,20,30,40,50]\n",
    "sum_of_list = sum(my_list)\n",
    "print(\"Sum of list: \", sum_of_list)"
   ]
  },
  {
   "cell_type": "markdown",
   "id": "640437f3",
   "metadata": {},
   "source": [
    "16. Find the maximum value in a list.\n"
   ]
  },
  {
   "cell_type": "code",
   "execution_count": 157,
   "id": "cd705908",
   "metadata": {},
   "outputs": [
    {
     "name": "stdout",
     "output_type": "stream",
     "text": [
      "Max in the list:  50\n"
     ]
    }
   ],
   "source": [
    "my_list = [10,20,30,40,50]\n",
    "max_in_list = max(my_list)\n",
    "print(\"Max in the list: \",max_in_list)"
   ]
  },
  {
   "cell_type": "markdown",
   "id": "8c25a103",
   "metadata": {},
   "source": [
    "17. Find the minimum value in a list.\n"
   ]
  },
  {
   "cell_type": "code",
   "execution_count": 158,
   "id": "4ec51ff3",
   "metadata": {},
   "outputs": [
    {
     "name": "stdout",
     "output_type": "stream",
     "text": [
      "Minimum in the list:  10\n"
     ]
    }
   ],
   "source": [
    "my_list = [10,20,30,40,50]\n",
    "min_in_list = min(my_list)\n",
    "print(\"Minimum in the list: \", min_in_list)"
   ]
  },
  {
   "cell_type": "markdown",
   "id": "4d458410",
   "metadata": {},
   "source": [
    "18. Create a list of squares of numbers from 1 to 10.\n"
   ]
  },
  {
   "cell_type": "code",
   "execution_count": 159,
   "id": "005aebe0",
   "metadata": {},
   "outputs": [
    {
     "name": "stdout",
     "output_type": "stream",
     "text": [
      "List of squares [1, 4, 9, 16, 25, 36, 49, 64, 81, 100]\n"
     ]
    }
   ],
   "source": [
    "my_list =[x**2  for x in range(1,11)]\n",
    "print(\"List of squares\",my_list)"
   ]
  },
  {
   "cell_type": "markdown",
   "id": "df88a8ce",
   "metadata": {},
   "source": [
    "19. Create a list of random numbers.\n"
   ]
  },
  {
   "cell_type": "code",
   "execution_count": 161,
   "id": "ea6ed8c0",
   "metadata": {},
   "outputs": [
    {
     "name": "stdout",
     "output_type": "stream",
     "text": [
      "List of random integers:  [51, 79, 32, 95, 69, 2, 3, 29, 88, 81]\n"
     ]
    }
   ],
   "source": [
    "import random\n",
    "random_integers = [random.randint(1,100) for _ in range(10)]\n",
    "print(\"List of random integers: \", random_integers)"
   ]
  },
  {
   "cell_type": "markdown",
   "id": "e2a50a5f",
   "metadata": {},
   "source": [
    "20. Remove duplicates from a list.\n"
   ]
  },
  {
   "cell_type": "code",
   "execution_count": 162,
   "id": "f61a9be4",
   "metadata": {},
   "outputs": [
    {
     "name": "stdout",
     "output_type": "stream",
     "text": [
      "Unique list:  [1, 2, 3, 4, 5, 6, 40, 10, 20]\n"
     ]
    }
   ],
   "source": [
    "my_list =[1,2,3,4,5,6,5,10,20,10,3,40,20]\n",
    "unique_list = list(set(my_list))\n",
    "print(\"Unique list: \", unique_list)"
   ]
  },
  {
   "cell_type": "markdown",
   "id": "32f7455b",
   "metadata": {},
   "source": [
    "21. Find the common elements between two lists.\n"
   ]
  },
  {
   "cell_type": "code",
   "execution_count": 168,
   "id": "9d92de10",
   "metadata": {},
   "outputs": [
    {
     "name": "stdout",
     "output_type": "stream",
     "text": [
      "[10, 20, 30, 40, 50]\n"
     ]
    }
   ],
   "source": [
    "list1 =[10,20,30,40,50,1,2,3,4,5,6,7]\n",
    "list2 =[10,20,30,40,50,11,12,23,11,15]\n",
    "#common_list= list(set(list1).intersection(list2))\n",
    "common_list= [element for element in list1 if element in list2]\n",
    "print(common_list)"
   ]
  },
  {
   "cell_type": "markdown",
   "id": "c7235dc9",
   "metadata": {},
   "source": [
    "22. Find the difference between two lists.\n"
   ]
  },
  {
   "cell_type": "code",
   "execution_count": 171,
   "id": "2aa00102",
   "metadata": {},
   "outputs": [
    {
     "name": "stdout",
     "output_type": "stream",
     "text": [
      "[1, 2, 3, 4, 5, 6]\n"
     ]
    }
   ],
   "source": [
    "list1 =[10,20,30,40,50,1,2,3,4,5,6,7]\n",
    "list2 =[10,20,30,40,50,11,12,23,11,15,7]\n",
    "difference_element= list(set(list1).difference(list2))\n",
    "#difference_element= [element for element in list1 if element not in list2]\n",
    "print(difference_element)"
   ]
  },
  {
   "cell_type": "markdown",
   "id": "7be9c8fa",
   "metadata": {},
   "source": [
    "23. Merge two lists.\n"
   ]
  },
  {
   "cell_type": "code",
   "execution_count": 182,
   "id": "59be23a5",
   "metadata": {},
   "outputs": [
    {
     "name": "stdout",
     "output_type": "stream",
     "text": [
      "[10, 20, 30, 40, 50, 1, 2, 3, 4, 5, 6, 7, 10, 20, 30, 40, 50, 11, 12, 23, 11, 15]\n"
     ]
    }
   ],
   "source": [
    "list1 =[10,20,30,40,50,1,2,3,4,5,6,7]\n",
    "list2 =[10,20,30,40,50,11,12,23,11,15]\n",
    "merge_list= list1+ list2\n",
    "#list1.extend(list2)\n",
    "#print(list1)\n",
    "print(merge_list)"
   ]
  },
  {
   "cell_type": "markdown",
   "id": "f676bb1e",
   "metadata": {},
   "source": [
    "24. Multiply all elements in a list by 2.\n"
   ]
  },
  {
   "cell_type": "code",
   "execution_count": 185,
   "id": "5982e655",
   "metadata": {},
   "outputs": [
    {
     "name": "stdout",
     "output_type": "stream",
     "text": [
      "Multiplied List:  [2, 4, 6, 8, 10, 12, 14]\n"
     ]
    }
   ],
   "source": [
    "list= [1,2,3,4,5,6,7]\n",
    "multiplied_list = [item*2 for item in list] \n",
    "print(\"Multiplied List: \",multiplied_list)"
   ]
  },
  {
   "cell_type": "markdown",
   "id": "9e3171fc",
   "metadata": {},
   "source": [
    "25. Filter out all even numbers from a list."
   ]
  },
  {
   "cell_type": "code",
   "execution_count": 197,
   "id": "902829dc",
   "metadata": {},
   "outputs": [
    {
     "name": "stdout",
     "output_type": "stream",
     "text": [
      "[2, 4, 6, 8]\n"
     ]
    }
   ],
   "source": [
    "list1= [1,2,3,4,5,6,7,8]\n",
    "\n",
    "even_number_list= [num for num in list1 if num % 2 == 0]\n",
    "\n",
    "print(even_number_list)"
   ]
  },
  {
   "cell_type": "markdown",
   "id": "0ae68b69",
   "metadata": {},
   "source": [
    "26. Convert a list of strings to a list of integers.\n"
   ]
  },
  {
   "cell_type": "code",
   "execution_count": 198,
   "id": "0094aadf",
   "metadata": {},
   "outputs": [
    {
     "name": "stdout",
     "output_type": "stream",
     "text": [
      "Integer_list:  [10, 20, 30, 40, 50]\n"
     ]
    }
   ],
   "source": [
    "string_list = [\"10\",\"20\",\"30\",\"40\",\"50\"]\n",
    "integer_list = [int(element) for element in string_list]\n",
    "print(\"Integer_list: \",integer_list)"
   ]
  },
  {
   "cell_type": "markdown",
   "id": "9fa45ba6",
   "metadata": {},
   "source": [
    "27. Convert a list of integers to a list of strings.\n"
   ]
  },
  {
   "cell_type": "code",
   "execution_count": 200,
   "id": "bf87987d",
   "metadata": {},
   "outputs": [
    {
     "name": "stdout",
     "output_type": "stream",
     "text": [
      "String list :  ['10', '20', '30', '40', '50', '60']\n"
     ]
    }
   ],
   "source": [
    "integer_list = [10,20,30,40,50,60]\n",
    "string_list = [str(element) for element in integer_list]\n",
    "print(\"String list : \",string_list)"
   ]
  },
  {
   "cell_type": "markdown",
   "id": "6c30151f",
   "metadata": {},
   "source": [
    "28. Flatten a nested list.\n"
   ]
  },
  {
   "cell_type": "code",
   "execution_count": null,
   "id": "800f9187",
   "metadata": {},
   "outputs": [],
   "source": [
    "nested_list = [[1,2,3],[4,5],[6,7,8,9]]\n",
    "\n",
    "def flatten_list(nested):\n",
    "    flattened =[]\n",
    "    for sublist in nested:\n",
    "        if isinstance(sublist,list):\n",
    "            flattened.extend(flatten_list(sublist))\n",
    "        else:\n",
    "            flattened.append(sublist)\n",
    "    return flattened \n",
    "\n",
    "flattened_list = flatten_list(nested_list)\n",
    "\n",
    "print(\"Flattened list: \", flattened_list)"
   ]
  },
  {
   "cell_type": "markdown",
   "id": "58132db2",
   "metadata": {},
   "source": [
    "29. Create a list of the first 10 Fibonacci numbers.\n"
   ]
  },
  {
   "cell_type": "code",
   "execution_count": 211,
   "id": "53d32f70",
   "metadata": {},
   "outputs": [
    {
     "name": "stdout",
     "output_type": "stream",
     "text": [
      "[0, 1, 1]\n"
     ]
    }
   ],
   "source": [
    "def generate_fibonacci(n):\n",
    "    fibonacci_numbers =[0,1]\n",
    "    while len(fibonacci_numbers) <n:\n",
    "        next_fibonacci = fibonacci_numbers[-1] + fibonacci_numbers[-2]\n",
    "        fibonacci_numbers.append(next_fibonacci)\n",
    "        return fibonacci_numbers\n",
    "first_10_fibonacci = generate_fibonacci(10)\n",
    "print(first_10_fibonacci)"
   ]
  },
  {
   "cell_type": "markdown",
   "id": "aa0d10ab",
   "metadata": {},
   "source": [
    "30. Check if a list is sorted.\n"
   ]
  },
  {
   "cell_type": "code",
   "execution_count": 237,
   "id": "acfb190e",
   "metadata": {},
   "outputs": [
    {
     "name": "stdout",
     "output_type": "stream",
     "text": [
      "Is sorted_list sorted: True\n",
      "Is sorted_list sorted: False\n"
     ]
    }
   ],
   "source": [
    "def is_sorted(input_list):\n",
    "     for i in range(len(input_list)- 1):\n",
    "            if input_list[i] >input_list[i +1]:\n",
    "                return False\n",
    "     return True \n",
    "sorted_list = [1,2,3,4,5]\n",
    "unsorted_list =[3,4,5,6,8,3]\n",
    "print(\"Is sorted_list sorted:\", is_sorted(sorted_list))\n",
    "print(\"Is sorted_list sorted:\", is_sorted(unsorted_list))\n"
   ]
  },
  {
   "cell_type": "markdown",
   "id": "0a41dbcb",
   "metadata": {},
   "source": [
    "31. Rotate a list to the left by `n` positions.\n"
   ]
  },
  {
   "cell_type": "code",
   "execution_count": 250,
   "id": "9d1bf8da",
   "metadata": {},
   "outputs": [
    {
     "name": "stdout",
     "output_type": "stream",
     "text": [
      "enter the list(seprated by spaces): 1 2 3 4 5 6\n",
      "Enter the nth posotion: 2\n",
      "[3, 4, 5, 6, 1, 2]\n"
     ]
    }
   ],
   "source": [
    "def rotate_left(input_list, n):\n",
    "    if n <= 0:\n",
    "        return input_list\n",
    "    n = n % len(input_list)\n",
    "    rotated_list =input_list[n:] + input_list[:n]\n",
    "    return rotated_list\n",
    "original_list =input(\"enter the list(seprated by spaces): \")\n",
    "original_list =original_list.split()\n",
    "original_list = [int(element) for element in original_list]\n",
    "#original_list = [1,2,3,4,5,6]\n",
    "n =int(input(\"Enter the nth posotion: \"))\n",
    "rotated = rotate_left(original_list, n)\n",
    "print(rotated)\n",
    "    \n"
   ]
  },
  {
   "cell_type": "markdown",
   "id": "977f2130",
   "metadata": {},
   "source": [
    "32. Rotate a list to the right by `n` positions.\n"
   ]
  },
  {
   "cell_type": "code",
   "execution_count": 253,
   "id": "8911278b",
   "metadata": {},
   "outputs": [
    {
     "name": "stdout",
     "output_type": "stream",
     "text": [
      "enter the list(seprated by spaces): 1 2 3 45 6 7 8\n",
      "Enter the nth position: 2\n",
      "[7, 8, 1, 2, 3, 45, 6]\n"
     ]
    }
   ],
   "source": [
    "def rotate_right(input_list ,n):\n",
    "     if n <= 0:\n",
    "        return input_list\n",
    "     n= n % len(input_list)\n",
    "     rotated = input_list[-n:] + input_list[:-n]\n",
    "     return rotated\n",
    "original_list =input(\"enter the list(seprated by spaces): \")\n",
    "original_list = original_list.split()\n",
    "original_list = [int(element) for element in original_list]\n",
    "n= int(input(\"Enter the nth position: \"))\n",
    "rotated = rotate_right(original_list, n )\n",
    "print(rotated)"
   ]
  },
  {
   "cell_type": "markdown",
   "id": "f06db7eb",
   "metadata": {},
   "source": [
    "33. Create a list of prime numbers up to 50.\n"
   ]
  },
  {
   "cell_type": "code",
   "execution_count": 254,
   "id": "72af50b8",
   "metadata": {},
   "outputs": [
    {
     "name": "stdout",
     "output_type": "stream",
     "text": [
      "Prime numbers up to 50: [2, 3, 5, 7, 11, 13, 17, 19, 23, 29, 31, 37, 41, 43, 47]\n"
     ]
    }
   ],
   "source": [
    "def is_prime(num):\n",
    "    if num <= 1:\n",
    "        return False\n",
    "    if num == 2:\n",
    "        return True\n",
    "    if num % 2 == 0:\n",
    "        return False\n",
    "\n",
    "    for i in range(3, int(num**0.5) + 1, 2):\n",
    "        if num % i == 0:\n",
    "            return False\n",
    "\n",
    "    return True\n",
    "\n",
    "# Generate a list of prime numbers up to 50\n",
    "prime_numbers = [num for num in range(2, 51) if is_prime(num)]\n",
    "\n",
    "print(\"Prime numbers up to 50:\", prime_numbers)\n"
   ]
  },
  {
   "cell_type": "markdown",
   "id": "4ca49cf8",
   "metadata": {},
   "source": [
    "34. Split a list into chunks of size `n`."
   ]
  },
  {
   "cell_type": "code",
   "execution_count": 255,
   "id": "17c7891c",
   "metadata": {},
   "outputs": [
    {
     "name": "stdout",
     "output_type": "stream",
     "text": [
      "[[1, 2, 3], [4, 5, 6], [7, 8, 9]]\n"
     ]
    }
   ],
   "source": [
    "def split_list_into_chunks(input_list, n):\n",
    "    return [input_list[i:i + n] for i in range(0, len(input_list), n)]\n",
    "\n",
    "original_list = [1, 2, 3, 4, 5, 6, 7, 8, 9]\n",
    "chunk_size = 3\n",
    "\n",
    "chunks = split_list_into_chunks(original_list, chunk_size)\n",
    "print(chunks)\n"
   ]
  },
  {
   "cell_type": "markdown",
   "id": "0391533a",
   "metadata": {},
   "source": [
    "35. Find the second largest number in a list.\n"
   ]
  },
  {
   "cell_type": "code",
   "execution_count": 268,
   "id": "73ee8d6a",
   "metadata": {},
   "outputs": [
    {
     "name": "stdout",
     "output_type": "stream",
     "text": [
      "Enter the list(seprated by space): 1 2 3 4 5 5 6 5 3 2 1 2 1\n",
      "Second largest number : 5\n"
     ]
    }
   ],
   "source": [
    "my_list = input(\"Enter the list(seprated by space): \")\n",
    "my_list= my_list.split()\n",
    "my_list = [int(element) for element in my_list] \n",
    "sorted_list = sorted(set(my_list))\n",
    "if len(sorted_list) >= 2:\n",
    "    second_largest = sorted_list[-2]\n",
    "    print(\"Second largest number :\", second_largest)\n",
    "else:\n",
    "    print(\"The list does not conatin enough elements.\")"
   ]
  },
  {
   "cell_type": "markdown",
   "id": "e9dc9dc2",
   "metadata": {},
   "source": [
    "36. Replace every element in a list with its square.\n"
   ]
  },
  {
   "cell_type": "code",
   "execution_count": 275,
   "id": "81ebda65",
   "metadata": {},
   "outputs": [
    {
     "name": "stdout",
     "output_type": "stream",
     "text": [
      "Enter the list: 1 2 3 45 6 7\n",
      "[1, 4, 9, 2025, 36, 49]\n"
     ]
    }
   ],
   "source": [
    "my_list = input(\"Enter the list: \")\n",
    "my_list = my_list.split()\n",
    "my_list = [int(element) for element in my_list]\n",
    "my_list = [item**2 for item in my_list]\n",
    "print(my_list)\n"
   ]
  },
  {
   "cell_type": "markdown",
   "id": "ebfe3a8e",
   "metadata": {},
   "source": [
    "37. Convert a list to a dictionary where list elements become keys and their\n",
    "indices become values."
   ]
  },
  {
   "cell_type": "code",
   "execution_count": 278,
   "id": "bac421e6",
   "metadata": {},
   "outputs": [
    {
     "name": "stdout",
     "output_type": "stream",
     "text": [
      "Enter the list: apple boy cat \n",
      "{'apple': 0, 'boy': 1, 'cat': 2}\n"
     ]
    }
   ],
   "source": [
    "my_list = input(\"Enter the list: \")\n",
    "my_list = my_list.split()\n",
    "my_list = [element for element in my_list]\n",
    "my_dict = {element: index for index, element in enumerate(my_list)}\n",
    "print(my_dict)\n"
   ]
  },
  {
   "cell_type": "markdown",
   "id": "330ffc5d",
   "metadata": {},
   "source": [
    "38. Shuffle the elements of a list randomly.\n"
   ]
  },
  {
   "cell_type": "code",
   "execution_count": 280,
   "id": "cd48f940",
   "metadata": {},
   "outputs": [
    {
     "name": "stdout",
     "output_type": "stream",
     "text": [
      "Enter the list: 1 2 3 4 5 6 7 8\n",
      "Shuffled list: [3, 8, 4, 2, 6, 7, 1, 5]\n"
     ]
    }
   ],
   "source": [
    "import random\n",
    "my_list = input(\"Enter the list: \")\n",
    "my_list = my_list.split()\n",
    "my_list = [int(element) for element in my_list]\n",
    "random.shuffle(my_list)\n",
    "print(\"Shuffled list:\", my_list)"
   ]
  },
  {
   "cell_type": "markdown",
   "id": "d05e79a1",
   "metadata": {},
   "source": [
    "39. Create a list of the first 10 factorial numbers."
   ]
  },
  {
   "cell_type": "code",
   "execution_count": 281,
   "id": "1dbdb98e",
   "metadata": {},
   "outputs": [
    {
     "name": "stdout",
     "output_type": "stream",
     "text": [
      "List of the first 10 factorial numbers: [1, 1, 2, 6, 24, 120, 720, 5040, 40320, 362880]\n"
     ]
    }
   ],
   "source": [
    "def factorial(n):\n",
    "    if n ==0 or n ==1:\n",
    "        return 1\n",
    "    else:\n",
    "        return n*factorial(n-1)\n",
    "    \n",
    "factorial_numbers = [factorial(i) for i in range(10)]\n",
    "print(\"List of the first 10 factorial numbers:\", factorial_numbers)"
   ]
  },
  {
   "cell_type": "markdown",
   "id": "bc8034b0",
   "metadata": {},
   "source": [
    "40. Check if two lists have at least one element in common.\n"
   ]
  },
  {
   "cell_type": "code",
   "execution_count": 283,
   "id": "9f477b80",
   "metadata": {},
   "outputs": [
    {
     "name": "stdout",
     "output_type": "stream",
     "text": [
      "The lists have at least one common element.\n"
     ]
    }
   ],
   "source": [
    "def has_common_elements(list1, list2):\n",
    "    for item in list1:\n",
    "        if item in list2:\n",
    "            return True\n",
    "    return False\n",
    "list1 = [1,2,3,4,5,6]\n",
    "list2 = [6,7,8,9,10]\n",
    "if has_common_elements(list1, list2):\n",
    "    print(\"The lists have at least one common element.\")\n",
    "else:\n",
    "    print(\"The lists do not have any common elements.\")"
   ]
  },
  {
   "cell_type": "markdown",
   "id": "4284fb2d",
   "metadata": {},
   "source": [
    "41. Remove all elements from a list.\n"
   ]
  },
  {
   "cell_type": "code",
   "execution_count": 284,
   "id": "2bca80ed",
   "metadata": {},
   "outputs": [
    {
     "name": "stdout",
     "output_type": "stream",
     "text": [
      "Empty list: []\n"
     ]
    }
   ],
   "source": [
    "my_list= [1,2,3,4,5]\n",
    "my_list.clear()\n",
    "print(\"Empty list:\", my_list)"
   ]
  },
  {
   "cell_type": "markdown",
   "id": "b1a3831a",
   "metadata": {},
   "source": [
    "42. Replace negative numbers in a list with 0.\n"
   ]
  },
  {
   "cell_type": "code",
   "execution_count": 285,
   "id": "d3b2026d",
   "metadata": {},
   "outputs": [
    {
     "name": "stdout",
     "output_type": "stream",
     "text": [
      "List after replacing negative numbers with 0: [10, 2, 0, 6, 0, 8, 4, 0]\n"
     ]
    }
   ],
   "source": [
    "my_list = [10,2,-5,6,-9,8,4,-3]\n",
    "for i in range(len(my_list)):\n",
    "    if my_list[i] < 0:\n",
    "        my_list[i] =0\n",
    "        \n",
    "print(\"List after replacing negative numbers with 0:\", my_list)        "
   ]
  },
  {
   "cell_type": "markdown",
   "id": "b52365f4",
   "metadata": {},
   "source": [
    "43. Convert a string into a list of words.\n"
   ]
  },
  {
   "cell_type": "code",
   "execution_count": 286,
   "id": "b0596fd2",
   "metadata": {},
   "outputs": [
    {
     "name": "stdout",
     "output_type": "stream",
     "text": [
      "List of words: ['Hello,', 'My', 'name', 'is', 'prince', 'kumar']\n"
     ]
    }
   ],
   "source": [
    "my_list = \"Hello, My name is prince kumar\"\n",
    "word_list = my_list.split()\n",
    "print(\"List of words:\", word_list)\n"
   ]
  },
  {
   "cell_type": "markdown",
   "id": "e5f0f69f",
   "metadata": {},
   "source": [
    "44. Convert a list of words into a string.\n"
   ]
  },
  {
   "cell_type": "code",
   "execution_count": 290,
   "id": "65f2d886",
   "metadata": {},
   "outputs": [
    {
     "name": "stdout",
     "output_type": "stream",
     "text": [
      "conveted words to string: Hello, My name is prince kumar.\n"
     ]
    }
   ],
   "source": [
    "List_words =['Hello,', 'My', 'name', 'is', 'prince', 'kumar.']\n",
    "\n",
    "my_string =\" \".join(List_words)\n",
    "print(\"conveted words to string:\", my_string)\n"
   ]
  },
  {
   "cell_type": "markdown",
   "id": "7d01e912",
   "metadata": {},
   "source": [
    "45. Create a list of the first `n` powers of 2.\n"
   ]
  },
  {
   "cell_type": "code",
   "execution_count": 291,
   "id": "97e27560",
   "metadata": {},
   "outputs": [
    {
     "name": "stdout",
     "output_type": "stream",
     "text": [
      "Enter the nth powers of 2 5\n",
      "List of the first 5 power of 2: [1, 2, 4, 8, 16]\n"
     ]
    }
   ],
   "source": [
    " n= int(input('Enter the nth powers of 2 '))\n",
    " \n",
    "power_list= [2 **i for i in range(n)]\n",
    "print(\"List of the first\",n,\"power of 2:\",power_list)"
   ]
  },
  {
   "cell_type": "markdown",
   "id": "f7e58bae",
   "metadata": {},
   "source": [
    "46. Find the longest string in a list of strings.\n"
   ]
  },
  {
   "cell_type": "code",
   "execution_count": 293,
   "id": "7605781f",
   "metadata": {},
   "outputs": [
    {
     "name": "stdout",
     "output_type": "stream",
     "text": [
      "The longest string is: Shaina singh\n"
     ]
    }
   ],
   "source": [
    "string_list =[\"Mehir\",\"Shaina singh\",\"prince kumar\",\"nayyar\",\"akhya\"]\n",
    "longest_string = max(string_list, key=len)\n",
    "print(\"The longest string is:\", longest_string)"
   ]
  },
  {
   "cell_type": "markdown",
   "id": "a1379cdf",
   "metadata": {},
   "source": [
    "47. Find the shortest string in a list of strings.\n"
   ]
  },
  {
   "cell_type": "code",
   "execution_count": 294,
   "id": "e0612ca8",
   "metadata": {},
   "outputs": [
    {
     "name": "stdout",
     "output_type": "stream",
     "text": [
      "The shortest string is: Mehir\n"
     ]
    }
   ],
   "source": [
    "string_list =[\"Mehir\",\"Shaina singh\",\"prince kumar\",\"nayyar\",\"akhya\"]\n",
    "shortest_string = min(string_list, key=len)\n",
    "print(\"The shortest string is:\", shortest_string)"
   ]
  },
  {
   "cell_type": "markdown",
   "id": "06b1471e",
   "metadata": {},
   "source": [
    "48. Create a list of the first `n` triangular numbers.\n"
   ]
  },
  {
   "cell_type": "code",
   "execution_count": 295,
   "id": "309b2e18",
   "metadata": {},
   "outputs": [
    {
     "name": "stdout",
     "output_type": "stream",
     "text": [
      "List of the first 5 triangular numbers: [1, 3, 6, 10, 15]\n"
     ]
    }
   ],
   "source": [
    "def triangular_numbers(n):\n",
    "    return [i * (i + 1) // 2 for i in range(1, n + 1)]\n",
    "\n",
    "n = 5\n",
    "triangular_list = triangular_numbers(n)\n",
    "print(\"List of the first\", n, \"triangular numbers:\", triangular_list)"
   ]
  },
  {
   "cell_type": "markdown",
   "id": "355c5f43",
   "metadata": {},
   "source": [
    "49. Check if a list contains another list as a subsequence.\n"
   ]
  },
  {
   "cell_type": "code",
   "execution_count": 296,
   "id": "d22ad6c7",
   "metadata": {},
   "outputs": [
    {
     "name": "stdout",
     "output_type": "stream",
     "text": [
      "Main list contains the subsequence.\n"
     ]
    }
   ],
   "source": [
    "def is_subsequence(subsequence, main_list):\n",
    "    subseq_index = 0  # Index for the subsequence elements\n",
    "    for element in main_list:\n",
    "        if element == subsequence[subseq_index]:\n",
    "            subseq_index += 1\n",
    "            if subseq_index == len(subsequence):\n",
    "                return True\n",
    "    return False\n",
    "\n",
    "# Example main list and subsequence\n",
    "main_list = [1, 2, 3, 4, 5, 6, 7, 8, 9, 10]\n",
    "subsequence = [3, 5, 8]\n",
    "\n",
    "# Check if the main list contains the subsequence\n",
    "if is_subsequence(subsequence, main_list):\n",
    "    print(\"Main list contains the subsequence.\")\n",
    "else:\n",
    "    print(\"Main list does not contain the subsequence.\")"
   ]
  },
  {
   "cell_type": "markdown",
   "id": "7003dbb9",
   "metadata": {},
   "source": [
    "50. Swap two elements in a list by their indices."
   ]
  },
  {
   "cell_type": "code",
   "execution_count": 298,
   "id": "0e7b9be0",
   "metadata": {},
   "outputs": [
    {
     "name": "stdout",
     "output_type": "stream",
     "text": [
      "List after swapping elements: [1, 4, 3, 2, 5]\n"
     ]
    }
   ],
   "source": [
    "my_list = [1, 2, 3, 4, 5]\n",
    "\n",
    "index1 = 1\n",
    "index2 = 3\n",
    "\n",
    "temp = my_list[index1]\n",
    "my_list[index1] = my_list[index2]\n",
    "my_list[index2] = temp\n",
    "\n",
    "print(\"List after swapping elements:\", my_list)"
   ]
  },
  {
   "cell_type": "markdown",
   "id": "b56a79b6",
   "metadata": {},
   "source": [
    "Tuple Based Practice Problem :"
   ]
  },
  {
   "cell_type": "markdown",
   "id": "9f5e95a8",
   "metadata": {},
   "source": [
    "1. Create a tuple with integers from 1 to 5.\n"
   ]
  },
  {
   "cell_type": "code",
   "execution_count": 299,
   "id": "0a8ea72e",
   "metadata": {},
   "outputs": [],
   "source": [
    "my_tuple =(1,2,3,4,5)\n"
   ]
  },
  {
   "cell_type": "markdown",
   "id": "f278996c",
   "metadata": {},
   "source": [
    "2. Access the third element of a tuple.\n"
   ]
  },
  {
   "cell_type": "code",
   "execution_count": 300,
   "id": "c4cd8ddb",
   "metadata": {},
   "outputs": [
    {
     "name": "stdout",
     "output_type": "stream",
     "text": [
      "THe third element of the tuple is: 3\n"
     ]
    }
   ],
   "source": [
    "my_tuple = (1,2,3,4,5)\n",
    "third_element = my_tuple[2]\n",
    "print(\"THe third element of the tuple is:\", third_element)"
   ]
  },
  {
   "cell_type": "markdown",
   "id": "1ccfb204",
   "metadata": {},
   "source": [
    "3. Find the length of a tuple without using the `len()` function.\n"
   ]
  },
  {
   "cell_type": "code",
   "execution_count": 301,
   "id": "4b3084c9",
   "metadata": {},
   "outputs": [
    {
     "name": "stdout",
     "output_type": "stream",
     "text": [
      "The lenght of the tuple is:  5\n"
     ]
    }
   ],
   "source": [
    "my_tuple = (1,2,3,4,5)\n",
    "\n",
    "count =0\n",
    "for _ in my_tuple:\n",
    "    count += 1\n",
    "print(\"The lenght of the tuple is: \", count)    "
   ]
  },
  {
   "cell_type": "markdown",
   "id": "ba0addfc",
   "metadata": {},
   "source": [
    "4. Count the occurrences of an element in a tuple."
   ]
  },
  {
   "cell_type": "code",
   "execution_count": 302,
   "id": "2dfca9ad",
   "metadata": {},
   "outputs": [
    {
     "name": "stdout",
     "output_type": "stream",
     "text": [
      "The element 40 appers 5 times in touple.\n"
     ]
    }
   ],
   "source": [
    "my_tuple=(10,20,30,40,40,40,50,40,40,10,5)\n",
    "element_to_count = 40\n",
    "count =0 \n",
    "for item in my_tuple:\n",
    "    if item  == element_to_count:\n",
    "        count += 1\n",
    "print(f\"The element {element_to_count} appers {count} times in touple.\")"
   ]
  },
  {
   "cell_type": "markdown",
   "id": "ad422c27",
   "metadata": {},
   "source": [
    "5. Find the index of the first occurrence of an element in a tuple.\n"
   ]
  },
  {
   "cell_type": "code",
   "execution_count": 306,
   "id": "9b0ef27a",
   "metadata": {},
   "outputs": [
    {
     "name": "stdout",
     "output_type": "stream",
     "text": [
      "The first occurance of 40 is at index 3.\n"
     ]
    }
   ],
   "source": [
    "my_tuple=(10,20,30,40,40,40,50,40,40,10,5)\n",
    "element_to_find =40\n",
    "index =-1\n",
    "\n",
    "for i, item in enumerate(my_tuple):\n",
    "    if item == element_to_find:\n",
    "        index =i\n",
    "        break\n",
    "if index != -1:\n",
    "    print(f\"The first occurance of {element_to_find} is at index {index}.\")\n",
    "\n",
    "else:\n",
    "        print(f\"{element_to_find} is not found in the tuple.\")\n",
    "        \n"
   ]
  },
  {
   "cell_type": "markdown",
   "id": "5ebc9cad",
   "metadata": {},
   "source": [
    "6. Check if an element exists in a tuple.\n"
   ]
  },
  {
   "cell_type": "code",
   "execution_count": 308,
   "id": "4af7bf95",
   "metadata": {},
   "outputs": [
    {
     "name": "stdout",
     "output_type": "stream",
     "text": [
      "The 80 exits in the tuple.\n"
     ]
    }
   ],
   "source": [
    "my_tuple=(10,20,30,80,70,40,50,60,40,10,5)\n",
    "\n",
    "element_to_check =80\n",
    "\n",
    "if element_to_check in my_tuple:\n",
    "    print(f\"The {element_to_check} exits in the tuple.\")\n",
    "else:\n",
    "    print(f\"The {element_to_check} does not  exits in the tuple.\")\n"
   ]
  },
  {
   "cell_type": "markdown",
   "id": "46a9b656",
   "metadata": {},
   "source": [
    "7. Convert a tuple to a list.\n"
   ]
  },
  {
   "cell_type": "code",
   "execution_count": null,
   "id": "c5498ba8",
   "metadata": {},
   "outputs": [],
   "source": [
    "my_tuple= (10,20,30,80,70,40,50,60,40,10,5)\n",
    "my_list = list(my_tuple)\n",
    "\n",
    "print(\"Tuple:\", my_tuple)\n",
    "print(\"List :\", my_list)"
   ]
  },
  {
   "cell_type": "markdown",
   "id": "5caba9af",
   "metadata": {},
   "source": [
    "8. Convert a list to a tuple.\n"
   ]
  },
  {
   "cell_type": "code",
   "execution_count": 331,
   "id": "ea6388e2",
   "metadata": {},
   "outputs": [
    {
     "name": "stdout",
     "output_type": "stream",
     "text": [
      "(10, 20, 30, 40, 50, 60)\n"
     ]
    }
   ],
   "source": [
    "my_list = [10,20,30,40,50,60]\n",
    "my_tuple = tuple(my_list)\n",
    "print(my_tuple)"
   ]
  },
  {
   "cell_type": "markdown",
   "id": "fa0da2ed",
   "metadata": {},
   "source": [
    "9. Unpack the elements of a tuple into variables.\n"
   ]
  },
  {
   "cell_type": "code",
   "execution_count": 333,
   "id": "c7283027",
   "metadata": {},
   "outputs": [
    {
     "name": "stdout",
     "output_type": "stream",
     "text": [
      "var1 10\n",
      "var2 20\n",
      "var3 30\n",
      "var4 5\n"
     ]
    }
   ],
   "source": [
    "my_tuple= (10,20,30,5)\n",
    "var1,var2,var3,var4 =my_tuple\n",
    "print(\"var1\", var1)\n",
    "print(\"var2\", var2)\n",
    "print(\"var3\", var3)\n",
    "print(\"var4\", var4)\n",
    "\n"
   ]
  },
  {
   "cell_type": "markdown",
   "id": "936713c3",
   "metadata": {},
   "source": [
    "10. Create a tuple of even numbers from 1 to 10.\n"
   ]
  },
  {
   "cell_type": "code",
   "execution_count": 334,
   "id": "290b9f48",
   "metadata": {},
   "outputs": [
    {
     "name": "stdout",
     "output_type": "stream",
     "text": [
      "Tuple of even numbers: (2, 4, 6, 8, 10)\n"
     ]
    }
   ],
   "source": [
    "even_numbers_list =[num for num in range(2,11,2)]\n",
    "even_numbers_tuple = tuple(even_numbers_list)\n",
    "print(\"Tuple of even numbers:\", even_numbers_tuple)"
   ]
  },
  {
   "cell_type": "markdown",
   "id": "51922972",
   "metadata": {},
   "source": [
    "11. Create a tuple of odd numbers from 1 to 10.\n"
   ]
  },
  {
   "cell_type": "code",
   "execution_count": 335,
   "id": "7272242f",
   "metadata": {},
   "outputs": [
    {
     "name": "stdout",
     "output_type": "stream",
     "text": [
      "Tuple of odd numbers: (1, 3, 5, 7, 9)\n"
     ]
    }
   ],
   "source": [
    "odd_numbers_list =[num for num in range(1,10,2)]\n",
    "odd_numbers_tuple = tuple(odd_numbers_list)\n",
    "print(\"Tuple of odd numbers:\", odd_numbers_tuple)"
   ]
  },
  {
   "cell_type": "markdown",
   "id": "3370c65a",
   "metadata": {},
   "source": [
    "12. Concatenate two tuples."
   ]
  },
  {
   "cell_type": "code",
   "execution_count": 336,
   "id": "5d5cce50",
   "metadata": {},
   "outputs": [
    {
     "name": "stdout",
     "output_type": "stream",
     "text": [
      "Concatenate two tuple:  (1, 2, 3, 4, 5, 6, 7, 8)\n"
     ]
    }
   ],
   "source": [
    "tuple1 =(1,2,3,4)\n",
    "tuple2 = (5,6,7,8)\n",
    "\n",
    "concatenate_tuple = tuple1+tuple2\n",
    "print(\"Concatenate two tuple: \",concatenate_tuple)"
   ]
  },
  {
   "cell_type": "markdown",
   "id": "f82093d1",
   "metadata": {},
   "source": [
    "13. Repeat a tuple three times.\n"
   ]
  },
  {
   "cell_type": "code",
   "execution_count": 338,
   "id": "098a334d",
   "metadata": {},
   "outputs": [
    {
     "name": "stdout",
     "output_type": "stream",
     "text": [
      "Repeated tuple:  (1, 2, 3, 4, 1, 2, 3, 4, 1, 2, 3, 4)\n"
     ]
    }
   ],
   "source": [
    "original_tuple = (1,2,3,4)\n",
    "repeated_tuple = original_tuple *3\n",
    "print(\"Repeated tuple: \", repeated_tuple)"
   ]
  },
  {
   "cell_type": "markdown",
   "id": "acbd9075",
   "metadata": {},
   "source": [
    "14. Check if a tuple is empty.\n"
   ]
  },
  {
   "cell_type": "code",
   "execution_count": 339,
   "id": "fb775555",
   "metadata": {},
   "outputs": [
    {
     "name": "stdout",
     "output_type": "stream",
     "text": [
      "my_tuple is empty.\n"
     ]
    }
   ],
   "source": [
    "my_tuple = ()\n",
    "\n",
    "if not my_tuple :\n",
    "    print(\"my_tuple is empty.\")\n",
    "else:\n",
    "    print(\"my_tuple is not empty.\")"
   ]
  },
  {
   "cell_type": "markdown",
   "id": "c7ecca20",
   "metadata": {},
   "source": [
    "15. Create a nested tuple.\n"
   ]
  },
  {
   "cell_type": "code",
   "execution_count": 341,
   "id": "237f1d33",
   "metadata": {},
   "outputs": [
    {
     "name": "stdout",
     "output_type": "stream",
     "text": [
      "Nested tuple: ((1, 2, 3), ('a', 'b', 'c'), (True, False))\n"
     ]
    }
   ],
   "source": [
    "my_tuple = ((1,2,3),('a','b','c'),(True, False))\n",
    "print(\"Nested tuple:\", my_tuple)"
   ]
  },
  {
   "cell_type": "markdown",
   "id": "a23452e4",
   "metadata": {},
   "source": [
    "16. Access the first element of a nested tuple.\n"
   ]
  },
  {
   "cell_type": "code",
   "execution_count": 342,
   "id": "5c992497",
   "metadata": {},
   "outputs": [
    {
     "name": "stdout",
     "output_type": "stream",
     "text": [
      "(1, 2, 3)\n"
     ]
    }
   ],
   "source": [
    "my_tuple = ((1,2,3),('a','b','c'),(True, False))\n",
    "first_element = my_tuple[0]\n",
    "print(first_element)"
   ]
  },
  {
   "cell_type": "markdown",
   "id": "3eab2a38",
   "metadata": {},
   "source": [
    "17. Create a tuple with a single element.\n"
   ]
  },
  {
   "cell_type": "code",
   "execution_count": 343,
   "id": "77a7bc4e",
   "metadata": {},
   "outputs": [
    {
     "name": "stdout",
     "output_type": "stream",
     "text": [
      "TUple with a single element: 10\n"
     ]
    }
   ],
   "source": [
    "single_element_tuple = (10)\n",
    "print(\"TUple with a single element:\", single_element_tuple)"
   ]
  },
  {
   "cell_type": "markdown",
   "id": "98638607",
   "metadata": {},
   "source": [
    "18. Compare two tuples.\n"
   ]
  },
  {
   "cell_type": "code",
   "execution_count": 344,
   "id": "3e0687aa",
   "metadata": {},
   "outputs": [
    {
     "name": "stdout",
     "output_type": "stream",
     "text": [
      "equal  False\n"
     ]
    }
   ],
   "source": [
    "tuple1 = (1,2,3)\n",
    "tuple2 = (1,2,4)\n",
    "\n",
    "print(\"equal: \", tuple1 ==tuple2)"
   ]
  },
  {
   "cell_type": "markdown",
   "id": "b4dc68c1",
   "metadata": {},
   "source": [
    "19. Delete a tuple.\n"
   ]
  },
  {
   "cell_type": "code",
   "execution_count": 365,
   "id": "38d8a18f",
   "metadata": {},
   "outputs": [
    {
     "ename": "NameError",
     "evalue": "name 'my_tuple' is not defined",
     "output_type": "error",
     "traceback": [
      "\u001b[1;31m---------------------------------------------------------------------------\u001b[0m",
      "\u001b[1;31mNameError\u001b[0m                                 Traceback (most recent call last)",
      "Cell \u001b[1;32mIn[365], line 3\u001b[0m\n\u001b[0;32m      1\u001b[0m my_tuple \u001b[38;5;241m=\u001b[39m ((\u001b[38;5;241m1\u001b[39m,\u001b[38;5;241m2\u001b[39m,\u001b[38;5;241m3\u001b[39m),(\u001b[38;5;124m'\u001b[39m\u001b[38;5;124ma\u001b[39m\u001b[38;5;124m'\u001b[39m,\u001b[38;5;124m'\u001b[39m\u001b[38;5;124mb\u001b[39m\u001b[38;5;124m'\u001b[39m,\u001b[38;5;124m'\u001b[39m\u001b[38;5;124mc\u001b[39m\u001b[38;5;124m'\u001b[39m),(\u001b[38;5;28;01mTrue\u001b[39;00m, \u001b[38;5;28;01mFalse\u001b[39;00m))\n\u001b[0;32m      2\u001b[0m \u001b[38;5;28;01mdel\u001b[39;00m my_tuple\n\u001b[1;32m----> 3\u001b[0m \u001b[38;5;28mprint\u001b[39m(my_tuple)\n",
      "\u001b[1;31mNameError\u001b[0m: name 'my_tuple' is not defined"
     ]
    }
   ],
   "source": [
    "my_tuple = ((1,2,3),('a','b','c'),(True, False))\n",
    "del my_tuple\n",
    "print(my_tuple)"
   ]
  },
  {
   "cell_type": "markdown",
   "id": "23e371f0",
   "metadata": {},
   "source": [
    "20. Slice a tuple."
   ]
  },
  {
   "cell_type": "code",
   "execution_count": 368,
   "id": "1057dc7d",
   "metadata": {},
   "outputs": [
    {
     "name": "stdout",
     "output_type": "stream",
     "text": [
      "Slicied tuple: (('a', 'b', 'c'),)\n"
     ]
    }
   ],
   "source": [
    "my_tuple = ((1,2,3),('a','b','c'),(True, False),(4,5,6))\n",
    "\n",
    "sliced_tuple = my_tuple [1:2]\n",
    "print(\"Slicied tuple:\", sliced_tuple)"
   ]
  },
  {
   "cell_type": "markdown",
   "id": "9f537381",
   "metadata": {},
   "source": [
    "21. Find the maximum value in a tuple.\n"
   ]
  },
  {
   "cell_type": "code",
   "execution_count": 370,
   "id": "95bc7a19",
   "metadata": {},
   "outputs": [
    {
     "name": "stdout",
     "output_type": "stream",
     "text": [
      "9\n"
     ]
    }
   ],
   "source": [
    "my_tuple = (1,2,3,4,5,6,7,8,9)\n",
    "max_element = max(my_tuple)\n",
    "print(max_element)"
   ]
  },
  {
   "cell_type": "markdown",
   "id": "0525deb6",
   "metadata": {},
   "source": [
    "22. Find the minimum value in a tuple.\n"
   ]
  },
  {
   "cell_type": "code",
   "execution_count": 372,
   "id": "cf150642",
   "metadata": {},
   "outputs": [
    {
     "name": "stdout",
     "output_type": "stream",
     "text": [
      "1\n"
     ]
    }
   ],
   "source": [
    "my_tuple = (1,2,3,4,5,6,7,8,9)\n",
    "min_element = min(my_tuple)\n",
    "print(min_element)"
   ]
  },
  {
   "cell_type": "markdown",
   "id": "ee30007a",
   "metadata": {},
   "source": [
    "23. Convert a string to a tuple of characters.\n"
   ]
  },
  {
   "cell_type": "code",
   "execution_count": 373,
   "id": "b2d8e832",
   "metadata": {},
   "outputs": [
    {
     "name": "stdout",
     "output_type": "stream",
     "text": [
      "Tuple of characters: ('P', 'r', 'i', 'n', 'c', 'e', ' ', 'k', 'u', 'm', 'a', 'r')\n"
     ]
    }
   ],
   "source": [
    "my_string = \"Prince kumar\"\n",
    "\n",
    "tuple_of_characters = tuple(my_string)\n",
    "print(\"Tuple of characters:\",tuple_of_characters)"
   ]
  },
  {
   "cell_type": "markdown",
   "id": "2e212bf6",
   "metadata": {},
   "source": [
    "24. Convert a tuple of characters to a string.\n"
   ]
  },
  {
   "cell_type": "code",
   "execution_count": 375,
   "id": "f6639990",
   "metadata": {},
   "outputs": [
    {
     "name": "stdout",
     "output_type": "stream",
     "text": [
      "String from tuple: Prince kumar\n"
     ]
    }
   ],
   "source": [
    "tuple_of_characters: ('P', 'r', 'i', 'n', 'c', 'e', ' ', 'k', 'u', 'm', 'a', 'r')\n",
    "string_from_tuple = ''.join(tuple_of_characters)\n",
    "print(\"String from tuple:\", string_from_tuple)\n",
    "    "
   ]
  },
  {
   "cell_type": "markdown",
   "id": "c6465077",
   "metadata": {},
   "source": [
    "25. Create a tuple from multiple data types.\n"
   ]
  },
  {
   "cell_type": "code",
   "execution_count": 376,
   "id": "1b015f5c",
   "metadata": {},
   "outputs": [
    {
     "name": "stdout",
     "output_type": "stream",
     "text": [
      "(1, 2, 2.0, 'prince', 'p', 's', True)\n"
     ]
    }
   ],
   "source": [
    "multiple_data_type_tuples = (1,2,2.0,\"prince\",'p','s',True)\n",
    "print(multiple_data_type_tuples )"
   ]
  },
  {
   "cell_type": "markdown",
   "id": "ffbec522",
   "metadata": {},
   "source": [
    "26. Check if two tuples are identical.\n"
   ]
  },
  {
   "cell_type": "code",
   "execution_count": 382,
   "id": "9f7f28a6",
   "metadata": {},
   "outputs": [
    {
     "name": "stdout",
     "output_type": "stream",
     "text": [
      " tuple1 and tuple2 are identical\n"
     ]
    }
   ],
   "source": [
    "tuple1= (1,2,3)\n",
    "tuple2= (1,2,3)\n",
    "\n",
    "if tuple1 == tuple2 :\n",
    "    print(\" tuple1 and tuple2 are identical\")\n",
    "else:\n",
    "    print(\" tuple1 and tuple2 are not identical\")\n"
   ]
  },
  {
   "cell_type": "markdown",
   "id": "58ba090a",
   "metadata": {},
   "source": [
    "27. Sort the elements of a tuple.\n"
   ]
  },
  {
   "cell_type": "code",
   "execution_count": 384,
   "id": "81571304",
   "metadata": {},
   "outputs": [
    {
     "name": "stdout",
     "output_type": "stream",
     "text": [
      "(1, 2, 3, 4, 4, 6, 8, 9)\n"
     ]
    }
   ],
   "source": [
    "my_tuple = (1,6,4,8,9,2,4,3)\n",
    "sorted_tuple = tuple(sorted(my_tuple))\n",
    "print(sorted_tuple)\n"
   ]
  },
  {
   "cell_type": "markdown",
   "id": "044fb5a7",
   "metadata": {},
   "source": [
    "28. Convert a tuple of integers to a tuple of strings.\n"
   ]
  },
  {
   "cell_type": "code",
   "execution_count": 386,
   "id": "6a78bcff",
   "metadata": {},
   "outputs": [
    {
     "name": "stdout",
     "output_type": "stream",
     "text": [
      "Tuple of strings: ('1', '6', '4', '8', '9', '2', '4', '3')\n"
     ]
    }
   ],
   "source": [
    "my_tuple = (1,6,4,8,9,2,4,3)\n",
    "tuple_string = tuple(str(item) for item in my_tuple)\n",
    "print(\"Tuple of strings:\", tuple_string)"
   ]
  },
  {
   "cell_type": "markdown",
   "id": "5701a87e",
   "metadata": {},
   "source": [
    "29. Convert a tuple of strings to a tuple of integers.\n"
   ]
  },
  {
   "cell_type": "code",
   "execution_count": 389,
   "id": "fbe30813",
   "metadata": {},
   "outputs": [
    {
     "name": "stdout",
     "output_type": "stream",
     "text": [
      "Tuple of integers: (1, 6, 4, 8, 9, 2, 4, 3)\n"
     ]
    }
   ],
   "source": [
    "tuple_of_strings = ('1', '6', '4', '8', '9', '2', '4', '3')\n",
    "tuple_of_integers = tuple(int(item) for item in tuple_of_strings)\n",
    "print(\"Tuple of integers:\", tuple_of_integers)"
   ]
  },
  {
   "cell_type": "markdown",
   "id": "cd356ff8",
   "metadata": {},
   "source": [
    "30. Merge two tuples."
   ]
  },
  {
   "cell_type": "code",
   "execution_count": 392,
   "id": "aa31089b",
   "metadata": {},
   "outputs": [
    {
     "name": "stdout",
     "output_type": "stream",
     "text": [
      "Merge of tuple: (1, 2, 3, 4, 5, 6)\n"
     ]
    }
   ],
   "source": [
    "tuple1 = (1,2,3)\n",
    "tuple2 = (4,5,6)\n",
    "\n",
    "merge_tuple = tuple1 + tuple2\n",
    "print(\"Merge of tuple:\", merge_tuple)"
   ]
  },
  {
   "cell_type": "markdown",
   "id": "3b554483",
   "metadata": {},
   "source": [
    "31. Flatten a nested tuple.\n"
   ]
  },
  {
   "cell_type": "code",
   "execution_count": 395,
   "id": "9774c4d3",
   "metadata": {},
   "outputs": [
    {
     "name": "stdout",
     "output_type": "stream",
     "text": [
      "Flattened tuple: (1, 2, 3, 4, 5, 6, 7, 8, 9)\n"
     ]
    }
   ],
   "source": [
    "def flatten_tuple(nested_tuple):\n",
    "    flattened = []\n",
    "    for item in nested_tuple:\n",
    "        if isinstance(item, tuple):\n",
    "            flattened.extend(flatten_tuple(item))\n",
    "        else:\n",
    "            flattened.append(item)\n",
    "    return flattened\n",
    "nested_tuple = ((1,2,3),(4,5,6),(7,8,9))\n",
    "flattened_tuple = tuple(flatten_tuple(nested_tuple))\n",
    "print(\"Flattened tuple:\", flattened_tuple)"
   ]
  },
  {
   "cell_type": "markdown",
   "id": "4cb67e2a",
   "metadata": {},
   "source": [
    "32. Create a tuple of the first 5 prime numbers.\n"
   ]
  },
  {
   "cell_type": "code",
   "execution_count": 398,
   "id": "b75f436a",
   "metadata": {},
   "outputs": [
    {
     "name": "stdout",
     "output_type": "stream",
     "text": [
      "Tuple of the first 5 prime numbers: (2, 3, 5, 7, 11)\n"
     ]
    }
   ],
   "source": [
    "def is_prime(num):\n",
    "    if num <=1:\n",
    "        return False\n",
    "    for i in range(2, int(num**0.5) +1):\n",
    "        if num % i == 0:\n",
    "            return  False\n",
    "    return True\n",
    "    \n",
    "prime_numbers_list = [num for num in range(2, 100) if is_prime(num)][:5] \n",
    "prime_numbers_tuple = tuple(prime_numbers_list)\n",
    "print(\"Tuple of the first 5 prime numbers:\", prime_numbers_tuple)"
   ]
  },
  {
   "cell_type": "markdown",
   "id": "e36fadde",
   "metadata": {},
   "source": [
    "33. Check if a tuple is a palindrome.\n"
   ]
  },
  {
   "cell_type": "code",
   "execution_count": 399,
   "id": "1d306981",
   "metadata": {},
   "outputs": [
    {
     "name": "stdout",
     "output_type": "stream",
     "text": [
      "Plaindrome_tuple is a plaindrome: True\n"
     ]
    }
   ],
   "source": [
    "def  is_plaindrome(tuples):\n",
    "    return tuples ==tuples[::-1]\n",
    "plaindrome_tuple = (1,2,3,2,1)\n",
    "is_plaindrome_check = is_plaindrome(plaindrome_tuple)\n",
    "print(\"Plaindrome_tuple is a plaindrome:\", is_plaindrome_check)"
   ]
  },
  {
   "cell_type": "markdown",
   "id": "4159b09c",
   "metadata": {},
   "source": [
    "34. Create a tuple of squares of numbers from 1 to 5.\n"
   ]
  },
  {
   "cell_type": "code",
   "execution_count": 401,
   "id": "daf73c85",
   "metadata": {},
   "outputs": [
    {
     "name": "stdout",
     "output_type": "stream",
     "text": [
      "Tuple of squares: (1, 4, 9, 16, 25)\n"
     ]
    }
   ],
   "source": [
    "squares_tuple = tuple( x**2 for x in range(1,6))\n",
    "print(\"Tuple of squares:\", squares_tuple)\n"
   ]
  },
  {
   "cell_type": "markdown",
   "id": "02b4cc60",
   "metadata": {},
   "source": [
    "35. Filter out all even numbers from a tuple.\n"
   ]
  },
  {
   "cell_type": "code",
   "execution_count": 402,
   "id": "d1431c41",
   "metadata": {},
   "outputs": [
    {
     "name": "stdout",
     "output_type": "stream",
     "text": [
      "Filtered tuple: (1, 3, 5, 7, 9)\n"
     ]
    }
   ],
   "source": [
    "original_tuple = (1,2,3,4,5,6,7,8,9,10)\n",
    "filtered_tuple = tuple(num for num in original_tuple if num % 2 !=0 )\n",
    "print(\"Filtered tuple:\", filtered_tuple)"
   ]
  },
  {
   "cell_type": "markdown",
   "id": "93fb79d9",
   "metadata": {},
   "source": [
    "36. Multiply all elements in a tuple by 2."
   ]
  },
  {
   "cell_type": "code",
   "execution_count": 405,
   "id": "bd2c5f64",
   "metadata": {},
   "outputs": [
    {
     "name": "stdout",
     "output_type": "stream",
     "text": [
      "(2, 12, 8, 16, 18, 4, 8, 6)\n"
     ]
    }
   ],
   "source": [
    "my_tuple = (1,6,4,8,9,2,4,3)\n",
    "multiply_tuple = tuple(item *2 for item in my_tuple)\n",
    "print(multiply_tuple)"
   ]
  },
  {
   "cell_type": "markdown",
   "id": "7de28d3f",
   "metadata": {},
   "source": [
    "37. Create a tuple of random numbers.\n"
   ]
  },
  {
   "cell_type": "code",
   "execution_count": 407,
   "id": "dc69dfa6",
   "metadata": {},
   "outputs": [
    {
     "name": "stdout",
     "output_type": "stream",
     "text": [
      "(56, 5, 72, 39, 65, 82, 82, 97, 37, 95)\n"
     ]
    }
   ],
   "source": [
    "import random\n",
    "random_tuple = tuple(random.randint(1, 100) for _ in range(10))\n",
    "print(random_tuple)"
   ]
  },
  {
   "cell_type": "markdown",
   "id": "26657831",
   "metadata": {},
   "source": [
    "38. Check if a tuple is sorted.\n"
   ]
  },
  {
   "cell_type": "code",
   "execution_count": 411,
   "id": "081db80f",
   "metadata": {},
   "outputs": [
    {
     "name": "stdout",
     "output_type": "stream",
     "text": [
      "Sorted_tuple is sorted: True\n",
      "Unsorted_tuple is sorted: False\n"
     ]
    }
   ],
   "source": [
    "def is_sorted(tup):\n",
    "    for i in range(len(tup) -1):\n",
    "        if tup[i] > tup[i+ 1]:\n",
    "            return False\n",
    "    return True\n",
    "sorted_tuple = (1,2,3,4,5,6)\n",
    "unsorted_tuple = (5,3,4,1,2)\n",
    "is_sorted1= is_sorted(sorted_tuple)\n",
    "is_sorted2 = is_sorted(unsorted_tuple)\n",
    "\n",
    "print(\"Sorted_tuple is sorted:\",is_sorted1)\n",
    "print(\"Unsorted_tuple is sorted:\", is_sorted2)"
   ]
  },
  {
   "cell_type": "markdown",
   "id": "23696dbd",
   "metadata": {},
   "source": [
    "39. Rotate a tuple to the left by `n` positions.\n"
   ]
  },
  {
   "cell_type": "code",
   "execution_count": 412,
   "id": "d39ffc84",
   "metadata": {},
   "outputs": [
    {
     "name": "stdout",
     "output_type": "stream",
     "text": [
      "(1, 2, 1, 2)\n"
     ]
    }
   ],
   "source": [
    "def rotate_tuple_left( tup, n):\n",
    "    n= n % len(tup)\n",
    "    rotated_tuple = tup[:n] + tup[:n]\n",
    "    return rotated_tuple\n",
    "\n",
    "my_tuple = (1,2,3,4,5,6)\n",
    "n_positions =2\n",
    "result = rotate_tuple_left(my_tuple, n_positions)\n",
    "print(result)"
   ]
  },
  {
   "cell_type": "markdown",
   "id": "a42b03e0",
   "metadata": {},
   "source": [
    "40. Rotate a tuple to the right by `n` positions.\n"
   ]
  },
  {
   "cell_type": "code",
   "execution_count": 414,
   "id": "323f1828",
   "metadata": {},
   "outputs": [
    {
     "name": "stdout",
     "output_type": "stream",
     "text": [
      "(5, 6, 1, 2, 3, 4)\n"
     ]
    }
   ],
   "source": [
    "def rotate_tuple_right( tup, n):\n",
    "    n= n % len(tup)\n",
    "    rotated_tuple = tup[ -n:] + tup[:-n]\n",
    "    return rotated_tuple\n",
    "my_tuple = (1,2,3,4,5,6)\n",
    "n_positions =2\n",
    "result =rotate_tuple_right(my_tuple, n_positions)\n",
    "print(result)"
   ]
  },
  {
   "cell_type": "markdown",
   "id": "5bc327ee",
   "metadata": {},
   "source": [
    "41. Create a tuple of the first 5 Fibonacci numbers.\n"
   ]
  },
  {
   "cell_type": "code",
   "execution_count": 416,
   "id": "56dc4daa",
   "metadata": {},
   "outputs": [
    {
     "name": "stdout",
     "output_type": "stream",
     "text": [
      "(0, 1, 1, 2, 3)\n"
     ]
    }
   ],
   "source": [
    "def generate_fibonacci(n):\n",
    "    fibonacci = [0, 1] \n",
    "    while len(fibonacci) < n:  # Continue generating Fibonacci numbers until the list has n elements\n",
    "        next_number = fibonacci[-1] + fibonacci[-2]  # Calculate the next Fibonacci number\n",
    "        fibonacci.append(next_number)  # Add the next Fibonacci number to the list\n",
    "    return tuple(fibonacci)  # Convert the list to a tuple and return it\n",
    "\n",
    "fibonacci_tuple = generate_fibonacci(5)\n",
    "print(fibonacci_tuple)"
   ]
  },
  {
   "cell_type": "markdown",
   "id": "5fd3a245",
   "metadata": {},
   "source": [
    "42. Create a tuple from user input.\n"
   ]
  },
  {
   "cell_type": "code",
   "execution_count": 417,
   "id": "fca3b128",
   "metadata": {},
   "outputs": [
    {
     "name": "stdout",
     "output_type": "stream",
     "text": [
      "Enter elments seperated by space:prince  priyank naina mehir shaina nayyar\n",
      "User input tuple : ('prince', '', 'priyank', 'naina', 'mehir', 'shaina', 'nayyar')\n"
     ]
    }
   ],
   "source": [
    "input_string = input(\"Enter elments seperated by space:\")\n",
    "\n",
    "input_list = input_string.split(' ')\n",
    "user_tuple = tuple(input_list)\n",
    "print(\"User input tuple :\", user_tuple)"
   ]
  },
  {
   "cell_type": "markdown",
   "id": "51f60b9e",
   "metadata": {},
   "source": [
    "43. Swap two elements in a tuple.\n"
   ]
  },
  {
   "cell_type": "code",
   "execution_count": 418,
   "id": "012d4aa1",
   "metadata": {},
   "outputs": [
    {
     "name": "stdout",
     "output_type": "stream",
     "text": [
      "Swapped tuple : (1, 2, 5, 4, 3)\n"
     ]
    }
   ],
   "source": [
    "my_tuple = (1,2,3,4,5)\n",
    "index1 = 2\n",
    "index2 = 4\n",
    "swapped_tuple = tuple(\n",
    "      my_tuple[i] if i not in (index1,index2) else\n",
    "      my_tuple[index2] if i == index1 else\n",
    "      my_tuple[index1]\n",
    "      for i in range(len(my_tuple))\n",
    ")\n",
    "print(\"Swapped tuple :\", swapped_tuple)"
   ]
  },
  {
   "cell_type": "markdown",
   "id": "748711a8",
   "metadata": {},
   "source": [
    "44. Reverse the elements of a tuple."
   ]
  },
  {
   "cell_type": "code",
   "execution_count": 419,
   "id": "2fbe520c",
   "metadata": {},
   "outputs": [
    {
     "name": "stdout",
     "output_type": "stream",
     "text": [
      "Reversed tuple : [60, 50, 40, 30, 20, 10]\n"
     ]
    }
   ],
   "source": [
    "my_tuple =(1,2,3,4,5,6)\n",
    "reversed_tuple = my_list[::-1]\n",
    "print(\"Reversed tuple :\", reversed_tuple)"
   ]
  },
  {
   "cell_type": "markdown",
   "id": "8eda7b73",
   "metadata": {},
   "source": [
    "45. Create a tuple of the first `n` powers of 2.\n"
   ]
  },
  {
   "cell_type": "code",
   "execution_count": 422,
   "id": "327c459b",
   "metadata": {},
   "outputs": [
    {
     "name": "stdout",
     "output_type": "stream",
     "text": [
      "Enter the number: 3\n",
      "Tuple of the first 3 powers of 2: (1, 2, 4)\n"
     ]
    }
   ],
   "source": [
    "n= int(input(\"Enter the number: \"))\n",
    "power_of_2_tuple = tuple(2** i for i in range(n))\n",
    "print(\"Tuple of the first\", n, \"powers of 2:\", power_of_2_tuple)"
   ]
  },
  {
   "cell_type": "markdown",
   "id": "e74cf0b5",
   "metadata": {},
   "source": [
    "46. Find the longest string in a tuple of strings.\n"
   ]
  },
  {
   "cell_type": "code",
   "execution_count": 423,
   "id": "26a15290",
   "metadata": {},
   "outputs": [
    {
     "name": "stdout",
     "output_type": "stream",
     "text": [
      "Longest string: priyanka\n"
     ]
    }
   ],
   "source": [
    "string_tuple = [\"Mehir\", \"Shaina\",\"Prince\",\"Nayyar\",\"Akhya\",\"priyanka\"]\n",
    "longest_string = max(string_tuple, key=len)\n",
    "print(\"Longest string:\", longest_string)"
   ]
  },
  {
   "cell_type": "markdown",
   "id": "0d036747",
   "metadata": {},
   "source": [
    "47. Find the shortest string in a tuple of strings.\n"
   ]
  },
  {
   "cell_type": "code",
   "execution_count": 425,
   "id": "d9310199",
   "metadata": {},
   "outputs": [
    {
     "name": "stdout",
     "output_type": "stream",
     "text": [
      "Longest string: Mehir\n"
     ]
    }
   ],
   "source": [
    "string_tuple = [\"Mehir\", \"Shaina\",\"Prince\",\"Nayyar\",\"Akhya\",\"priyanka\"]\n",
    "longest_string = min(string_tuple, key=len)\n",
    "print(\"Longest string:\", longest_string)"
   ]
  },
  {
   "cell_type": "markdown",
   "id": "bf1ad1b4",
   "metadata": {},
   "source": [
    "48. Create a tuple of the first `n` triangular numbers.\n"
   ]
  },
  {
   "cell_type": "code",
   "execution_count": 426,
   "id": "67a149de",
   "metadata": {},
   "outputs": [
    {
     "name": "stdout",
     "output_type": "stream",
     "text": [
      "Enter the number3\n",
      "Tuple of the first 3 triangular numbers: (1, 3, 6)\n"
     ]
    }
   ],
   "source": [
    "n = int(input(\"Enter the number\"))\n",
    "\n",
    "triangular_numbers_tuple = tuple((i * (i + 1)) // 2 for i in range(1, n + 1))\n",
    "\n",
    "print(\"Tuple of the first\", n, \"triangular numbers:\", triangular_numbers_tuple)"
   ]
  },
  {
   "cell_type": "markdown",
   "id": "416df613",
   "metadata": {},
   "source": [
    "49. Check if a tuple contains another tuple as a subsequence.\n"
   ]
  },
  {
   "cell_type": "code",
   "execution_count": 427,
   "id": "22f7e32f",
   "metadata": {},
   "outputs": [
    {
     "name": "stdout",
     "output_type": "stream",
     "text": [
      "Main tuple contains subsequence tuple: True\n"
     ]
    }
   ],
   "source": [
    "def contains_subsequence(main_tuple, sub_tuple):\n",
    "    sub_length = len(sub_tuple)\n",
    "    for i in range(len(main_tuple) - sub_length + 1):\n",
    "        if main_tuple[i:i+sub_length] == sub_tuple:\n",
    "            return True\n",
    "    return False\n",
    "\n",
    "# Main tuple\n",
    "main_tuple = (1, 2, 3, 4, 5, 6, 7, 8, 9)\n",
    "\n",
    "# Subsequence tuple\n",
    "sub_tuple = (3, 4, 5)\n",
    "\n",
    "# Check if the main tuple contains the subsequence tuple\n",
    "contains_subseq = contains_subsequence(main_tuple, sub_tuple)\n",
    "\n",
    "print(\"Main tuple contains subsequence tuple:\", contains_subseq)"
   ]
  },
  {
   "cell_type": "markdown",
   "id": "48c9a03c",
   "metadata": {},
   "source": [
    "50. Create a tuple of alternating 1s and 0s of length `n`."
   ]
  },
  {
   "cell_type": "code",
   "execution_count": 429,
   "id": "a140fea6",
   "metadata": {},
   "outputs": [
    {
     "name": "stdout",
     "output_type": "stream",
     "text": [
      "Tuple of alternating 1s and 0s: (0, 1, 0, 1, 0, 1, 0, 1, 0, 1)\n"
     ]
    }
   ],
   "source": [
    "n = 10\n",
    "\n",
    "# Create a tuple of alternating 1s and 0s using a list comprehension\n",
    "alternating_tuple = tuple(i % 2 for i in range(n))\n",
    "\n",
    "# Print the tuple of alternating 1s and 0s\n",
    "print(\"Tuple of alternating 1s and 0s:\", alternating_tuple)"
   ]
  },
  {
   "cell_type": "markdown",
   "id": "3622f74c",
   "metadata": {},
   "source": [
    "# Set Based Practice Problem :"
   ]
  },
  {
   "cell_type": "markdown",
   "id": "30dbe5bc",
   "metadata": {},
   "source": [
    "1. Create a set with integers from 1 to 5.\n"
   ]
  },
  {
   "cell_type": "code",
   "execution_count": 431,
   "id": "e615b656",
   "metadata": {},
   "outputs": [
    {
     "name": "stdout",
     "output_type": "stream",
     "text": [
      "{1, 2, 3, 4}\n"
     ]
    }
   ],
   "source": [
    "my_set = set()\n",
    "my_set.add(1)\n",
    "my_set.add(2)\n",
    "my_set.add(3)\n",
    "my_set.add(4)\n",
    "print(my_set)"
   ]
  },
  {
   "cell_type": "markdown",
   "id": "090090e5",
   "metadata": {},
   "source": [
    "2. Add an element to a set.\n"
   ]
  },
  {
   "cell_type": "code",
   "execution_count": 433,
   "id": "cee7b14d",
   "metadata": {},
   "outputs": [
    {
     "name": "stdout",
     "output_type": "stream",
     "text": [
      "Set after adding element : {1, 2, 3, 4, 5, 7}\n"
     ]
    }
   ],
   "source": [
    "my_set ={1,2,3,4,5}\n",
    "element_to_add = 7\n",
    "my_set.add(element_to_add)\n",
    "print(\"Set after adding element :\", my_set)"
   ]
  },
  {
   "cell_type": "markdown",
   "id": "80a658da",
   "metadata": {},
   "source": [
    "3. Remove an element from a set.\n"
   ]
  },
  {
   "cell_type": "code",
   "execution_count": 435,
   "id": "5e4b5ce8",
   "metadata": {},
   "outputs": [
    {
     "name": "stdout",
     "output_type": "stream",
     "text": [
      "Set after removing 4 {1, 2, 3, 5}\n"
     ]
    }
   ],
   "source": [
    "my_set ={1,2,3,4,5}\n",
    "remove_to_element = 4\n",
    "my_set.remove(remove_to_element)\n",
    "print(\"Set after removing\",remove_to_element,my_set)"
   ]
  },
  {
   "cell_type": "markdown",
   "id": "224ae215",
   "metadata": {},
   "source": [
    "4. Check if an element exists in a set.\n"
   ]
  },
  {
   "cell_type": "code",
   "execution_count": 436,
   "id": "825a92e6",
   "metadata": {},
   "outputs": [
    {
     "name": "stdout",
     "output_type": "stream",
     "text": [
      "Enter the element to check:4\n",
      "4 exits in the set.\n"
     ]
    }
   ],
   "source": [
    "my_set ={1,2,3,4,5}\n",
    "element_to_check = int(input(\"Enter the element to check:\"))\n",
    "if element_to_check in my_set:\n",
    "    print(f\"{element_to_check} exits in the set.\")\n",
    "else:\n",
    "    print(f\"{element_to_check} does not exits in the set.\")\n",
    "    "
   ]
  },
  {
   "cell_type": "markdown",
   "id": "f7a4e230",
   "metadata": {},
   "source": [
    "5. Find the length of a set without using the `len()` function.\n"
   ]
  },
  {
   "cell_type": "code",
   "execution_count": 437,
   "id": "3055544c",
   "metadata": {},
   "outputs": [
    {
     "name": "stdout",
     "output_type": "stream",
     "text": [
      "Lenght of the set: 7\n"
     ]
    }
   ],
   "source": [
    "my_set ={1,2,3,4,5,6,7}\n",
    "count =0\n",
    "for _ in my_set:\n",
    "    count += 1\n",
    "print(\"Lenght of the set:\",count)    \n",
    "    "
   ]
  },
  {
   "cell_type": "markdown",
   "id": "717385c5",
   "metadata": {},
   "source": [
    "6. Clear all elements from a set.\n"
   ]
  },
  {
   "cell_type": "code",
   "execution_count": 439,
   "id": "69236328",
   "metadata": {},
   "outputs": [
    {
     "name": "stdout",
     "output_type": "stream",
     "text": [
      "set()\n"
     ]
    }
   ],
   "source": [
    "my_set = {1,2,3,4,5}\n",
    "my_set.clear()\n",
    "print(my_set)"
   ]
  },
  {
   "cell_type": "markdown",
   "id": "038bcd4d",
   "metadata": {},
   "source": [
    "7. Create a set of even numbers from 1 to 10.\n"
   ]
  },
  {
   "cell_type": "code",
   "execution_count": 443,
   "id": "dc638033",
   "metadata": {},
   "outputs": [
    {
     "name": "stdout",
     "output_type": "stream",
     "text": [
      "{1, 3, 5, 7, 9}\n"
     ]
    }
   ],
   "source": [
    "even_numbers_set = {num for num in range(1,11,2)}\n",
    "print(even_numbers_set)"
   ]
  },
  {
   "cell_type": "code",
   "execution_count": 447,
   "id": "6af4e7fb",
   "metadata": {},
   "outputs": [
    {
     "name": "stdout",
     "output_type": "stream",
     "text": [
      "{2, 4, 6, 8, 10}\n"
     ]
    }
   ],
   "source": [
    "even_numbers_set = set()\n",
    "for num in range(1, 11):\n",
    "    if num %2 == 0:\n",
    "        even_numbers_set.add(num)\n",
    "print(even_numbers_set)        "
   ]
  },
  {
   "cell_type": "markdown",
   "id": "62fefbb8",
   "metadata": {},
   "source": [
    "8. Create a set of odd numbers from 1 to 10."
   ]
  },
  {
   "cell_type": "code",
   "execution_count": 449,
   "id": "f9b75859",
   "metadata": {},
   "outputs": [
    {
     "name": "stdout",
     "output_type": "stream",
     "text": [
      "{1, 3, 5, 7, 9}\n"
     ]
    }
   ],
   "source": [
    "odd_numbers_set = set()\n",
    "\n",
    "for num in range(1, 11):\n",
    "    if num % 2 != 0:\n",
    "        odd_numbers_set.add(num)\n",
    "\n",
    "print(odd_numbers_set)"
   ]
  },
  {
   "cell_type": "markdown",
   "id": "36a2dde6",
   "metadata": {},
   "source": [
    "9. Find the union of two sets.\n"
   ]
  },
  {
   "cell_type": "code",
   "execution_count": 453,
   "id": "c6d57b96",
   "metadata": {},
   "outputs": [
    {
     "name": "stdout",
     "output_type": "stream",
     "text": [
      "Union of set1 and set2 : {1, 2, 3, 4, 5, 6, 7, 8, 9}\n"
     ]
    }
   ],
   "source": [
    "set1 = {1,2,3,4,5}\n",
    "set2 = {1,2,3,4,5,5,6,7,8,9}\n",
    "\n",
    "union_result = set1.union(set2)\n",
    "print(\"Union of set1 and set2 :\", union_result)"
   ]
  },
  {
   "cell_type": "markdown",
   "id": "b25cf7f3",
   "metadata": {},
   "source": [
    "10. Find the intersection of two sets.\n"
   ]
  },
  {
   "cell_type": "code",
   "execution_count": 454,
   "id": "52d801ee",
   "metadata": {},
   "outputs": [
    {
     "name": "stdout",
     "output_type": "stream",
     "text": [
      "Intersection: {1, 2, 3, 4, 5}\n"
     ]
    }
   ],
   "source": [
    "set1 = {1,2,3,4,5}\n",
    "set2 = {1,2,3,4,5,5,6,7,8,9}\n",
    "\n",
    "intersection_result = set1.intersection(set2)\n",
    "print(\"Intersection:\", intersection_result)"
   ]
  },
  {
   "cell_type": "markdown",
   "id": "a8a454c5",
   "metadata": {},
   "source": [
    "11. Find the difference between two sets.\n"
   ]
  },
  {
   "cell_type": "code",
   "execution_count": 461,
   "id": "a0c1f0b5",
   "metadata": {},
   "outputs": [
    {
     "name": "stdout",
     "output_type": "stream",
     "text": [
      "Difference: {1, 2}\n"
     ]
    }
   ],
   "source": [
    "set1 = {1,2,3,4,5,6,7,8,9}\n",
    "set2 = {3,4,5,6,7,8,9}\n",
    "difference_set = set1.difference(set2)\n",
    "print(\"Difference:\", difference_set)"
   ]
  },
  {
   "cell_type": "markdown",
   "id": "c8d6e6d0",
   "metadata": {},
   "source": [
    "12. Check if a set is a subset of another set.\n"
   ]
  },
  {
   "cell_type": "code",
   "execution_count": 462,
   "id": "6c308150",
   "metadata": {},
   "outputs": [
    {
     "name": "stdout",
     "output_type": "stream",
     "text": [
      "Is set1 a subset of set2: True\n"
     ]
    }
   ],
   "source": [
    "set1 = {1,2,3}\n",
    "set2 ={1,2,3,4,5,6}\n",
    "\n",
    "is_subset = set1.issubset(set2)\n",
    "print(\"Is set1 a subset of set2:\", is_subset)"
   ]
  },
  {
   "cell_type": "markdown",
   "id": "d0182ff8",
   "metadata": {},
   "source": [
    "13. Check if a set is a superset of another set.\n"
   ]
  },
  {
   "cell_type": "code",
   "execution_count": 464,
   "id": "cc95ca2c",
   "metadata": {},
   "outputs": [
    {
     "name": "stdout",
     "output_type": "stream",
     "text": [
      " Is set1 is superset of set2:  True\n"
     ]
    }
   ],
   "source": [
    "set1 = {1,2,3,4,5,6}\n",
    "set2 = {3,4}\n",
    "\n",
    "is_superset = set1.issuperset(set2)\n",
    "print(\" Is set1 is superset of set2: \", is_superset)"
   ]
  },
  {
   "cell_type": "markdown",
   "id": "97c164ba",
   "metadata": {},
   "source": [
    "14. Create a set from a list.\n"
   ]
  },
  {
   "cell_type": "code",
   "execution_count": 467,
   "id": "f4604758",
   "metadata": {},
   "outputs": [
    {
     "name": "stdout",
     "output_type": "stream",
     "text": [
      "my List: [2, 3, 4, 5, 5, 4, 3, 2, 1]\n",
      "My set: {1, 2, 3, 4, 5}\n"
     ]
    }
   ],
   "source": [
    "my_list = [2,3,4,5,5,4,3,2,1]\n",
    "my_set = set(my_list)\n",
    "print(\"my List:\",my_list)\n",
    "print(\"My set:\",my_set)"
   ]
  },
  {
   "cell_type": "markdown",
   "id": "ab9fd110",
   "metadata": {},
   "source": [
    "15. Convert a set to a list."
   ]
  },
  {
   "cell_type": "code",
   "execution_count": 470,
   "id": "9b3ac59b",
   "metadata": {},
   "outputs": [
    {
     "ename": "TypeError",
     "evalue": "'list' object is not callable",
     "output_type": "error",
     "traceback": [
      "\u001b[1;31m---------------------------------------------------------------------------\u001b[0m",
      "\u001b[1;31mTypeError\u001b[0m                                 Traceback (most recent call last)",
      "Cell \u001b[1;32mIn[470], line 3\u001b[0m\n\u001b[0;32m      1\u001b[0m \u001b[38;5;66;03m#help\u001b[39;00m\n\u001b[0;32m      2\u001b[0m my_set \u001b[38;5;241m=\u001b[39m {\u001b[38;5;241m1\u001b[39m, \u001b[38;5;241m2\u001b[39m, \u001b[38;5;241m3\u001b[39m, \u001b[38;5;241m4\u001b[39m, \u001b[38;5;241m5\u001b[39m}\n\u001b[1;32m----> 3\u001b[0m my_list \u001b[38;5;241m=\u001b[39m \u001b[38;5;28mlist\u001b[39m(my_set)\n",
      "\u001b[1;31mTypeError\u001b[0m: 'list' object is not callable"
     ]
    }
   ],
   "source": [
    "#help\n",
    "my_set = {1, 2, 3, 4, 5}\n",
    "my_list = list(my_set)\n"
   ]
  },
  {
   "cell_type": "markdown",
   "id": "0ee6cb85",
   "metadata": {},
   "source": [
    "16. Remove a random element from a set.\n"
   ]
  },
  {
   "cell_type": "code",
   "execution_count": 478,
   "id": "c1138a29",
   "metadata": {},
   "outputs": [
    {
     "name": "stdout",
     "output_type": "stream",
     "text": [
      "Removed element: 1\n",
      "Updated set: {2, 3, 4, 5}\n"
     ]
    }
   ],
   "source": [
    "my_set = {1, 2, 3, 4, 5}\n",
    "\n",
    "# Remove a random element from the set\n",
    "if my_set:\n",
    "    removed_element = my_set.pop()\n",
    "    print(\"Removed element:\", removed_element)\n",
    "else:\n",
    "    print(\"The set is empty.\")\n",
    "\n",
    "print(\"Updated set:\", my_set)\n"
   ]
  },
  {
   "cell_type": "markdown",
   "id": "48fb7617",
   "metadata": {},
   "source": [
    "17. Pop an element from a set.\n"
   ]
  },
  {
   "cell_type": "code",
   "execution_count": 479,
   "id": "06e0f031",
   "metadata": {},
   "outputs": [
    {
     "name": "stdout",
     "output_type": "stream",
     "text": [
      "Removed element: 1\n",
      "Updated set: {2, 3, 4, 5}\n"
     ]
    }
   ],
   "source": [
    "my_set = {1, 2, 3, 4, 5}\n",
    "\n",
    "removed_element = my_set.pop()\n",
    "\n",
    "print(\"Removed element:\", removed_element)\n",
    "print(\"Updated set:\", my_set)\n"
   ]
  },
  {
   "cell_type": "markdown",
   "id": "6869d1f4",
   "metadata": {},
   "source": [
    "18. Check if two sets have no elements in common.\n"
   ]
  },
  {
   "cell_type": "code",
   "execution_count": 480,
   "id": "5ae19ec5",
   "metadata": {},
   "outputs": [
    {
     "name": "stdout",
     "output_type": "stream",
     "text": [
      "The two sets have elements in common.\n"
     ]
    }
   ],
   "source": [
    "set1 = {1,2,3,4,5}\n",
    "set2 = {5,6,7,8}\n",
    "\n",
    "common_elements = set1.intersection(set2)\n",
    "\n",
    "if not common_elements:\n",
    "    print(\"The two sets have no elements in common.\")\n",
    "else:\n",
    "    print(\"The two sets have elements in common.\")\n",
    "\n",
    "    \n"
   ]
  },
  {
   "cell_type": "markdown",
   "id": "4952fa6a",
   "metadata": {},
   "source": [
    "19. Find the symmetric difference between two sets.\n"
   ]
  },
  {
   "cell_type": "code",
   "execution_count": 482,
   "id": "59794750",
   "metadata": {},
   "outputs": [
    {
     "name": "stdout",
     "output_type": "stream",
     "text": [
      "Symmetric Difference: {1, 2, 3, 6, 7, 8, 9}\n"
     ]
    }
   ],
   "source": [
    "set1 = {1,2,3,4,5}\n",
    "set2 = {4,5,6,7,8,9}\n",
    "\n",
    "summetric_difference = set1^set2\n",
    "print(\"Symmetric Difference:\", summetric_difference)"
   ]
  },
  {
   "cell_type": "markdown",
   "id": "1e79d541",
   "metadata": {},
   "source": [
    "20. Update a set with elements from another set.\n"
   ]
  },
  {
   "cell_type": "code",
   "execution_count": 483,
   "id": "604d5db3",
   "metadata": {},
   "outputs": [
    {
     "name": "stdout",
     "output_type": "stream",
     "text": [
      "set 1: {1, 2, 3}\n",
      "set 2: {4, 5, 6}\n",
      "Update set 1: {1, 2, 3, 4, 5, 6}\n"
     ]
    }
   ],
   "source": [
    "set1 ={1,2,3}\n",
    "print(\"set 1:\", set1)\n",
    "\n",
    "set2 = {4,5,6}\n",
    "print(\"set 2:\", set2)\n",
    "\n",
    "set1.update(set2)\n",
    "print(\"Update set 1:\",set1)"
   ]
  },
  {
   "cell_type": "markdown",
   "id": "53d6464d",
   "metadata": {},
   "source": [
    "21. Create a set of the first 5 prime numbers.\n"
   ]
  },
  {
   "cell_type": "code",
   "execution_count": 487,
   "id": "3169307b",
   "metadata": {},
   "outputs": [
    {
     "name": "stdout",
     "output_type": "stream",
     "text": [
      "Set of the first 5 prime numbers : {2, 3, 5, 7, 11}\n"
     ]
    }
   ],
   "source": [
    "def is_prime(num):\n",
    "    if num <= 1:\n",
    "        return False\n",
    "    for i in range(2, int(num** 0.5) + 1):\n",
    "        if num % i ==0:\n",
    "            return False\n",
    "    return True\n",
    "\n",
    "prime_set = set()\n",
    "num =2\n",
    "\n",
    "while len(prime_set) < 5:\n",
    "    if is_prime(num):\n",
    "        prime_set.add(num)\n",
    "    num += 1\n",
    "print(\"Set of the first 5 prime numbers :\", prime_set)    "
   ]
  },
  {
   "cell_type": "markdown",
   "id": "cf65f10b",
   "metadata": {},
   "source": [
    "22. Check if two sets are identical.\n"
   ]
  },
  {
   "cell_type": "code",
   "execution_count": 488,
   "id": "60642bf5",
   "metadata": {},
   "outputs": [
    {
     "name": "stdout",
     "output_type": "stream",
     "text": [
      "The sets are identical.\n"
     ]
    }
   ],
   "source": [
    "set1 = {1,2,3,4}\n",
    "set2 = {1,2,3,4}\n",
    "if set1 ==set2 :\n",
    "    print(\"The sets are identical.\")\n",
    "else:\n",
    "    print(\"The sets are not identical.\")\n",
    "        "
   ]
  },
  {
   "cell_type": "markdown",
   "id": "34085d69",
   "metadata": {},
   "source": [
    "23. Create a frozen set.\n"
   ]
  },
  {
   "cell_type": "code",
   "execution_count": 489,
   "id": "e497db92",
   "metadata": {},
   "outputs": [
    {
     "name": "stdout",
     "output_type": "stream",
     "text": [
      "Frozen Set: frozenset({1, 2, 3, 4, 5})\n"
     ]
    }
   ],
   "source": [
    "# The frozenset is an immutable version of a set, meaning its elements cannot be modified after creation.\n",
    "elements = [1,2,3,4,5]\n",
    "my_frozen_set = frozenset(elements)\n",
    "\n",
    "print(\"Frozen Set:\", my_frozen_set)"
   ]
  },
  {
   "cell_type": "markdown",
   "id": "64117fd3",
   "metadata": {},
   "source": [
    "24. Check if a set is disjoint with another set."
   ]
  },
  {
   "cell_type": "code",
   "execution_count": 490,
   "id": "a3eb8ece",
   "metadata": {},
   "outputs": [
    {
     "name": "stdout",
     "output_type": "stream",
     "text": [
      "Are the sets disjoint? True\n"
     ]
    }
   ],
   "source": [
    "set1 = {1,2,3,4}\n",
    "set2 = {5,6,7,8}\n",
    "\n",
    "disjoint_status = set1.isdisjoint(set2)\n",
    "\n",
    "print(\"Are the sets disjoint?\", disjoint_status)"
   ]
  },
  {
   "cell_type": "markdown",
   "id": "fe583e1e",
   "metadata": {},
   "source": [
    "25. Create a set of squares of numbers from 1 to 5.\n"
   ]
  },
  {
   "cell_type": "code",
   "execution_count": 495,
   "id": "7afbaf1d",
   "metadata": {},
   "outputs": [
    {
     "name": "stdout",
     "output_type": "stream",
     "text": [
      "Sqaure of numbers: {1, 4, 9, 16, 25}\n"
     ]
    }
   ],
   "source": [
    "square_numbers_sets = {element**2 for element in range(1,6)}\n",
    "print(\"Sqaure of numbers:\",square_numbers_sets)"
   ]
  },
  {
   "cell_type": "markdown",
   "id": "cccfb2e0",
   "metadata": {},
   "source": [
    "26. Filter out all even numbers from a set.\n"
   ]
  },
  {
   "cell_type": "code",
   "execution_count": 500,
   "id": "2e0ccf42",
   "metadata": {},
   "outputs": [
    {
     "name": "stdout",
     "output_type": "stream",
     "text": [
      "Original Set: {1, 2, 3, 4, 5, 6, 7, 8, 9, 10}\n",
      "Even Numbers Set: {2, 4}\n"
     ]
    }
   ],
   "source": [
    "my_sets = {1,2,3,4,5,6,7,8,9,10}\n",
    "even_numbers_set= set()\n",
    "for num in my_set:\n",
    "    if num %2 == 0:\n",
    "        even_numbers_set.add(num)\n",
    "print(\"Original Set:\", my_sets)\n",
    "print(\"Even Numbers Set:\", even_numbers_set)\n"
   ]
  },
  {
   "cell_type": "markdown",
   "id": "89487839",
   "metadata": {},
   "source": [
    "27. Multiply all elements in a set by 2.\n"
   ]
  },
  {
   "cell_type": "code",
   "execution_count": 502,
   "id": "4b8509cf",
   "metadata": {},
   "outputs": [
    {
     "name": "stdout",
     "output_type": "stream",
     "text": [
      "Original Set: {1, 2, 3, 4, 5}\n",
      "Multiplied Set: {2, 4, 6, 8, 10}\n"
     ]
    }
   ],
   "source": [
    "original_set = {1,2,3,4,5}\n",
    "multiplied_set = set()\n",
    "for num in original_set:\n",
    "    multiplied_num = num *2\n",
    "    multiplied_set.add(multiplied_num)\n",
    "print(\"Original Set:\", original_set)\n",
    "print(\"Multiplied Set:\", multiplied_set)\n"
   ]
  },
  {
   "cell_type": "markdown",
   "id": "20d08272",
   "metadata": {},
   "source": [
    "28. Create a set of random numbers.\n"
   ]
  },
  {
   "cell_type": "code",
   "execution_count": 504,
   "id": "e8e5e3a8",
   "metadata": {},
   "outputs": [
    {
     "name": "stdout",
     "output_type": "stream",
     "text": [
      "Generated set of random numbers: {64, 100, 8, 11, 31}\n"
     ]
    }
   ],
   "source": [
    "import random\n",
    "num_random_numbers = 5\n",
    "random_number_set = set()\n",
    "for _ in range(num_random_numbers):\n",
    "    random_num = random.randint(1,100)\n",
    "    random_number_set.add(random_num)\n",
    "print(\"Generated set of random numbers:\",random_number_set )    "
   ]
  },
  {
   "cell_type": "markdown",
   "id": "6b0a45a8",
   "metadata": {},
   "source": [
    "29. Check if a set is empty.\n"
   ]
  },
  {
   "cell_type": "code",
   "execution_count": 505,
   "id": "bee9e2f7",
   "metadata": {},
   "outputs": [
    {
     "name": "stdout",
     "output_type": "stream",
     "text": [
      "The set is empty.\n"
     ]
    }
   ],
   "source": [
    "my_set = set()\n",
    "if not my_set:\n",
    "    print(\"The set is empty.\")\n",
    "else:\n",
    "    print(\"The set is not empty.\")"
   ]
  },
  {
   "cell_type": "markdown",
   "id": "02493221",
   "metadata": {},
   "source": [
    "30. Create a nested set (hint: use frozenset).\n"
   ]
  },
  {
   "cell_type": "code",
   "execution_count": 508,
   "id": "0ca0756c",
   "metadata": {},
   "outputs": [
    {
     "name": "stdout",
     "output_type": "stream",
     "text": [
      "Nested Set: {frozenset({1, 2, 3, 4, 5}), frozenset({6, 7, 8, 9, 10})}\n"
     ]
    }
   ],
   "source": [
    "set1 = {1,2,3,4,5}\n",
    "set2 = {6,7,8,9,10}\n",
    "frozen_set1 = frozenset(set1)\n",
    "frozen_set2 = frozenset(set2)\n",
    "\n",
    "nested_set = {frozen_set1, frozen_set2}\n",
    "print(\"Nested Set:\", nested_set)"
   ]
  },
  {
   "cell_type": "markdown",
   "id": "a8a87cff",
   "metadata": {},
   "source": [
    "31. Remove an element from a set using the discard method."
   ]
  },
  {
   "cell_type": "code",
   "execution_count": 509,
   "id": "837ac775",
   "metadata": {},
   "outputs": [
    {
     "name": "stdout",
     "output_type": "stream",
     "text": [
      "Initial set: {1, 2, 3, 4, 5}\n",
      "Set after removing 3 : {1, 2, 4, 5}\n"
     ]
    }
   ],
   "source": [
    "my_set = {1, 2, 3, 4, 5}\n",
    "\n",
    "print(\"Initial set:\", my_set)\n",
    "\n",
    "element_to_remove = 3\n",
    "\n",
    "# Use the discard() method to remove the element from the set\n",
    "# If the element is not present in the set, discard() won't raise an error\n",
    "my_set.discard(element_to_remove)\n",
    "\n",
    "print(\"Set after removing\", element_to_remove, \":\", my_set)"
   ]
  },
  {
   "cell_type": "markdown",
   "id": "211d054d",
   "metadata": {},
   "source": [
    "32. Compare two sets.\n"
   ]
  },
  {
   "cell_type": "code",
   "execution_count": 510,
   "id": "45b3c782",
   "metadata": {},
   "outputs": [
    {
     "name": "stdout",
     "output_type": "stream",
     "text": [
      "Set 1: {1, 2, 3, 4, 5}\n",
      "Set 2: {4, 5, 6, 7, 8}\n",
      "Is set1 a subset of set2? True\n",
      "Is set2 a subset of set1? False\n",
      "Intersection: {4, 5}\n",
      "Union: {1, 2, 3, 4, 5, 6, 7, 8}\n",
      "Elements in set1 but not in set2: {1, 2, 3}\n",
      "Elements in set2 but not in set1: {8, 6, 7}\n"
     ]
    }
   ],
   "source": [
    "set1 = {1,2,3,4,5}\n",
    "set2 ={4,5,6,7,8}\n",
    "\n",
    "\n",
    "# Check if set2 is a subset of set1\n",
    "is_superset = set1.issuperset(set2)\n",
    "\n",
    "# Find the intersection of the sets\n",
    "intersection = set1.intersection(set2)\n",
    "\n",
    "# Find the union of the sets\n",
    "union = set1.union(set2)\n",
    "\n",
    "# Find the elements that are in set1 but not in set2\n",
    "difference1 = set1.difference(set2)\n",
    "\n",
    "# Find the elements that are in set2 but not in set1\n",
    "difference2 = set2.difference(set1)\n",
    "\n",
    "print(\"Set 1:\", set1)\n",
    "print(\"Set 2:\", set2)\n",
    "print(\"Is set1 a subset of set2?\", is_subset)\n",
    "print(\"Is set2 a subset of set1?\", is_superset)\n",
    "print(\"Intersection:\", intersection)\n",
    "print(\"Union:\", union)\n",
    "print(\"Elements in set1 but not in set2:\", difference1)\n",
    "print(\"Elements in set2 but not in set1:\", difference2)"
   ]
  },
  {
   "cell_type": "markdown",
   "id": "91e8c37e",
   "metadata": {},
   "source": [
    "33. Create a set from a string.\n"
   ]
  },
  {
   "cell_type": "code",
   "execution_count": 511,
   "id": "7cf8b8b5",
   "metadata": {},
   "outputs": [
    {
     "name": "stdout",
     "output_type": "stream",
     "text": [
      "{'h', 'r', 'n', 'p', 's', 'k', 'c', 'y', 'e', 'm', 'a', 'i', ' '}\n"
     ]
    }
   ],
   "source": [
    "inpput_string = \"prince\"\n",
    "char_set = set(input_string)\n",
    "print(char_set)"
   ]
  },
  {
   "cell_type": "markdown",
   "id": "174a814f",
   "metadata": {},
   "source": [
    "34. Convert a set of strings to a set of integers.\n"
   ]
  },
  {
   "cell_type": "code",
   "execution_count": 518,
   "id": "8f31b404",
   "metadata": {},
   "outputs": [
    {
     "name": "stdout",
     "output_type": "stream",
     "text": [
      "Original string set: {'567', '345', '456', '123'}\n",
      "Conveted Integer set: {456, 345, 123, 567}\n"
     ]
    }
   ],
   "source": [
    "string_set = {\"123\",'345',\"456\",'567'}\n",
    "integer_set = set()\n",
    "for string in string_set:\n",
    "    integer_value = int(string)\n",
    "    integer_set.add(integer_value)\n",
    " \n",
    "print(\"Original string set:\", string_set)\n",
    "print(\"Conveted Integer set:\", integer_set)"
   ]
  },
  {
   "cell_type": "markdown",
   "id": "08695124",
   "metadata": {},
   "source": [
    "35. Convert a set of integers to a set of strings.\n"
   ]
  },
  {
   "cell_type": "code",
   "execution_count": 520,
   "id": "94b1cd51",
   "metadata": {},
   "outputs": [
    {
     "name": "stdout",
     "output_type": "stream",
     "text": [
      "Original integer set: {456, 345, 123, 567}\n",
      "string_set: {'567', '345', '456', '123'}\n"
     ]
    }
   ],
   "source": [
    "integer_set = {456, 345, 123, 567}\n",
    "string_set =set()\n",
    "for integer in integer_set:\n",
    "    string_value = str(integer)\n",
    "    string_set.add(string_value)\n",
    "    \n",
    "print(\"Original integer set:\", integer_set)\n",
    "print(\"string_set:\",string_set)"
   ]
  },
  {
   "cell_type": "markdown",
   "id": "06a916f2",
   "metadata": {},
   "source": [
    "36. Create a set from a tuple.\n"
   ]
  },
  {
   "cell_type": "code",
   "execution_count": 521,
   "id": "68ad8691",
   "metadata": {},
   "outputs": [
    {
     "name": "stdout",
     "output_type": "stream",
     "text": [
      "{1, 2, 3, 4, 5, 6, 7}\n"
     ]
    }
   ],
   "source": [
    "input_tuple = (1,2,3,4,5,6,7)\n",
    "set = set(input_tuple)\n",
    "print(set)"
   ]
  },
  {
   "cell_type": "markdown",
   "id": "e712d532",
   "metadata": {},
   "source": [
    "37. Convert a set to a tuple.\n"
   ]
  },
  {
   "cell_type": "code",
   "execution_count": 522,
   "id": "6f8eb167",
   "metadata": {},
   "outputs": [
    {
     "name": "stdout",
     "output_type": "stream",
     "text": [
      "(1, 2, 3, 4, 5, 6)\n"
     ]
    }
   ],
   "source": [
    "input_set = {1,2,3,4,5,6}\n",
    "output_tuple = tuple(input_set)\n",
    "print(output_tuple)"
   ]
  },
  {
   "cell_type": "markdown",
   "id": "84527dbc",
   "metadata": {},
   "source": [
    "38. Find the maximum value in a set.\n"
   ]
  },
  {
   "cell_type": "code",
   "execution_count": 525,
   "id": "ab9352de",
   "metadata": {},
   "outputs": [
    {
     "name": "stdout",
     "output_type": "stream",
     "text": [
      "Max element: 9\n"
     ]
    }
   ],
   "source": [
    "input_set = {1,2,3,4,5,6,7,8,9}\n",
    "max_element = max(input_set)\n",
    "print(\"Max element:\",max_element)"
   ]
  },
  {
   "cell_type": "code",
   "execution_count": 530,
   "id": "0ec809ec",
   "metadata": {},
   "outputs": [
    {
     "name": "stdout",
     "output_type": "stream",
     "text": [
      "Maximun value: 9\n"
     ]
    }
   ],
   "source": [
    "input_set = {1,2,3,4,5,6,7,8,9}\n",
    "max_value = None\n",
    "for num in input_set:\n",
    "    if max_value is None or num > max_value:\n",
    "        max_value = num\n",
    "print(\"Maximun value:\", max_value)"
   ]
  },
  {
   "cell_type": "markdown",
   "id": "c74a1c21",
   "metadata": {},
   "source": [
    "39. Find the minimum value in a set.\n"
   ]
  },
  {
   "cell_type": "code",
   "execution_count": 531,
   "id": "43854c84",
   "metadata": {},
   "outputs": [
    {
     "name": "stdout",
     "output_type": "stream",
     "text": [
      "Min element: 1\n"
     ]
    }
   ],
   "source": [
    "input_set = {1,2,3,4,5,6,7,8,9}\n",
    "min_element = min(input_set)\n",
    "print(\"Min element:\",min_element)"
   ]
  },
  {
   "cell_type": "markdown",
   "id": "e2d7d13c",
   "metadata": {},
   "source": [
    "40. Create a set from user input."
   ]
  },
  {
   "cell_type": "code",
   "execution_count": null,
   "id": "c54c9957",
   "metadata": {},
   "outputs": [],
   "source": [
    "user_set = set()\n",
    "\n",
    "print(\"Enter elements for the set (type 'done' to finish):\")\n",
    "while True:\n",
    "    user_input = input(\"> \")  \n",
    "\n",
    "    if user_input.lower() == 'done':\n",
    "        break  \n",
    "\n",
    "    user_set.add(user_input)\n",
    "\n",
    "print(\"Final set:\", user_set)"
   ]
  },
  {
   "cell_type": "code",
   "execution_count": null,
   "id": "c77f6116",
   "metadata": {},
   "outputs": [],
   "source": [
    "41. Check if the intersection of two sets is empty.\n",
    "42. Create a set of the first 5 Fibonacci numbers.\n",
    "\n",
    "43. Remove duplicates from a list using sets.\n",
    "44. Check if two sets have the same elements, regardless of their count.\n",
    "45. Create a set of the first `n` powers of 2.\n",
    "46. Find the common elements between a set and a list.\n",
    "\n",
    "47. Create a set of the first `n` triangular numbers."
   ]
  },
  {
   "cell_type": "markdown",
   "id": "aa94b773",
   "metadata": {},
   "source": [
    "41. Check if the intersection of two sets is empty.\n"
   ]
  },
  {
   "cell_type": "code",
   "execution_count": 536,
   "id": "2dcc778e",
   "metadata": {},
   "outputs": [
    {
     "name": "stdout",
     "output_type": "stream",
     "text": [
      "The interscetion of the two sets is not empty.\n"
     ]
    }
   ],
   "source": [
    "set1 = {1,2,3,4,5}\n",
    "set2 ={4,5,6,7,8}\n",
    "\n",
    "intersection_result = set1.intersection(set2)\n",
    "if not intersection_result:\n",
    "    print(\"The intersection of the two sets is emplty.\")\n",
    "else:\n",
    "    print(\"The interscetion of the two sets is not empty.\")"
   ]
  },
  {
   "cell_type": "markdown",
   "id": "a17def88",
   "metadata": {},
   "source": [
    "42. Create a set of the first 5 Fibonacci numbers.\n"
   ]
  },
  {
   "cell_type": "code",
   "execution_count": null,
   "id": "af86044a",
   "metadata": {},
   "outputs": [],
   "source": [
    "fibonacci_set =set()\n",
    "a,b = 0,1\n",
    "for _ in range(6):\n",
    "    fibonacci_set.add(a)\n",
    "    a,b = b , a+b\n",
    "print(\"Set of the first 5 Fibonacci numbers:\", fibonacci_set)"
   ]
  },
  {
   "cell_type": "markdown",
   "id": "d460124c",
   "metadata": {},
   "source": [
    "43. Remove duplicates from a list using sets.\n"
   ]
  },
  {
   "cell_type": "code",
   "execution_count": null,
   "id": "24396dce",
   "metadata": {},
   "outputs": [],
   "source": [
    "original_list = [2,3,4,5,6,7,8,9]\n",
    "unique_set = set(original_list)\n",
    "unique_list = list(unique_set)\n",
    "print(\"Original list :\", original_list)\n",
    "print(\"LIst with Duplicated Removed :\", unique_list)"
   ]
  },
  {
   "cell_type": "markdown",
   "id": "828514e7",
   "metadata": {},
   "source": [
    "44. Check if two sets have the same elements, regardless of their count.\n"
   ]
  },
  {
   "cell_type": "code",
   "execution_count": null,
   "id": "70b5749d",
   "metadata": {},
   "outputs": [],
   "source": [
    "\n",
    "def have_same_elements(set1, set2):\n",
    "    sorted_list1 = sorted(list(set1))\n",
    "    sorted_list2 = sorted(list(set2))\n",
    "    return sorted_list1 == sorted_list2\n",
    "\n",
    "set1 = {1,2,3,4,5}\n",
    "set2 = {2,3,1}\n",
    "\n",
    "result = have_same_elements(set1,set2)\n",
    "if result:\n",
    "    print(\"The sets have the same elements.\")\n",
    "else:\n",
    "    print(\"The sets do not have the same elements.\")"
   ]
  },
  {
   "cell_type": "markdown",
   "id": "c4ac5d23",
   "metadata": {},
   "source": [
    "45. Create a set of the first `n` powers of 2.\n"
   ]
  },
  {
   "cell_type": "code",
   "execution_count": null,
   "id": "f655defb",
   "metadata": {},
   "outputs": [],
   "source": [
    "def generate_powers_of_2(n):\n",
    "    powers_of_2 = set()\n",
    "\n",
    "    for i in range(n):\n",
    "        power = 2 ** i\n",
    "        powers_of_2.add(power)\n",
    "    return powers_of_2\n",
    "n = 5\n",
    "powers_set = generate_powers_of_2(n)\n",
    "print(powers_set)"
   ]
  },
  {
   "cell_type": "code",
   "execution_count": null,
   "id": "326777dd",
   "metadata": {},
   "outputs": [],
   "source": [
    "46. Find the common elements between a set and a list.\n"
   ]
  },
  {
   "cell_type": "code",
   "execution_count": null,
   "id": "fb2a7e93",
   "metadata": {},
   "outputs": [],
   "source": [
    "# Step 1: Define a set and a list\n",
    "my_set = {3, 7, 9, 12, 15}\n",
    "my_list = [7, 12, 5, 9]\n",
    "\n",
    "# Step 2: Convert the list to a set for efficient comparison\n",
    "list_to_set = set(my_list)\n",
    "\n",
    "# Step 3: Initialize an empty list to store common elements\n",
    "common_elements = []\n",
    "\n",
    "# Step 4: Iterate through the elements in the set\n",
    "for element in my_set:\n",
    "    # Step 5: Check if the element is present in the converted set (list_to_set)\n",
    "    if element in list_to_set:\n",
    "        # Step 6: If the element is present in both the set and the list, add it to the common_elements list\n",
    "        common_elements.append(element)\n",
    "\n",
    "# Step 7: Print the common elements\n",
    "print(\"Common elements:\", common_elements)"
   ]
  },
  {
   "cell_type": "markdown",
   "id": "c4c158ad",
   "metadata": {},
   "source": [
    "47. Create a set of the first `n` triangular numbers."
   ]
  },
  {
   "cell_type": "code",
   "execution_count": null,
   "id": "973e2e2e",
   "metadata": {},
   "outputs": [],
   "source": [
    "def generate_triangular_numbers(n):\n",
    "    triangular_numbers = set()  # Create an empty set to store the triangular numbers\n",
    "    for i in range(1, n + 1):\n",
    "        triangular_number = i * (i + 1) // 2  # Calculate the ith triangular number using the formula\n",
    "        triangular_numbers.add(triangular_number)  # Add the calculated triangular number to the set\n",
    "    return triangular_numbers\n",
    "\n",
    "# Input the value of 'n'\n",
    "n = int(input(\"Enter the value of n: \"))\n",
    "\n",
    "# Call the function to generate the set of first 'n' triangular numbers\n",
    "triangular_set = generate_triangular_numbers(n)\n",
    "\n",
    "# Display the set of triangular numbers\n",
    "print(f\"The set of the first {n} triangular numbers is:\", triangular_set)"
   ]
  },
  {
   "cell_type": "markdown",
   "id": "b44442d3",
   "metadata": {},
   "source": [
    "48. Check if a set contains another set as a subset.\n"
   ]
  },
  {
   "cell_type": "code",
   "execution_count": 554,
   "id": "0960c102",
   "metadata": {},
   "outputs": [
    {
     "name": "stdout",
     "output_type": "stream",
     "text": [
      "set2 is a subset of set1\n"
     ]
    }
   ],
   "source": [
    "set1 = {1, 2, 3, 4, 5}\n",
    "set2 = {3, 4}\n",
    "\n",
    "is_subset = set2.issubset(set1)\n",
    "if is_subset:\n",
    "    print(\"set2 is a subset of set1\")\n",
    "else:\n",
    "    print(\"set2 is not a subset of set1\")  "
   ]
  },
  {
   "cell_type": "markdown",
   "id": "4a315dea",
   "metadata": {},
   "source": [
    "49. Create a set of alternating 1s and 0s of length `n`.\n"
   ]
  },
  {
   "cell_type": "code",
   "execution_count": null,
   "id": "c6a27a07",
   "metadata": {},
   "outputs": [],
   "source": [
    "def create_alternating_set(n):\n",
    "    # Initialize an empty set to store the alternating sequence.\n",
    "    alternating_set = set()\n",
    "\n",
    "    # Loop to generate alternating 1s and 0s.\n",
    "    for i in range(n):\n",
    "        # Alternate between adding 1 and 0 to the set based on whether i is even or odd.\n",
    "        if i % 2 == 0:\n",
    "            alternating_set.add(1)  # Add 1 if i is even.\n",
    "        else:\n",
    "            alternating_set.add(0)  # Add 0 if i is odd.\n",
    "\n",
    "    return alternating_set\n",
    "\n",
    "# Define the desired length of the alternating set.\n",
    "length_n = 10\n",
    "\n",
    "# Call the function to create the alternating set of length 'length_n'.\n",
    "result = create_alternating_set(length_n)\n",
    "\n",
    "# Print the resulting set.\n",
    "print(result)"
   ]
  },
  {
   "cell_type": "markdown",
   "id": "bfb7eef0",
   "metadata": {},
   "source": [
    "50. Merge multiple sets into one."
   ]
  },
  {
   "cell_type": "code",
   "execution_count": 557,
   "id": "2b8f1a45",
   "metadata": {},
   "outputs": [
    {
     "name": "stdout",
     "output_type": "stream",
     "text": [
      "Merged Set: {1, 2, 3, 4, 5, 6, 7}\n"
     ]
    }
   ],
   "source": [
    "set1 = {1, 2, 3}\n",
    "set2 = {3, 4, 5}\n",
    "set3 = {5, 6, 7}\n",
    "\n",
    "merged_set = set1.union(set2, set3)\n",
    "print(\"Merged Set:\", merged_set)"
   ]
  }
 ],
 "metadata": {
  "kernelspec": {
   "display_name": "Python 3 (ipykernel)",
   "language": "python",
   "name": "python3"
  },
  "language_info": {
   "codemirror_mode": {
    "name": "ipython",
    "version": 3
   },
   "file_extension": ".py",
   "mimetype": "text/x-python",
   "name": "python",
   "nbconvert_exporter": "python",
   "pygments_lexer": "ipython3",
   "version": "3.11.4"
  }
 },
 "nbformat": 4,
 "nbformat_minor": 5
}
