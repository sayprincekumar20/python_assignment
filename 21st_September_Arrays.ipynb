{
 "cells": [
  {
   "cell_type": "markdown",
   "id": "cf862952",
   "metadata": {},
   "source": [
    "1. Given an array, check if it contains any duplicates or not.\n",
    "\n",
    "arr = [1, 2, 4, 2, 5, 9]\n",
    "\n",
    "Output = True"
   ]
  },
  {
   "cell_type": "code",
   "execution_count": 4,
   "id": "d27ed742",
   "metadata": {},
   "outputs": [
    {
     "name": "stdout",
     "output_type": "stream",
     "text": [
      "Output: True\n"
     ]
    }
   ],
   "source": [
    "arr= [1,2,3,4,5,9]\n",
    "has_not_duplicates = len(arr) == len(set(arr))\n",
    "print(\"Output:\", has_not_duplicates)"
   ]
  },
  {
   "cell_type": "markdown",
   "id": "10344aca",
   "metadata": {},
   "source": [
    "2. Given an array and an integer k, rotate the array to the right by k steps.\n",
    "\n",
    "arr = [1, 2, 3, 4, 5, 6, 7]\n",
    "\n",
    "k = 3\n",
    "\n",
    "Output = [5, 6, 7, 1, 2, 3, 4]"
   ]
  },
  {
   "cell_type": "code",
   "execution_count": 5,
   "id": "b924348e",
   "metadata": {},
   "outputs": [
    {
     "name": "stdout",
     "output_type": "stream",
     "text": [
      "Original array: [1, 2, 3, 4, 5, 6, 7]\n",
      "Rotate the array to the right by 3 steps: [5, 6, 7, 1, 2, 3, 4]\n"
     ]
    }
   ],
   "source": [
    "arr = [1,2,3,4,5,6,7]\n",
    "k =3\n",
    "rotation_point = len(arr) - k\n",
    "rotated_arr = arr[rotation_point:] + arr[:rotation_point]\n",
    "print(\"Original array:\",arr)\n",
    "print(f\"Rotate the array to the right by {k} steps:\", rotated_arr)"
   ]
  },
  {
   "cell_type": "markdown",
   "id": "9dac244d",
   "metadata": {},
   "source": [
    "3. Reverse the given array in-place, means without using any extra data structure.\n",
    "\n",
    "arr = [2, 4, 5, 7, 9, 12]\n",
    "\n",
    "\n",
    "Output = [12, 9, 7, 5, 4, 2]"
   ]
  },
  {
   "cell_type": "code",
   "execution_count": 7,
   "id": "527f81bb",
   "metadata": {},
   "outputs": [
    {
     "name": "stdout",
     "output_type": "stream",
     "text": [
      "[12, 9, 7, 5, 4, 2]\n"
     ]
    }
   ],
   "source": [
    "arr= [2,4,5,7,9,12]\n",
    "\n",
    "reverse_array = arr[::-1]\n",
    "print(reverse_array)"
   ]
  },
  {
   "cell_type": "code",
   "execution_count": 10,
   "id": "2837e0a7",
   "metadata": {},
   "outputs": [
    {
     "name": "stdout",
     "output_type": "stream",
     "text": [
      "Reversed array: [12, 9, 7, 5, 4, 2]\n"
     ]
    }
   ],
   "source": [
    "arr= [2,4,5,7,9,12]\n",
    "def reverse_array_in_palce(arr):\n",
    "        start = 0\n",
    "        end =len(arr) -1\n",
    "        \n",
    "        while start < end:\n",
    "            arr[start], arr[end] = arr[end], arr[start]\n",
    "            start += 1\n",
    "            end  -= 1\n",
    "            \n",
    "reverse_array_in_palce(arr)\n",
    "print(\"Reversed array:\", arr)"
   ]
  },
  {
   "cell_type": "markdown",
   "id": "3a691d08",
   "metadata": {},
   "source": [
    "4. Given an array of integers, find the maximum element in an array\n",
    "\n",
    "\n",
    "arr = [10, 5, 20, 8, 15]\n",
    "\n",
    "Output = 20"
   ]
  },
  {
   "cell_type": "code",
   "execution_count": 13,
   "id": "e0e18d4b",
   "metadata": {},
   "outputs": [
    {
     "name": "stdout",
     "output_type": "stream",
     "text": [
      "20\n"
     ]
    }
   ],
   "source": [
    "arr = [10,5,20,8,15]\n",
    "max_element = max(arr)\n",
    "print(max_element)"
   ]
  },
  {
   "cell_type": "code",
   "execution_count": 14,
   "id": "f32964c7",
   "metadata": {},
   "outputs": [
    {
     "name": "stdout",
     "output_type": "stream",
     "text": [
      "Maximum element: 20\n"
     ]
    }
   ],
   "source": [
    "arr = [10,5,20,8,15]\n",
    "\n",
    "maximum_element = arr[0]\n",
    "for num in arr:\n",
    "    if num > maximum_element:\n",
    "        maximum_element = num\n",
    "print(\"Maximum element:\", maximum_element)\n"
   ]
  },
  {
   "cell_type": "markdown",
   "id": "51227ee0",
   "metadata": {},
   "source": [
    "5. Given a sorted array, remove the duplicate element without using any extra data structure.\n",
    "\n",
    "arr = [1, 1, 2, 2, 2, 3, 3, 4, 4, 4, 5, 5]\n",
    "\n",
    "Output = [1, 2, 3, 4, 5]"
   ]
  },
  {
   "cell_type": "code",
   "execution_count": 16,
   "id": "fb8abdc7",
   "metadata": {},
   "outputs": [
    {
     "name": "stdout",
     "output_type": "stream",
     "text": [
      "[1, 2, 3, 4, 5]\n"
     ]
    }
   ],
   "source": [
    "arr = [1, 1, 2, 2, 2, 3, 3, 4, 4, 4, 5, 5]\n",
    "remove_duplicate_element = set(arr)\n",
    "print(list(remove_duplicate_element))"
   ]
  },
  {
   "cell_type": "code",
   "execution_count": 17,
   "id": "3864c6a9",
   "metadata": {},
   "outputs": [
    {
     "name": "stdout",
     "output_type": "stream",
     "text": [
      "Array with duplicates removed: [1, 2, 3, 4, 5]\n"
     ]
    }
   ],
   "source": [
    "arr = [1, 1, 2, 2, 2, 3, 3, 4, 4, 4, 5, 5]\n",
    "\n",
    "def  remove_duplicates(arr):\n",
    "    if  not arr:\n",
    "        return []\n",
    "    current_index = 1\n",
    "    for i in range(1, len(arr)):\n",
    "        if arr[i] != arr[i-1]:\n",
    "            arr[current_index] =arr[i]\n",
    "            current_index += 1\n",
    "    return arr[:current_index]  \n",
    "new_arr = remove_duplicates(arr)\n",
    "print(\"Array with duplicates removed:\", new_arr)"
   ]
  },
  {
   "cell_type": "code",
   "execution_count": null,
   "id": "3c6a55aa",
   "metadata": {},
   "outputs": [],
   "source": []
  }
 ],
 "metadata": {
  "kernelspec": {
   "display_name": "Python 3 (ipykernel)",
   "language": "python",
   "name": "python3"
  },
  "language_info": {
   "codemirror_mode": {
    "name": "ipython",
    "version": 3
   },
   "file_extension": ".py",
   "mimetype": "text/x-python",
   "name": "python",
   "nbconvert_exporter": "python",
   "pygments_lexer": "ipython3",
   "version": "3.11.4"
  }
 },
 "nbformat": 4,
 "nbformat_minor": 5
}
