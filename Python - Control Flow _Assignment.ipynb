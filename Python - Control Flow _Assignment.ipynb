{
 "cells": [
  {
   "cell_type": "markdown",
   "id": "c3cc97f4",
   "metadata": {},
   "source": [
    "# Basic If-Else Statements:"
   ]
  },
  {
   "cell_type": "code",
   "execution_count": 1,
   "id": "28d706b0",
   "metadata": {},
   "outputs": [
    {
     "name": "stdout",
     "output_type": "stream",
     "text": [
      "Enter a number6\n",
      "6 ,This number is positive\n"
     ]
    }
   ],
   "source": [
    "#1.1. Write a Python program to check if a given number is positive or negative.\n",
    "number= int(input(\"Enter a number\"))\n",
    "if number >= 0:\n",
    "    print(number,\",This number is positive\")\n",
    "else:\n",
    "    print(number,\",This Number is Negative \")"
   ]
  },
  {
   "cell_type": "code",
   "execution_count": 4,
   "id": "3f39d070",
   "metadata": {},
   "outputs": [],
   "source": [
    "# 2.Create a program that determines if a person is eligible to vote based on their age.\n",
    "\n",
    "def vote_eligible():\n",
    "    age = int(input(\"Enter your age:\"))\n",
    "\n",
    "    if age >= 18:\n",
    "        return \"Congrates, You are eligible for vote.\"\n",
    "    else:\n",
    "        diff= age - 18\n",
    "        return f\"Sorry, You are not eligible for vote.you have wait for {diff} years for vote\""
   ]
  },
  {
   "cell_type": "code",
   "execution_count": 5,
   "id": "53f8460d",
   "metadata": {},
   "outputs": [
    {
     "name": "stdout",
     "output_type": "stream",
     "text": [
      "Enter your age:7\n"
     ]
    },
    {
     "data": {
      "text/plain": [
       "'Sorry, You are not eligible for vote.you have wait for -11 years for vote'"
      ]
     },
     "execution_count": 5,
     "metadata": {},
     "output_type": "execute_result"
    }
   ],
   "source": [
    "vote_eligible()"
   ]
  },
  {
   "cell_type": "code",
   "execution_count": 7,
   "id": "04871a20",
   "metadata": {},
   "outputs": [
    {
     "name": "stdout",
     "output_type": "stream",
     "text": [
      "Enter the first number7\n",
      "Enter the second number8\n",
      "8 is greater\n"
     ]
    }
   ],
   "source": [
    "# 3.Develop a program to find the maximum of two numbers using if-else statements.\n",
    "num1= int(input(\"Enter the first number\"))\n",
    "num2= int(input(\"Enter the second number\"))\n",
    "if num1 > num2:\n",
    "    print(f\"{num1} is greater\")\n",
    "else:\n",
    "    print(f\"{num2} is greater\")\n",
    "    \n",
    "    "
   ]
  },
  {
   "cell_type": "code",
   "execution_count": 8,
   "id": "ffd78660",
   "metadata": {},
   "outputs": [
    {
     "name": "stdout",
     "output_type": "stream",
     "text": [
      "Enter a year:444\n",
      "444 is a leap year\n"
     ]
    }
   ],
   "source": [
    "#4.Write a Python script to classify a given year as a leap year or not.\n",
    "year= int(input(\"Enter a year:\"))\n",
    "if (year % 4 == 0 and year % 100 !=0) or (year % 400== 0):\n",
    "    print(f\"{year} is a leap year\")\n",
    "else:\n",
    "    print(f\"{year} is not leap year\")\n"
   ]
  },
  {
   "cell_type": "code",
   "execution_count": 10,
   "id": "3ff51211",
   "metadata": {},
   "outputs": [
    {
     "name": "stdout",
     "output_type": "stream",
     "text": [
      "Enter a character:4\n",
      "Plz enter a valid single alphabetic characrer.\n"
     ]
    }
   ],
   "source": [
    "# 5.Create a program that checks whether a character is a vowel or a consonant.\n",
    "char= input(\"Enter a character:\").lower()\n",
    "\n",
    "if char.isalpha() and len(char) == 1:\n",
    "    if char in 'aeiou':\n",
    "        print(f\"{char} is Vowel.\")\n",
    "    else:\n",
    "        print(f\"{char} is  Consonant.\")\n",
    "else:\n",
    "    print(\"Plz enter a valid single alphabetic characrer.\")\n",
    "        "
   ]
  },
  {
   "cell_type": "code",
   "execution_count": 11,
   "id": "c63fdc77",
   "metadata": {},
   "outputs": [
    {
     "name": "stdout",
     "output_type": "stream",
     "text": [
      "Enter a number4\n",
      "4 is even.\n"
     ]
    }
   ],
   "source": [
    "# 6.Implement a program to determine whether a given number is even or odd.\n",
    "num= int(input(\"Enter a number\"))\n",
    "if num %2 ==0:\n",
    "    print(f\"{num} is even.\")\n",
    "else:\n",
    "    prinr(f\"{num} is odd.\")"
   ]
  },
  {
   "cell_type": "code",
   "execution_count": 20,
   "id": "d06a61ef",
   "metadata": {},
   "outputs": [],
   "source": [
    "#7. Write a Python function to calculate the absolute value of a number without using the `abs()` function.\n",
    "def abs_fun():\n",
    "    number= int(input(\"Enter a number:\"))\n",
    "    if number <= -1:\n",
    "        return -number\n",
    "    else:\n",
    "        return number\n",
    "        \n",
    "    "
   ]
  },
  {
   "cell_type": "code",
   "execution_count": 21,
   "id": "bafa9787",
   "metadata": {},
   "outputs": [
    {
     "name": "stdout",
     "output_type": "stream",
     "text": [
      "Enter a number:-5\n"
     ]
    },
    {
     "data": {
      "text/plain": [
       "5"
      ]
     },
     "execution_count": 21,
     "metadata": {},
     "output_type": "execute_result"
    }
   ],
   "source": [
    "abs_fun()"
   ]
  },
  {
   "cell_type": "code",
   "execution_count": 25,
   "id": "d1f60175",
   "metadata": {},
   "outputs": [
    {
     "name": "stdout",
     "output_type": "stream",
     "text": [
      "Enter first number: 5\n",
      "Enter second number: 555\n",
      "Enter third number: -100\n",
      "555 is largest.\n"
     ]
    }
   ],
   "source": [
    "# 8.Develop a program that determines the largest of three given numbers using if-else statements.\n",
    "num1= int(input(\"Enter first number: \"))\n",
    "num2= int(input(\"Enter second number: \"))\n",
    "num3= int(input(\"Enter third number: \"))\n",
    "if num1>= num2 and num1>= num3:\n",
    "    print(f\"{num1} is largest.\")\n",
    "elif num2 >=num3 and num2 >= num1:\n",
    "     print (f\"{num2} is largest.\")\n",
    "else:\n",
    "    print(f\"{num3} is largest.\")"
   ]
  },
  {
   "cell_type": "code",
   "execution_count": 17,
   "id": "d2567f07",
   "metadata": {},
   "outputs": [],
   "source": [
    "# 9.Create a program that checks if a given string is a palindrome.\n",
    "def check_plaindrome():\n",
    "    input_string= input(\"Enter a string\").lower()\n",
    "    \n",
    "    if input_string == input_string[::-1]:\n",
    "        return f\"{input_string} is a plaindrome.\"\n",
    "    else:\n",
    "        return f\"{input_string} is not a plaindrom.\"\n"
   ]
  },
  {
   "cell_type": "code",
   "execution_count": 18,
   "id": "42190ff3",
   "metadata": {},
   "outputs": [
    {
     "name": "stdout",
     "output_type": "stream",
     "text": [
      "Enter a stringPop\n"
     ]
    },
    {
     "data": {
      "text/plain": [
       "'pop is a plaindrome.'"
      ]
     },
     "execution_count": 18,
     "metadata": {},
     "output_type": "execute_result"
    }
   ],
   "source": [
    "check_plaindrome()\n"
   ]
  },
  {
   "cell_type": "code",
   "execution_count": 19,
   "id": "e777accc",
   "metadata": {},
   "outputs": [
    {
     "name": "stdout",
     "output_type": "stream",
     "text": [
      "Enter the student's score (0-100): 8\n",
      "The grade for the score 8.0 is: F\n"
     ]
    }
   ],
   "source": [
    "# 10.Write a Python program to calculate the grade based on a student's score.\n",
    "# Function to calculate the grade based on score\n",
    "def calculate_grade(score):\n",
    "    if score >= 90:\n",
    "        return 'A'\n",
    "    elif score >= 80:\n",
    "        return 'B'\n",
    "    elif score >= 70:\n",
    "        return 'C'\n",
    "    elif score >= 60:\n",
    "        return 'D'\n",
    "    else:\n",
    "        return 'F'\n",
    "\n",
    "# Taking the score input from the user\n",
    "score = float(input(\"Enter the student's score (0-100): \"))\n",
    "\n",
    "# Checking if the score is within a valid range\n",
    "if 0 <= score <= 100:\n",
    "    grade = calculate_grade(score)\n",
    "    print(f\"The grade for the score {score} is: {grade}\")\n",
    "else:\n",
    "    print(\"Please enter a valid score between 0 and 100.\")\n"
   ]
  },
  {
   "cell_type": "markdown",
   "id": "b12ca84a",
   "metadata": {},
   "source": [
    "# Nested If-Else Statements:"
   ]
  },
  {
   "cell_type": "code",
   "execution_count": 23,
   "id": "061bc50f",
   "metadata": {},
   "outputs": [
    {
     "name": "stdout",
     "output_type": "stream",
     "text": [
      "Enter first number: 5\n",
      "Enter second number: 555\n",
      "Enter third number: -5\n",
      "555 is largest.\n"
     ]
    }
   ],
   "source": [
    "# 11. Write a program to find the largest among three numbers using nested if-else statements.\n",
    "num1= int(input(\"Enter first number: \"))\n",
    "num2= int(input(\"Enter second number: \"))\n",
    "num3= int(input(\"Enter third number: \"))\n",
    "if num1>=num2 and num1 >= num3:\n",
    "    print(f\"{num1} is largest.\")\n",
    "elif num2>= num1 and num2 >= num3:\n",
    "    print(f\"{num2} is largest.\")    \n",
    "else:\n",
    "    print(f\"{num3} is largest.\")"
   ]
  },
  {
   "cell_type": "code",
   "execution_count": 9,
   "id": "7eee6338",
   "metadata": {},
   "outputs": [
    {
     "name": "stdout",
     "output_type": "stream",
     "text": [
      "Enter the length of first side:5\n",
      "Enter the length of second side:34\n",
      "Enter the length of third side:543\n",
      "This is a scalene triangle.\n"
     ]
    }
   ],
   "source": [
    "# 12. Implement a program to determine if a triangle is equilateral, isosceles, or scalene.\n",
    "length_1= int(input(\"Enter the length of first side:\"))\n",
    "length_2= int(input(\"Enter the length of second side:\"))\n",
    "length_3= int(input(\"Enter the length of third side:\"))\n",
    "if length_1== length_2 == length_3:\n",
    "    print(\"This is a euilateral triangle.\")\n",
    "elif length_1 == length_2 or length_2 == length_3 or length_1 == length_3:\n",
    "    print(\"This is a isosceles triangle.\")\n",
    "    \n",
    "else:\n",
    "    print(\"This is a scalene triangle.\")"
   ]
  },
  {
   "cell_type": "code",
   "execution_count": 4,
   "id": "768e7f3c",
   "metadata": {},
   "outputs": [
    {
     "name": "stdout",
     "output_type": "stream",
     "text": [
      "Enter your years to check it:99990\n",
      "This 99990 year is not a leap year.\n",
      "99990 is not a century year.\n"
     ]
    }
   ],
   "source": [
    "#13. Develop a program that checks if a year is a leap year and also if it is a century year.\n",
    "year= int(input(\"Enter your years to check it:\"))\n",
    "if (year %4 == 0 and year % 100 !=0)  or (year % 400 == 0):\n",
    "    print(f\"This {year} year is a leap year.\")\n",
    "else:\n",
    "    print(f\"This { year} year is not a leap year.\")\n",
    "if year % 100 == 0:\n",
    "    print(f\"{year} is a century year.\")\n",
    "else:\n",
    "    print(f\"{year} is not a century year.\")    "
   ]
  },
  {
   "cell_type": "code",
   "execution_count": 7,
   "id": "a59f8497",
   "metadata": {},
   "outputs": [
    {
     "name": "stdout",
     "output_type": "stream",
     "text": [
      "Enter your number:-22\n",
      " -22 is negative.\n"
     ]
    }
   ],
   "source": [
    "#14. Write a Python script to determine if a number is positive, negative, or zero.\n",
    "number= int(input(\"Enter your number:\"))\n",
    "if number >=0:\n",
    "    print(f\"{number} is positive.\")\n",
    "elif number < 0:\n",
    "    print(f\" {number} is negative.\")\n",
    "else:\n",
    "    print(f\"{number} is zero.\")\n",
    "    \n"
   ]
  },
  {
   "cell_type": "code",
   "execution_count": 15,
   "id": "974240a3",
   "metadata": {},
   "outputs": [
    {
     "name": "stdout",
     "output_type": "stream",
     "text": [
      "Enter your age13\n",
      "you are teenager\n"
     ]
    }
   ],
   "source": [
    "#15 Create a program to check if a person is a teenager (between 13 and 19 years old).\n",
    "age= int(input(\"Enter your age\"))\n",
    "if age in range (13,20):\n",
    "    print(\"you are teenager\")\n",
    "else:\n",
    "    print(\"you are not teenager\")\n",
    "    "
   ]
  },
  {
   "cell_type": "code",
   "execution_count": 29,
   "id": "b18f31b9",
   "metadata": {},
   "outputs": [
    {
     "name": "stdout",
     "output_type": "stream",
     "text": [
      "Enter angle of A: 4\n",
      "Enter angle of B 4\n",
      "Enter angle og C:4\n",
      "Sorry,invalid input\n"
     ]
    }
   ],
   "source": [
    "#16. Develop a program that determines the type of angle based on its measure (acute, obtuse, or right).\n",
    "angle1= int(input(\"Enter angle of A: \"))\n",
    "angle2 = int(input(\"Enter angle of B \"))\n",
    "angle3= int(input(\"Enter angle og C:\"))\n",
    "if angle1 + angle2+angle3 == 180:\n",
    "    if (angle1 or angle2 or angle3) == 90:\n",
    "        print(\"This is Right Angle\")\n",
    "    elif (angle1 or angle2 or angle3) > 90:\n",
    "        print(\"This is Obtuse Angle\")\n",
    "    else:\n",
    "        print(\"This is Actue Angle\")\n",
    "else:\n",
    "    print(\"Sorry,invalid input\")"
   ]
  },
  {
   "cell_type": "code",
   "execution_count": 30,
   "id": "b431b98b",
   "metadata": {},
   "outputs": [
    {
     "name": "stdout",
     "output_type": "stream",
     "text": [
      "Enter coefficient a: 4\n",
      "Enter coefficient b: 4\n",
      "Enter coefficient c: 4\n",
      "The roots of the quadratic equation are: (-0.5+0.8660254037844386j) and (-0.5-0.8660254037844386j)\n"
     ]
    }
   ],
   "source": [
    "#17. Write a Python program to calculate the roots of a quadratic equation.\n",
    "import cmath  # To handle complex square roots when discriminant is negative\n",
    "\n",
    "# Function to calculate the roots of the quadratic equation\n",
    "def calculate_roots(a, b, c):\n",
    "    # Calculate the discriminant\n",
    "    discriminant = b**2 - 4*a*c\n",
    "    \n",
    "    # Calculate two roots using the quadratic formula\n",
    "    root1 = (-b + cmath.sqrt(discriminant)) / (2*a)\n",
    "    root2 = (-b - cmath.sqrt(discriminant)) / (2*a)\n",
    "    \n",
    "    return root1, root2\n",
    "\n",
    "# Taking input for the coefficients a, b, and c\n",
    "a = float(input(\"Enter coefficient a: \"))\n",
    "b = float(input(\"Enter coefficient b: \"))\n",
    "c = float(input(\"Enter coefficient c: \"))\n",
    "\n",
    "# Check if the coefficient 'a' is zero, which would not make it a quadratic equation\n",
    "if a == 0:\n",
    "    print(\"The value of 'a' cannot be zero in a quadratic equation.\")\n",
    "else:\n",
    "    # Calculate the roots\n",
    "    root1, root2 = calculate_roots(a, b, c)\n",
    "\n",
    "    # Display the roots\n",
    "    print(f\"The roots of the quadratic equation are: {root1} and {root2}\")\n"
   ]
  },
  {
   "cell_type": "code",
   "execution_count": 31,
   "id": "297e5dd1",
   "metadata": {},
   "outputs": [
    {
     "name": "stdout",
     "output_type": "stream",
     "text": [
      "Enter a number (1-7) to determine the day of the week:4\n",
      "Thursday\n"
     ]
    }
   ],
   "source": [
    "#18.Implement a program to determine the day of the week based on a user-provided number (1 for Monday, 2 for Tuesday, etc.).\n",
    "def day_of_week(number):\n",
    "    days= {\n",
    "        1:'Monday',\n",
    "        2:'Tuesday',\n",
    "        3:'Wednesday',\n",
    "        4:'Thursday',\n",
    "        5:'Fridy',\n",
    "        6:'Saturday',\n",
    "        7:'Sunday'\n",
    "    }\n",
    "    if 1 <= number <=7:\n",
    "        return days[number]\n",
    "    else:\n",
    "        return \"Invalid input! Please enter a number between 1 and 7.\"\n",
    "number= int(input(\"Enter a number (1-7) to determine the day of the week:\"))\n",
    "print(day_of_week(number))\n",
    "    "
   ]
  },
  {
   "cell_type": "code",
   "execution_count": 32,
   "id": "799d72ce",
   "metadata": {},
   "outputs": [
    {
     "name": "stdout",
     "output_type": "stream",
     "text": [
      "Enter a year: 2015\n",
      "The year 2015 is not a leap year but it is not evenly divisible by 400.\n"
     ]
    }
   ],
   "source": [
    "# 19. Create a program that determines if a year is a leap year and also if it is evenly divisible by 400.\n",
    "# Function to check if the year is a leap year and if it is divisible by 400\n",
    "def check_year(year):\n",
    "    # Check if the year is a leap year\n",
    "    if (year % 4 == 0 and year % 100 != 0) or (year % 400 == 0):\n",
    "        leap_status = \"a leap year\"\n",
    "    else:\n",
    "        leap_status = \"not a leap year\"\n",
    "    \n",
    "    # Check if the year is evenly divisible by 400\n",
    "    if year % 400 == 0:\n",
    "        divisibility_status = \"and it is evenly divisible by 400.\"\n",
    "    else:\n",
    "        divisibility_status = \"but it is not evenly divisible by 400.\"\n",
    "    \n",
    "    return leap_status, divisibility_status\n",
    "\n",
    "# Taking input for the year\n",
    "year = int(input(\"Enter a year: \"))\n",
    "\n",
    "# Check and display the results\n",
    "leap_status, divisibility_status = check_year(year)\n",
    "print(f\"The year {year} is {leap_status} {divisibility_status}\")\n"
   ]
  },
  {
   "cell_type": "code",
   "execution_count": 33,
   "id": "a8e049cd",
   "metadata": {},
   "outputs": [
    {
     "name": "stdout",
     "output_type": "stream",
     "text": [
      "Enter a number: 78\n",
      "78 is not a prime number.\n"
     ]
    }
   ],
   "source": [
    "#20. Develop a program that checks if a given number is prime or not using nested if-else statements.\n",
    "# Function to check if the number is prime\n",
    "def check_prime(number):\n",
    "    if number <= 1:\n",
    "        return f\"{number} is not a prime number.\"\n",
    "    else:\n",
    "        if number == 2:\n",
    "            return f\"{number} is a prime number.\"  # 2 is a prime number\n",
    "        else:\n",
    "            # Check divisibility from 2 to the square root of the number\n",
    "            for i in range(2, int(number ** 0.5) + 1):\n",
    "                if number % i == 0:  # If divisible by any number in this range\n",
    "                    return f\"{number} is not a prime number.\"\n",
    "            return f\"{number} is a prime number.\"\n",
    "\n",
    "# Taking input from the user\n",
    "number = int(input(\"Enter a number: \"))\n",
    "\n",
    "# Check if the number is prime or not\n",
    "result = check_prime(number)\n",
    "print(result)\n"
   ]
  },
  {
   "cell_type": "markdown",
   "id": "2864bca2",
   "metadata": {},
   "source": [
    "# Elif Statements:"
   ]
  },
  {
   "cell_type": "code",
   "execution_count": 34,
   "id": "df770656",
   "metadata": {},
   "outputs": [],
   "source": [
    "#21. Write a Python program to assign grades based on different ranges of scores using elif statements.\n",
    "# Same"
   ]
  },
  {
   "cell_type": "code",
   "execution_count": 35,
   "id": "cc9c5f97",
   "metadata": {},
   "outputs": [],
   "source": [
    "#22. Implement a program to determine the type of a triangle based on its angles.\n",
    "# Same"
   ]
  },
  {
   "cell_type": "code",
   "execution_count": 1,
   "id": "9b871f70",
   "metadata": {},
   "outputs": [
    {
     "name": "stdout",
     "output_type": "stream",
     "text": [
      "Enter your weight in kilograms (kg): 63\n",
      "Enter your height in meters (m): 6\n",
      "Your BMI is 1.75. You are underweight.\n"
     ]
    }
   ],
   "source": [
    "#Develop a program to categorize a given person's BMI into underweight, normal, overweight, or obese using elif statements.\n",
    "# Function to categorize BMI\n",
    "def categorize_bmi(weight, height):\n",
    "    # Calculate BMI\n",
    "    bmi = weight / (height ** 2)\n",
    "    \n",
    "    # Categorize BMI using elif statements\n",
    "    if bmi < 18.5:\n",
    "        return f\"Your BMI is {bmi:.2f}. You are underweight.\"\n",
    "    elif 18.5 <= bmi < 24.9:\n",
    "        return f\"Your BMI is {bmi:.2f}. You have a normal weight.\"\n",
    "    elif 25 <= bmi < 29.9:\n",
    "        return f\"Your BMI is {bmi:.2f}. You are overweight.\"\n",
    "    else:\n",
    "        return f\"Your BMI is {bmi:.2f}. You are obese.\"\n",
    "\n",
    "# Taking input for weight and height\n",
    "weight = float(input(\"Enter your weight in kilograms (kg): \"))\n",
    "height = float(input(\"Enter your height in meters (m): \"))\n",
    "\n",
    "# Get the BMI category and display the result\n",
    "result = categorize_bmi(weight, height)\n",
    "print(result)\n"
   ]
  },
  {
   "cell_type": "code",
   "execution_count": 2,
   "id": "425623a9",
   "metadata": {},
   "outputs": [],
   "source": [
    "#24  Create a program that determines whether a given number is positive, negative, or zero using elif\n",
    "statements.\n",
    "Same"
   ]
  },
  {
   "cell_type": "code",
   "execution_count": 13,
   "id": "db0e277c",
   "metadata": {},
   "outputs": [
    {
     "name": "stdout",
     "output_type": "stream",
     "text": [
      "Enter your char:r\n",
      "r is LowerCase.\n"
     ]
    }
   ],
   "source": [
    "#25. Write a Python script to determine the type of a character (uppercase, lowercase, or special) using elif statements.\n",
    "def check_case(input_char):\n",
    "    if input_char == input_char.lower():\n",
    "         return f\"{input_char} is LowerCase.\"\n",
    "    elif input_char == input_char.upper():\n",
    "         return f\"{input_char} is uppercase.\"\n",
    "    else:\n",
    "        output = f\"{input_char} is special.\"\n",
    "input_char=input(\"Enter your char:\") \n",
    "\n",
    "output= check_case(input_char)\n",
    "print(f\"{output}\")"
   ]
  },
  {
   "cell_type": "markdown",
   "id": "cbf0c9c9",
   "metadata": {},
   "source": [
    "26. Implement a program to calculate the discounted price based on different purchase amounts using elif\n",
    "statements.\n",
    "27. Develop a program to calculate the electricity bill based on different consumption slabs using elif\n",
    "statements.\n",
    "28. Create a program to determine the type of quadrilateral based on its angles and sides using elif\n",
    "statements.\n",
    "29. Write a Python script to determine the season based on a user-provided month using elif statements.\n",
    "30. Implement a program to determine the type of a year (leap or common) and month (30 or 31 days) using\n",
    "elif statements."
   ]
  },
  {
   "cell_type": "code",
   "execution_count": 15,
   "id": "20b1d0f0",
   "metadata": {},
   "outputs": [
    {
     "name": "stdout",
     "output_type": "stream",
     "text": [
      "Enter the purchase amount: 444444\n",
      "The discounted price is: 355555.20\n"
     ]
    }
   ],
   "source": [
    "# Function to calculate the discounted price\n",
    "def calculate_discounted_price(amount):\n",
    "    if amount < 1000:\n",
    "        discount = 0\n",
    "    elif 1000 <= amount < 5000:\n",
    "        discount = 0.10  # 10%\n",
    "    elif 5000 <= amount < 10000:\n",
    "        discount = 0.15  # 15%\n",
    "    else:\n",
    "        discount = 0.20  # 20%\n",
    "\n",
    "    discounted_price = amount - (amount * discount)\n",
    "    return discounted_price\n",
    "\n",
    "# Taking input for the purchase amount\n",
    "amount = float(input(\"Enter the purchase amount: \"))\n",
    "\n",
    "# Calculate and display the discounted price\n",
    "discounted_price = calculate_discounted_price(amount)\n",
    "print(f\"The discounted price is: {discounted_price:.2f}\")\n"
   ]
  },
  {
   "cell_type": "code",
   "execution_count": 20,
   "id": "8e3a8a6b",
   "metadata": {},
   "outputs": [
    {
     "name": "stdout",
     "output_type": "stream",
     "text": [
      "Enter the units:56\n",
      "The electricity bill is :$ 672.00\n"
     ]
    }
   ],
   "source": [
    "#27\n",
    "def calculate_bill(units):\n",
    "    if units >= 100:\n",
    "        bill= units*5\n",
    "    elif 101 <= units >= 200:\n",
    "        bill = units* 8\n",
    "    elif 201<= units >= 300:\n",
    "        bill = units * 10\n",
    "    else:\n",
    "        bill = units* 12\n",
    "        \n",
    "    return bill \n",
    "units= int(input(\"Enter the units:\"))\n",
    "\n",
    "total_bill= calculate_bill(units)\n",
    "\n",
    "print(f\"The electricity bill is :$ {total_bill:.2f}\")\n",
    "\n",
    "\n"
   ]
  },
  {
   "cell_type": "code",
   "execution_count": 24,
   "id": "320e72fa",
   "metadata": {},
   "outputs": [
    {
     "name": "stdout",
     "output_type": "stream",
     "text": [
      "Enter side 1: 3\n",
      "Enter side 2: 2\n",
      "Enter side 3: 3\n",
      "Enter side 3: 2\n",
      "Enter angles 1: 90\n",
      "Enter angles 2: 90\n",
      "Enter angles 3: 90\n",
      "Enter angles 4: 90\n",
      "The quadrilater is a :Rectangle\n"
     ]
    }
   ],
   "source": [
    "#28\n",
    "def determine_quadrilateral(sides, angles):\n",
    "    if sides[0]== sides[1] == sides[2]== sides[3] and angles[0]== 90:\n",
    "        return \"Square\"\n",
    "    elif sides[0] == sides[2] and sides[1]== sides[3] and angles[0] == 90:\n",
    "        return \"Rectangle\"\n",
    "    elif sides[0]== sides[1]== sides[3]== sides[3]:\n",
    "        return \"Rhombus\"\n",
    "    elif  sides[0] == sides[2] and sides[1]== sides[3] :\n",
    "        return \"Parallelogram\"\n",
    "\n",
    "    elif sides[0] == sides[1] or sides[2]== sides[3]:\n",
    "        return \"Trapezoid\"\n",
    "    else:\n",
    "        \"other Quadrilater\"\n",
    "        \n",
    "sides= [float(input(\"Enter side 1: \")),float(input(\"Enter side 2: \")),\n",
    "       float(input(\"Enter side 3: \")),float(input(\"Enter side 3: \")),] \n",
    "angles = [float(input(\"Enter angles 1: \")),float(input(\"Enter angles 2: \")),\n",
    "          float(input(\"Enter angles 3: \")),float(input(\"Enter angles 4: \"))]\n",
    "\n",
    "quad_type= determine_quadrilateral(sides, angles)\n",
    "print(f\"The quadrilater is a :{quad_type}\")"
   ]
  },
  {
   "cell_type": "markdown",
   "id": "9d4cba07",
   "metadata": {},
   "source": [
    "#29\n",
    ". Program to Determine the Season Based on a User-Provided Month:\n",
    "Seasons:\n",
    "\n",
    "Spring: March, April, May\n",
    "\n",
    "Summer: June, July, August\n",
    "\n",
    "Fall: September, October, November\n",
    "\n",
    "Winter: December, January, February"
   ]
  },
  {
   "cell_type": "code",
   "execution_count": 34,
   "id": "24e58152",
   "metadata": {},
   "outputs": [
    {
     "name": "stdout",
     "output_type": "stream",
     "text": [
      "Enter the month name: MARCH\n",
      "The Season is :Spring \n"
     ]
    }
   ],
   "source": [
    "def determine_season(month):\n",
    "    if month in [\"march\", \"april\", \"may\"]:\n",
    "        return \"Spring\"\n",
    "    elif month in [\"june\", \"july\",\"august\"]:\n",
    "        return \"Summer\"\n",
    "    elif month in [\"september\",\"octuber\",\"november\"]:\n",
    "        return \"Fall\"\n",
    "    elif month in [\"december\",\"january\",\"february\"]:\n",
    "        return \"Winter\"\n",
    "    else:\n",
    "        return \"Invalid Month\"\n",
    "        \n",
    "\n",
    "month= input(\"Enter the month name: \").lower()    \n",
    "month_name = determine_season(month)\n",
    "print(f\"The Season is :{month_name} \")"
   ]
  },
  {
   "cell_type": "code",
   "execution_count": 7,
   "id": "7ac94843",
   "metadata": {},
   "outputs": [
    {
     "name": "stdout",
     "output_type": "stream",
     "text": [
      "Enter the year: 2025\n",
      "Enter the month(1-12) or month name: 1\n",
      "The year 2025 is a Non Leap Year and the month 1  has 31 days.\n"
     ]
    }
   ],
   "source": [
    "# 30\n",
    "def Determine_month_info(year, month):\n",
    "    if (year % 4 == 0 and year % 100 != 0 ) or (year % 400 == 0):\n",
    "        type_year = \"Leap Year\"\n",
    "    else:\n",
    "        type_year = \"Non Leap Year\"\n",
    "    if month in [\"february\", 2]:\n",
    "        if year_type == \"Leap Year\":\n",
    "            days_in_month = 29\n",
    "        else:\n",
    "            days_in_month = 28\n",
    "    elif month in [\"april\",4,\"june\",6,\"september\",9,\"november\",11]:\n",
    "         days_in_month = 30\n",
    "    else:\n",
    "        days_in_month = 31\n",
    "    return type_year, days_in_month\n",
    "\n",
    "year= int(input(\"Enter the year: \"))\n",
    "month= input(\"Enter the month(1-12) or month name: \").lower()\n",
    "\n",
    "year_type, days_in_month= Determine_month_info(year,month)\n",
    "print(f\"The year {year} is a {year_type} and the month {month}  has {days_in_month} days.\")\n",
    "\n",
    "\n"
   ]
  },
  {
   "cell_type": "markdown",
   "id": "8b4296b3",
   "metadata": {},
   "source": [
    "# Advanced Level:"
   ]
  },
  {
   "cell_type": "code",
   "execution_count": 8,
   "id": "771e384b",
   "metadata": {},
   "outputs": [
    {
     "name": "stdout",
     "output_type": "stream",
     "text": [
      "Enter your annual income (INR): 50000\n",
      "Your income tax is: ₹0.00\n"
     ]
    }
   ],
   "source": [
    "#21. Create a program that calculates the income tax based on the user's income and tax brackets.\n",
    "# Function to calculate income tax\n",
    "def calculate_income_tax(income):\n",
    "    if income <= 250000:\n",
    "        tax = 0  # No tax for income up to 2.5 lakh INR\n",
    "    elif 250001 <= income <= 500000:\n",
    "        tax = (income - 250000) * 0.05  # 5% tax for income between 2.5 lakh and 5 lakh\n",
    "    elif 500001 <= income <= 1000000:\n",
    "        tax = (income - 500000) * 0.20 + (500000 * 0.05)  # 20% tax for income between 5 lakh and 10 lakh\n",
    "    else:\n",
    "        tax = (income - 1000000) * 0.30 + (500000 * 0.20) + (500000 * 0.05)  # 30% tax for income above 10 lakh\n",
    "    \n",
    "    return tax\n",
    "\n",
    "# Taking input for the annual income\n",
    "income = float(input(\"Enter your annual income (INR): \"))\n",
    "\n",
    "# Calculate the income tax\n",
    "income_tax = calculate_income_tax(income)\n",
    "\n",
    "\n",
    "# Display the tax calculated\n",
    "print(f\"Your income tax is: ₹{income_tax:.2f}\")\n"
   ]
  },
  {
   "cell_type": "code",
   "execution_count": 8,
   "id": "29c9b9c4",
   "metadata": {},
   "outputs": [
    {
     "name": "stdout",
     "output_type": "stream",
     "text": [
      "Enter your choice (rock, paper,scissors): rock\n",
      " Computer chose : paper\n",
      "Computer Win!\n"
     ]
    }
   ],
   "source": [
    "#22. Write a program that simulates a rock-paper-scissors game against the computer.\n",
    "import random\n",
    "def rock_paper_scissors():\n",
    "    options = ['rock','paper','scissors']\n",
    "    \n",
    "    #take input from user\n",
    "    user_choice= input(\"Enter your choice (rock, paper,scissors): \").lower()\n",
    "    if user_choice not in options:\n",
    "        print(\"Invalid  choice! Please enter rock, paper, or scissors.\")\n",
    "        return\n",
    "    \n",
    "    computer_choice= random.choice(options)\n",
    "    print(f\" Computer chose : {computer_choice}\")\n",
    "    \n",
    "    if computer_choice == user_choice:\n",
    "        return \"It is a tie!\"\n",
    "    elif (user_choice == 'rock' and computer_choice == 'scissors') or \\\n",
    "        (user_choice =='scissors' and computer_choice == 'paper')  or \\\n",
    "        (user_choice == 'paper' and computer_choice == 'rock'):\n",
    "            return \"You Win!\"\n",
    "    else:\n",
    "        return \"Computer Win!\"\n",
    "    \n",
    "start= rock_paper_scissors()\n",
    "print(start)\n",
    "    "
   ]
  },
  {
   "cell_type": "code",
   "execution_count": 9,
   "id": "7c7ff5eb",
   "metadata": {},
   "outputs": [
    {
     "name": "stdout",
     "output_type": "stream",
     "text": [
      "Enter the desired password length: 12\n",
      "Include uppercase letters? (y/n): y\n",
      "Include digits? (y/n): y\n",
      "Include special characters? (y/n): y\n",
      "Your generated password is: G$Y7+x6%BfWN\n"
     ]
    }
   ],
   "source": [
    "# 23. Develop a program that generates a random password based on user preferences (length, complexity).\n",
    "import random\n",
    "import string\n",
    "\n",
    "# Function to generate a random password based on user preferences\n",
    "def generate_password(length, use_uppercase, use_digits, use_special_chars):\n",
    "    # Base character sets\n",
    "    lowercase = string.ascii_lowercase\n",
    "    uppercase = string.ascii_uppercase\n",
    "    digits = string.digits\n",
    "    special_chars = string.punctuation\n",
    "    \n",
    "    # Build the pool of characters based on user preferences\n",
    "    char_pool = lowercase  # Always include lowercase letters\n",
    "    \n",
    "    if use_uppercase:\n",
    "        char_pool += uppercase\n",
    "    if use_digits:\n",
    "        char_pool += digits\n",
    "    if use_special_chars:\n",
    "        char_pool += special_chars\n",
    "    \n",
    "    # Generate a random password from the selected pool of characters\n",
    "    password = ''.join(random.choice(char_pool) for _ in range(length))\n",
    "    \n",
    "    return password\n",
    "\n",
    "# Get user preferences for password generation\n",
    "length = int(input(\"Enter the desired password length: \"))\n",
    "use_uppercase = input(\"Include uppercase letters? (y/n): \").lower() == 'y'\n",
    "use_digits = input(\"Include digits? (y/n): \").lower() == 'y'\n",
    "use_special_chars = input(\"Include special characters? (y/n): \").lower() == 'y'\n",
    "\n",
    "# Generate the password based on the preferences\n",
    "password = generate_password(length, use_uppercase, use_digits, use_special_chars)\n",
    "\n",
    "# Display the generated password\n",
    "print(f\"Your generated password is: {password}\")\n"
   ]
  },
  {
   "cell_type": "code",
   "execution_count": 10,
   "id": "854cb4cf",
   "metadata": {},
   "outputs": [
    {
     "name": "stdout",
     "output_type": "stream",
     "text": [
      "You find yourself standing at the edge of a dark forest.\n",
      "In front of you, there are two paths: One to the left, one to the right.\n",
      "Do you want to go left or right?\n",
      "Enter 'left' or 'right': left\n",
      "\n",
      "You venture down the left path and soon encounter a wise old man sitting by a campfire.\n",
      "He asks if you need advice.\n",
      "Do you want to talk to the man or ignore him?\n",
      "Enter 'talk' or 'ignore': talk\n",
      "\n",
      "The old man shares his wisdom with you and gives you a magical amulet.\n",
      "With the amulet in hand, you feel powerful and ready to face any challenges ahead.\n",
      "You decide to continue your journey, feeling more confident.\n",
      "\n",
      "The game is over. Do you want to play again?\n",
      "Enter 'yes' to play again or 'no' to quit: yes\n",
      "You find yourself standing at the edge of a dark forest.\n",
      "In front of you, there are two paths: One to the left, one to the right.\n",
      "Do you want to go left or right?\n",
      "Enter 'left' or 'right': right\n",
      "\n",
      "You take the right path and soon find yourself facing a wild wolf!\n",
      "Do you want to fight the wolf or run away?\n",
      "Enter 'fight' or 'run': run\n",
      "\n",
      "You quickly run away from the wolf, escaping with your life!\n",
      "You find a hidden cave and decide to rest inside.\n",
      "The cave turns out to be a safe haven, and you survive the adventure.\n",
      "\n",
      "The game is over. Do you want to play again?\n",
      "Enter 'yes' to play again or 'no' to quit: yes\n",
      "You find yourself standing at the edge of a dark forest.\n",
      "In front of you, there are two paths: One to the left, one to the right.\n",
      "Do you want to go left or right?\n",
      "Enter 'left' or 'right': left\n",
      "\n",
      "You venture down the left path and soon encounter a wise old man sitting by a campfire.\n",
      "He asks if you need advice.\n",
      "Do you want to talk to the man or ignore him?\n",
      "Enter 'talk' or 'ignore': ignore\n",
      "\n",
      "You ignore the old man and continue walking down the path.\n",
      "Suddenly, you stumble upon a trap and fall into a pit!\n",
      "Unfortunately, you are stuck and can't escape. Game over!\n",
      "\n",
      "The game is over. Do you want to play again?\n",
      "Enter 'yes' to play again or 'no' to quit: no\n",
      "Thanks for playing! Goodbye!\n"
     ]
    }
   ],
   "source": [
    "# 24. Create a program that implements a simple text-based adventure game with branching scenarios.\n",
    "# Function to handle the first scenario\n",
    "def start_adventure():\n",
    "    print(\"You find yourself standing at the edge of a dark forest.\")\n",
    "    print(\"In front of you, there are two paths: One to the left, one to the right.\")\n",
    "    print(\"Do you want to go left or right?\")\n",
    "    \n",
    "    choice = input(\"Enter 'left' or 'right': \").lower()\n",
    "    \n",
    "    if choice == 'left':\n",
    "        left_path()\n",
    "    elif choice == 'right':\n",
    "        right_path()\n",
    "    else:\n",
    "        print(\"Invalid choice! Please enter 'left' or 'right'.\")\n",
    "        start_adventure()\n",
    "\n",
    "# Function for the left path scenario\n",
    "def left_path():\n",
    "    print(\"\\nYou venture down the left path and soon encounter a wise old man sitting by a campfire.\")\n",
    "    print(\"He asks if you need advice.\")\n",
    "    print(\"Do you want to talk to the man or ignore him?\")\n",
    "    \n",
    "    choice = input(\"Enter 'talk' or 'ignore': \").lower()\n",
    "    \n",
    "    if choice == 'talk':\n",
    "        talk_to_man()\n",
    "    elif choice == 'ignore':\n",
    "        ignore_man()\n",
    "    else:\n",
    "        print(\"Invalid choice! Please enter 'talk' or 'ignore'.\")\n",
    "        left_path()\n",
    "\n",
    "# Function for talking to the man\n",
    "def talk_to_man():\n",
    "    print(\"\\nThe old man shares his wisdom with you and gives you a magical amulet.\")\n",
    "    print(\"With the amulet in hand, you feel powerful and ready to face any challenges ahead.\")\n",
    "    print(\"You decide to continue your journey, feeling more confident.\")\n",
    "    end_game()\n",
    "\n",
    "# Function for ignoring the man\n",
    "def ignore_man():\n",
    "    print(\"\\nYou ignore the old man and continue walking down the path.\")\n",
    "    print(\"Suddenly, you stumble upon a trap and fall into a pit!\")\n",
    "    print(\"Unfortunately, you are stuck and can't escape. Game over!\")\n",
    "    end_game()\n",
    "\n",
    "# Function for the right path scenario\n",
    "def right_path():\n",
    "    print(\"\\nYou take the right path and soon find yourself facing a wild wolf!\")\n",
    "    print(\"Do you want to fight the wolf or run away?\")\n",
    "    \n",
    "    choice = input(\"Enter 'fight' or 'run': \").lower()\n",
    "    \n",
    "    if choice == 'fight':\n",
    "        fight_wolf()\n",
    "    elif choice == 'run':\n",
    "        run_from_wolf()\n",
    "    else:\n",
    "        print(\"Invalid choice! Please enter 'fight' or 'run'.\")\n",
    "        right_path()\n",
    "\n",
    "# Function for fighting the wolf\n",
    "def fight_wolf():\n",
    "    print(\"\\nYou bravely fight the wolf, but it proves to be too strong!\")\n",
    "    print(\"Unfortunately, the wolf overpowers you and you lose the battle. Game over!\")\n",
    "    end_game()\n",
    "\n",
    "# Function for running from the wolf\n",
    "def run_from_wolf():\n",
    "    print(\"\\nYou quickly run away from the wolf, escaping with your life!\")\n",
    "    print(\"You find a hidden cave and decide to rest inside.\")\n",
    "    print(\"The cave turns out to be a safe haven, and you survive the adventure.\")\n",
    "    end_game()\n",
    "\n",
    "# Function to end the game and prompt for replay\n",
    "def end_game():\n",
    "    print(\"\\nThe game is over. Do you want to play again?\")\n",
    "    choice = input(\"Enter 'yes' to play again or 'no' to quit: \").lower()\n",
    "    \n",
    "    if choice == 'yes':\n",
    "        start_adventure()\n",
    "    elif choice == 'no':\n",
    "        print(\"Thanks for playing! Goodbye!\")\n",
    "    else:\n",
    "        print(\"Invalid choice! Exiting the game.\")\n",
    "        \n",
    "# Start the adventure game\n",
    "start_adventure()\n"
   ]
  },
  {
   "cell_type": "code",
   "execution_count": 11,
   "id": "f997747e",
   "metadata": {},
   "outputs": [
    {
     "name": "stdout",
     "output_type": "stream",
     "text": [
      "Solve the equation Ax + B = C\n",
      "Enter the value for A: 34\n",
      "Enter the value for B: 34\n",
      "Enter the value for C: 34\n",
      "Solution: x = 0.0\n"
     ]
    }
   ],
   "source": [
    "# 25. Build a program that solves a linear equation for x, considering different cases.\n",
    "def solve_linear_equation(A, B, C):\n",
    "    if A == 0:\n",
    "        if B == C:\n",
    "            return \"Infinite solutions (any value of x satisfies the equation).\"\n",
    "        else:\n",
    "            return \"No solution (inconsistent equation).\"\n",
    "    else:\n",
    "        # Solve for x when A != 0\n",
    "        x = (C - B) / A\n",
    "        return f\"Solution: x = {x}\"\n",
    "\n",
    "# Example usage\n",
    "def main():\n",
    "    print(\"Solve the equation Ax + B = C\")\n",
    "    A = float(input(\"Enter the value for A: \"))\n",
    "    B = float(input(\"Enter the value for B: \"))\n",
    "    C = float(input(\"Enter the value for C: \"))\n",
    "    \n",
    "    result = solve_linear_equation(A, B, C)\n",
    "    print(result)\n",
    "\n",
    "if __name__ == \"__main__\":\n",
    "    main()\n"
   ]
  },
  {
   "cell_type": "code",
   "execution_count": 13,
   "id": "10798f8d",
   "metadata": {},
   "outputs": [
    {
     "name": "stdout",
     "output_type": "stream",
     "text": [
      "Welcome to the Quiz Game!\n",
      "Answer the following questions and try to score as many points as possible.\n",
      "\n",
      "What is the capital of France?\n",
      "A) Berlin\n",
      "B) Madrid\n",
      "C) Paris\n",
      "D) Rome\n",
      "Your answer (A/B/C/D): a\n",
      "Wrong! The correct answer was C. Paris\n",
      "\n",
      "Which planet is known as the Red Planet?\n",
      "A) Earth\n",
      "B) Mars\n",
      "C) Venus\n",
      "D) Jupiter\n",
      "Your answer (A/B/C/D): a\n",
      "Wrong! The correct answer was B. Mars\n",
      "\n",
      "What is the largest ocean on Earth?\n",
      "A) Atlantic Ocean\n",
      "B) Indian Ocean\n",
      "C) Arctic Ocean\n",
      "D) Pacific Ocean\n",
      "Your answer (A/B/C/D): aa\n",
      "Wrong! The correct answer was D. Pacific Ocean\n",
      "\n",
      "Who wrote 'To Kill a Mockingbird'?\n",
      "A) Harper Lee\n",
      "B) J.K. Rowling\n",
      "C) Ernest Hemingway\n",
      "D) F. Scott Fitzgerald\n",
      "Your answer (A/B/C/D): a\n",
      "Correct!\n",
      "\n",
      "What is the chemical symbol for water?\n",
      "A) O2\n",
      "B) H2O\n",
      "C) CO2\n",
      "D) H2\n",
      "Your answer (A/B/C/D): aa\n",
      "Wrong! The correct answer was B. H2O\n",
      "\n",
      "Your final score is 1/5.\n",
      "Better luck next time!\n"
     ]
    }
   ],
   "source": [
    "#26. Write a program that simulates a basic quiz game with multiple-choice questions and scoring.\n",
    "class QuizGame:\n",
    "    def __init__(self):\n",
    "        # List of questions, options, and the correct answer\n",
    "        self.questions = [\n",
    "            {\n",
    "                \"question\": \"What is the capital of France?\",\n",
    "                \"options\": [\"A) Berlin\", \"B) Madrid\", \"C) Paris\", \"D) Rome\"],\n",
    "                \"answer\": \"C\"\n",
    "            },\n",
    "            {\n",
    "                \"question\": \"Which planet is known as the Red Planet?\",\n",
    "                \"options\": [\"A) Earth\", \"B) Mars\", \"C) Venus\", \"D) Jupiter\"],\n",
    "                \"answer\": \"B\"\n",
    "            },\n",
    "            {\n",
    "                \"question\": \"What is the largest ocean on Earth?\",\n",
    "                \"options\": [\"A) Atlantic Ocean\", \"B) Indian Ocean\", \"C) Arctic Ocean\", \"D) Pacific Ocean\"],\n",
    "                \"answer\": \"D\"\n",
    "            },\n",
    "            {\n",
    "                \"question\": \"Who wrote 'To Kill a Mockingbird'?\",\n",
    "                \"options\": [\"A) Harper Lee\", \"B) J.K. Rowling\", \"C) Ernest Hemingway\", \"D) F. Scott Fitzgerald\"],\n",
    "                \"answer\": \"A\"\n",
    "            },\n",
    "            {\n",
    "                \"question\": \"What is the chemical symbol for water?\",\n",
    "                \"options\": [\"A) O2\", \"B) H2O\", \"C) CO2\", \"D) H2\"],\n",
    "                \"answer\": \"B\"\n",
    "            }\n",
    "        ]\n",
    "        self.score = 0\n",
    "    \n",
    "    def ask_question(self, question_data):\n",
    "        print(question_data[\"question\"])\n",
    "        for option in question_data[\"options\"]:\n",
    "            print(option)\n",
    "        user_answer = input(\"Your answer (A/B/C/D): \").upper()\n",
    "        return user_answer == question_data[\"answer\"]\n",
    "    \n",
    "    def start_game(self):\n",
    "        print(\"Welcome to the Quiz Game!\")\n",
    "        print(\"Answer the following questions and try to score as many points as possible.\\n\")\n",
    "        \n",
    "        for question_data in self.questions:\n",
    "            is_correct = self.ask_question(question_data)\n",
    "            if is_correct:\n",
    "                print(\"Correct!\\n\")\n",
    "                self.score += 1\n",
    "            else:\n",
    "                print(f\"Wrong! The correct answer was {question_data['answer']}. {question_data['options'][ord(question_data['answer']) - 65][3:]}\\n\")\n",
    "        \n",
    "        print(f\"Your final score is {self.score}/{len(self.questions)}.\")\n",
    "        if self.score == len(self.questions):\n",
    "            print(\"Perfect score! Well done!\")\n",
    "        elif self.score >= len(self.questions) // 2:\n",
    "            print(\"Good job!\")\n",
    "        else:\n",
    "            print(\"Better luck next time!\")\n",
    "    \n",
    "if __name__ == \"__main__\":\n",
    "    game = QuizGame()\n",
    "    game.start_game()\n"
   ]
  },
  {
   "cell_type": "code",
   "execution_count": 15,
   "id": "c7d51204",
   "metadata": {},
   "outputs": [
    {
     "name": "stdout",
     "output_type": "stream",
     "text": [
      "Enter the first number: -8\n",
      "Enter the second number: 9\n",
      "Enter the third number: 0\n",
      "The numbers in ascending order are: -8.0 0.0 9.0\n"
     ]
    }
   ],
   "source": [
    "#28. Create a program that sorts three numbers in ascending order using conditional statements.\n",
    "# Input: Three numbers\n",
    "num1 = float(input(\"Enter the first number: \"))\n",
    "num2 = float(input(\"Enter the second number: \"))\n",
    "num3 = float(input(\"Enter the third number: \"))\n",
    "\n",
    "# Sorting the numbers using conditional statements\n",
    "if num1 > num2:\n",
    "    num1, num2 = num2, num1\n",
    "if num2 > num3:\n",
    "    num2, num3 = num3, num2\n",
    "if num1 > num2:\n",
    "    num1, num2 = num2, num1\n",
    "\n",
    "# Output: Sorted numbers\n",
    "print(\"The numbers in ascending order are:\", num1, num2, num3)\n"
   ]
  },
  {
   "cell_type": "code",
   "execution_count": 16,
   "id": "381da968",
   "metadata": {},
   "outputs": [
    {
     "name": "stdout",
     "output_type": "stream",
     "text": [
      "Enter your weight in kilograms: 60\n",
      "Enter your height in meters: 6\n",
      "\n",
      "Your BMI is: 1.67\n",
      "You are underweight. Consider consulting a healthcare provider or a dietitian for guidance on gaining weight healthily.\n"
     ]
    }
   ],
   "source": [
    "#30. Write a program that calculates the BMI (Body Mass Index) and provides health recommendations based on the user's input.\n",
    "# BMI Categories:\n",
    "# Underweight: BMI < 18.5\n",
    "# Normal weight: 18.5 <= BMI < 24.9\n",
    "# Overweight: 25 <= BMI < 29.9\n",
    "# Obesity: BMI >= 30\n",
    "\n",
    "# Input: User's weight and height\n",
    "weight = float(input(\"Enter your weight in kilograms: \"))\n",
    "height = float(input(\"Enter your height in meters: \"))\n",
    "\n",
    "# Calculate BMI\n",
    "bmi = weight / (height ** 2)\n",
    "\n",
    "# Display BMI\n",
    "print(f\"\\nYour BMI is: {bmi:.2f}\")\n",
    "\n",
    "# Health recommendations based on BMI\n",
    "if bmi < 18.5:\n",
    "    print(\"You are underweight. Consider consulting a healthcare provider or a dietitian for guidance on gaining weight healthily.\")\n",
    "elif 18.5 <= bmi < 24.9:\n",
    "    print(\"You have a normal weight. Maintain a balanced diet and regular exercise to stay healthy.\")\n",
    "elif 25 <= bmi < 29.9:\n",
    "    print(\"You are overweight. Consider adopting a healthier diet and increasing physical activity.\")\n",
    "else:\n",
    "    print(\"You are in the obesity category. It's advisable to consult a healthcare provider for a personalized plan to improve your health.\")\n"
   ]
  },
  {
   "cell_type": "markdown",
   "id": "bb769e3c",
   "metadata": {},
   "source": [
    "# Challenge Level:"
   ]
  },
  {
   "cell_type": "code",
   "execution_count": 17,
   "id": "975504f0",
   "metadata": {},
   "outputs": [
    {
     "name": "stdout",
     "output_type": "stream",
     "text": [
      "Enter a password to validate: Ptyhhgg67!\n",
      "Password is valid.\n"
     ]
    }
   ],
   "source": [
    "#31. Create a program that validates a password based on complexity rules (length, characters, etc.).\n",
    "import re\n",
    "\n",
    "def validate_password(password):\n",
    "    # Define complexity rules\n",
    "    rules = [\n",
    "        (len(password) >= 8, \"Password must be at least 8 characters long.\"),\n",
    "        (any(char.isupper() for char in password), \"Password must include at least one uppercase letter.\"),\n",
    "        (any(char.islower() for char in password), \"Password must include at least one lowercase letter.\"),\n",
    "        (any(char.isdigit() for char in password), \"Password must include at least one digit.\"),\n",
    "        (re.search(r'[!@#$%^&*(),.?\":{}|<>]', password), \"Password must include at least one special character (!@#$%^&*(),.?\\\":{}|<>).\")\n",
    "    ]\n",
    "    \n",
    "    # Validate against each rule\n",
    "    errors = [error for condition, error in rules if not condition]\n",
    "    \n",
    "    if errors:\n",
    "        print(\"Password is invalid:\")\n",
    "        for error in errors:\n",
    "            print(f\"- {error}\")\n",
    "    else:\n",
    "        print(\"Password is valid.\")\n",
    "\n",
    "# Input: User's password\n",
    "password = input(\"Enter a password to validate: \")\n",
    "validate_password(password)\n"
   ]
  },
  {
   "cell_type": "markdown",
   "id": "c3cb0556",
   "metadata": {},
   "source": [
    "32. Develop a program that performs matrix addition and subtraction based on user input.\n",
    "33. Write a program that calculates the greatest common divisor (GCD) of two numbers using the Euclidean algorithm.\n",
    "34. Build a program that performs matrix multiplication using nested loops and conditional statements.\n",
    "35. Create a program that simulates a basic text-based tic-tac-toe game against the computer.\n",
    "36. Write a program that generates Fibonacci numbers up to a specified term using iterative methods.\n",
    "37. Develop a program that calculates the nth term of the Fibonacci sequence using memoization.\n",
    "38. Create a program that generates a calendar for a given month and year using conditional statements.\n",
    "39. Build a program that simulates a basic text-based blackjack game against the computer.\n",
    "40. Write a program that generates the prime factors of a given number using trial division."
   ]
  },
  {
   "cell_type": "code",
   "execution_count": 20,
   "id": "c241740f",
   "metadata": {},
   "outputs": [
    {
     "name": "stdout",
     "output_type": "stream",
     "text": [
      "Enter matrix1[0][0]: 3\n",
      "Enter matrix1[0][1]: 3\n",
      "Enter matrix1[1][0]: 3\n",
      "Enter matrix1[1][1]: 3\n",
      "Enter matrix2[0][0]: 3\n",
      "Enter matrix2[0][1]: 3\n",
      "Enter matrix2[1][0]: 3\n",
      "Enter matrix2[1][1]: 3\n",
      "Addition Result:\n",
      " [[6 6]\n",
      " [6 6]]\n",
      "Subtraction Result:\n",
      " [[0 0]\n",
      " [0 0]]\n"
     ]
    }
   ],
   "source": [
    "import numpy as np\n",
    "\n",
    "# Input matrices\n",
    "rows, cols = 2, 2\n",
    "matrix1 = np.array([[int(input(f\"Enter matrix1[{i}][{j}]: \")) for j in range(cols)] for i in range(rows)])\n",
    "matrix2 = np.array([[int(input(f\"Enter matrix2[{i}][{j}]: \")) for j in range(cols)] for i in range(rows)])\n",
    "\n",
    "# Perform operations\n",
    "print(\"Addition Result:\\n\", matrix1 + matrix2)\n",
    "print(\"Subtraction Result:\\n\", matrix1 - matrix2)\n"
   ]
  },
  {
   "cell_type": "code",
   "execution_count": 23,
   "id": "e4fbd7b3",
   "metadata": {},
   "outputs": [
    {
     "name": "stdout",
     "output_type": "stream",
     "text": [
      "Enter two numbers: 3 3\n",
      "GCD: 3\n"
     ]
    }
   ],
   "source": [
    "def gcd(a, b):\n",
    "    while b:\n",
    "        a, b = b, a % b\n",
    "    return a\n",
    "\n",
    "# Input numbers\n",
    "num1, num2 = map(int, input(\"Enter two numbers: \").split())\n",
    "print(\"GCD:\", gcd(num1, num2))\n"
   ]
  },
  {
   "cell_type": "code",
   "execution_count": 25,
   "id": "8dfcfba2",
   "metadata": {},
   "outputs": [
    {
     "name": "stdout",
     "output_type": "stream",
     "text": [
      "Enter rows and columns for Matrix A: 3 3\n",
      "Enter rows and columns for Matrix B: 3 3\n",
      "Enter A[0][0]: 3\n",
      "Enter A[0][1]: 3\n",
      "Enter A[0][2]: 3\n",
      "Enter A[1][0]: 3\n",
      "Enter A[1][1]: 3\n",
      "Enter A[1][2]: 3\n",
      "Enter A[2][0]: 3\n",
      "Enter A[2][1]: 3\n",
      "Enter A[2][2]: 3\n",
      "Enter B[0][0]: 3\n",
      "Enter B[0][1]: 3\n",
      "Enter B[0][2]: 3\n",
      "Enter B[1][0]: 3\n",
      "Enter B[1][1]: 3\n",
      "Enter B[1][2]: 3\n",
      "Enter B[2][0]: 3\n",
      "Enter B[2][1]: 3\n",
      "Enter B[2][2]: 3\n",
      "Multiplication Result: [[27, 27, 27], [27, 27, 27], [27, 27, 27]]\n"
     ]
    }
   ],
   "source": [
    "# Input matrices\n",
    "rows_a, cols_a = map(int, input(\"Enter rows and columns for Matrix A: \").split())\n",
    "rows_b, cols_b = map(int, input(\"Enter rows and columns for Matrix B: \").split())\n",
    "\n",
    "if cols_a != rows_b:\n",
    "    print(\"Matrix multiplication not possible.\")\n",
    "else:\n",
    "    A = [[int(input(f\"Enter A[{i}][{j}]: \")) for j in range(cols_a)] for i in range(rows_a)]\n",
    "    B = [[int(input(f\"Enter B[{i}][{j}]: \")) for j in range(cols_b)] for i in range(rows_b)]\n",
    "    result = [[sum(A[i][k] * B[k][j] for k in range(cols_a)) for j in range(cols_b)] for i in range(rows_a)]\n",
    "    print(\"Multiplication Result:\", result)\n"
   ]
  },
  {
   "cell_type": "code",
   "execution_count": null,
   "id": "e1a2432f",
   "metadata": {},
   "outputs": [
    {
     "name": "stdout",
     "output_type": "stream",
     "text": [
      "  |   |  \n",
      "-----\n",
      "  |   |  \n",
      "-----\n",
      "  |   |  \n",
      "-----\n"
     ]
    }
   ],
   "source": [
    "# import random\n",
    "\n",
    "def print_board(board):\n",
    "    for row in board:\n",
    "        print(\" | \".join(row))\n",
    "        print(\"-\" * 5)\n",
    "\n",
    "def check_winner(board, player):\n",
    "    for row in board:\n",
    "        if all(cell == player for cell in row):\n",
    "            return True\n",
    "    for col in zip(*board):\n",
    "        if all(cell == player for cell in col):\n",
    "            return True\n",
    "    if all(board[i][i] == player for i in range(3)) or all(board[i][2 - i] == player for i in range(3)):\n",
    "        return True\n",
    "    return False\n",
    "\n",
    "board = [[\" \" for _ in range(3)] for _ in range(3)]\n",
    "players = [\"X\", \"O\"]\n",
    "\n",
    "while \" \" in [cell for row in board for cell in row]:\n",
    "    player = players[0]\n",
    "    print_board(board)\n",
    "    if player == \"X\":\n",
    "        row, col = map(int, input(\"Enter row and column (0-2) for your move: \").split())\n",
    "    else:\n",
    "        row, col = random.choice([(r, c) for r in range(3) for c in range(3) if board[r][c] == \" \"])\n",
    "    if board[row][col] == \" \":\n",
    "        board[row][col] = player\n",
    "        if check_winner(board, player):\n",
    "            print_board(board)\n",
    "            print(f\"{player} wins!\")\n",
    "            break\n",
    "        players.reverse()\n",
    "else:\n",
    "    print(\"It's a draw!\")\n"
   ]
  },
  {
   "cell_type": "code",
   "execution_count": 1,
   "id": "bb1213eb",
   "metadata": {},
   "outputs": [
    {
     "name": "stdout",
     "output_type": "stream",
     "text": [
      "Enter number of terms: 3\n",
      "Fibonacci sequence: [0, 1, 1]\n"
     ]
    }
   ],
   "source": [
    "n = int(input(\"Enter number of terms: \"))\n",
    "fib = [0, 1]\n",
    "for i in range(2, n):\n",
    "    fib.append(fib[-1] + fib[-2])\n",
    "print(\"Fibonacci sequence:\", fib[:n])\n"
   ]
  },
  {
   "cell_type": "code",
   "execution_count": 2,
   "id": "c462cffb",
   "metadata": {},
   "outputs": [
    {
     "name": "stdout",
     "output_type": "stream",
     "text": [
      "Enter the nth term: 3\n",
      "Fibonacci term 3: 2\n"
     ]
    }
   ],
   "source": [
    "def fib(n, memo={}):\n",
    "    if n in memo:\n",
    "        return memo[n]\n",
    "    if n <= 1:\n",
    "        return n\n",
    "    memo[n] = fib(n - 1, memo) + fib(n - 2, memo)\n",
    "    return memo[n]\n",
    "\n",
    "n = int(input(\"Enter the nth term: \"))\n",
    "print(f\"Fibonacci term {n}:\", fib(n))\n"
   ]
  },
  {
   "cell_type": "code",
   "execution_count": 3,
   "id": "1136a741",
   "metadata": {},
   "outputs": [
    {
     "name": "stdout",
     "output_type": "stream",
     "text": [
      "Enter year: 2025\n",
      "Enter month: 1\n",
      "    January 2025\n",
      "Mo Tu We Th Fr Sa Su\n",
      "       1  2  3  4  5\n",
      " 6  7  8  9 10 11 12\n",
      "13 14 15 16 17 18 19\n",
      "20 21 22 23 24 25 26\n",
      "27 28 29 30 31\n",
      "\n"
     ]
    }
   ],
   "source": [
    "import calendar\n",
    "\n",
    "year = int(input(\"Enter year: \"))\n",
    "month = int(input(\"Enter month: \"))\n",
    "print(calendar.month(year, month))\n"
   ]
  },
  {
   "cell_type": "code",
   "execution_count": 1,
   "id": "37d2e446",
   "metadata": {},
   "outputs": [
    {
     "name": "stdout",
     "output_type": "stream",
     "text": [
      "Your score: 1\n",
      "Do you want to draw another card? (yes/no): no\n",
      "Computer score: 17\n",
      "Computer wins!\n"
     ]
    }
   ],
   "source": [
    "import random\n",
    "\n",
    "def draw_card():\n",
    "    return random.randint(1, 11)\n",
    "\n",
    "player_score = 0\n",
    "computer_score = 0\n",
    "\n",
    "while True:\n",
    "    player_score += draw_card()\n",
    "    print(f\"Your score: {player_score}\")\n",
    "    if player_score > 21:\n",
    "        print(\"You busted! Computer wins.\")\n",
    "        break\n",
    "    action = input(\"Do you want to draw another card? (yes/no): \").lower()\n",
    "    if action == \"no\":\n",
    "        while computer_score < 17:\n",
    "            computer_score += draw_card()\n",
    "        print(f\"Computer score: {computer_score}\")\n",
    "        if computer_score > 21 or player_score > computer_score:\n",
    "            print(\"You win!\")\n",
    "        elif player_score == computer_score:\n",
    "            print(\"It's a tie!\")\n",
    "        else:\n",
    "            print(\"Computer wins!\")\n",
    "        break\n"
   ]
  },
  {
   "cell_type": "code",
   "execution_count": 2,
   "id": "dc8155a0",
   "metadata": {},
   "outputs": [
    {
     "name": "stdout",
     "output_type": "stream",
     "text": [
      "Enter a number: 4\n",
      "Prime factors: [2, 2]\n"
     ]
    }
   ],
   "source": [
    "def prime_factors(n):\n",
    "    factors = []\n",
    "    divisor = 2\n",
    "    while n > 1:\n",
    "        while n % divisor == 0:\n",
    "            factors.append(divisor)\n",
    "            n //= divisor\n",
    "        divisor += 1\n",
    "    return factors\n",
    "\n",
    "num = int(input(\"Enter a number: \"))\n",
    "print(\"Prime factors:\", prime_factors(num))\n"
   ]
  },
  {
   "cell_type": "code",
   "execution_count": null,
   "id": "e08b02a4",
   "metadata": {},
   "outputs": [],
   "source": []
  }
 ],
 "metadata": {
  "kernelspec": {
   "display_name": "Python 3 (ipykernel)",
   "language": "python",
   "name": "python3"
  },
  "language_info": {
   "codemirror_mode": {
    "name": "ipython",
    "version": 3
   },
   "file_extension": ".py",
   "mimetype": "text/x-python",
   "name": "python",
   "nbconvert_exporter": "python",
   "pygments_lexer": "ipython3",
   "version": "3.11.5"
  }
 },
 "nbformat": 4,
 "nbformat_minor": 5
}
