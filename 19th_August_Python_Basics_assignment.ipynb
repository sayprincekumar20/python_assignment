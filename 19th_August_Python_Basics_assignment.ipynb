{
 "cells": [
  {
   "cell_type": "markdown",
   "id": "ee09924e",
   "metadata": {},
   "source": [
    "1.1. Declare two variables, `x` and `y`, and assign them integer values. Swap the\n",
    "values of these variables without using any temporary variable."
   ]
  },
  {
   "cell_type": "code",
   "execution_count": 1,
   "id": "1af06352",
   "metadata": {},
   "outputs": [
    {
     "name": "stdout",
     "output_type": "stream",
     "text": [
      "x after swapping: 30\n",
      "y after swapping : 20\n"
     ]
    }
   ],
   "source": [
    "x= 20\n",
    "y= 30\n",
    "x, y = y, x\n",
    "print(\"x after swapping:\",x)\n",
    "print(\"y after swapping :\",y)"
   ]
  },
  {
   "cell_type": "markdown",
   "id": "c893d70d",
   "metadata": {},
   "source": [
    "2.Create a program that calculates the area of a rectangle. Take the length and\n",
    "width as inputs from the user and store them in variables. Calculate and\n",
    "display the area."
   ]
  },
  {
   "cell_type": "code",
   "execution_count": 3,
   "id": "ca9463ef",
   "metadata": {},
   "outputs": [
    {
     "name": "stdout",
     "output_type": "stream",
     "text": [
      "Enter the lenght of rectangle in meter12\n",
      "Enter the width of rectangle in meter12\n",
      "Area of rectangle is 144.0 m^2  \n"
     ]
    }
   ],
   "source": [
    "lenght =float(input(\"Enter the lenght of rectangle in meter\"))\n",
    "width = float(input(\"Enter the width of rectangle in meter\"))\n",
    " \n",
    "area_of_rect =lenght *width\n",
    "print(f\"Area of rectangle is {area_of_rect} m^2  \")"
   ]
  },
  {
   "cell_type": "markdown",
   "id": "09042d93",
   "metadata": {},
   "source": [
    "3.Write a Python program that converts temperatures from Celsius to\n",
    "Fahrenheit. Take the temperature in Celsius as input, store it in a variable,\n",
    "convert it to Fahrenheit, and display the result."
   ]
  },
  {
   "cell_type": "code",
   "execution_count": 6,
   "id": "d4e159e1",
   "metadata": {},
   "outputs": [
    {
     "name": "stdout",
     "output_type": "stream",
     "text": [
      "Enter the temperature in celsius65\n",
      "Temperature  in Fahrenheit : 149.0\n"
     ]
    }
   ],
   "source": [
    "celsius = float(input(\"Enter the temperature in celsius\"))\n",
    "\n",
    "fahrenheit = (celsius * 9/5) +32\n",
    "print(\"Temperature  in Fahrenheit :\",fahrenheit)"
   ]
  },
  {
   "cell_type": "markdown",
   "id": "82cb981a",
   "metadata": {},
   "source": [
    "# TOPIC: String Based Questions"
   ]
  },
  {
   "cell_type": "markdown",
   "id": "02886803",
   "metadata": {},
   "source": [
    "1. Write a Python program that takes a string as input and prints the length of\n",
    "the string."
   ]
  },
  {
   "cell_type": "code",
   "execution_count": 10,
   "id": "d6959519",
   "metadata": {},
   "outputs": [
    {
     "name": "stdout",
     "output_type": "stream",
     "text": [
      "Enter the string :etert  erwtretre erwtreyt\n",
      "25\n"
     ]
    }
   ],
   "source": [
    "user_input = input(\"Enter the string :\")\n",
    "lenght_input = len(user_input)\n",
    "print(lenght_input)"
   ]
  },
  {
   "cell_type": "markdown",
   "id": "f77fc959",
   "metadata": {},
   "source": [
    "2. Create a program that takes a sentence from the user and counts the number\n",
    "of vowels (a, e, i, o, u) in the string."
   ]
  },
  {
   "cell_type": "code",
   "execution_count": 12,
   "id": "14ce06ec",
   "metadata": {},
   "outputs": [
    {
     "name": "stdout",
     "output_type": "stream",
     "text": [
      "Enter a sentenceweqrwelaeiui aeiou\n",
      "NUmber of vowels in the sentence : 12\n"
     ]
    }
   ],
   "source": [
    "sentence =input(\"Enter a sentence\")\n",
    "sentence = sentence.lower()\n",
    "vowel_count = 0\n",
    "vowels = set('aeiou')\n",
    "\n",
    "for char in sentence:\n",
    "    if char in vowels:\n",
    "        vowel_count += 1\n",
    "        \n",
    "print(\"NUmber of vowels in the sentence :\", vowel_count)        \n"
   ]
  },
  {
   "cell_type": "markdown",
   "id": "4bf648e0",
   "metadata": {},
   "source": [
    "3. Given a string, reverse the order of characters using string slicing and print\n",
    "the reversed string"
   ]
  },
  {
   "cell_type": "code",
   "execution_count": 14,
   "id": "ad07eda9",
   "metadata": {},
   "outputs": [
    {
     "name": "stdout",
     "output_type": "stream",
     "text": [
      "Enter s string:rqjterter\n",
      "Reversed string: retretjqr\n"
     ]
    }
   ],
   "source": [
    "original_string = input(\"Enter s string:\")\n",
    "reversed_string= original_string[::-1]\n",
    "print(\"Reversed string:\", reversed_string)        "
   ]
  },
  {
   "cell_type": "markdown",
   "id": "4b315f95",
   "metadata": {},
   "source": [
    "4. Write a program that takes a string as input and checks if it is a palindrome\n",
    "(reads the same forwards and backwards)"
   ]
  },
  {
   "cell_type": "code",
   "execution_count": 22,
   "id": "583eb922",
   "metadata": {},
   "outputs": [
    {
     "name": "stdout",
     "output_type": "stream",
     "text": [
      "Enter the string: pop pop\n",
      "The input string is a palindrome.\n"
     ]
    }
   ],
   "source": [
    "input_string =input(\"Enter the string: \")\n",
    "input_string = input_string.replace(\" \", \"\").lower()\n",
    "reversed_string = input_string[::-1]\n",
    "if input_string ==reversed_string:\n",
    "    print(\"The input string is a palindrome.\")\n",
    "else:\n",
    "    print(\"The input string is not a palindrome.\")\n"
   ]
  },
  {
   "cell_type": "markdown",
   "id": "608e9362",
   "metadata": {},
   "source": [
    "5. Create a program that takes a string as input and removes all the spaces from\n",
    "it. Print the modified string without spaces."
   ]
  },
  {
   "cell_type": "code",
   "execution_count": 24,
   "id": "355c58ff",
   "metadata": {},
   "outputs": [
    {
     "name": "stdout",
     "output_type": "stream",
     "text": [
      "Enter a sentence: ertret ertjkqter\n",
      "Modified string without spaces: ertretertjkqter\n"
     ]
    }
   ],
   "source": [
    "input_string = input(\"Enter a sentence: \")\n",
    "input_string = input_string.replace(\" \", \"\")\n",
    "print(\"Modified string without spaces:\",input_string)"
   ]
  },
  {
   "cell_type": "code",
   "execution_count": null,
   "id": "ec46eba7",
   "metadata": {},
   "outputs": [],
   "source": []
  }
 ],
 "metadata": {
  "kernelspec": {
   "display_name": "Python 3 (ipykernel)",
   "language": "python",
   "name": "python3"
  },
  "language_info": {
   "codemirror_mode": {
    "name": "ipython",
    "version": 3
   },
   "file_extension": ".py",
   "mimetype": "text/x-python",
   "name": "python",
   "nbconvert_exporter": "python",
   "pygments_lexer": "ipython3",
   "version": "3.11.4"
  }
 },
 "nbformat": 4,
 "nbformat_minor": 5
}
