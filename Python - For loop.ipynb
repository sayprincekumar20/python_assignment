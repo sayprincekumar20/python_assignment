{
 "cells": [
  {
   "cell_type": "code",
   "execution_count": null,
   "id": "14bac665",
   "metadata": {},
   "outputs": [],
   "source": [
    "Basic Level:\n"
   ]
  },
  {
   "cell_type": "markdown",
   "id": "674ed5f8",
   "metadata": {},
   "source": [
    "1. Write a Python program to print the numbers from 1 to 10 using a `for` loop.\n"
   ]
  },
  {
   "cell_type": "code",
   "execution_count": 5,
   "id": "d3134721",
   "metadata": {},
   "outputs": [
    {
     "name": "stdout",
     "output_type": "stream",
     "text": [
      "1\n",
      "2\n",
      "3\n",
      "4\n",
      "5\n",
      "6\n",
      "7\n",
      "8\n",
      "9\n",
      "10\n"
     ]
    }
   ],
   "source": [
    " for i in range(1,11):\n",
    "        print(i)"
   ]
  },
  {
   "cell_type": "markdown",
   "id": "db9fc937",
   "metadata": {},
   "source": [
    "2. Create a program that calculates the sum of all numbers in a list using a `for` loop.\n"
   ]
  },
  {
   "cell_type": "code",
   "execution_count": 11,
   "id": "19ab56c5",
   "metadata": {},
   "outputs": [
    {
     "name": "stdout",
     "output_type": "stream",
     "text": [
      "The sum of numbers in a list: 28\n"
     ]
    }
   ],
   "source": [
    "my_list = [1,2,3,4,5,6,7]\n",
    "sum_of_numbers =0\n",
    "for num in my_list:\n",
    "    sum_of_numbers += num\n",
    "print(\"The sum of numbers in a list:\",sum_of_numbers)    \n",
    "\n",
    "    "
   ]
  },
  {
   "cell_type": "markdown",
   "id": "17896978",
   "metadata": {},
   "source": [
    "3. Write a program to print the characters of a string in reverse order using a `for` loop.\n"
   ]
  },
  {
   "cell_type": "code",
   "execution_count": 12,
   "id": "8072a6a6",
   "metadata": {},
   "outputs": [
    {
     "name": "stdout",
     "output_type": "stream",
     "text": [
      "Original string: Hello, world!\n",
      "Reveresed string: !dlrow ,olleH\n"
     ]
    }
   ],
   "source": [
    "input_string =\"Hello, world!\"\n",
    "reversed_string =\"\"\n",
    "for char in reversed(input_string):\n",
    "    reversed_string += char\n",
    "print(\"Original string:\", input_string)\n",
    "print(\"Reveresed string:\", reversed_string)"
   ]
  },
  {
   "cell_type": "markdown",
   "id": "c365042c",
   "metadata": {},
   "source": [
    "4. Develop a program that finds the factorial of a given number using a `for` loop.\n"
   ]
  },
  {
   "cell_type": "code",
   "execution_count": 14,
   "id": "b9f945be",
   "metadata": {},
   "outputs": [
    {
     "name": "stdout",
     "output_type": "stream",
     "text": [
      "Enter  number:4\n",
      "The factorial of 4 is 24\n"
     ]
    }
   ],
   "source": [
    "number = int(input(\"Enter  number:\"))\n",
    "factorial =1\n",
    "for i in range(1, number+1):\n",
    "    factorial *= i\n",
    "print(f\"The factorial of {number} is {factorial}\")    \n"
   ]
  },
  {
   "cell_type": "markdown",
   "id": "6debdba8",
   "metadata": {},
   "source": [
    "5. Create a program to print the multiplication table of a given number using a `for` loop.\n"
   ]
  },
  {
   "cell_type": "code",
   "execution_count": 16,
   "id": "8eeda5e3",
   "metadata": {},
   "outputs": [
    {
     "name": "stdout",
     "output_type": "stream",
     "text": [
      "Enter a number6\n",
      "6 * 1 = 6\n",
      "6 * 2 = 12\n",
      "6 * 3 = 18\n",
      "6 * 4 = 24\n",
      "6 * 5 = 30\n",
      "6 * 6 = 36\n",
      "6 * 7 = 42\n",
      "6 * 8 = 48\n",
      "6 * 9 = 54\n",
      "6 * 10 = 60\n"
     ]
    }
   ],
   "source": [
    "number = int(input(\"Enter a number\"))\n",
    "for i in range(1, 11):\n",
    "    result = number *i\n",
    "    print(f\"{number} * {i} = {result}\")"
   ]
  },
  {
   "cell_type": "markdown",
   "id": "bb0ae64d",
   "metadata": {},
   "source": [
    "6. Write a program that counts the number of even and odd numbers in a list using a `for` loop.\n"
   ]
  },
  {
   "cell_type": "code",
   "execution_count": 19,
   "id": "e59a6663",
   "metadata": {},
   "outputs": [
    {
     "name": "stdout",
     "output_type": "stream",
     "text": [
      "Even numbers: 5\n",
      "Odd numbers: 5\n"
     ]
    }
   ],
   "source": [
    "numbers =[ 1,2,3,4,5,6,7,8,9,10]\n",
    "even_count = 0\n",
    "odd_count = 0\n",
    "\n",
    "for number in numbers:\n",
    "    if number %2 ==0:\n",
    "        even_count += 1\n",
    "    else:\n",
    "        odd_count += 1\n",
    "print(\"Even numbers:\", even_count)\n",
    "print(\"Odd numbers:\", odd_count)"
   ]
  },
  {
   "cell_type": "markdown",
   "id": "ae478db9",
   "metadata": {},
   "source": [
    "7. Develop a program that prints the squares of numbers from 1 to 5 using a `for` loop.\n"
   ]
  },
  {
   "cell_type": "code",
   "execution_count": 24,
   "id": "bb76478a",
   "metadata": {},
   "outputs": [
    {
     "name": "stdout",
     "output_type": "stream",
     "text": [
      "The square of 10 is 1\n",
      "The square of 10 is 4\n",
      "The square of 10 is 9\n",
      "The square of 10 is 16\n",
      "The square of 10 is 25\n"
     ]
    }
   ],
   "source": [
    "for number in range(1,6):\n",
    "    square = number**2\n",
    "    print(f\"The square of {i} is {square}\")"
   ]
  },
  {
   "cell_type": "markdown",
   "id": "30d499a6",
   "metadata": {},
   "source": [
    "8. Create a program to find the length of a string without using the `len()` function.\n"
   ]
  },
  {
   "cell_type": "code",
   "execution_count": 25,
   "id": "e0764823",
   "metadata": {},
   "outputs": [
    {
     "name": "stdout",
     "output_type": "stream",
     "text": [
      "Enter string:prince kumar\n",
      "Length of the string: 12\n"
     ]
    }
   ],
   "source": [
    "input_string = input(\"Enter string:\")\n",
    "lenght =0\n",
    "for char in input_string:\n",
    "    lenght += 1\n",
    "print(\"Length of the string:\", lenght)    "
   ]
  },
  {
   "cell_type": "markdown",
   "id": "00f18796",
   "metadata": {},
   "source": [
    "9. Write a program that calculates the average of a list of numbers using a `for` loop.\n"
   ]
  },
  {
   "cell_type": "code",
   "execution_count": 29,
   "id": "302e7fa3",
   "metadata": {},
   "outputs": [
    {
     "name": "stdout",
     "output_type": "stream",
     "text": [
      "Sum of list: 55\n",
      "Average of list : 5.5\n"
     ]
    }
   ],
   "source": [
    "input_list = [1,2,3,4,5,6,7,8,9,10]\n",
    "sum =0\n",
    "for item in input_list:\n",
    "    sum += item\n",
    "average_of_list = sum/len(input_list)    \n",
    "print(\"Sum of list:\", sum) \n",
    "print(\"Average of list :\",average_of_list)"
   ]
  },
  {
   "cell_type": "markdown",
   "id": "40f0efba",
   "metadata": {},
   "source": [
    "10. Develop a program that prints the first `n` Fibonacci numbers using a `for` loop."
   ]
  },
  {
   "cell_type": "code",
   "execution_count": 30,
   "id": "ebdaf6f2",
   "metadata": {},
   "outputs": [
    {
     "name": "stdout",
     "output_type": "stream",
     "text": [
      "Enter the number of Fibonacci numbers to generate: 5\n",
      "First 5 Fibonacci numbers:\n",
      "0 1 1 2 3 "
     ]
    }
   ],
   "source": [
    "n = int(input(\"Enter the number of Fibonacci numbers to generate: \"))\n",
    "\n",
    "fibonacci_sequence = [0, 1]\n",
    "\n",
    "for i in range(2, n):\n",
    "    next_fibonacci = fibonacci_sequence[i - 1] + fibonacci_sequence[i - 2]\n",
    "    fibonacci_sequence.append(next_fibonacci)\n",
    "\n",
    "print(\"First\", n, \"Fibonacci numbers:\")\n",
    "for num in fibonacci_sequence:\n",
    "    print(num, end=\" \")\n"
   ]
  },
  {
   "cell_type": "markdown",
   "id": "cdd8d3f2",
   "metadata": {},
   "source": [
    "# Intermediate Level:"
   ]
  },
  {
   "cell_type": "markdown",
   "id": "94dfdb74",
   "metadata": {},
   "source": [
    "11. Write a program to check if a given list contains any duplicates using a `for` loop.\n"
   ]
  },
  {
   "cell_type": "code",
   "execution_count": 32,
   "id": "c1c53a28",
   "metadata": {},
   "outputs": [
    {
     "name": "stdout",
     "output_type": "stream",
     "text": [
      "Given list does not contains duplicates.\n"
     ]
    }
   ],
   "source": [
    "input_list = [1,2,3,4,5,6,7]\n",
    "if len(input_list) == len(set(input_list)):\n",
    "    print(\"Given list does not contains duplicates.\")\n",
    "else:\n",
    "    print(\"Given list does  contains duplicates.\")"
   ]
  },
  {
   "cell_type": "code",
   "execution_count": 33,
   "id": "b6b1250e",
   "metadata": {},
   "outputs": [
    {
     "name": "stdout",
     "output_type": "stream",
     "text": [
      "The list does not contain duplicates.\n"
     ]
    }
   ],
   "source": [
    "input_list = [1,2,3,4,5,6,7]\n",
    "has_duplicates = False\n",
    "for i in range(len(input_list)):\n",
    "    for j in range( i + 1,len(input_list)):\n",
    "        if input_list[i] == input_list[j]:\n",
    "            has_duplicates = True\n",
    "            break\n",
    "if has_duplicates:\n",
    "    print(\"The list contains duplicates.\")\n",
    "else:\n",
    "    print(\"The list does not contain duplicates.\")            "
   ]
  },
  {
   "cell_type": "markdown",
   "id": "eee9e083",
   "metadata": {},
   "source": [
    "12. Create a program that prints the prime numbers in a given range using a `for` loop.\n"
   ]
  },
  {
   "cell_type": "code",
   "execution_count": 35,
   "id": "845b1ce0",
   "metadata": {},
   "outputs": [
    {
     "name": "stdout",
     "output_type": "stream",
     "text": [
      "Enter the starting number:2\n",
      "Enter the ending number:6\n",
      "Prime numbers between 2 and 6:\n",
      "2 3 5 "
     ]
    }
   ],
   "source": [
    "start = int(input(\"Enter the starting number:\"))\n",
    "end = int(input(\"Enter the ending number:\"))\n",
    "\n",
    "def is_prime(num):\n",
    "    if num <= 1:\n",
    "        return False\n",
    "    for i in range( 2, int(num ** 0.5) + 1):\n",
    "        if num % i == 0:\n",
    "            return False\n",
    "    return True\n",
    "print(f\"Prime numbers between {start} and {end}:\")\n",
    "for number in range(start, end + 1):\n",
    "    if is_prime(number):\n",
    "        print(number, end=\" \")\n",
    "    "
   ]
  },
  {
   "cell_type": "markdown",
   "id": "206e522f",
   "metadata": {},
   "source": [
    "14. Write a program to find the maximum element in a 2D list using a nested `for` loop.\n"
   ]
  },
  {
   "cell_type": "code",
   "execution_count": 42,
   "id": "b771d52f",
   "metadata": {},
   "outputs": [
    {
     "name": "stdout",
     "output_type": "stream",
     "text": [
      "Maximum element: 9\n"
     ]
    }
   ],
   "source": [
    "# Input 2D list\n",
    "matrix = [\n",
    "    [1, 2, 3],\n",
    "    [4, 5, 6],\n",
    "    [7, 8, 9]\n",
    "]\n",
    "\n",
    "# Initialize the maximum with the first element\n",
    "maximum = matrix[0][0]\n",
    "\n",
    "# Iterate through the 2D list using nested for loops\n",
    "for row in matrix:\n",
    "    for element in row:\n",
    "        if element > maximum:\n",
    "            maximum = element\n",
    "\n",
    "# Print the maximum element\n",
    "print(\"Maximum element:\", maximum)\n"
   ]
  },
  {
   "cell_type": "markdown",
   "id": "95a571aa",
   "metadata": {},
   "source": [
    "15. Create a program that removes all occurrences of a specific element from a list using a `for` loop.\n"
   ]
  },
  {
   "cell_type": "code",
   "execution_count": 46,
   "id": "80d35d64",
   "metadata": {},
   "outputs": [
    {
     "name": "stdout",
     "output_type": "stream",
     "text": [
      "Original list: [1, 2, 3, 2, 4, 2, 5]\n",
      "List with 2 removed: [1, 3, 4, 5]\n"
     ]
    }
   ],
   "source": [
    "my_list = [1, 2, 3, 2, 4, 2, 5]\n",
    "element_to_remove = 2\n",
    "\n",
    "my_list_copy = my_list.copy()  \n",
    "\n",
    "for item in my_list_copy:\n",
    "    if item == element_to_remove:\n",
    "        my_list.remove(item)\n",
    "\n",
    "print(\"Original list:\", my_list_copy)\n",
    "print(\"List with\", element_to_remove, \"removed:\", my_list)"
   ]
  },
  {
   "cell_type": "markdown",
   "id": "99a7f2b8",
   "metadata": {},
   "source": [
    "16. Develop a program that generates a multiplication table for numbers from 1 to 5 using a nested `for` loop.\n"
   ]
  },
  {
   "cell_type": "code",
   "execution_count": 59,
   "id": "5078f5a7",
   "metadata": {},
   "outputs": [
    {
     "name": "stdout",
     "output_type": "stream",
     "text": [
      "Multiplication Table:\n",
      "1 * 1 = 1\n",
      "1 * 2 = 2\n",
      "1 * 3 = 3\n",
      "1 * 4 = 4\n",
      "1 * 5 = 5\n",
      "1 * 6 = 6\n",
      "1 * 7 = 7\n",
      "1 * 8 = 8\n",
      "1 * 9 = 9\n",
      "1 * 10 = 10\n",
      "\n",
      "2 * 1 = 2\n",
      "2 * 2 = 4\n",
      "2 * 3 = 6\n",
      "2 * 4 = 8\n",
      "2 * 5 = 10\n",
      "2 * 6 = 12\n",
      "2 * 7 = 14\n",
      "2 * 8 = 16\n",
      "2 * 9 = 18\n",
      "2 * 10 = 20\n",
      "\n",
      "3 * 1 = 3\n",
      "3 * 2 = 6\n",
      "3 * 3 = 9\n",
      "3 * 4 = 12\n",
      "3 * 5 = 15\n",
      "3 * 6 = 18\n",
      "3 * 7 = 21\n",
      "3 * 8 = 24\n",
      "3 * 9 = 27\n",
      "3 * 10 = 30\n",
      "\n",
      "4 * 1 = 4\n",
      "4 * 2 = 8\n",
      "4 * 3 = 12\n",
      "4 * 4 = 16\n",
      "4 * 5 = 20\n",
      "4 * 6 = 24\n",
      "4 * 7 = 28\n",
      "4 * 8 = 32\n",
      "4 * 9 = 36\n",
      "4 * 10 = 40\n",
      "\n",
      "5 * 1 = 5\n",
      "5 * 2 = 10\n",
      "5 * 3 = 15\n",
      "5 * 4 = 20\n",
      "5 * 5 = 25\n",
      "5 * 6 = 30\n",
      "5 * 7 = 35\n",
      "5 * 8 = 40\n",
      "5 * 9 = 45\n",
      "5 * 10 = 50\n",
      "\n"
     ]
    }
   ],
   "source": [
    "start =1\n",
    "emd= 5\n",
    "print(\"Multiplication Table:\")\n",
    "for i in range(start, end):\n",
    "    for j in range(1,11):\n",
    "        result = i*j\n",
    "        print(f\"{i} * {j} = {result}\")\n",
    "    print()    #add blank line for sepration"
   ]
  },
  {
   "cell_type": "markdown",
   "id": "fa45693f",
   "metadata": {},
   "source": [
    "17. Write a program that converts a list of Fahrenheit temperatures to Celsius using a `for` loop.\n"
   ]
  },
  {
   "cell_type": "code",
   "execution_count": 66,
   "id": "fc18e109",
   "metadata": {},
   "outputs": [
    {
     "name": "stdout",
     "output_type": "stream",
     "text": [
      "Fahrenheit Temperatures: [32, 68, 86, 104, 212]\n",
      "Celsius Temperatures: [0.0, 20.0, 30.0, 40.0, 100.0]\n"
     ]
    }
   ],
   "source": [
    "fahrenheit_temperatures = [32, 68, 86, 104, 212]\n",
    "celsius_temperatures = []\n",
    "\n",
    "for fahrenheit in fahrenheit_temperatures:\n",
    "    celsius = (fahrenheit - 32) * 5/9\n",
    "    celsius_temperatures.append(celsius)\n",
    "\n",
    "print(\"Fahrenheit Temperatures:\", fahrenheit_temperatures)\n",
    "print(\"Celsius Temperatures:\", celsius_temperatures)\n"
   ]
  },
  {
   "cell_type": "markdown",
   "id": "0ef35bcd",
   "metadata": {},
   "source": [
    "18. Create a program to print the common elements from two lists using a `for` loop.\n"
   ]
  },
  {
   "cell_type": "code",
   "execution_count": 67,
   "id": "96e1b3a8",
   "metadata": {},
   "outputs": [
    {
     "name": "stdout",
     "output_type": "stream",
     "text": [
      "List 1: [1, 2, 3, 4, 5, 6]\n",
      "List 2: [5, 6, 7, 8, 9, 10]\n",
      "Common Element: [5, 6]\n"
     ]
    }
   ],
   "source": [
    "list1 = [1,2,3,4,5,6]\n",
    "list2 = [5,6,7,8,9,10]\n",
    "common_element =[]\n",
    "for element in list1:\n",
    "    if element in list2:\n",
    "        common_element.append(element)\n",
    "print(\"List 1:\", list1)\n",
    "print(\"List 2:\", list2)\n",
    "print(\"Common Element:\", common_element)"
   ]
  },
  {
   "cell_type": "markdown",
   "id": "3c009b4d",
   "metadata": {},
   "source": [
    "19. Develop a program that prints the pattern of right-angled triangles using a `for` loop. Use ‘*’ to draw the\n",
    "pattern"
   ]
  },
  {
   "cell_type": "code",
   "execution_count": 71,
   "id": "5940198e",
   "metadata": {},
   "outputs": [
    {
     "name": "stdout",
     "output_type": "stream",
     "text": [
      "Enter the lenght of right-angled triangle: 5\n",
      "* \n",
      "* * \n",
      "* * * \n",
      "* * * * \n",
      "* * * * * \n"
     ]
    }
   ],
   "source": [
    "input_length = int(input(\"Enter the lenght of right-angled triangle: \"))\n",
    "for i in range(1,input_length +1):\n",
    "    for j in range(i):\n",
    "        print(\"*\", end =\" \")\n",
    "    print()\n",
    "    "
   ]
  },
  {
   "cell_type": "markdown",
   "id": "b960be23",
   "metadata": {},
   "source": [
    "20. Write a program to find the greatest common divisor (GCD) of two numbers using a `for` loop."
   ]
  },
  {
   "cell_type": "code",
   "execution_count": 72,
   "id": "5f7ee006",
   "metadata": {},
   "outputs": [
    {
     "name": "stdout",
     "output_type": "stream",
     "text": [
      "Enter the first number: 4\n",
      "Enter the second number: 5\n",
      "The GCD of 4 and 5 is 1\n"
     ]
    }
   ],
   "source": [
    "num1 = int(input(\"Enter the first number: \"))\n",
    "num2 = int(input(\"Enter the second number: \"))\n",
    "\n",
    "# Function to find the GCD using the Euclidean algorithm\n",
    "def find_gcd(a, b):\n",
    "    while b:\n",
    "        a, b = b, a % b\n",
    "    return a\n",
    "\n",
    "gcd = find_gcd(num1, num2)\n",
    "print(f\"The GCD of {num1} and {num2} is {gcd}\")\n"
   ]
  },
  {
   "cell_type": "markdown",
   "id": "9a93395f",
   "metadata": {},
   "source": [
    "# Advanced Level:"
   ]
  },
  {
   "cell_type": "markdown",
   "id": "6a5d4e23",
   "metadata": {},
   "source": [
    "21. Create a program that calculates the sum of the digits of numbers in a list using a list comprehension.\n"
   ]
  },
  {
   "cell_type": "code",
   "execution_count": 80,
   "id": "d6490b46",
   "metadata": {},
   "outputs": [
    {
     "ename": "TypeError",
     "evalue": "'int' object is not callable",
     "output_type": "error",
     "traceback": [
      "\u001b[1;31m---------------------------------------------------------------------------\u001b[0m",
      "\u001b[1;31mTypeError\u001b[0m                                 Traceback (most recent call last)",
      "Cell \u001b[1;32mIn[80], line 5\u001b[0m\n\u001b[0;32m      3\u001b[0m \u001b[38;5;28;01mdef\u001b[39;00m \u001b[38;5;21msum_of_numbers\u001b[39m(number):\n\u001b[0;32m      4\u001b[0m     \u001b[38;5;28;01mreturn\u001b[39;00m \u001b[38;5;28msum\u001b[39m(\u001b[38;5;28mint\u001b[39m(item) \u001b[38;5;28;01mfor\u001b[39;00m item \u001b[38;5;129;01min\u001b[39;00m \u001b[38;5;28mstr\u001b[39m(number))\n\u001b[1;32m----> 5\u001b[0m sum_of_digits \u001b[38;5;241m=\u001b[39m [sum_of_numbers(number) \u001b[38;5;28;01mfor\u001b[39;00m number \u001b[38;5;129;01min\u001b[39;00m numList]\n\u001b[0;32m      6\u001b[0m \u001b[38;5;28mprint\u001b[39m(\u001b[38;5;124m\"\u001b[39m\u001b[38;5;124mOriginal list:\u001b[39m\u001b[38;5;124m\"\u001b[39m, numList)\n\u001b[0;32m      7\u001b[0m \u001b[38;5;28mprint\u001b[39m(\u001b[38;5;124m\"\u001b[39m\u001b[38;5;124msums of digits:\u001b[39m\u001b[38;5;124m\"\u001b[39m, sum_of_digits)\n",
      "Cell \u001b[1;32mIn[80], line 5\u001b[0m, in \u001b[0;36m<listcomp>\u001b[1;34m(.0)\u001b[0m\n\u001b[0;32m      3\u001b[0m \u001b[38;5;28;01mdef\u001b[39;00m \u001b[38;5;21msum_of_numbers\u001b[39m(number):\n\u001b[0;32m      4\u001b[0m     \u001b[38;5;28;01mreturn\u001b[39;00m \u001b[38;5;28msum\u001b[39m(\u001b[38;5;28mint\u001b[39m(item) \u001b[38;5;28;01mfor\u001b[39;00m item \u001b[38;5;129;01min\u001b[39;00m \u001b[38;5;28mstr\u001b[39m(number))\n\u001b[1;32m----> 5\u001b[0m sum_of_digits \u001b[38;5;241m=\u001b[39m [sum_of_numbers(number) \u001b[38;5;28;01mfor\u001b[39;00m number \u001b[38;5;129;01min\u001b[39;00m numList]\n\u001b[0;32m      6\u001b[0m \u001b[38;5;28mprint\u001b[39m(\u001b[38;5;124m\"\u001b[39m\u001b[38;5;124mOriginal list:\u001b[39m\u001b[38;5;124m\"\u001b[39m, numList)\n\u001b[0;32m      7\u001b[0m \u001b[38;5;28mprint\u001b[39m(\u001b[38;5;124m\"\u001b[39m\u001b[38;5;124msums of digits:\u001b[39m\u001b[38;5;124m\"\u001b[39m, sum_of_digits)\n",
      "Cell \u001b[1;32mIn[80], line 4\u001b[0m, in \u001b[0;36msum_of_numbers\u001b[1;34m(number)\u001b[0m\n\u001b[0;32m      3\u001b[0m \u001b[38;5;28;01mdef\u001b[39;00m \u001b[38;5;21msum_of_numbers\u001b[39m(number):\n\u001b[1;32m----> 4\u001b[0m     \u001b[38;5;28;01mreturn\u001b[39;00m \u001b[38;5;28msum\u001b[39m(\u001b[38;5;28mint\u001b[39m(item) \u001b[38;5;28;01mfor\u001b[39;00m item \u001b[38;5;129;01min\u001b[39;00m \u001b[38;5;28mstr\u001b[39m(number))\n",
      "\u001b[1;31mTypeError\u001b[0m: 'int' object is not callable"
     ]
    }
   ],
   "source": [
    "numList = [1,2,3,4,5,6,7,8,9]\n",
    "\n",
    "def sum_of_numbers(number):\n",
    "    return sum(int(item) for item in str(number))\n",
    "sum_of_digits = [sum_of_numbers(number) for number in numList]\n",
    "print(\"Original list:\", numList)\n",
    "print(\"sums of digits:\", sum_of_digits)                "
   ]
  },
  {
   "cell_type": "code",
   "execution_count": null,
   "id": "6d8dfc71",
   "metadata": {},
   "outputs": [],
   "source": [
    "syntax for list comprehension\n",
    "new_list = [expression for item in iterable if condition]\n"
   ]
  },
  {
   "cell_type": "markdown",
   "id": "314aa6e5",
   "metadata": {},
   "source": [
    "22. Write a program to find the prime factors of a given number using a `for` loop and list comprehension.\n"
   ]
  },
  {
   "cell_type": "code",
   "execution_count": 82,
   "id": "c2a2ade7",
   "metadata": {},
   "outputs": [
    {
     "name": "stdout",
     "output_type": "stream",
     "text": [
      "Enter a number: 5\n",
      "Prime factors of 5 are: [5]\n"
     ]
    }
   ],
   "source": [
    "number = int(input(\"Enter a number: \"))\n",
    "\n",
    "def is_prime(num):\n",
    "    if num <= 1:\n",
    "        return False\n",
    "    for i in range(2, int(num**0.5) + 1):\n",
    "        if num % i == 0:\n",
    "            return False\n",
    "    return True\n",
    "\n",
    "prime_factors = [factor for factor in range(2, number + 1) if (number % factor == 0) and is_prime(factor)]\n",
    "\n",
    "print(\"Prime factors of\", number, \"are:\", prime_factors)\n"
   ]
  },
  {
   "cell_type": "markdown",
   "id": "cfeeab76",
   "metadata": {},
   "source": [
    "23. Develop a program that extracts unique elements from a list and stores them in a new list using a list\n"
   ]
  },
  {
   "cell_type": "code",
   "execution_count": 85,
   "id": "3a5ee3c5",
   "metadata": {},
   "outputs": [
    {
     "name": "stdout",
     "output_type": "stream",
     "text": [
      "Original list: [1, 2, 3, 4, 5, 6, 7, 8, 9, 3, 4, 5, 6, 7, 8]\n",
      "Unique list: [1, 2, 3, 4, 5, 6, 7, 8, 9]\n"
     ]
    }
   ],
   "source": [
    "original_list = [1,2,3,4,5,6,7,8,9,3,4,5,6,7,8]\n",
    "unique_elements = [x for i, x in enumerate(original_list) if x not in original_list[:i]]\n",
    "print(\"Original list:\", original_list)\n",
    "print(\"Unique list:\", unique_elements)"
   ]
  },
  {
   "cell_type": "markdown",
   "id": "b035550b",
   "metadata": {},
   "source": [
    "24. Create a program that generates a list of all palindromic numbers up to a specified limit using a list\n",
    "comprehension."
   ]
  },
  {
   "cell_type": "code",
   "execution_count": 86,
   "id": "a1489215",
   "metadata": {},
   "outputs": [
    {
     "name": "stdout",
     "output_type": "stream",
     "text": [
      "Enter the upper limit: 50\n",
      "Palindromic numbers up to 50 are: [1, 2, 3, 4, 5, 6, 7, 8, 9, 11, 22, 33, 44]\n"
     ]
    }
   ],
   "source": [
    "limit = int(input(\"Enter the upper limit: \"))\n",
    "\n",
    "def is_palindrome(num):\n",
    "    return str(num) == str(num)[::-1]\n",
    "\n",
    "palindromic_numbers = [num for num in range(1, limit + 1) if is_palindrome(num)]\n",
    "\n",
    "print(\"Palindromic numbers up to\", limit, \"are:\", palindromic_numbers)\n"
   ]
  },
  {
   "cell_type": "markdown",
   "id": "15b0cb34",
   "metadata": {},
   "source": [
    "25. Write a program to flatten a nested list using list comprehension.\n"
   ]
  },
  {
   "cell_type": "code",
   "execution_count": 88,
   "id": "38f9df9f",
   "metadata": {},
   "outputs": [
    {
     "name": "stdout",
     "output_type": "stream",
     "text": [
      "Nested list: [[1, 2, 3], [4, 5, 6], [7, 8, 9]]\n",
      "Flattened list: [1, 2, 3, 4, 5, 6, 7, 8, 9]\n"
     ]
    }
   ],
   "source": [
    "nested_list =[[1,2,3],[4,5,6],[7,8,9]]\n",
    "flattened_list = [element for sublist in nested_list for element in sublist]\n",
    "print(\"Nested list:\", nested_list)\n",
    "print(\"Flattened list:\", flattened_list)"
   ]
  },
  {
   "cell_type": "markdown",
   "id": "72d7ce69",
   "metadata": {},
   "source": [
    "26. Develop a program that computes the sum of even and odd numbers in a list separately using list\n",
    "comprehension"
   ]
  },
  {
   "cell_type": "code",
   "execution_count": null,
   "id": "e9278407",
   "metadata": {},
   "outputs": [],
   "source": [
    "num_list = [1,2,3,4,5,6,7,8,9]\n",
    "sum_of_even = sum([x for x in num_list if x % 2 == 0])\n",
    "sum_of_odd = sum([x for x in num_list if x% 2 != 0])\n",
    "\n",
    "print(\"Original list:\", num_list)\n",
    "print(\"Sum of even numbers:\", sum_of_even)\n",
    "print(\"Sum of odd numbers:\", sum_of_odd)"
   ]
  },
  {
   "cell_type": "markdown",
   "id": "fe59d9ec",
   "metadata": {},
   "source": [
    "28. Write a program that combines two lists into a dictionary using list comprehension.\n"
   ]
  },
  {
   "cell_type": "code",
   "execution_count": 93,
   "id": "5c64316f",
   "metadata": {},
   "outputs": [
    {
     "name": "stdout",
     "output_type": "stream",
     "text": [
      "{1: 'a', 2: 'b', 3: 'c', 4: 'd', 5: 'e'}\n"
     ]
    }
   ],
   "source": [
    "list1 = [1,2,3,4,5]\n",
    "list2 = ['a','b','c','d','e']\n",
    "\n",
    "combined_dict = {k: v  for k, v in zip(list1, list2)}\n",
    "print(combined_dict)"
   ]
  },
  {
   "cell_type": "markdown",
   "id": "fda94d77",
   "metadata": {},
   "source": [
    "29. Develop a program that extracts the vowels from a string and stores them in a list using list comprehension.\n"
   ]
  },
  {
   "cell_type": "code",
   "execution_count": 95,
   "id": "08463e74",
   "metadata": {},
   "outputs": [
    {
     "name": "stdout",
     "output_type": "stream",
     "text": [
      "Enter string:Prince singh\n",
      "Input string: Prince singh\n",
      "Extracted vowels: ['i', 'e', 'i']\n"
     ]
    }
   ],
   "source": [
    "input_string = input(\"Enter string:\")\n",
    "vowels = [char for char in input_string if char.lower() in 'aeoiu']\n",
    "print(\"Input string:\", input_string)\n",
    "print(\"Extracted vowels:\", vowels)"
   ]
  },
  {
   "cell_type": "markdown",
   "id": "74f289b6",
   "metadata": {},
   "source": [
    "30. Create a program that removes all non-numeric characters from a list of strings using list comprehension."
   ]
  },
  {
   "cell_type": "code",
   "execution_count": 3,
   "id": "63928cb7",
   "metadata": {},
   "outputs": [
    {
     "name": "stdout",
     "output_type": "stream",
     "text": [
      "['123', '234', '232', '324', '232']\n"
     ]
    }
   ],
   "source": [
    "input_strings = [\"abc123\",\"234dsfd\",\"232fdds\",\"324wfw\",\"232wff\"]\n",
    "numeric_strings = [''.join (filter(str.isdigit, s)) for s in input_strings]\n",
    "print(numeric_strings)"
   ]
  },
  {
   "cell_type": "markdown",
   "id": "d57b0e69",
   "metadata": {},
   "source": [
    "# Challenge Level:\n"
   ]
  },
  {
   "cell_type": "markdown",
   "id": "78e26842",
   "metadata": {},
   "source": [
    "31. Write a program to generate a list of prime numbers using the Sieve of Eratosthenes algorithm and list\n",
    "comprehension."
   ]
  },
  {
   "cell_type": "markdown",
   "id": "9291f1ef",
   "metadata": {},
   "source": [
    " The Sieve of Eratosthenes algorithm is used to generate the list of prime numbers efficiently. Then, list comprehension is employed to create a list of prime numbers from the boolean list is_prime.\n",
    "\n",
    "\n",
    "\n",
    "\n"
   ]
  },
  {
   "cell_type": "code",
   "execution_count": 5,
   "id": "c24fde9a",
   "metadata": {},
   "outputs": [
    {
     "name": "stdout",
     "output_type": "stream",
     "text": [
      "Enter a number to find prime numbers up to:55\n",
      "Prime numbers up to 55 are:\n",
      "[2, 3, 5, 7, 11, 13, 17, 19, 23, 29, 31, 37, 41, 43, 47, 53]\n"
     ]
    }
   ],
   "source": [
    "def sieve_of_eratosthenes(n):\n",
    "    \n",
    "    is_prime =[True] * (n +1)\n",
    "    is_prime[0] = is_prime[1] =False\n",
    "    \n",
    "    for p in range(2, int(n** 0.5) +1):\n",
    "        for i in range (p *p, n+1, p):\n",
    "            is_prime[i] = False\n",
    "            \n",
    "    prime_numbers = [i for i in range(2, n+1) if is_prime[i]]\n",
    "    return prime_numbers\n",
    "\n",
    "n = int(input(\"Enter a number to find prime numbers up to:\"))\n",
    "primes = sieve_of_eratosthenes(n)\n",
    "print(\"Prime numbers up to\", n, \"are:\")\n",
    "\n",
    "print(primes)\n",
    "            "
   ]
  },
  {
   "cell_type": "markdown",
   "id": "abb8fe50",
   "metadata": {},
   "source": [
    "32. Create a program that generates a list of all Pythagorean triplets up to a specified limit using list\n",
    "comprehension."
   ]
  },
  {
   "cell_type": "markdown",
   "id": "6fdd79da",
   "metadata": {},
   "source": [
    " Pythagorean triplets are sets of three positive integers (a, b, c) that satisfy the Pythagorean theorem: a^2 + b^2 = c^2"
   ]
  },
  {
   "cell_type": "code",
   "execution_count": 11,
   "id": "1030d1bd",
   "metadata": {},
   "outputs": [
    {
     "name": "stdout",
     "output_type": "stream",
     "text": [
      "Enter the limits to generate Pythagorean triplests:30\n",
      "Pythagoran triplets up to 30 area:\n",
      "(3, 4, 5)\n",
      "(5, 12, 13)\n",
      "(6, 8, 10)\n",
      "(7, 24, 25)\n",
      "(8, 15, 17)\n",
      "(9, 12, 15)\n",
      "(10, 24, 26)\n",
      "(12, 16, 20)\n",
      "(15, 20, 25)\n",
      "(20, 21, 29)\n"
     ]
    }
   ],
   "source": [
    "limit = int(input(\"Enter the limits to generate Pythagorean triplests:\"))\n",
    "\n",
    "pythagorean_triplets = [(a,b,c) for a in range (1, limit) for b in range (a,limit) for c in range(b, limit) if a**2 + b**2 == c**2]\n",
    "print(\"Pythagoran triplets up to\", limit, \"area:\")\n",
    "for triplet in pythagorean_triplets:\n",
    "    print(triplet)"
   ]
  },
  {
   "cell_type": "markdown",
   "id": "50384e4a",
   "metadata": {},
   "source": [
    "33. Develop a program that generates a list of all possible combinations of two lists using list comprehension.\n"
   ]
  },
  {
   "cell_type": "code",
   "execution_count": 13,
   "id": "e0ba7eca",
   "metadata": {},
   "outputs": [
    {
     "name": "stdout",
     "output_type": "stream",
     "text": [
      "All possible combinations of elements from list1 and list2:\n",
      "[(1, 'a'), (1, 'b'), (1, 'c'), (2, 'a'), (2, 'b'), (2, 'c'), (3, 'a'), (3, 'b'), (3, 'c')]\n"
     ]
    }
   ],
   "source": [
    "list1 = [1,2,3]\n",
    "list2 = ['a','b','c']\n",
    "\n",
    "combination = [(x,y) for x in list1 for y in list2]\n",
    "print(\"All possible combinations of elements from list1 and list2:\")\n",
    "print(combination)"
   ]
  },
  {
   "cell_type": "markdown",
   "id": "9804d9d9",
   "metadata": {},
   "source": [
    "34. Write a program that calculates the mean, median, and mode of a list of numbers using list\n",
    "comprehension."
   ]
  },
  {
   "cell_type": "code",
   "execution_count": 14,
   "id": "9a90e767",
   "metadata": {},
   "outputs": [
    {
     "name": "stdout",
     "output_type": "stream",
     "text": [
      "List of numbers: [10, 12, 12, 24, 46, 34, 64, 67, 85, 20, 37, 86, 53, 21, 86]\n",
      "Mean: 43.8\n",
      "Median: 37\n",
      "Mode: 12\n"
     ]
    }
   ],
   "source": [
    "import statistics\n",
    "numbers = [10,12,12,24,46,34,64,67,85,20,37,86,53,21,86]\n",
    "\n",
    "mean = sum(numbers)/len(numbers)\n",
    "median = statistics.median(numbers)\n",
    "mode = statistics.mode(numbers)\n",
    "print(\"List of numbers:\", numbers)\n",
    "print(\"Mean:\", mean)\n",
    "print(\"Median:\", median)\n",
    "print(\"Mode:\", mode)"
   ]
  },
  {
   "cell_type": "markdown",
   "id": "bb4b6855",
   "metadata": {},
   "source": [
    "35. Create a program that generates Pascal's triangle up to a specified number of rows using list\n",
    "comprehension."
   ]
  },
  {
   "cell_type": "code",
   "execution_count": 15,
   "id": "68c83a60",
   "metadata": {},
   "outputs": [
    {
     "name": "stdout",
     "output_type": "stream",
     "text": [
      "Enter the number of rows for Pascal's triangle: 4\n",
      "Pascal's Triangle with 4 rows:\n",
      "[1]\n",
      "[1, 1]\n",
      "[1, 2, 1]\n",
      "[1, 3, 3, 1]\n"
     ]
    }
   ],
   "source": [
    "def generate_pascals_triangle(num_rows):\n",
    "    if num_rows <= 0:\n",
    "        return []\n",
    "\n",
    "    triangle = [[1]]\n",
    "    while len(triangle) < num_rows:\n",
    "        last_row = triangle[-1]\n",
    "        next_row = [1] + [last_row[i] + last_row[i+1] for i in range(len(last_row) - 1)] + [1]\n",
    "        triangle.append(next_row)\n",
    "\n",
    "    return triangle\n",
    "\n",
    "num_rows = int(input(\"Enter the number of rows for Pascal's triangle: \"))\n",
    "\n",
    "pascals_triangle = generate_pascals_triangle(num_rows)\n",
    "\n",
    "print(\"Pascal's Triangle with\", num_rows, \"rows:\")\n",
    "for row in pascals_triangle:\n",
    "    print(row)\n"
   ]
  },
  {
   "cell_type": "markdown",
   "id": "074d82c4",
   "metadata": {},
   "source": [
    "36. Develop a program that calculates the sum of the digits of a factorial of numbers from 1 to 5 using list\n",
    "comprehension."
   ]
  },
  {
   "cell_type": "code",
   "execution_count": 16,
   "id": "b4336e62",
   "metadata": {},
   "outputs": [
    {
     "name": "stdout",
     "output_type": "stream",
     "text": [
      "Sum of digits of 1! = 1\n",
      "Sum of digits of 2! = 2\n",
      "Sum of digits of 3! = 6\n",
      "Sum of digits of 4! = 6\n",
      "Sum of digits of 5! = 3\n"
     ]
    }
   ],
   "source": [
    "def factorial(n):\n",
    "    if n == 0:\n",
    "        return 1\n",
    "    return n * factorial(n - 1)\n",
    "\n",
    "result = [sum(int(digit) for digit in str(factorial(i))) for i in range(1, 6)]\n",
    "\n",
    "for i, res in enumerate(result, start=1):\n",
    "    print(f\"Sum of digits of {i}! =\", res)\n"
   ]
  },
  {
   "cell_type": "markdown",
   "id": "6d0958a3",
   "metadata": {},
   "source": [
    "37. Write a program that finds the longest word in a sentence using list comprehension.\n"
   ]
  },
  {
   "cell_type": "code",
   "execution_count": 17,
   "id": "de37bf1d",
   "metadata": {},
   "outputs": [
    {
     "name": "stdout",
     "output_type": "stream",
     "text": [
      "Enter a sentence: Hii i am prince kumar singh \n",
      "The longest word in the sentence is: prince\n"
     ]
    }
   ],
   "source": [
    "sentence = input(\"Enter a sentence: \")\n",
    "\n",
    "words = sentence.split()\n",
    "longest_word = max(words, key=lambda word: len(word))\n",
    "\n",
    "print(\"The longest word in the sentence is:\", longest_word)\n"
   ]
  },
  {
   "cell_type": "markdown",
   "id": "a9cfc508",
   "metadata": {},
   "source": [
    "38. Create a program that filters a list of strings to include only those with more than three vowels using list\n",
    "comprehension."
   ]
  },
  {
   "cell_type": "code",
   "execution_count": 18,
   "id": "17a30a2d",
   "metadata": {},
   "outputs": [
    {
     "name": "stdout",
     "output_type": "stream",
     "text": [
      "String with more than three vowels:\n",
      "['Prince', 'Mehir', 'Shaina', 'Akhya', 'Naina', 'Nayyar', 'Zaki']\n"
     ]
    }
   ],
   "source": [
    "def count_vowels(input_string):\n",
    "    vowels = \"AEIOUaeiou\"\n",
    "    return sum(i for char in input_string if char in vowels)\n",
    "string_list = [\"Prince\",\"Mehir\",\"Shaina\",\"Akhya\",\"Naina\",\"Nayyar\",\"Zaki\"]\n",
    "filtered_strings  =[input_string for input_string in string_list if count_vowels(input_string) > 3]\n",
    "print(\"String with more than three vowels:\")\n",
    "print(filtered_strings)"
   ]
  },
  {
   "cell_type": "markdown",
   "id": "216a8e54",
   "metadata": {},
   "source": [
    "39. Develop a program that calculates the sum of the digits of numbers from 1 to 1000 using list\n",
    "comprehension."
   ]
  },
  {
   "cell_type": "code",
   "execution_count": 22,
   "id": "43bb3afa",
   "metadata": {},
   "outputs": [
    {
     "name": "stdout",
     "output_type": "stream",
     "text": [
      "THe sum of the digits of numbers form 1 to 1000 is:  13501\n"
     ]
    }
   ],
   "source": [
    "digit_sums = [sum(int(digit) for digit in str (i)) for i in range(1, 1001)]\n",
    "total_sums = sum(digit_sums)\n",
    "print(\"THe sum of the digits of numbers form 1 to 1000 is: \", total_sums)"
   ]
  },
  {
   "cell_type": "markdown",
   "id": "45ee3006",
   "metadata": {},
   "source": [
    "40. Write a program that generates a list of prime palindromic numbers using list comprehension."
   ]
  },
  {
   "cell_type": "code",
   "execution_count": 23,
   "id": "e1ff3187",
   "metadata": {},
   "outputs": [
    {
     "name": "stdout",
     "output_type": "stream",
     "text": [
      "Prime palindromic numbers up to 1000:\n",
      "[2, 3, 5, 7, 11, 101, 131, 151, 181, 191, 313, 353, 373, 383, 727, 757, 787, 797, 919, 929]\n"
     ]
    }
   ],
   "source": [
    "def is_prime(n):\n",
    "    if n <= 1:\n",
    "        return False\n",
    "    if n == 2:\n",
    "        return True\n",
    "    if n % 2 == 0:\n",
    "        return False\n",
    "\n",
    "    for i in range(3, int(n**0.5) + 1, 2):\n",
    "        if n % i == 0:\n",
    "            return False\n",
    "\n",
    "    return True\n",
    "\n",
    "prime_palindromic_numbers = [n for n in range(2, 1000) if is_prime(n) and str(n) == str(n)[::-1]]\n",
    "\n",
    "print(\"Prime palindromic numbers up to 1000:\")\n",
    "print(prime_palindromic_numbers)\n"
   ]
  },
  {
   "cell_type": "code",
   "execution_count": null,
   "id": "fd0be3dd",
   "metadata": {},
   "outputs": [],
   "source": []
  }
 ],
 "metadata": {
  "kernelspec": {
   "display_name": "Python 3 (ipykernel)",
   "language": "python",
   "name": "python3"
  },
  "language_info": {
   "codemirror_mode": {
    "name": "ipython",
    "version": 3
   },
   "file_extension": ".py",
   "mimetype": "text/x-python",
   "name": "python",
   "nbconvert_exporter": "python",
   "pygments_lexer": "ipython3",
   "version": "3.11.4"
  }
 },
 "nbformat": 4,
 "nbformat_minor": 5
}
