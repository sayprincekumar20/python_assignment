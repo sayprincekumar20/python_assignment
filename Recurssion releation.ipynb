{
 "cells": [
  {
   "cell_type": "markdown",
   "id": "24336371",
   "metadata": {},
   "source": [
    "- -1 Find the value of T(2) for the recurrence relation T(n) = 3T(n-1) + 12n, given that T(0)=5.\n",
    "- 2. Given a recurrence relation, solve it using the substitution method:\n",
    "* a. T(n) = T(n-1) + c\n",
    "* b. T(n) = 2T(n/2) + n\n",
    "* c. T(n) = 2T(n/2) + c\n",
    "* d. T(n) = T(n/2) + c\n",
    "- 3. Given a recurrence relation, solve it using the recursive tree approach:\n",
    "* a. T(n) = 2T(n-1) +1\n",
    "* b. T(n) = 2T(n/2) + n"
   ]
  },
  {
   "cell_type": "raw",
   "id": "42640b71",
   "metadata": {},
   "source": [
    "We can use the recurrence relation to calculate T(1) and T(2):\n",
    "\n",
    "T(0) = 5 (given)\n",
    "T(1) = 3T(0) + 12(1)\n",
    "T(1) = 3(5) + 12 = 15 + 12 = 27\n",
    "T(2) = 3T(1) + 12(2)\n",
    "T(2) = 3(27) + 12(2) = 81 + 24 = 105\n",
    "Thus, T(2) = 105."
   ]
  },
  {
   "cell_type": "raw",
   "id": "fc3de679",
   "metadata": {},
   "source": [
    "2. Solve the recurrence relation using the substitution method:\n",
    "a. T(n) = T(n-1) + c\n",
    "This recurrence can be solved as follows:\n",
    "\n",
    "Start by expanding T(n):\n",
    "T(n) = T(n-1) + c\n",
    "T(n-1) = T(n-2) + c\n",
    "...\n",
    "T(1) = T(0) + c\n",
    "Now sum the terms:\n",
    "T(n) = T(0) + c * n\n",
    "So, T(n) = T(0) + cn\n",
    "For T(0) = 0 (if assumed): T(n) = cn\n",
    "b. T(n) = 2T(n/2) + n\n",
    "To solve this using substitution:\n",
    "\n",
    "Assume a solution of the form T(n) = O(n^log_b(a)) where the recurrence is in the form:\n",
    "T(n) = aT(n/b) + f(n)\n",
    "Here, a = 2, b = 2, and f(n) = n.\n",
    "log_b(a) = log(2)/log(2) = 1, so we get T(n) = O(n), thus:\n",
    "T(n) = O(n).\n",
    "c. T(n) = 2T(n/2) + c\n",
    "Following the same process:\n",
    "\n",
    "a = 2, b = 2, and f(n) = c (a constant).\n",
    "log_b(a) = log(2)/log(2) = 1, and since f(n) = O(1), T(n) = O(n).\n",
    "So, T(n) = O(n).\n",
    "d. T(n) = T(n/2) + c\n",
    "Using the same idea as above:\n",
    "\n",
    "a = 1, b = 2, and f(n) = c.\n",
    "log_b(a) = log(1)/log(2) = 0, and since f(n) = O(1), T(n) = O(log n).\n",
    "So, T(n) = O(log n).\n"
   ]
  },
  {
   "cell_type": "raw",
   "id": "68f3b43e",
   "metadata": {},
   "source": [
    "3. Solve the recurrence relation using the recursive tree approach:\n",
    "a. T(n) = 2T(n-1) + 1\n",
    "We can expand this recurrence as follows:\n",
    "\n",
    "T(n) = 2T(n-1) + 1\n",
    "T(n-1) = 2T(n-2) + 1\n",
    "T(n-2) = 2T(n-3) + 1\n",
    "...\n",
    "T(1) = 2T(0) + 1\n",
    "T(0) = 1 (base case)\n",
    "This results in a tree where each level has a cost of 1, and there are n levels.\n",
    "\n",
    "The total cost is the sum of the costs at each level: T(n) = 2^n - 1\n",
    "Hence, T(n) = O(2^n).\n",
    "b. T(n) = 2T(n/2) + n\n",
    "We can expand this recurrence tree:\n",
    "\n",
    "Level 0: T(n)\n",
    "Level 1: 2T(n/2) + n\n",
    "Level 2: 4T(n/4) + 2n\n",
    "...\n",
    "At level i, the number of subproblems is 2^i and the work done at that level is n/2^i.\n",
    "The total work at each level is:\n",
    "\n",
    "Level 0: n\n",
    "Level 1: n\n",
    "Level 2: n\n",
    "...\n",
    "The number of levels is log(n), so the total work is O(n log n).\n",
    "Thus, T(n) = O(n log n).    "
   ]
  },
  {
   "cell_type": "code",
   "execution_count": null,
   "id": "2f50787d",
   "metadata": {},
   "outputs": [],
   "source": []
  }
 ],
 "metadata": {
  "kernelspec": {
   "display_name": "Python 3 (ipykernel)",
   "language": "python",
   "name": "python3"
  },
  "language_info": {
   "codemirror_mode": {
    "name": "ipython",
    "version": 3
   },
   "file_extension": ".py",
   "mimetype": "text/x-python",
   "name": "python",
   "nbconvert_exporter": "python",
   "pygments_lexer": "ipython3",
   "version": "3.11.5"
  }
 },
 "nbformat": 4,
 "nbformat_minor": 5
}
